{
 "cells": [
  {
   "cell_type": "code",
   "execution_count": 1,
   "metadata": {},
   "outputs": [],
   "source": [
    "from astropy.table import Table\n",
    "import numpy as np\n",
    "from matplotlib import pyplot as plt\n"
   ]
  },
  {
   "cell_type": "code",
   "execution_count": 9,
   "metadata": {},
   "outputs": [],
   "source": []
  },
  {
   "cell_type": "code",
   "execution_count": 3,
   "metadata": {},
   "outputs": [
    {
     "name": "stdout",
     "output_type": "stream",
     "text": [
      "plateifu nsaid smoothness ttype tidal ... y0_err vsys vsys err chi2 fit flag\n",
      "-------- ----- ---------- ----- ----- ... ------ ---- -------- ---- --------\n"
     ]
    }
   ],
   "source": [
    "print(out_table)"
   ]
  },
  {
   "cell_type": "code",
   "execution_count": 14,
   "metadata": {},
   "outputs": [
    {
     "ename": "ValueError",
     "evalue": "Unable to insert row because of exception in column 'plateifu':\ncould not convert string to float: 'test'",
     "output_type": "error",
     "traceback": [
      "\u001b[0;31m---------------------------------------------------------------------------\u001b[0m",
      "\u001b[0;31mValueError\u001b[0m                                Traceback (most recent call last)",
      "\u001b[0;32m/software/python3/3.6.5/lib/python3.6/site-packages/astropy/table/table.py\u001b[0m in \u001b[0;36minsert_row\u001b[0;34m(self, index, vals, mask)\u001b[0m\n\u001b[1;32m   2765\u001b[0m \u001b[0;34m\u001b[0m\u001b[0m\n\u001b[0;32m-> 2766\u001b[0;31m                 \u001b[0mnewcol\u001b[0m \u001b[0;34m=\u001b[0m \u001b[0mcol\u001b[0m\u001b[0;34m.\u001b[0m\u001b[0minsert\u001b[0m\u001b[0;34m(\u001b[0m\u001b[0mindex\u001b[0m\u001b[0;34m,\u001b[0m \u001b[0mval\u001b[0m\u001b[0;34m,\u001b[0m \u001b[0maxis\u001b[0m\u001b[0;34m=\u001b[0m\u001b[0;36m0\u001b[0m\u001b[0;34m)\u001b[0m\u001b[0;34m\u001b[0m\u001b[0m\n\u001b[0m\u001b[1;32m   2767\u001b[0m \u001b[0;34m\u001b[0m\u001b[0m\n",
      "\u001b[0;32m/software/python3/3.6.5/lib/python3.6/site-packages/astropy/table/column.py\u001b[0m in \u001b[0;36minsert\u001b[0;34m(self, obj, values, axis)\u001b[0m\n\u001b[1;32m   1065\u001b[0m             \u001b[0mself_for_insert\u001b[0m \u001b[0;34m=\u001b[0m \u001b[0m_expand_string_array_for_values\u001b[0m\u001b[0;34m(\u001b[0m\u001b[0mself\u001b[0m\u001b[0;34m,\u001b[0m \u001b[0mvalues\u001b[0m\u001b[0;34m)\u001b[0m\u001b[0;34m\u001b[0m\u001b[0m\n\u001b[0;32m-> 1066\u001b[0;31m             \u001b[0mdata\u001b[0m \u001b[0;34m=\u001b[0m \u001b[0mnp\u001b[0m\u001b[0;34m.\u001b[0m\u001b[0minsert\u001b[0m\u001b[0;34m(\u001b[0m\u001b[0mself_for_insert\u001b[0m\u001b[0;34m,\u001b[0m \u001b[0mobj\u001b[0m\u001b[0;34m,\u001b[0m \u001b[0mvalues\u001b[0m\u001b[0;34m,\u001b[0m \u001b[0maxis\u001b[0m\u001b[0;34m=\u001b[0m\u001b[0maxis\u001b[0m\u001b[0;34m)\u001b[0m\u001b[0;34m\u001b[0m\u001b[0m\n\u001b[0m\u001b[1;32m   1067\u001b[0m \u001b[0;34m\u001b[0m\u001b[0m\n",
      "\u001b[0;32m<__array_function__ internals>\u001b[0m in \u001b[0;36minsert\u001b[0;34m(*args, **kwargs)\u001b[0m\n",
      "\u001b[0;32m/software/python3/3.6.5/lib/python3.6/site-packages/numpy/lib/function_base.py\u001b[0m in \u001b[0;36minsert\u001b[0;34m(arr, obj, values, axis)\u001b[0m\n\u001b[1;32m   4582\u001b[0m         \u001b[0;31m# that:\u001b[0m\u001b[0;34m\u001b[0m\u001b[0;34m\u001b[0m\u001b[0m\n\u001b[0;32m-> 4583\u001b[0;31m         \u001b[0mvalues\u001b[0m \u001b[0;34m=\u001b[0m \u001b[0marray\u001b[0m\u001b[0;34m(\u001b[0m\u001b[0mvalues\u001b[0m\u001b[0;34m,\u001b[0m \u001b[0mcopy\u001b[0m\u001b[0;34m=\u001b[0m\u001b[0;32mFalse\u001b[0m\u001b[0;34m,\u001b[0m \u001b[0mndmin\u001b[0m\u001b[0;34m=\u001b[0m\u001b[0marr\u001b[0m\u001b[0;34m.\u001b[0m\u001b[0mndim\u001b[0m\u001b[0;34m,\u001b[0m \u001b[0mdtype\u001b[0m\u001b[0;34m=\u001b[0m\u001b[0marr\u001b[0m\u001b[0;34m.\u001b[0m\u001b[0mdtype\u001b[0m\u001b[0;34m)\u001b[0m\u001b[0;34m\u001b[0m\u001b[0m\n\u001b[0m\u001b[1;32m   4584\u001b[0m         \u001b[0;32mif\u001b[0m \u001b[0mindices\u001b[0m\u001b[0;34m.\u001b[0m\u001b[0mndim\u001b[0m \u001b[0;34m==\u001b[0m \u001b[0;36m0\u001b[0m\u001b[0;34m:\u001b[0m\u001b[0;34m\u001b[0m\u001b[0m\n",
      "\u001b[0;31mValueError\u001b[0m: could not convert string to float: 'test'",
      "\nDuring handling of the above exception, another exception occurred:\n",
      "\u001b[0;31mValueError\u001b[0m                                Traceback (most recent call last)",
      "\u001b[0;32m<ipython-input-14-3c3a2486d8a1>\u001b[0m in \u001b[0;36m<module>\u001b[0;34m()\u001b[0m\n\u001b[0;32m----> 1\u001b[0;31m \u001b[0mout_table\u001b[0m\u001b[0;34m.\u001b[0m\u001b[0madd_row\u001b[0m\u001b[0;34m(\u001b[0m\u001b[0;34m(\u001b[0m\u001b[0;34m'test'\u001b[0m\u001b[0;34m,\u001b[0m\u001b[0mnp\u001b[0m\u001b[0;34m.\u001b[0m\u001b[0mnan\u001b[0m\u001b[0;34m,\u001b[0m\u001b[0mnp\u001b[0m\u001b[0;34m.\u001b[0m\u001b[0mnan\u001b[0m\u001b[0;34m,\u001b[0m                              \u001b[0mnp\u001b[0m\u001b[0;34m.\u001b[0m\u001b[0mnan\u001b[0m\u001b[0;34m,\u001b[0m\u001b[0mnp\u001b[0m\u001b[0;34m.\u001b[0m\u001b[0mnan\u001b[0m\u001b[0;34m,\u001b[0m                               \u001b[0mnp\u001b[0m\u001b[0;34m.\u001b[0m\u001b[0mnan\u001b[0m\u001b[0;34m,\u001b[0m\u001b[0mnp\u001b[0m\u001b[0;34m.\u001b[0m\u001b[0mnan\u001b[0m\u001b[0;34m,\u001b[0m\u001b[0mnp\u001b[0m\u001b[0;34m.\u001b[0m\u001b[0mnan\u001b[0m\u001b[0;34m,\u001b[0m\u001b[0mnp\u001b[0m\u001b[0;34m.\u001b[0m\u001b[0mnan\u001b[0m\u001b[0;34m,\u001b[0m\u001b[0mnp\u001b[0m\u001b[0;34m.\u001b[0m\u001b[0mnan\u001b[0m\u001b[0;34m,\u001b[0m\u001b[0mnp\u001b[0m\u001b[0;34m.\u001b[0m\u001b[0mnan\u001b[0m\u001b[0;34m,\u001b[0m\u001b[0mnp\u001b[0m\u001b[0;34m.\u001b[0m\u001b[0mnan\u001b[0m\u001b[0;34m,\u001b[0m\u001b[0mnp\u001b[0m\u001b[0;34m.\u001b[0m\u001b[0mnan\u001b[0m\u001b[0;34m,\u001b[0m\u001b[0mnp\u001b[0m\u001b[0;34m.\u001b[0m\u001b[0mnan\u001b[0m\u001b[0;34m,\u001b[0m                              \u001b[0mnp\u001b[0m\u001b[0;34m.\u001b[0m\u001b[0mnan\u001b[0m\u001b[0;34m,\u001b[0m\u001b[0mnp\u001b[0m\u001b[0;34m.\u001b[0m\u001b[0mnan\u001b[0m\u001b[0;34m,\u001b[0m\u001b[0mnp\u001b[0m\u001b[0;34m.\u001b[0m\u001b[0mnan\u001b[0m\u001b[0;34m,\u001b[0m\u001b[0mnp\u001b[0m\u001b[0;34m.\u001b[0m\u001b[0mnan\u001b[0m\u001b[0;34m,\u001b[0m\u001b[0mnp\u001b[0m\u001b[0;34m.\u001b[0m\u001b[0mnan\u001b[0m\u001b[0;34m,\u001b[0m\u001b[0mnp\u001b[0m\u001b[0;34m.\u001b[0m\u001b[0mnan\u001b[0m\u001b[0;34m,\u001b[0m\u001b[0mnp\u001b[0m\u001b[0;34m.\u001b[0m\u001b[0mnan\u001b[0m\u001b[0;34m,\u001b[0m\u001b[0mnp\u001b[0m\u001b[0;34m.\u001b[0m\u001b[0mnan\u001b[0m\u001b[0;34m,\u001b[0m\u001b[0mnp\u001b[0m\u001b[0;34m.\u001b[0m\u001b[0mnan\u001b[0m\u001b[0;34m,\u001b[0m                               \u001b[0mnp\u001b[0m\u001b[0;34m.\u001b[0m\u001b[0mnan\u001b[0m\u001b[0;34m,\u001b[0m\u001b[0mnp\u001b[0m\u001b[0;34m.\u001b[0m\u001b[0mnan\u001b[0m\u001b[0;34m,\u001b[0m\u001b[0mnp\u001b[0m\u001b[0;34m.\u001b[0m\u001b[0mnan\u001b[0m\u001b[0;34m,\u001b[0m\u001b[0mnp\u001b[0m\u001b[0;34m.\u001b[0m\u001b[0mnan\u001b[0m\u001b[0;34m,\u001b[0m\u001b[0mnp\u001b[0m\u001b[0;34m.\u001b[0m\u001b[0mnan\u001b[0m\u001b[0;34m,\u001b[0m\u001b[0mnp\u001b[0m\u001b[0;34m.\u001b[0m\u001b[0mnan\u001b[0m\u001b[0;34m)\u001b[0m\u001b[0;34m)\u001b[0m\u001b[0;34m\u001b[0m\u001b[0m\n\u001b[0m",
      "\u001b[0;32m/software/python3/3.6.5/lib/python3.6/site-packages/astropy/table/table.py\u001b[0m in \u001b[0;36madd_row\u001b[0;34m(self, vals, mask)\u001b[0m\n\u001b[1;32m   2656\u001b[0m              \u001b[0;36m3\u001b[0m   \u001b[0;36m6\u001b[0m   \u001b[0;36m9\u001b[0m\u001b[0;34m\u001b[0m\u001b[0m\n\u001b[1;32m   2657\u001b[0m         \"\"\"\n\u001b[0;32m-> 2658\u001b[0;31m         \u001b[0mself\u001b[0m\u001b[0;34m.\u001b[0m\u001b[0minsert_row\u001b[0m\u001b[0;34m(\u001b[0m\u001b[0mlen\u001b[0m\u001b[0;34m(\u001b[0m\u001b[0mself\u001b[0m\u001b[0;34m)\u001b[0m\u001b[0;34m,\u001b[0m \u001b[0mvals\u001b[0m\u001b[0;34m,\u001b[0m \u001b[0mmask\u001b[0m\u001b[0;34m)\u001b[0m\u001b[0;34m\u001b[0m\u001b[0m\n\u001b[0m\u001b[1;32m   2659\u001b[0m \u001b[0;34m\u001b[0m\u001b[0m\n\u001b[1;32m   2660\u001b[0m     \u001b[0;32mdef\u001b[0m \u001b[0minsert_row\u001b[0m\u001b[0;34m(\u001b[0m\u001b[0mself\u001b[0m\u001b[0;34m,\u001b[0m \u001b[0mindex\u001b[0m\u001b[0;34m,\u001b[0m \u001b[0mvals\u001b[0m\u001b[0;34m=\u001b[0m\u001b[0;32mNone\u001b[0m\u001b[0;34m,\u001b[0m \u001b[0mmask\u001b[0m\u001b[0;34m=\u001b[0m\u001b[0;32mNone\u001b[0m\u001b[0;34m)\u001b[0m\u001b[0;34m:\u001b[0m\u001b[0;34m\u001b[0m\u001b[0m\n",
      "\u001b[0;32m/software/python3/3.6.5/lib/python3.6/site-packages/astropy/table/table.py\u001b[0m in \u001b[0;36minsert_row\u001b[0;34m(self, index, vals, mask)\u001b[0m\n\u001b[1;32m   2788\u001b[0m         \u001b[0;32mexcept\u001b[0m \u001b[0mException\u001b[0m \u001b[0;32mas\u001b[0m \u001b[0merr\u001b[0m\u001b[0;34m:\u001b[0m\u001b[0;34m\u001b[0m\u001b[0m\n\u001b[1;32m   2789\u001b[0m             raise ValueError(\"Unable to insert row because of exception in column '{}':\\n{}\"\n\u001b[0;32m-> 2790\u001b[0;31m                              .format(name, err))\n\u001b[0m\u001b[1;32m   2791\u001b[0m         \u001b[0;32melse\u001b[0m\u001b[0;34m:\u001b[0m\u001b[0;34m\u001b[0m\u001b[0m\n\u001b[1;32m   2792\u001b[0m             \u001b[0mself\u001b[0m\u001b[0;34m.\u001b[0m\u001b[0m_replace_cols\u001b[0m\u001b[0;34m(\u001b[0m\u001b[0mcolumns\u001b[0m\u001b[0;34m)\u001b[0m\u001b[0;34m\u001b[0m\u001b[0m\n",
      "\u001b[0;31mValueError\u001b[0m: Unable to insert row because of exception in column 'plateifu':\ncould not convert string to float: 'test'"
     ]
    }
   ],
   "source": []
  },
  {
   "cell_type": "code",
   "execution_count": 12,
   "metadata": {},
   "outputs": [
    {
     "name": "stdout",
     "output_type": "stream",
     "text": [
      "plateifu nsaid smoothness ttype tidal ... y0_err vsys vsys err chi2 fit flag\n",
      "-------- ----- ---------- ----- ----- ... ------ ---- -------- ---- --------\n",
      "     nan   nan        nan   nan   nan ...    nan  nan      nan  nan      nan\n"
     ]
    }
   ],
   "source": [
    "print(out_table)"
   ]
  },
  {
   "cell_type": "code",
   "execution_count": 15,
   "metadata": {},
   "outputs": [],
   "source": [
    "x = [0,2,3,4]"
   ]
  },
  {
   "cell_type": "code",
   "execution_count": 16,
   "metadata": {},
   "outputs": [],
   "source": [
    "a,b,c,d = x"
   ]
  },
  {
   "cell_type": "code",
   "execution_count": 17,
   "metadata": {},
   "outputs": [
    {
     "name": "stdout",
     "output_type": "stream",
     "text": [
      "0\n",
      "3\n"
     ]
    }
   ],
   "source": [
    "print(a)\n",
    "print(c)"
   ]
  },
  {
   "cell_type": "code",
   "execution_count": 23,
   "metadata": {},
   "outputs": [],
   "source": [
    "x = Table(names=('a','b','c'))"
   ]
  },
  {
   "cell_type": "code",
   "execution_count": 25,
   "metadata": {},
   "outputs": [],
   "source": [
    "x.add_row((3,4,3))"
   ]
  },
  {
   "cell_type": "code",
   "execution_count": 2,
   "metadata": {},
   "outputs": [],
   "source": [
    "\n",
    "MANGA_FOLDER = '/scratch/kdougla7/data/SDSS/dr17/manga/spectro/'\n",
    "DRP_FILENAME = MANGA_FOLDER + 'redux/v3_1_1/' + 'drpall-v3_1_1.fits'\n",
    "RUN_ALL_GALAXIES = False\n",
    "FILE_IDS = ['10001-3702','7815-3702',  '7990-6104',\\\n",
    "        '7992-6104', '8077-12704', '8077-6102',\\\n",
    "        '8082-12702', '8082-9102',  '8146-1901',\\\n",
    "        '8150-9102']"
   ]
  },
  {
   "cell_type": "code",
   "execution_count": 3,
   "metadata": {},
   "outputs": [
    {
     "name": "stderr",
     "output_type": "stream",
     "text": [
      "WARNING: hdu= was not specified but multiple tables are present, reading in first available table (hdu=1) [astropy.io.fits.connect]\n"
     ]
    }
   ],
   "source": [
    "DRP_table = Table.read( DRP_FILENAME, format='fits')\n",
    "\n",
    "\n"
   ]
  },
  {
   "cell_type": "code",
   "execution_count": 4,
   "metadata": {},
   "outputs": [],
   "source": [
    "MORPH_FILE = '/home/lstroud3/Documents/manga_visual_morpho-2.0.1.fits'"
   ]
  },
  {
   "cell_type": "code",
   "execution_count": null,
   "metadata": {},
   "outputs": [],
   "source": []
  },
  {
   "cell_type": "code",
   "execution_count": 7,
   "metadata": {},
   "outputs": [
    {
     "name": "stderr",
     "output_type": "stream",
     "text": [
      "WARNING: hdu= was not specified but multiple tables are present, reading in first available table (hdu=1) [astropy.io.fits.connect]\n"
     ]
    }
   ],
   "source": [
    "DRP_table = Table.read( DRP_FILENAME, format='fits')\n",
    "DRP_index = {}\n",
    "for i in range(len(DRP_table)):\n",
    "    galaxy_ID = DRP_table['plateifu'][i]\n",
    "    DRP_index[galaxy_ID] = i\n",
    "    if RUN_ALL_GALAXIES or galaxy_ID in FILE_IDS:\n",
    "        index.append(i)\n",
    "\n",
    "Morph_table = Table.read(MORPH_FILE, format='fits')\n",
    "Morph_index = {}\n",
    "\n",
    "for i in range(len(Morph_table)):\n",
    "    galaxy_ID = Morph_table['plateifu'][i].strip()\n",
    "    Morph_index[galaxy_ID] = i"
   ]
  },
  {
   "cell_type": "code",
   "execution_count": 9,
   "metadata": {},
   "outputs": [],
   "source": [
    "index = []\n",
    "for m_ID in Morph_table['plateifu']:\n",
    "    if m_ID in DRP_table['plateifu']:\n",
    "        index.append(DRP_index[m_ID])\n",
    "x = Table(DRP_table[index])"
   ]
  },
  {
   "cell_type": "code",
   "execution_count": 16,
   "metadata": {},
   "outputs": [],
   "source": [
    "index = []\n",
    "for m_ID in Morph_table['plateifu']:\n",
    "    if m_ID.strip() in DRP_table['plateifu']:\n",
    "        index.append(DRP_index[m_ID.strip()])\n",
    "x = Table(DRP_table[index])"
   ]
  },
  {
   "cell_type": "code",
   "execution_count": 20,
   "metadata": {},
   "outputs": [
    {
     "name": "stdout",
     "output_type": "stream",
     "text": [
      "0\n"
     ]
    }
   ],
   "source": [
    "print(min(x['mngtarg1']))\n"
   ]
  },
  {
   "cell_type": "code",
   "execution_count": 22,
   "metadata": {},
   "outputs": [],
   "source": [
    "x = Table.read('/scratch/lstroud3/RotationCurves/Images/Isothermal/batch0', format='fits')"
   ]
  },
  {
   "cell_type": "code",
   "execution_count": 31,
   "metadata": {},
   "outputs": [],
   "source": [
    "x.sort('fit flag)"
   ]
  },
  {
   "cell_type": "code",
   "execution_count": 55,
   "metadata": {},
   "outputs": [
    {
     "name": "stdout",
     "output_type": "stream",
     "text": [
      "  plateifu  fit flag         chi2       \n",
      "----------- -------- -------------------\n",
      " 10213-9101      2.0  63.436452977328265\n",
      " 10213-6103      3.0 0.47124370232363577\n",
      "10218-12701      3.0  2.4935868418551888\n",
      " 10215-6104      3.0  405.81249273650445\n",
      "10219-12705      4.0  23.917610727234173\n",
      " 10216-9102      4.0  0.1567318966479126\n",
      " 10213-1902      4.0   188.0469164579495\n",
      "10216-12701      4.0   9.531531038242003\n",
      "10001-12702      4.0 0.07933479197645509\n",
      " 10218-9102      5.0  1.2622270863101714\n",
      "        ...      ...                 ...\n",
      "10219-12704     15.0  27.551039982413776\n",
      " 10217-3704     18.0  0.9909745891345214\n",
      "10218-12705     23.0   0.631975297947636\n",
      "10218-12702     26.0   4.586019448818854\n",
      " 10214-1901     28.0  1.1030075536617299\n",
      " 10216-6103     28.0  23.494784480893074\n",
      "10214-12703     34.0  0.5849566019475652\n",
      "10216-12702     38.0  21.447919232536012\n",
      "10001-12705     38.0  31.359897354031972\n",
      " 10216-6101     39.0  2.7239990992171346\n",
      " 10217-3701     47.0   29.10506583258679\n",
      "Length = 33 rows\n"
     ]
    },
    {
     "data": {
      "text/plain": [
       "405.81249273650445"
      ]
     },
     "execution_count": 55,
     "metadata": {},
     "output_type": "execute_result"
    }
   ],
   "source": [
    "print(x['plateifu','fit flag','chi2'][90:123])\n",
    "np.nanmax(x['chi2'])"
   ]
  },
  {
   "cell_type": "code",
   "execution_count": 65,
   "metadata": {},
   "outputs": [
    {
     "name": "stdout",
     "output_type": "stream",
     "text": [
      "  plateifu  fit flag         chi2       \n",
      "----------- -------- -------------------\n",
      "10001-12702      4.0 0.07933479197645509\n",
      " 10216-9102      4.0  0.1567318966479126\n",
      "10216-12703      8.0  0.3037669456773596\n",
      " 10213-6103      3.0 0.47124370232363577\n",
      "10214-12703     34.0  0.5849566019475652\n",
      "10218-12705     23.0   0.631975297947636\n",
      " 10217-3704     18.0  0.9909745891345214\n",
      " 10214-1901     28.0  1.1030075536617299\n",
      " 10214-6104      5.0  1.1439683113450223\n",
      " 10215-9101      6.0   1.199486974446803\n",
      "        ...      ...                 ...\n",
      " 10217-3701     47.0   29.10506583258679\n",
      "10001-12705     38.0  31.359897354031972\n",
      " 10213-9101      2.0  63.436452977328265\n",
      " 10215-3701     11.0   71.38796676296846\n",
      " 10218-3701      0.0    78.2607183292039\n",
      " 10218-9101     15.0  125.71912094279688\n",
      " 10215-3702      2.0   130.3998550603301\n",
      "10215-12703      0.0  133.37631234573655\n",
      " 10213-1902      4.0   188.0469164579495\n",
      "10213-12705     10.0    247.496846634291\n",
      " 10215-6104      3.0  405.81249273650445\n",
      "Length = 40 rows\n"
     ]
    }
   ],
   "source": [
    "y = x['plateifu','fit flag','chi2'][0:123]\n",
    "y.sort('chi2')\n",
    "print(y[0:40])"
   ]
  },
  {
   "cell_type": "code",
   "execution_count": 43,
   "metadata": {},
   "outputs": [
    {
     "name": "stdout",
     "output_type": "stream",
     "text": [
      "12 5 5 35\n"
     ]
    }
   ],
   "source": [
    "disk_fail = 0\n",
    "tot_fail = 0\n",
    "max_it = 0\n",
    "converge = 0\n",
    "for flag in x['fit flag'][0:123]:\n",
    "    if flag == -6:\n",
    "         tot_fail +=1\n",
    "    elif flag == -5:\n",
    "        disk_fail +=1\n",
    "    elif flag == 0:\n",
    "        max_it += 1\n",
    "    elif flag > 0:\n",
    "        converge +=1\n",
    "\n",
    "print(disk_fail,tot_fail,max_it,converge)"
   ]
  },
  {
   "cell_type": "code",
   "execution_count": 66,
   "metadata": {},
   "outputs": [
    {
     "data": {
      "text/plain": [
       "1.0"
      ]
     },
     "execution_count": 66,
     "metadata": {},
     "output_type": "execute_result"
    }
   ],
   "source": [
    "np.floor(3/2)"
   ]
  },
  {
   "cell_type": "code",
   "execution_count": 66,
   "metadata": {},
   "outputs": [],
   "source": [
    "values = y[0:40]"
   ]
  },
  {
   "cell_type": "code",
   "execution_count": 71,
   "metadata": {},
   "outputs": [],
   "source": [
    "iterate = np.array(values['fit flag'])\n",
    "chi2 = np.array(values['chi2'])\n",
    "\n",
    "for i in range(len(iterate)):\n",
    "    if iterate[i] == 0:\n",
    "        iterate[i] = 50"
   ]
  },
  {
   "cell_type": "code",
   "execution_count": 75,
   "metadata": {},
   "outputs": [
    {
     "data": {
      "text/plain": [
       "Text(0, 0.5, 'Chi2')"
      ]
     },
     "execution_count": 75,
     "metadata": {},
     "output_type": "execute_result"
    },
    {
     "data": {
      "image/png": "[encoded data removed]",
      "text/plain": [
       "<Figure size 432x288 with 1 Axes>"
      ]
     },
     "metadata": {},
     "output_type": "display_data"
    }
   ],
   "source": [
    "plt.scatter(iterate,chi2)\n",
    "plt.xlabel('Iterations')\n",
    "plt.ylabel('Chi2')"
   ]
  },
  {
   "cell_type": "code",
   "execution_count": 76,
   "metadata": {},
   "outputs": [],
   "source": [
    "test = Table.read('/scratch/lstroud3/RotationCurves/Images/Isothermal/test', format='fits')"
   ]
  },
  {
   "cell_type": "code",
   "execution_count": 84,
   "metadata": {},
   "outputs": [
    {
     "name": "stdout",
     "output_type": "stream",
     "text": [
      "plate ifudsgn   plateifu  ...       vsys err             chi2        fit flag\n",
      "----- ------- ----------- ... ------------------- ------------------ --------\n",
      "10218    3702  10218-3702 ...                 nan                nan     -1.0\n",
      "10218    3703  10218-3703 ...                 nan                nan     -5.0\n",
      "10218    3704  10218-3704 ...                 nan                nan     -6.0\n",
      "10218    6101  10218-6101 ...                 nan                nan     -1.0\n",
      "10218    6102  10218-6102 ...                 nan                nan     -2.0\n",
      "10218    6103  10218-6103 ...                 nan                nan     -3.0\n",
      "10218    6104  10218-6104 ...                 nan                nan     -3.0\n",
      "10218    9101  10218-9101 ...  1.7308454107050255  125.7191233152829     15.0\n",
      "10218    9102  10218-9102 ... 0.43119358465460805 1.2622270864430483      5.0\n",
      "10219   12701 10219-12701 ...  0.1450060656619638 2.4353815670265977      5.0\n",
      "10219   12702 10219-12702 ... 0.09577111881633064  10.22191432640533      0.0\n",
      "10219   12703 10219-12703 ...                 nan                nan     -6.0\n",
      "10219   12704 10219-12704 ... 0.16863350291735005  27.55172732433689     14.0\n",
      "10219   12705 10219-12705 ...  0.2858213004283022 23.917611728605046      4.0\n",
      "10219    1901  10219-1901 ...                 nan                nan     -1.0\n",
      "10219    1902  10219-1902 ...                 nan                nan     -1.0\n",
      "10219    3701  10219-3701 ...                 nan                nan     -1.0\n",
      "10219    3702  10219-3702 ...                 nan                nan     -1.0\n",
      "10219    3703  10219-3703 ...                 nan                nan     -1.0\n",
      "10219    3704  10219-3704 ...                 nan                nan     -1.0\n"
     ]
    }
   ],
   "source": [
    "print(test[0:20])"
   ]
  },
  {
   "cell_type": "code",
   "execution_count": null,
   "metadata": {},
   "outputs": [],
   "source": []
  }
 ],
 "metadata": {
  "kernelspec": {
   "display_name": "Python 3 (3.6.5)",
   "language": "python",
   "name": "python3"
  },
  "language_info": {
   "codemirror_mode": {
    "name": "ipython",
    "version": 3
   },
   "file_extension": ".py",
   "mimetype": "text/x-python",
   "name": "python",
   "nbconvert_exporter": "python",
   "pygments_lexer": "ipython3",
   "version": "3.6.5"
  }
 },
 "nbformat": 4,
 "nbformat_minor": 5
}
