{
 "cells": [
  {
   "cell_type": "code",
   "execution_count": 7,
   "metadata": {},
   "outputs": [],
   "source": [
    "import numpy as np\n",
    "import numpy.ma as ma\n",
    "import matplotlib.pyplot as plt\n",
    "################################################################################\n",
    "# Physics Constants\n",
    "#-------------------------------------------------------------------------------\n",
    "c = 3E5 # km * s ^1\n",
    "h = 1 # reduced hubble constant\n",
    "H_0 =  100 * h # km * s^-1 * Mpc^-1\n",
    "q0 = 0.2 # minimum inclination value\n",
    "################################################################################"
   ]
  },
  {
   "cell_type": "code",
   "execution_count": 19,
   "metadata": {},
   "outputs": [],
   "source": [
    "# Bulge\n",
    "def bulge_mass(rho_0,Rb):\n",
    "    Rb = 1000 * Rb\n",
    "    mass_b = 8 * np.pi * Rb**3 * 10 ** rho_0\n",
    "    return mass_b\n",
    "\n",
    "# Disk\n",
    "def disk_mass(SigD,Rd):\n",
    "    Rd = 1000 * Rd\n",
    "    mass_d = 2 * np.pi * SigD * Rd ** 2\n",
    "    return mass_d\n",
    "\n",
    "def halo_mass_iso(rho0_h,r,Rh):\n",
    "    r = r * 1000\n",
    "    Rh = 1000 * Rh\n",
    "    halo_mass = 4 * np.pi * (10 ** rho0_h) * Rh**2 * (r - Rh * np.arctan2(r,Rh))\n",
    "    return halo_mass\n",
    "\n",
    "# NFW\n",
    "def halo_mass_NFW(rho0_h,r,Rh):\n",
    "    r = r*1000\n",
    "    Rh = 1000 * Rh\n",
    "    halo_mass = 4.0 * np.pi * 10 **rho0_h * Rh**3 * ((Rh/(Rh + r)) + np.log(Rh + r) - 1.0 - np.log(Rh))\n",
    "    return halo_mass\n",
    "# Burket\n",
    "def halo_mass_bur(rho0_h,r,Rh):\n",
    "    r = r * 1000\n",
    "    Rh = 1000 * Rh\n",
    "    halo_mass = np.pi * (-10 ** rho0_h) * (Rh**3) * (-np.log(Rh**2 + r**2) - 2.0*np.log(Rh + r) + 2*np.arctan2(r, Rh) + np.log(Rh**2) + 2*np.log(Rh))"
   ]
  },
  {
   "cell_type": "code",
   "execution_count": 20,
   "metadata": {},
   "outputs": [],
   "source": [
    "radii_8141_6103 = [1.040402525,378.9046372,1.83163332,6.752531319]\n",
    "r_kpc = np.linspace(0,7,1000)"
   ]
  },
  {
   "cell_type": "code",
   "execution_count": 21,
   "metadata": {},
   "outputs": [
    {
     "data": {
      "text/plain": [
       "[<matplotlib.lines.Line2D at 0x7f7d1f7756a0>]"
      ]
     },
     "execution_count": 21,
     "metadata": {},
     "output_type": "execute_result"
    },
    {
     "data": {
      "image/png": "[encoded data removed]",
      "text/plain": [
       "<Figure size 432x288 with 1 Axes>"
      ]
     },
     "metadata": {
      "needs_background": "light"
     },
     "output_type": "display_data"
    }
   ],
   "source": [
    "plt.plot(r_kpc,halo_mass_iso(-1.34944437,r_kpc,1.040402525))"
   ]
  },
  {
   "cell_type": "code",
   "execution_count": 22,
   "metadata": {},
   "outputs": [
    {
     "data": {
      "text/plain": [
       "[<matplotlib.lines.Line2D at 0x7f7d1f7f72e0>]"
      ]
     },
     "execution_count": 22,
     "metadata": {},
     "output_type": "execute_result"
    },
    {
     "data": {
      "image/png": "[encoded data removed]",
      "text/plain": [
       "<Figure size 432x288 with 1 Axes>"
      ]
     },
     "metadata": {
      "needs_background": "light"
     },
     "output_type": "display_data"
    }
   ],
   "source": [
    "plt.plot(r_kpc,halo_mass_NFW(-3.306973306,r_kpc,378.9046372))"
   ]
  },
  {
   "cell_type": "code",
   "execution_count": null,
   "metadata": {},
   "outputs": [],
   "source": []
  }
 ],
 "metadata": {
  "kernelspec": {
   "display_name": "Python 3",
   "language": "python",
   "name": "python3"
  },
  "language_info": {
   "codemirror_mode": {
    "name": "ipython",
    "version": 3
   },
   "file_extension": ".py",
   "mimetype": "text/x-python",
   "name": "python",
   "nbconvert_exporter": "python",
   "pygments_lexer": "ipython3",
   "version": "3.8.5"
  }
 },
 "nbformat": 4,
 "nbformat_minor": 4
}
