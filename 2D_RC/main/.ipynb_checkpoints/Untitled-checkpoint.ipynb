{
 "cells": [
  {
   "cell_type": "code",
   "execution_count": 1,
   "metadata": {},
   "outputs": [],
   "source": [
    "from rotation_curve_functions import vel_h_NFW"
   ]
  },
  {
   "cell_type": "code",
   "execution_count": null,
   "metadata": {},
   "outputs": [],
   "source": [
    "def halo_vel_NFW(r, rho0_h, Rh):\n",
    "    if isinstance(r, float):\n",
    "        halo_mass = 4*np.pi*rho0_h*Rh**3*((r/(Rh+r)) + np.log(Rh + r) - np.log(Rh))\n",
    "    else:\n",
    "        halo_mass = np.zeros(len(r))\n",
    "        for i in range(len(r)):\n",
    "            halo_mass[i] = 4*np.pi*rho0_h*Rh**3*((r[i]/(Rh+r[i])) + np.log(Rh + r[i]) - np.log(Rh))\n",
    "    vel2 = G * (halo_mass * Msun) / (r * 3.086e16)\n",
    "    return np.sqrt(vel2)/1000"
   ]
  }
 ],
 "metadata": {
  "kernelspec": {
   "display_name": "Python 3",
   "language": "python",
   "name": "python3"
  },
  "language_info": {
   "codemirror_mode": {
    "name": "ipython",
    "version": 3
   },
   "file_extension": ".py",
   "mimetype": "text/x-python",
   "name": "python",
   "nbconvert_exporter": "python",
   "pygments_lexer": "ipython3",
   "version": "3.8.5"
  }
 },
 "nbformat": 4,
 "nbformat_minor": 4
}
