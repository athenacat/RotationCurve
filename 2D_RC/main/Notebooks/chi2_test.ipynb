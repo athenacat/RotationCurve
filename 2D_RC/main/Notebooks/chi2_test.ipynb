{
 "cells": [
  {
   "cell_type": "code",
   "execution_count": 2,
   "metadata": {},
   "outputs": [],
   "source": [
    "import numpy as np\n",
    "import numpy.ma as ma\n",
    "\n",
    "import matplotlib.pyplot as plt\n",
    "\n",
    "import csv\n",
    "\n",
    "from astropy.io import ascii"
   ]
  },
  {
   "cell_type": "code",
   "execution_count": 10,
   "metadata": {},
   "outputs": [
    {
     "data": {
      "text/plain": [
       "array([ 34.01136626,   5.87046714, 154.10952802, ...,          nan,\n",
       "                nan,          nan])"
      ]
     },
     "execution_count": 10,
     "metadata": {},
     "output_type": "execute_result"
    }
   ],
   "source": [
    "f_iso = ascii.read('iso_mini.csv','r')\n",
    "chi2_iso = f_iso['chi2'].data\n",
    "chi2_iso"
   ]
  },
  {
   "cell_type": "code",
   "execution_count": 15,
   "metadata": {},
   "outputs": [
    {
     "data": {
      "text/plain": [
       "8813"
      ]
     },
     "execution_count": 15,
     "metadata": {},
     "output_type": "execute_result"
    }
   ],
   "source": [
    "no_fit_count_iso = 0\n",
    "for i in range(len(chi2_iso)):\n",
    "    if np.isnan(chi2_iso[i]):\n",
    "        no_fit_count_iso += 1\n",
    "no_fit_count_iso"
   ]
  },
  {
   "cell_type": "code",
   "execution_count": 24,
   "metadata": {},
   "outputs": [
    {
     "data": {
      "text/plain": [
       "638"
      ]
     },
     "execution_count": 24,
     "metadata": {},
     "output_type": "execute_result"
    }
   ],
   "source": [
    "bad_fit_count_iso = 0\n",
    "for i in range(len(chi2_iso)):\n",
    "    if chi2_iso[i] >= 150:\n",
    "        bad_fit_count_iso += 1\n",
    "bad_fit_count_iso"
   ]
  },
  {
   "cell_type": "code",
   "execution_count": 12,
   "metadata": {},
   "outputs": [
    {
     "data": {
      "text/plain": [
       "530"
      ]
     },
     "execution_count": 12,
     "metadata": {},
     "output_type": "execute_result"
    }
   ],
   "source": [
    "bad_fit_count_iso = 0\n",
    "for i in range(len(chi2_iso)):\n",
    "    if chi2_iso[i] >= 200:\n",
    "        bad_fit_count_iso += 1\n",
    "bad_fit_count_iso"
   ]
  },
  {
   "cell_type": "code",
   "execution_count": 6,
   "metadata": {},
   "outputs": [
    {
     "data": {
      "text/plain": [
       "array([41.33709406,  6.58158482, 50.67156935, ...,         nan,\n",
       "               nan,         nan])"
      ]
     },
     "execution_count": 6,
     "metadata": {},
     "output_type": "execute_result"
    }
   ],
   "source": [
    "f_nfw = ascii.read('nfw_mini.csv','r')\n",
    "chi2_nfw = f_nfw['chi2'].data\n",
    "chi2_nfw"
   ]
  },
  {
   "cell_type": "code",
   "execution_count": 16,
   "metadata": {},
   "outputs": [
    {
     "data": {
      "text/plain": [
       "8813"
      ]
     },
     "execution_count": 16,
     "metadata": {},
     "output_type": "execute_result"
    }
   ],
   "source": [
    "no_fit_count_nfw = 0\n",
    "for i in range(len(chi2_nfw)):\n",
    "    if np.isnan(chi2_nfw[i]):\n",
    "        no_fit_count_nfw += 1\n",
    "no_fit_count_nfw"
   ]
  },
  {
   "cell_type": "code",
   "execution_count": 25,
   "metadata": {},
   "outputs": [
    {
     "data": {
      "text/plain": [
       "526"
      ]
     },
     "execution_count": 25,
     "metadata": {},
     "output_type": "execute_result"
    }
   ],
   "source": [
    "bad_fit_count_nfw = 0\n",
    "for i in range(len(chi2_nfw)):\n",
    "    if chi2_nfw[i] >= 150:\n",
    "        bad_fit_count_nfw += 1\n",
    "bad_fit_count_nfw"
   ]
  },
  {
   "cell_type": "code",
   "execution_count": 26,
   "metadata": {},
   "outputs": [
    {
     "data": {
      "text/plain": [
       "416"
      ]
     },
     "execution_count": 26,
     "metadata": {},
     "output_type": "execute_result"
    }
   ],
   "source": [
    "bad_fit_count_nfw = 0\n",
    "for i in range(len(chi2_nfw)):\n",
    "    if chi2_nfw[i] >= 200:\n",
    "        bad_fit_count_nfw += 1\n",
    "bad_fit_count_nfw"
   ]
  },
  {
   "cell_type": "code",
   "execution_count": 18,
   "metadata": {},
   "outputs": [
    {
     "data": {
      "text/plain": [
       "array([33.89159087,  6.0438397 , 47.67803286, ...,         nan,\n",
       "               nan,         nan])"
      ]
     },
     "execution_count": 18,
     "metadata": {},
     "output_type": "execute_result"
    }
   ],
   "source": [
    "f_bur = ascii.read('bur_mini.csv','r')\n",
    "chi2_bur = f_bur['chi2'].data\n",
    "chi2_bur"
   ]
  },
  {
   "cell_type": "code",
   "execution_count": 19,
   "metadata": {},
   "outputs": [
    {
     "data": {
      "text/plain": [
       "8813"
      ]
     },
     "execution_count": 19,
     "metadata": {},
     "output_type": "execute_result"
    }
   ],
   "source": [
    "no_fit_count_bur = 0\n",
    "for i in range(len(chi2_bur)):\n",
    "    if np.isnan(chi2_bur[i]):\n",
    "        no_fit_count_bur += 1\n",
    "no_fit_count_bur"
   ]
  },
  {
   "cell_type": "code",
   "execution_count": 27,
   "metadata": {},
   "outputs": [
    {
     "data": {
      "text/plain": [
       "647"
      ]
     },
     "execution_count": 27,
     "metadata": {},
     "output_type": "execute_result"
    }
   ],
   "source": [
    "bad_fit_count_bur = 0\n",
    "for i in range(len(chi2_bur)):\n",
    "    if chi2_bur[i] >= 150:\n",
    "        bad_fit_count_bur += 1\n",
    "bad_fit_count_bur"
   ]
  },
  {
   "cell_type": "code",
   "execution_count": 20,
   "metadata": {},
   "outputs": [
    {
     "data": {
      "text/plain": [
       "542"
      ]
     },
     "execution_count": 20,
     "metadata": {},
     "output_type": "execute_result"
    }
   ],
   "source": [
    "bad_fit_count_bur = 0\n",
    "for i in range(len(chi2_bur)):\n",
    "    if chi2_bur[i] >= 200:\n",
    "        bad_fit_count_bur += 1\n",
    "bad_fit_count_bur"
   ]
  },
  {
   "cell_type": "code",
   "execution_count": 22,
   "metadata": {},
   "outputs": [
    {
     "data": {
      "text/plain": [
       "2460"
      ]
     },
     "execution_count": 22,
     "metadata": {},
     "output_type": "execute_result"
    }
   ],
   "source": [
    "len(chi2_iso) - no_fit_count_iso"
   ]
  },
  {
   "cell_type": "code",
   "execution_count": 23,
   "metadata": {},
   "outputs": [
    {
     "data": {
      "text/plain": [
       "11273"
      ]
     },
     "execution_count": 23,
     "metadata": {},
     "output_type": "execute_result"
    }
   ],
   "source": [
    "len(chi2_iso)"
   ]
  },
  {
   "cell_type": "code",
   "execution_count": null,
   "metadata": {},
   "outputs": [],
   "source": []
  }
 ],
 "metadata": {
  "kernelspec": {
   "display_name": "Python 3",
   "language": "python",
   "name": "python3"
  },
  "language_info": {
   "codemirror_mode": {
    "name": "ipython",
    "version": 3
   },
   "file_extension": ".py",
   "mimetype": "text/x-python",
   "name": "python",
   "nbconvert_exporter": "python",
   "pygments_lexer": "ipython3",
   "version": "3.8.5"
  }
 },
 "nbformat": 4,
 "nbformat_minor": 4
}
