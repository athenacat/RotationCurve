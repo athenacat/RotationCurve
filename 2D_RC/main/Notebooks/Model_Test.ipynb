{
 "cells": [
  {
   "cell_type": "code",
   "execution_count": 1,
   "metadata": {},
   "outputs": [],
   "source": [
    "from scipy import integrate as inte\n",
    "import numpy as np\n",
    "import matplotlib.pyplot as plt\n",
    "from numpy import log as ln\n",
    "G = 6.674E-11  # m^3 kg^-1 s^-2\n",
    "Msun = 1.989E30  # kg\n",
    "import numpy as np\n",
    "import numpy.ma as ma\n",
    "from scipy.special import kn\n",
    "from scipy.special import iv\n",
    "gamma = 3.3308\n",
    "kappa = gamma * ln(10)"
   ]
  },
  {
   "cell_type": "code",
   "execution_count": null,
   "metadata": {},
   "outputs": [],
   "source": []
  },
  {
   "cell_type": "code",
   "execution_count": 23,
   "metadata": {},
   "outputs": [],
   "source": [
    "r = np.linspace(0.01,30,1000)"
   ]
  },
  {
   "cell_type": "markdown",
   "metadata": {},
   "source": [
    "# de Vaucouleur's Bulge\n",
    "(Sofue 2013, eqn 27, 29, & 30)\n",
    "\n",
    "$$\\Sigma(r) = \\Sigma_{be} (-\\kappa (\\frac{r}{r_b})^{\\frac{1}{4}} - 1)$$\n",
    "\n",
    "$$\\rho(R) = \\frac{1}{\\pi}\\int^{\\infty}_R \\frac{d\\Sigma_b(x)}{dx}\\frac{1}{\\sqrt{x^2 - R^2}}dx$$\n",
    "\n",
    "$$M_b(R) = 4\\pi\\int^{R}_{0} \\rho(R') R'^2dR' $$\n",
    "\n",
    "$$V_b(R) = \\sqrt{\\frac{GM_b(R)}{R}}$$"
   ]
  },
  {
   "cell_type": "code",
   "execution_count": null,
   "metadata": {},
   "outputs": [],
   "source": [
    "def sigma_b(x, SigBE, Rb):\n",
    "    return SigBE * np.exp(-1 * kappa * ((x / Rb) ** 0.25 - 1))\n",
    "\n",
    "\n",
    "# derivative of sigma with respect to r\n",
    "def dsdx(x, SigBE, Rb):\n",
    "    return sigma_b(x, SigBE, Rb) * (-0.25 * kappa) * (Rb ** -0.25) * (x ** -0.75)\n",
    "\n",
    "\n",
    "# integrand for getting denisty\n",
    "def density_integrand(x, r, SigBE, Rb):\n",
    "    return -(1 / np.pi) * dsdx(x, SigBE, Rb) / np.sqrt(x ** 2 - r ** 2)\n",
    "\n",
    "\n",
    "def mass_integrand(r, SigBE, Rb):\n",
    "    vol_den, vol_den_err = inte.quad(density_integrand, r, np.inf, args=(r, SigBE, Rb))\n",
    "    return 4 * np.pi * vol_den * r ** 2\n",
    "\n",
    "def vcir_b(r,SigBE, Rb):\n",
    "    if isinstance(r, float):\n",
    "        bulge_mass, m_err = inte.quad(mass_integrand, 0, r, args=(SigBE, Rb))\n",
    "    else:\n",
    "        bulge_mass = np.zeros(len(r))\n",
    "        err = np.zeros(len(r))\n",
    "\n",
    "        for i in range(len(r)):\n",
    "            bulge_mass[i],err[i] = inte.quad(mass_integrand, 0, r[i], args=(SigBE, Rb))\n",
    "    vel = np.sqrt(G*(bulge_mass*Msun)/(r*3.08E16))\n",
    "    vel /= 1000\n",
    "    \n",
    "    return vel\n",
    "\n",
    "plt.plot(r, vcir_b(r*1000,3.2E3, 0.5E3))\n",
    "plt.xlabel('$r [kpc]$')\n",
    "plt.ylabel('$V_{cir}$ [km/s]')\n",
    "plt.title('MW Bulge [de Vaucouleur]')"
   ]
  },
  {
   "cell_type": "markdown",
   "metadata": {},
   "source": [
    "# Simplified bulge model \n",
    "\n",
    "(Di Paolo et al. 2019 eqn 8)\n",
    "\n",
    "$$V^2{b}(r) = \\alpha_{b} V^2_{in} (\\frac{r}{R_{in}})^{-1}$$\n",
    "$$R_{in} \\simeq 0.2 <R_d>$$"
   ]
  },
  {
   "cell_type": "code",
   "execution_count": null,
   "metadata": {},
   "outputs": [],
   "source": [
    "def bulge_vel(r, A, Vin, Rd):\n",
    "    if isinstance(r, float):\n",
    "        v = np.sqrt(A * Vin **2 * (r/(0.2*Rd)) ** -1)\n",
    "    else:\n",
    "        v = np.zeros(len(r))\n",
    "        for i in range(len(r)):\n",
    "            v[i] = np.sqrt(A * Vin **2 * (r[i]/(0.2*Rd)) ** -1)\n",
    "    return v"
   ]
  },
  {
   "cell_type": "code",
   "execution_count": null,
   "metadata": {},
   "outputs": [],
   "source": [
    "plt.plot(r,bulge_vel(r*1000,0.1,127,3500))\n",
    "plt.xlabel('$r [kpc]$')\n",
    "plt.ylabel('$V_{cir}$ [km/s]')\n",
    "plt.title('MW Bulge [Point Mass]')"
   ]
  },
  {
   "cell_type": "markdown",
   "metadata": {},
   "source": [
    "This model will have $V_b \\rightarrow \\infty$ as $r \\rightarrow 0$"
   ]
  },
  {
   "cell_type": "markdown",
   "metadata": {},
   "source": [
    "# Modified bulge model\n",
    "\n",
    "For $0 < r < R_{in}$:\n",
    "\n",
    "$$V^2{b}(r) = \\frac{\\alpha_{b} V^2_{in} r}{R_{in}}$$\n",
    "\n",
    "For $r \\geqslant R_{in}$:\n",
    "\n",
    "$$V^2{b}(r) = \\alpha_{b} V^2_{in} (\\frac{r}{R_{in}})^{-1}$$"
   ]
  },
  {
   "cell_type": "code",
   "execution_count": null,
   "metadata": {},
   "outputs": [],
   "source": [
    "def bulge_vel_mod(r, A, Vin, Rd):\n",
    "    if isinstance(r, float):\n",
    "        if r < 0.2 * Rd:\n",
    "            v = np.sqrt(A*Vin**2*r/(0.2*Rd))\n",
    "        else:\n",
    "            v = np.sqrt(A * Vin **2 * (r/(0.2*Rd)) ** -1)\n",
    "    else:\n",
    "        v = np.zeros(len(r))\n",
    "        for i in range(len(r)):\n",
    "            if r[i] < 0.2 * Rd:\n",
    "                v[i] = np.sqrt(A*Vin**2*r[i]/(0.2*Rd))\n",
    "            else:\n",
    "                v[i] = np.sqrt(A * Vin **2 * (r[i]/(0.2*Rd)) ** -1)\n",
    "    return v"
   ]
  },
  {
   "cell_type": "code",
   "execution_count": null,
   "metadata": {},
   "outputs": [],
   "source": [
    "plt.plot(r,bulge_vel_mod(r*1000,1,270,3500))\n",
    "plt.xlabel('$r [kpc]$')\n",
    "plt.ylabel('$V_{cir}$ [km/s]')\n",
    "plt.title('MW Bulge [modified Di Paolo]')"
   ]
  },
  {
   "cell_type": "code",
   "execution_count": null,
   "metadata": {},
   "outputs": [],
   "source": [
    "delta_v = np.zeros(len(r))\n",
    "zero_line = np.zeros(len(r))\n",
    "for i in range(len(r)):\n",
    "    delta_v[i] = vcir_b(r[i]*1000,3.2E3, 0.5E3) - bulge_vel_mod(r[i]*1000,1,270,3500)\n",
    "    \n",
    "plt.plot(r,delta_v,'*')\n",
    "plt.plot(r, zero_line, '--')\n",
    "plt.xlabel('$r [kpc]$')\n",
    "plt.ylabel('$\\Delta v_{cir}$ [km/s]')\n",
    "plt.title('de Vauc vs Modified Di Paolo')"
   ]
  },
  {
   "cell_type": "code",
   "execution_count": null,
   "metadata": {},
   "outputs": [],
   "source": [
    "r = np.linspace(0.01,30,1000)"
   ]
  },
  {
   "cell_type": "code",
   "execution_count": 49,
   "metadata": {},
   "outputs": [],
   "source": [
    "def exp_bulge(r,log_rhob0,Rb):\n",
    "    Vb = np.zeros(len(r))\n",
    "    for i in range(len(r)):\n",
    "        if r[i] != 0.0:\n",
    "            rho_0 = 10.0**log_rhob0\n",
    "            x = r[i]/Rb\n",
    "            F = 1.0 - np.exp(-x) * (1.0 + x + 0.5 * x**2)\n",
    "            mass_0 = 8.0 * np.pi * Rb**3 * rho_0    \n",
    "            vel = np.sqrt((G * mass_0 * Msun * F) / (r[i] * 3.086e16))\n",
    "        Vb[i] = vel / 1000.0\n",
    "    return Vb"
   ]
  },
  {
   "cell_type": "code",
   "execution_count": 53,
   "metadata": {},
   "outputs": [
    {
     "data": {
      "text/plain": [
       "Text(0.5, 1.0, 'MW Bulge [exponential bulge]')"
      ]
     },
     "execution_count": 53,
     "metadata": {},
     "output_type": "execute_result"
    },
    {
     "data": {
      "image/png": "[encoded data removed]",
      "text/plain": [
       "<Figure size 720x360 with 1 Axes>"
      ]
     },
     "metadata": {
      "needs_background": "light"
     },
     "output_type": "display_data"
    }
   ],
   "source": [
    "plt.figure(figsize=(10,5))\n",
    "plt.plot(r,exp_bulge(r*1000,1.12,500))\n",
    "plt.xlabel('$r [kpc]$')\n",
    "plt.ylabel('$V_{cir}$ [km/s]')\n",
    "plt.title('MW Bulge [exponential bulge]')"
   ]
  },
  {
   "cell_type": "markdown",
   "metadata": {},
   "source": [
    "# Exponential Disk Profile\n",
    "\n",
    "(Sofue 2013 eqn 33)\n",
    "\n",
    "$$V^2_d(r) = 4\\pi G\\Sigma_{0}R_dy^2[I_0(y)K_0(y) - I_1(y)K_1(y)]$$\n",
    "\n",
    "where $y = \\frac{r}{2R_d}$"
   ]
  },
  {
   "cell_type": "code",
   "execution_count": 24,
   "metadata": {},
   "outputs": [],
   "source": [
    "def disk_vel(r, SigD, Rd):\n",
    "    '''\n",
    "    :param SigD: Central surface density for the disk [M_sol/pc^2]\n",
    "    :param Rd: The scale radius of the disk [pc]\n",
    "    :r: The distance from the centre [pc]\n",
    "    :return: The rotational velocity of the disk [km/s]\n",
    "    '''\n",
    "    # SigD, Rd = params\n",
    "\n",
    "    y = r / (2 * Rd)\n",
    "\n",
    "    bessel_component = (iv(0, y) * kn(0, y) - iv(1, y) * kn(1, y))\n",
    "    vel2 = (4 * np.pi * G * SigD * y ** 2 * (Rd / (3.086e16)) * Msun) * bessel_component\n",
    "\n",
    "    return np.sqrt(vel2) / 1000"
   ]
  },
  {
   "cell_type": "code",
   "execution_count": 25,
   "metadata": {},
   "outputs": [
    {
     "data": {
      "text/plain": [
       "64961852890.92974"
      ]
     },
     "execution_count": 25,
     "metadata": {},
     "output_type": "execute_result"
    }
   ],
   "source": [
    "Mdt = 2*np.pi*(8.44e2)*(3.5e3)**2\n",
    "Mdt"
   ]
  },
  {
   "cell_type": "markdown",
   "metadata": {},
   "source": [
    "Agrees with Sofue 2013, $M_d = 6.5 \\times 10^{10} M_{\\odot}$"
   ]
  },
  {
   "cell_type": "code",
   "execution_count": 26,
   "metadata": {},
   "outputs": [
    {
     "data": {
      "text/plain": [
       "Text(0.5, 1.0, 'MW Disk')"
      ]
     },
     "execution_count": 26,
     "metadata": {},
     "output_type": "execute_result"
    },
    {
     "data": {
      "image/png": "[encoded data removed]",
      "text/plain": [
       "<Figure size 720x360 with 1 Axes>"
      ]
     },
     "metadata": {
      "needs_background": "light"
     },
     "output_type": "display_data"
    }
   ],
   "source": [
    "plt.figure(figsize=(10,5))\n",
    "plt.plot(r, disk_vel(r*1000,8.44e2,3500))\n",
    "plt.xlabel('R [kpc]')\n",
    "plt.ylabel('$V_{cir}$ [km/s]')\n",
    "plt.title('MW Disk')"
   ]
  },
  {
   "cell_type": "markdown",
   "metadata": {},
   "source": [
    "The velocity curve is higher than what is presented in Sofue 2013 (Figure 20 [middle])"
   ]
  },
  {
   "cell_type": "markdown",
   "metadata": {},
   "source": [
    "# Simplified Isothermal Halo Model\n",
    "\n",
    "(Sofue 2013, eqn 51 & 52)\n",
    "\n",
    "$$V_h = V_{\\infty}\\sqrt{1 - (\\frac{R_h}{r}){tan}^{-1}(\\frac{r}{R_h})}$$\n",
    "\n",
    "where $V_{\\infty} = \\sqrt{4\\pi G \\rho_{0} R^2_h}$"
   ]
  },
  {
   "cell_type": "code",
   "execution_count": 27,
   "metadata": {},
   "outputs": [
    {
     "data": {
      "text/plain": [
       "199.2433329270944"
      ]
     },
     "execution_count": 27,
     "metadata": {},
     "output_type": "execute_result"
    }
   ],
   "source": [
    "v_inf = np.sqrt((4 * np.pi * G * 5.1e-3 * (Msun) * 12e3 ** 2) / (3.086e16))/1000 \n",
    "v_inf"
   ]
  },
  {
   "cell_type": "markdown",
   "metadata": {},
   "source": [
    "Sofue 2013 has $V_{\\infty} = 200\\text{km/s}$"
   ]
  },
  {
   "cell_type": "code",
   "execution_count": 28,
   "metadata": {},
   "outputs": [],
   "source": [
    "def rho0_iso(Vinf, Rh):\n",
    "    '''\n",
    "    parameters:\n",
    "    Vinf (rotational velocity): The rotational velocity when r approaches infinity (km/s)\n",
    "    Rh (scale radius): The scale radius of the dark matter halo [pc]\n",
    "\n",
    "    return: volume density of the isothermal halo (g/pc^3)\n",
    "    '''\n",
    "    return 0.740 * (Vinf / 200) **2 * (Rh/1000) ** (-2)\n",
    "\n",
    "\n",
    "def rho_iso(r, Vinf, Rh):\n",
    "    '''\n",
    "    parameters:\n",
    "    r (radius): The a distance from the centre (pc)\n",
    "    Vinf (rotational velocity): The rotational velocity when r approaches infinity (km/s)\n",
    "    Rh (scale radius): The scale radius of the dark matter halo (pc)\n",
    "\n",
    "    return: volume density of the isothermal halo (g/pc^3)\n",
    "    '''\n",
    "    rho_0 = rho0_iso(Vinf, Rh)\n",
    "    return rho_0 / (1 + (r / Rh) ** 2)\n",
    "\n",
    "\n",
    "def integrand_h_iso(r, Vinf, Rh):\n",
    "    '''\n",
    "    parameters:\n",
    "    r (radius): The a distance from the centre (pc)\n",
    "    Vinf (rotational velocity): The rotational velocity when r approaches infinity (km/s)\n",
    "    Rh (scale radius): The scale radius of the dark matter halo (pc)\n",
    "    return: integrand for getting the mass of the isothermal halo\n",
    "    '''\n",
    "\n",
    "    return 4 * np.pi * (rho_iso(r, Vinf, Rh)) * r ** 2\n",
    "\n",
    "\n",
    "def mass_h_iso(r, Vinf, Rh):\n",
    "    '''\n",
    "    parameters:\n",
    "    r (radius): The a distance from the centre (pc)\n",
    "    e (rotational velocity): The rotational velocity when r approaches infinity (km/s)\n",
    "    f (scale radius): The scale radius of the dark matter halo (pc)\n",
    "\n",
    "    return: mass of the isothermal halo (g)\n",
    "    '''\n",
    "    halo_mass, m_err = inte.quad(integrand_h_iso, 0, r, args=(Vinf, Rh))\n",
    "    return halo_mass\n",
    "\n",
    "\n",
    "def vel_h_iso(r, Vinf, Rh):\n",
    "    '''\n",
    "    parameters:\n",
    "    r (radius): The a distance from the centre (pc)\n",
    "    Vinf (rotational velocity): The rotational velocity when r approaches infinity (km/s)\n",
    "    Rh (scale radius): The scale radius of the dark matter halo (pc)\n",
    "\n",
    "    return: rotational velocity of the isothermal halo (pc/s)\n",
    "    '''\n",
    "    if isinstance(r, float):\n",
    "        halo_mass = mass_h_iso(r, Vinf, Rh)\n",
    "    else:\n",
    "        halo_mass = np.zeros(len(r))\n",
    "        for i in range(len(r)):\n",
    "            halo_mass[i] = mass_h_iso(r[i], Vinf, Rh)\n",
    "\n",
    "    vel2 = G * (halo_mass * Msun) / (r * 3.08E16)\n",
    "\n",
    "    return np.sqrt(vel2)/1000"
   ]
  },
  {
   "cell_type": "code",
   "execution_count": 29,
   "metadata": {},
   "outputs": [],
   "source": [
    "####################################################################################\n",
    "def halo_vel_iso(r, rho0_h, Rh):\n",
    "    '''\n",
    "    :param r: The a distance from the centre (pc)\n",
    "    :param rho_iso: The central density of the halo (M_sol/pc^3)\n",
    "    :param Rh: The scale radius of the dark matter halo (pc)\n",
    "    :return: rotational velocity\n",
    "    '''\n",
    "    v_inf = np.sqrt((4 * np.pi * G * rho0_h * (Msun) * Rh ** 2) / (3.086e16))/1000 #km/s\n",
    "    if isinstance(r,float):\n",
    "        # the part in the square root would be unitless\n",
    "        vel = v_inf * np.sqrt(1 - ((Rh/r)*np.arctan2(r,Rh)))\n",
    "    else:\n",
    "        vel = np.zeros(len(r))\n",
    "        for i in range(len(r)):\n",
    "            vel[i] = v_inf * np.sqrt(1 - ((Rh/r[i])*np.arctan2(r[i],Rh)))\n",
    "    return vel\n",
    "\n",
    "#####################################################################################"
   ]
  },
  {
   "cell_type": "code",
   "execution_count": 30,
   "metadata": {},
   "outputs": [
    {
     "data": {
      "text/plain": [
       "Text(0.5, 1.0, 'MW Halo (Isothermal)')"
      ]
     },
     "execution_count": 30,
     "metadata": {},
     "output_type": "execute_result"
    },
    {
     "data": {
      "image/png": "[encoded data removed]",
      "text/plain": [
       "<Figure size 432x288 with 1 Axes>"
      ]
     },
     "metadata": {
      "needs_background": "light"
     },
     "output_type": "display_data"
    }
   ],
   "source": [
    "plt.plot(r,halo_vel_iso(r*1000,5.1e-3,12000),label='iso halo')\n",
    "plt.xlabel('R [kpc]')\n",
    "plt.ylabel('$V_{cir}$ [km/s]')\n",
    "plt.title('MW Halo (Isothermal)')"
   ]
  },
  {
   "cell_type": "markdown",
   "metadata": {},
   "source": [
    "# NFW Halo Model\n",
    "\n",
    "(Sofue 2013, eqn 55, 54 & 57)\n",
    "\n",
    "$$\\rho_{NFW}(r) = \\frac{\\rho_{NFW}^{0}}{(r/R_h)(1+(r/R_h)^2)}$$\n",
    "\n",
    "$$M_h(R) = 4\\pi\\int^{R}_0 \\rho_{NFW}(r)r^2dr$$\n",
    "\n",
    "$$V_h(R) = \\sqrt{\\frac{GM_h(R)}{R}}$$"
   ]
  },
  {
   "cell_type": "code",
   "execution_count": 31,
   "metadata": {},
   "outputs": [],
   "source": [
    "def rho_NFW(r, rho0_h, Rh):\n",
    "    '''\n",
    "    parameters:\n",
    "    r (radius): The a distance from the centre (pc)\n",
    "    rho0_h (central density): The central density of the halo (M_sol/pc^3)\n",
    "    Rh (scale radius): The scale radius of the dark matter halo (pc)\n",
    "\n",
    "    return: volume density of the isothermal halo (M/pc^3)\n",
    "    '''\n",
    "    return rho0_h / ((r / Rh) * ((1 + (r / Rh)) ** 2))\n",
    "\n",
    "\n",
    "def integrand_h_NFW(r, rho0_h, Rh):\n",
    "    '''\n",
    "    parameters:\n",
    "    r (radius): The a distance from the centre (pc)\n",
    "    rho0_h (central density): The central density of the halo (M_sol/pc^3)\n",
    "    Rh (scale radius): The scale radius of the dark matter halo (pc)\n",
    "\n",
    "    return: integrand for getting the mass of the isothermal halo\n",
    "    '''\n",
    "\n",
    "    return 4 * np.pi * (rho_NFW(r, rho0_h, Rh)) * r ** 2\n",
    "\n",
    "\n",
    "def mass_h_NFW(r, rho0_h, Rh):\n",
    "    '''\n",
    "    parameters:\n",
    "    r (radius): The a distance from the centre (pc)\n",
    "    rho0_h (central density): The central density of the halo (M_sol/pc^3)\n",
    "    Rh (scale radius): The scale radius of the dark matter halo (pc)\n",
    "\n",
    "    return: mass of the isothermal halo (g)\n",
    "    '''\n",
    "    halo_mass, m_err = inte.quad(integrand_h_NFW, 0, r, args=(rho0_h, Rh))\n",
    "    return halo_mass\n",
    "\n",
    "\n",
    "def vel_h_NFW(r, rho0_h, Rh):\n",
    "    '''\n",
    "    parameters:\n",
    "    r (radius): The a distance from the centre (pc)\n",
    "    rho0_h (central density): The central density of the halo (M_sol/pc^3)\n",
    "    Rh (scale radius): The scale radius of the dark matter halo (pc)\n",
    "\n",
    "    return: rotational velocity of the NFW halo (pc/s)\n",
    "    '''\n",
    "    if isinstance(r, float):\n",
    "        halo_mass = mass_h_NFW(r, rho0_h, Rh)\n",
    "    else:\n",
    "        halo_mass = np.zeros(len(r))\n",
    "        for i in range(len(r)):\n",
    "            halo_mass[i] = mass_h_NFW(r[i], rho0_h, Rh)\n",
    "\n",
    "    vel2 = G * (halo_mass * Msun) / (r * 3.08E16)\n",
    "\n",
    "    return np.sqrt(vel2)/1000"
   ]
  },
  {
   "cell_type": "code",
   "execution_count": 32,
   "metadata": {},
   "outputs": [],
   "source": [
    "def halo_vel_NFW(r, rho0_h, Rh):\n",
    "    if isinstance(r, float):\n",
    "        halo_mass = 4*np.pi*rho0_h*Rh**3*((-r/(Rh+r)) + np.log(Rh + r) - np.log(Rh))\n",
    "    else:\n",
    "        halo_mass = np.zeros(len(r))\n",
    "        for i in range(len(r)):\n",
    "            halo_mass[i] = 4*np.pi*rho0_h*Rh**3*((-r[i]/(Rh+r[i])) + np.log(Rh + r[i]) - np.log(Rh))\n",
    "    vel2 = G * (halo_mass * Msun) / (r * 3.086e16)\n",
    "    return np.sqrt(vel2)/1000"
   ]
  },
  {
   "cell_type": "code",
   "execution_count": 33,
   "metadata": {},
   "outputs": [
    {
     "data": {
      "image/png": "[encoded data removed]",
      "text/plain": [
       "<Figure size 432x288 with 1 Axes>"
      ]
     },
     "metadata": {
      "needs_background": "light"
     },
     "output_type": "display_data"
    },
    {
     "data": {
      "text/plain": [
       "[<matplotlib.lines.Line2D at 0x7fe01ce43730>]"
      ]
     },
     "execution_count": 33,
     "metadata": {},
     "output_type": "execute_result"
    },
    {
     "data": {
      "image/png": "[encoded data removed]",
      "text/plain": [
       "<Figure size 432x288 with 1 Axes>"
      ]
     },
     "metadata": {
      "needs_background": "light"
     },
     "output_type": "display_data"
    }
   ],
   "source": [
    "plt.plot(r,vel_h_NFW(r*1000,5.1e-3,15000),label='nfw halo')\n",
    "plt.show()\n",
    "plt.plot(r,halo_vel_NFW(r*1000,5.1e-3,15000),label='nfw halo')"
   ]
  },
  {
   "cell_type": "markdown",
   "metadata": {},
   "source": [
    "Generated using the same parameter values as the Isothermal halo. We can see that the velocity is a lot lower than what is presented in Sofue 2013"
   ]
  },
  {
   "cell_type": "markdown",
   "metadata": {},
   "source": [
    "# Burket Halo Model \n",
    "\n",
    "(Sofue 2013, eqn 56, 54, & 57)\n",
    "\n",
    "$$\\rho_{Bur}(r) = \\frac{\\rho_{Bur}^{0}}{(1+(r/R_h))(1+(r/R_h)^2)}$$\n",
    "\n",
    "$$M_h(R) = 4\\pi\\int^{R}_0 \\rho_{bur}(r)r^2dr$$\n",
    "\n",
    "$$V_h(R) = \\sqrt{\\frac{GM_h(R)}{R}}$$"
   ]
  },
  {
   "cell_type": "code",
   "execution_count": 34,
   "metadata": {},
   "outputs": [],
   "source": [
    "def rho_Burket(r, rho0_h, Rh):\n",
    "    '''\n",
    "    :param r: The distance from the centre (pc)\n",
    "    :param rho0_h: The central density of the halo (M_sol/pc^3)\n",
    "    :param Rh: The scale radius of the dark matter halo (pc)\n",
    "    :return: volume density of the isothermal halo (M/pc^3)\n",
    "    '''\n",
    "    return (rho0_h) / ((1 + (r/Rh)) * (1 + (r/Rh) ** 2))\n",
    "\n",
    "\n",
    "def integrand_h_Burket(r, rho0_h, Rh):\n",
    "    '''\n",
    "    :param r: The a distance from the centre (pc)\n",
    "    :param rho0_h: The central density of the halo (M_sol/pc^3)\n",
    "    :param Rh: The scale radius of the dark matter halo (pc)\n",
    "    :return: integrand for getting the mass of the isothermal halo\n",
    "    '''\n",
    "    return 4 * np.pi * (rho_Burket(r, rho0_h, Rh)) * r ** 2\n",
    "\n",
    "\n",
    "def mass_h_Burket(r, rho0_h, Rh):\n",
    "    '''\n",
    "    :param r: The a distance from the centre (pc)\n",
    "    :param rho0_h: The central density of the halo (M_sol/pc^3)\n",
    "    :param Rh: The scale radius of the dark matter halo (pc)\n",
    "    :return: mass of the isothermal halo (g)\n",
    "    '''\n",
    "    halo_mass, m_err = inte.quad(integrand_h_Burket, 0, r, args=(rho0_h, Rh))\n",
    "    return halo_mass\n",
    "\n",
    "\n",
    "def vel_h_Burket(r, rho0_h, Rh):\n",
    "    '''\n",
    "    r (radius): The a distance from the centre [pc]\n",
    "    rho0_h (central density): The central density of the halo [M_sol/pc^3]\n",
    "    Rh (scale radius): The scale radius of the dark matter halo [pc]\n",
    "    :return: rotational velocity of the Burket halo [km/s]\n",
    "    '''\n",
    "    if isinstance(r, float):\n",
    "        halo_mass = mass_h_Burket(r, rho0_h, Rh)\n",
    "    else:\n",
    "        halo_mass = np.zeros(len(r))\n",
    "        for i in range(len(r)):\n",
    "            halo_mass[i] = mass_h_Burket(r[i], rho0_h, Rh)\n",
    "\n",
    "    vel2 = G * (halo_mass * Msun) / (r * 3.08E16)\n",
    "\n",
    "    return np.sqrt(vel2)/1000"
   ]
  },
  {
   "cell_type": "code",
   "execution_count": 35,
   "metadata": {},
   "outputs": [],
   "source": [
    "def halo_vel_bur(r,rho0_h, Rh):\n",
    "    if isinstance(r, float):\n",
    "        halo_mass = np.pi * (-rho0_h) * (Rh**3) * (-np.log(Rh**2 + r**2) - 2*np.log(Rh + r) + 2*np.arctan2(r, Rh) + np.log(Rh**2)\\\n",
    "                                               + 2*np.log(Rh) - 2*np.arctan2(0, Rh))\n",
    "    else:\n",
    "        halo_mass = np.zeros(len(r))\n",
    "        for i in range(len(r)):\n",
    "            halo_mass[i] = np.pi * (-rho0_h) * (Rh**3) * (-np.log(Rh**2 + r[i]**2) - 2*np.log(Rh + r[i]) + 2*np.arctan2(r[i], Rh) + np.log(Rh**2)\\\n",
    "                                               + 2*np.log(Rh) - 2*np.arctan2(0, Rh))\n",
    "    vel2 = G * (halo_mass * Msun) / (r * 3.086e16)\n",
    "    return np.sqrt(vel2)/1000"
   ]
  },
  {
   "cell_type": "code",
   "execution_count": 36,
   "metadata": {},
   "outputs": [
    {
     "data": {
      "image/png": "[encoded data removed]",
      "text/plain": [
       "<Figure size 432x288 with 1 Axes>"
      ]
     },
     "metadata": {
      "needs_background": "light"
     },
     "output_type": "display_data"
    },
    {
     "data": {
      "text/plain": [
       "[<matplotlib.lines.Line2D at 0x7fe01ca64700>]"
      ]
     },
     "execution_count": 36,
     "metadata": {},
     "output_type": "execute_result"
    },
    {
     "data": {
      "image/png": "[encoded data removed]",
      "text/plain": [
       "<Figure size 432x288 with 1 Axes>"
      ]
     },
     "metadata": {
      "needs_background": "light"
     },
     "output_type": "display_data"
    }
   ],
   "source": [
    "plt.plot(r,vel_h_Burket(r*1000,5.1e-3,15000),label='bur halo')\n",
    "plt.show()\n",
    "plt.plot(r,halo_vel_bur(r*1000,5.1e-3,15000),label='bur halo')"
   ]
  },
  {
   "cell_type": "markdown",
   "metadata": {},
   "source": [
    "Generated using the same parameter values as the Isothermal halo. We can see that the velocity is a lot lower than what is presented in Sofue 2013"
   ]
  },
  {
   "cell_type": "code",
   "execution_count": 37,
   "metadata": {},
   "outputs": [
    {
     "data": {
      "text/plain": [
       "<matplotlib.legend.Legend at 0x7fe01d23afd0>"
      ]
     },
     "execution_count": 37,
     "metadata": {},
     "output_type": "execute_result"
    },
    {
     "data": {
      "image/png": "[encoded data removed]",
      "text/plain": [
       "<Figure size 720x360 with 1 Axes>"
      ]
     },
     "metadata": {
      "needs_background": "light"
     },
     "output_type": "display_data"
    }
   ],
   "source": [
    "plt.figure(figsize=(10,5))\n",
    "plt.plot(r,halo_vel_iso(r*1000,5.1e-3,12000),label='iso halo')\n",
    "plt.plot(r,halo_vel_NFW(r*1000,5.1e-3,12000),label='NFW halo')\n",
    "plt.plot(r,halo_vel_bur(r*1000,5.1e-3,12000),label='bur halo')\n",
    "plt.xlabel('R [kpc]')\n",
    "plt.ylabel('$V_{cir}$ [km/s]')\n",
    "plt.title('MW Halo')\n",
    "plt.legend()"
   ]
  },
  {
   "cell_type": "markdown",
   "metadata": {},
   "source": [
    "# Putting everything together"
   ]
  },
  {
   "cell_type": "code",
   "execution_count": 57,
   "metadata": {},
   "outputs": [],
   "source": [
    "\n",
    "\n",
    "def vel_tot_iso(r, params):\n",
    "    log_rhob0,Rb, SigD, Rd, rho0_h, Rh = params\n",
    "\n",
    "    r_pc = r * 1000\n",
    "    Rb_pc = Rb * 1000\n",
    "    Rd_pc = Rd * 1000\n",
    "    Rh_pc = Rh * 1000\n",
    "\n",
    "    Vbulge = exp_bulge(r_pc,log_rhob0,Rb_pc)\n",
    "    Vdisk = disk_vel(r_pc, SigD, Rd_pc)\n",
    "    Vhalo = halo_vel_iso(r_pc, rho0_h, Rh_pc)\n",
    "    v2 = Vbulge ** 2 + Vdisk ** 2 + Vhalo ** 2\n",
    "\n",
    "    return np.sqrt(v2)\n",
    "\n",
    "#------------------------------------------------------------------------------------\n",
    "# NFW\n",
    "def vel_tot_NFW(r, params):\n",
    "    A, Vin, SigD, Rd, rho0_h, Rh = params\n",
    "\n",
    "    r_pc = r * 1000\n",
    "    \n",
    "    Rd_pc = Rd * 1000\n",
    "    Rh_pc = Rh * 1000\n",
    "\n",
    "    Vbulge = bulge_vel_mod(r_pc, A, Vin, Rd_pc)\n",
    "    Vdisk = disk_vel(r_pc, SigD, Rd_pc)\n",
    "    Vhalo = halo_vel_NFW(r_pc, rho0_h, Rh_pc)\n",
    "    v2 = Vbulge ** 2 + Vdisk ** 2 + Vhalo ** 2\n",
    "\n",
    "    return np.sqrt(v2)\n",
    "#------------------------------------------------------------------------------------\n",
    "# Burket\n",
    "def vel_tot_bur(r, params):\n",
    "    A, Vin, SigD, Rd, rho0_h, Rh = params\n",
    "\n",
    "    r_pc = r * 1000\n",
    "    Rd_pc = Rd * 1000\n",
    "    Rh_pc = Rh * 1000\n",
    "\n",
    "    Vbulge = bulge_vel_mod(r_pc, A, Vin, Rd_pc)\n",
    "    Vdisk = disk_vel(r_pc, SigD, Rd_pc)\n",
    "    Vhalo = halo_vel_bur(r_pc, rho0_h, Rh_pc)\n",
    "    v2 = Vbulge ** 2 + Vdisk ** 2 + Vhalo ** 2\n",
    "\n",
    "    return np.sqrt(v2)"
   ]
  },
  {
   "cell_type": "code",
   "execution_count": 58,
   "metadata": {},
   "outputs": [
    {
     "ename": "NameError",
     "evalue": "name 'bulge_vel_mod' is not defined",
     "output_type": "error",
     "traceback": [
      "\u001b[0;31m---------------------------------------------------------------------------\u001b[0m",
      "\u001b[0;31mNameError\u001b[0m                                 Traceback (most recent call last)",
      "\u001b[0;32m<ipython-input-58-434948051839>\u001b[0m in \u001b[0;36m<module>\u001b[0;34m\u001b[0m\n\u001b[0;32m----> 1\u001b[0;31m \u001b[0mplt\u001b[0m\u001b[0;34m.\u001b[0m\u001b[0mplot\u001b[0m\u001b[0;34m(\u001b[0m\u001b[0mr\u001b[0m\u001b[0;34m,\u001b[0m\u001b[0mbulge_vel_mod\u001b[0m\u001b[0;34m(\u001b[0m\u001b[0mr\u001b[0m\u001b[0;34m*\u001b[0m\u001b[0;36m1000\u001b[0m\u001b[0;34m,\u001b[0m\u001b[0;36m1\u001b[0m\u001b[0;34m,\u001b[0m\u001b[0;36m270\u001b[0m\u001b[0;34m,\u001b[0m\u001b[0;36m3500\u001b[0m\u001b[0;34m)\u001b[0m\u001b[0;34m,\u001b[0m\u001b[0;34m'--'\u001b[0m\u001b[0;34m,\u001b[0m\u001b[0mlabel\u001b[0m\u001b[0;34m=\u001b[0m\u001b[0;34m'bulge'\u001b[0m\u001b[0;34m)\u001b[0m\u001b[0;34m\u001b[0m\u001b[0;34m\u001b[0m\u001b[0m\n\u001b[0m\u001b[1;32m      2\u001b[0m \u001b[0mplt\u001b[0m\u001b[0;34m.\u001b[0m\u001b[0mplot\u001b[0m\u001b[0;34m(\u001b[0m\u001b[0mr\u001b[0m\u001b[0;34m,\u001b[0m \u001b[0mdisk_vel\u001b[0m\u001b[0;34m(\u001b[0m\u001b[0mr\u001b[0m\u001b[0;34m*\u001b[0m\u001b[0;36m1000\u001b[0m\u001b[0;34m,\u001b[0m\u001b[0;36m8.44e2\u001b[0m\u001b[0;34m,\u001b[0m\u001b[0;36m3500\u001b[0m\u001b[0;34m)\u001b[0m\u001b[0;34m,\u001b[0m\u001b[0;34m':'\u001b[0m\u001b[0;34m,\u001b[0m\u001b[0mlabel\u001b[0m\u001b[0;34m=\u001b[0m\u001b[0;34m'disk'\u001b[0m\u001b[0;34m)\u001b[0m\u001b[0;34m\u001b[0m\u001b[0;34m\u001b[0m\u001b[0m\n\u001b[1;32m      3\u001b[0m \u001b[0mplt\u001b[0m\u001b[0;34m.\u001b[0m\u001b[0mplot\u001b[0m\u001b[0;34m(\u001b[0m\u001b[0mr\u001b[0m\u001b[0;34m,\u001b[0m\u001b[0mvel_h_iso\u001b[0m\u001b[0;34m(\u001b[0m\u001b[0mr\u001b[0m\u001b[0;34m*\u001b[0m\u001b[0;36m1000\u001b[0m\u001b[0;34m,\u001b[0m\u001b[0;36m200\u001b[0m\u001b[0;34m,\u001b[0m\u001b[0;36m5500\u001b[0m\u001b[0;34m)\u001b[0m\u001b[0;34m,\u001b[0m\u001b[0mlabel\u001b[0m\u001b[0;34m=\u001b[0m\u001b[0;34m'iso halo'\u001b[0m\u001b[0;34m)\u001b[0m\u001b[0;34m\u001b[0m\u001b[0;34m\u001b[0m\u001b[0m\n\u001b[1;32m      4\u001b[0m \u001b[0mplt\u001b[0m\u001b[0;34m.\u001b[0m\u001b[0mplot\u001b[0m\u001b[0;34m(\u001b[0m\u001b[0mr\u001b[0m\u001b[0;34m,\u001b[0m\u001b[0mvel_tot_iso\u001b[0m\u001b[0;34m(\u001b[0m\u001b[0mr\u001b[0m\u001b[0;34m,\u001b[0m\u001b[0;34m[\u001b[0m\u001b[0;36m1\u001b[0m\u001b[0;34m,\u001b[0m\u001b[0;36m270\u001b[0m\u001b[0;34m,\u001b[0m\u001b[0;36m8.44e2\u001b[0m\u001b[0;34m,\u001b[0m\u001b[0;36m3.5\u001b[0m\u001b[0;34m,\u001b[0m\u001b[0;36m200\u001b[0m\u001b[0;34m,\u001b[0m\u001b[0;36m5.5\u001b[0m\u001b[0;34m]\u001b[0m\u001b[0;34m)\u001b[0m\u001b[0;34m,\u001b[0m\u001b[0mlabel\u001b[0m\u001b[0;34m=\u001b[0m\u001b[0;34m'iso tot'\u001b[0m\u001b[0;34m)\u001b[0m\u001b[0;34m\u001b[0m\u001b[0;34m\u001b[0m\u001b[0m\n\u001b[1;32m      5\u001b[0m \u001b[0mplt\u001b[0m\u001b[0;34m.\u001b[0m\u001b[0mlegend\u001b[0m\u001b[0;34m(\u001b[0m\u001b[0mbbox_to_anchor\u001b[0m\u001b[0;34m=\u001b[0m\u001b[0;34m(\u001b[0m\u001b[0;36m1.05\u001b[0m\u001b[0;34m,\u001b[0m \u001b[0;36m1\u001b[0m\u001b[0;34m)\u001b[0m\u001b[0;34m,\u001b[0m \u001b[0mloc\u001b[0m\u001b[0;34m=\u001b[0m\u001b[0;34m'upper left'\u001b[0m\u001b[0;34m,\u001b[0m \u001b[0mborderaxespad\u001b[0m\u001b[0;34m=\u001b[0m\u001b[0;36m0.\u001b[0m\u001b[0;34m)\u001b[0m\u001b[0;34m\u001b[0m\u001b[0;34m\u001b[0m\u001b[0m\n",
      "\u001b[0;31mNameError\u001b[0m: name 'bulge_vel_mod' is not defined"
     ]
    }
   ],
   "source": [
    "plt.plot(r,bulge_vel_mod(r*1000,1,270,3500),'--',label='bulge')\n",
    "plt.plot(r, disk_vel(r*1000,8.44e2,3500),':',label='disk')\n",
    "plt.plot(r,vel_h_iso(r*1000,200,5500),label='iso halo')\n",
    "plt.plot(r,vel_tot_iso(r,[1,270,8.44e2,3.5,200,5.5]),label='iso tot')\n",
    "plt.legend(bbox_to_anchor=(1.05, 1), loc='upper left', borderaxespad=0.)\n",
    "plt.xlabel('r [kpc]')\n",
    "plt.ylabel('$v_{cir}$ [km/s]')\n",
    "plt.title('Recreating Rotation curve of the Milky Way')"
   ]
  },
  {
   "cell_type": "code",
   "execution_count": 59,
   "metadata": {},
   "outputs": [
    {
     "ename": "NameError",
     "evalue": "name 'bulge_vel_mod' is not defined",
     "output_type": "error",
     "traceback": [
      "\u001b[0;31m---------------------------------------------------------------------------\u001b[0m",
      "\u001b[0;31mNameError\u001b[0m                                 Traceback (most recent call last)",
      "\u001b[0;32m<ipython-input-59-78f114d2b9f9>\u001b[0m in \u001b[0;36m<module>\u001b[0;34m\u001b[0m\n\u001b[0;32m----> 1\u001b[0;31m \u001b[0mplt\u001b[0m\u001b[0;34m.\u001b[0m\u001b[0mplot\u001b[0m\u001b[0;34m(\u001b[0m\u001b[0mr\u001b[0m\u001b[0;34m,\u001b[0m\u001b[0mbulge_vel_mod\u001b[0m\u001b[0;34m(\u001b[0m\u001b[0mr\u001b[0m\u001b[0;34m*\u001b[0m\u001b[0;36m1000\u001b[0m\u001b[0;34m,\u001b[0m\u001b[0;36m1\u001b[0m\u001b[0;34m,\u001b[0m\u001b[0;36m270\u001b[0m\u001b[0;34m,\u001b[0m\u001b[0;36m3500\u001b[0m\u001b[0;34m)\u001b[0m\u001b[0;34m,\u001b[0m\u001b[0;34m'--'\u001b[0m\u001b[0;34m,\u001b[0m\u001b[0mlabel\u001b[0m\u001b[0;34m=\u001b[0m\u001b[0;34m'bulge'\u001b[0m\u001b[0;34m)\u001b[0m\u001b[0;34m\u001b[0m\u001b[0;34m\u001b[0m\u001b[0m\n\u001b[0m\u001b[1;32m      2\u001b[0m \u001b[0mplt\u001b[0m\u001b[0;34m.\u001b[0m\u001b[0mplot\u001b[0m\u001b[0;34m(\u001b[0m\u001b[0mr\u001b[0m\u001b[0;34m,\u001b[0m \u001b[0mdisk_vel\u001b[0m\u001b[0;34m(\u001b[0m\u001b[0mr\u001b[0m\u001b[0;34m*\u001b[0m\u001b[0;36m1000\u001b[0m\u001b[0;34m,\u001b[0m\u001b[0;36m8.44e2\u001b[0m\u001b[0;34m,\u001b[0m\u001b[0;36m3500\u001b[0m\u001b[0;34m)\u001b[0m\u001b[0;34m,\u001b[0m\u001b[0;34m':'\u001b[0m\u001b[0;34m,\u001b[0m\u001b[0mlabel\u001b[0m\u001b[0;34m=\u001b[0m\u001b[0;34m'disk'\u001b[0m\u001b[0;34m)\u001b[0m\u001b[0;34m\u001b[0m\u001b[0;34m\u001b[0m\u001b[0m\n\u001b[1;32m      3\u001b[0m \u001b[0mplt\u001b[0m\u001b[0;34m.\u001b[0m\u001b[0mplot\u001b[0m\u001b[0;34m(\u001b[0m\u001b[0mr\u001b[0m\u001b[0;34m,\u001b[0m\u001b[0mhalo_vel_iso\u001b[0m\u001b[0;34m(\u001b[0m\u001b[0mr\u001b[0m\u001b[0;34m*\u001b[0m\u001b[0;36m1000\u001b[0m\u001b[0;34m,\u001b[0m\u001b[0;36m5.1e-3\u001b[0m\u001b[0;34m,\u001b[0m\u001b[0;36m12000\u001b[0m\u001b[0;34m)\u001b[0m\u001b[0;34m,\u001b[0m\u001b[0mlabel\u001b[0m\u001b[0;34m=\u001b[0m\u001b[0;34m'iso halo'\u001b[0m\u001b[0;34m)\u001b[0m\u001b[0;34m\u001b[0m\u001b[0;34m\u001b[0m\u001b[0m\n\u001b[1;32m      4\u001b[0m \u001b[0mplt\u001b[0m\u001b[0;34m.\u001b[0m\u001b[0mplot\u001b[0m\u001b[0;34m(\u001b[0m\u001b[0mr\u001b[0m\u001b[0;34m,\u001b[0m\u001b[0mvel_tot_iso_alt\u001b[0m\u001b[0;34m(\u001b[0m\u001b[0mr\u001b[0m\u001b[0;34m,\u001b[0m\u001b[0;34m[\u001b[0m\u001b[0;36m1\u001b[0m\u001b[0;34m,\u001b[0m\u001b[0;36m270\u001b[0m\u001b[0;34m,\u001b[0m\u001b[0;36m8.44e2\u001b[0m\u001b[0;34m,\u001b[0m\u001b[0;36m3.5\u001b[0m\u001b[0;34m,\u001b[0m\u001b[0;36m5.1e-3\u001b[0m\u001b[0;34m,\u001b[0m\u001b[0;36m12\u001b[0m\u001b[0;34m]\u001b[0m\u001b[0;34m)\u001b[0m\u001b[0;34m,\u001b[0m\u001b[0mlabel\u001b[0m\u001b[0;34m=\u001b[0m\u001b[0;34m'iso tot'\u001b[0m\u001b[0;34m)\u001b[0m\u001b[0;34m\u001b[0m\u001b[0;34m\u001b[0m\u001b[0m\n\u001b[1;32m      5\u001b[0m \u001b[0mplt\u001b[0m\u001b[0;34m.\u001b[0m\u001b[0mlegend\u001b[0m\u001b[0;34m(\u001b[0m\u001b[0mbbox_to_anchor\u001b[0m\u001b[0;34m=\u001b[0m\u001b[0;34m(\u001b[0m\u001b[0;36m1.05\u001b[0m\u001b[0;34m,\u001b[0m \u001b[0;36m1\u001b[0m\u001b[0;34m)\u001b[0m\u001b[0;34m,\u001b[0m \u001b[0mloc\u001b[0m\u001b[0;34m=\u001b[0m\u001b[0;34m'upper left'\u001b[0m\u001b[0;34m,\u001b[0m \u001b[0mborderaxespad\u001b[0m\u001b[0;34m=\u001b[0m\u001b[0;36m0.\u001b[0m\u001b[0;34m)\u001b[0m\u001b[0;34m\u001b[0m\u001b[0;34m\u001b[0m\u001b[0m\n",
      "\u001b[0;31mNameError\u001b[0m: name 'bulge_vel_mod' is not defined"
     ]
    }
   ],
   "source": [
    "plt.plot(r,bulge_vel_mod(r*1000,1,270,3500),'--',label='bulge')\n",
    "plt.plot(r, disk_vel(r*1000,8.44e2,3500),':',label='disk')\n",
    "plt.plot(r,halo_vel_iso(r*1000,5.1e-3,12000),label='iso halo')\n",
    "plt.plot(r,vel_tot_iso_alt(r,[1,270,8.44e2,3.5,5.1e-3,12]),label='iso tot')\n",
    "plt.legend(bbox_to_anchor=(1.05, 1), loc='upper left', borderaxespad=0.)\n",
    "plt.xlabel('r [kpc]')\n",
    "plt.ylabel('$v_{cir}$ [km/s]')\n",
    "plt.title('Recreating Rotation curve of the Milky Way')"
   ]
  },
  {
   "cell_type": "markdown",
   "metadata": {},
   "source": [
    "# Values of the parameters\n",
    "\n",
    "$$\\alpha_b = 1$$\n",
    "$$V_{in} = 250 \\text{km/s}$$\n",
    "$$\\Sigma_{dc} = 8.44\\times10^2 M_{\\odot}/{pc}^2$$\n",
    "$$R_d = 3.5 \\text{kpc}$$\n",
    "$$\\rho_{hc} = 5.1 \\times 10^{-3} M_{\\odot}/{pc}^3$$\n",
    "$$R_h = 12 \\text{kpc}$$"
   ]
  },
  {
   "cell_type": "code",
   "execution_count": 60,
   "metadata": {},
   "outputs": [
    {
     "ename": "NameError",
     "evalue": "name 'bulge_vel_mod' is not defined",
     "output_type": "error",
     "traceback": [
      "\u001b[0;31m---------------------------------------------------------------------------\u001b[0m",
      "\u001b[0;31mNameError\u001b[0m                                 Traceback (most recent call last)",
      "\u001b[0;32m<ipython-input-60-731a54176bb2>\u001b[0m in \u001b[0;36m<module>\u001b[0;34m\u001b[0m\n\u001b[0;32m----> 1\u001b[0;31m \u001b[0mplt\u001b[0m\u001b[0;34m.\u001b[0m\u001b[0mplot\u001b[0m\u001b[0;34m(\u001b[0m\u001b[0mr\u001b[0m\u001b[0;34m,\u001b[0m\u001b[0mbulge_vel_mod\u001b[0m\u001b[0;34m(\u001b[0m\u001b[0mr\u001b[0m\u001b[0;34m*\u001b[0m\u001b[0;36m1000\u001b[0m\u001b[0;34m,\u001b[0m\u001b[0;36m1\u001b[0m\u001b[0;34m,\u001b[0m\u001b[0;36m270\u001b[0m\u001b[0;34m,\u001b[0m\u001b[0;36m3500\u001b[0m\u001b[0;34m)\u001b[0m\u001b[0;34m,\u001b[0m\u001b[0;34m'--'\u001b[0m\u001b[0;34m,\u001b[0m\u001b[0mlabel\u001b[0m\u001b[0;34m=\u001b[0m\u001b[0;34m'bulge'\u001b[0m\u001b[0;34m)\u001b[0m\u001b[0;34m\u001b[0m\u001b[0;34m\u001b[0m\u001b[0m\n\u001b[0m\u001b[1;32m      2\u001b[0m \u001b[0mplt\u001b[0m\u001b[0;34m.\u001b[0m\u001b[0mplot\u001b[0m\u001b[0;34m(\u001b[0m\u001b[0mr\u001b[0m\u001b[0;34m,\u001b[0m \u001b[0mdisk_vel\u001b[0m\u001b[0;34m(\u001b[0m\u001b[0mr\u001b[0m\u001b[0;34m*\u001b[0m\u001b[0;36m1000\u001b[0m\u001b[0;34m,\u001b[0m\u001b[0;36m8.44e2\u001b[0m\u001b[0;34m,\u001b[0m\u001b[0;36m3500\u001b[0m\u001b[0;34m)\u001b[0m\u001b[0;34m,\u001b[0m\u001b[0;34m':'\u001b[0m\u001b[0;34m,\u001b[0m\u001b[0mlabel\u001b[0m\u001b[0;34m=\u001b[0m\u001b[0;34m'disk'\u001b[0m\u001b[0;34m)\u001b[0m\u001b[0;34m\u001b[0m\u001b[0;34m\u001b[0m\u001b[0m\n\u001b[1;32m      3\u001b[0m \u001b[0mplt\u001b[0m\u001b[0;34m.\u001b[0m\u001b[0mplot\u001b[0m\u001b[0;34m(\u001b[0m\u001b[0mr\u001b[0m\u001b[0;34m,\u001b[0m\u001b[0mvel_h_iso\u001b[0m\u001b[0;34m(\u001b[0m\u001b[0mr\u001b[0m\u001b[0;34m*\u001b[0m\u001b[0;36m1000\u001b[0m\u001b[0;34m,\u001b[0m\u001b[0;36m200\u001b[0m\u001b[0;34m,\u001b[0m\u001b[0;36m5500\u001b[0m\u001b[0;34m)\u001b[0m\u001b[0;34m,\u001b[0m\u001b[0mlabel\u001b[0m\u001b[0;34m=\u001b[0m\u001b[0;34m'iso halo'\u001b[0m\u001b[0;34m)\u001b[0m\u001b[0;34m\u001b[0m\u001b[0;34m\u001b[0m\u001b[0m\n\u001b[1;32m      4\u001b[0m \u001b[0mplt\u001b[0m\u001b[0;34m.\u001b[0m\u001b[0mplot\u001b[0m\u001b[0;34m(\u001b[0m\u001b[0mr\u001b[0m\u001b[0;34m,\u001b[0m\u001b[0mvel_h_NFW\u001b[0m\u001b[0;34m(\u001b[0m\u001b[0mr\u001b[0m\u001b[0;34m*\u001b[0m\u001b[0;36m1000\u001b[0m\u001b[0;34m,\u001b[0m\u001b[0;36m3e-2\u001b[0m\u001b[0;34m,\u001b[0m\u001b[0;36m5500\u001b[0m\u001b[0;34m)\u001b[0m\u001b[0;34m,\u001b[0m\u001b[0mlabel\u001b[0m\u001b[0;34m=\u001b[0m\u001b[0;34m'nfw halo'\u001b[0m\u001b[0;34m)\u001b[0m\u001b[0;34m\u001b[0m\u001b[0;34m\u001b[0m\u001b[0m\n\u001b[1;32m      5\u001b[0m \u001b[0mplt\u001b[0m\u001b[0;34m.\u001b[0m\u001b[0mplot\u001b[0m\u001b[0;34m(\u001b[0m\u001b[0mr\u001b[0m\u001b[0;34m,\u001b[0m\u001b[0mhalo_vel_bur\u001b[0m\u001b[0;34m(\u001b[0m\u001b[0mr\u001b[0m\u001b[0;34m*\u001b[0m\u001b[0;36m1000\u001b[0m\u001b[0;34m,\u001b[0m\u001b[0;36m3e-2\u001b[0m\u001b[0;34m,\u001b[0m\u001b[0;36m5500\u001b[0m\u001b[0;34m)\u001b[0m\u001b[0;34m,\u001b[0m\u001b[0mlabel\u001b[0m\u001b[0;34m=\u001b[0m\u001b[0;34m'bur halo'\u001b[0m\u001b[0;34m)\u001b[0m\u001b[0;34m\u001b[0m\u001b[0;34m\u001b[0m\u001b[0m\n",
      "\u001b[0;31mNameError\u001b[0m: name 'bulge_vel_mod' is not defined"
     ]
    }
   ],
   "source": [
    "plt.plot(r,bulge_vel_mod(r*1000,1,270,3500),'--',label='bulge')\n",
    "plt.plot(r, disk_vel(r*1000,8.44e2,3500),':',label='disk')\n",
    "plt.plot(r,vel_h_iso(r*1000,200,5500),label='iso halo')\n",
    "plt.plot(r,vel_h_NFW(r*1000,3e-2,5500),label='nfw halo')\n",
    "plt.plot(r,halo_vel_bur(r*1000,3e-2,5500),label='bur halo')\n",
    "plt.plot(r,vel_tot_iso(r,[1,250,8.44e2,3.5,200,5.5]),label='iso tot')\n",
    "plt.plot(r,vel_tot_NFW(r,[1,250,8.44e2,3.5,5.1e-3,12]),label='new tot')\n",
    "plt.plot(r,vel_tot_bur(r,[1,250,8.44e2,3.5,5.1e-3,12]),label='bur tot')\n",
    "plt.legend(bbox_to_anchor=(1.05, 1), loc='upper left', borderaxespad=0.)\n",
    "plt.xlabel('r [kpc]')\n",
    "plt.ylabel('$v_{cir}$ [km/s]')\n",
    "plt.title('Recreating Rotation curve of the Milky Way')"
   ]
  },
  {
   "cell_type": "code",
   "execution_count": 61,
   "metadata": {},
   "outputs": [
    {
     "ename": "NameError",
     "evalue": "name 'bulge_vel_mod' is not defined",
     "output_type": "error",
     "traceback": [
      "\u001b[0;31m---------------------------------------------------------------------------\u001b[0m",
      "\u001b[0;31mNameError\u001b[0m                                 Traceback (most recent call last)",
      "\u001b[0;32m<ipython-input-61-c1bdf3c68aa3>\u001b[0m in \u001b[0;36m<module>\u001b[0;34m\u001b[0m\n\u001b[0;32m----> 1\u001b[0;31m \u001b[0mplt\u001b[0m\u001b[0;34m.\u001b[0m\u001b[0mplot\u001b[0m\u001b[0;34m(\u001b[0m\u001b[0mr\u001b[0m\u001b[0;34m,\u001b[0m\u001b[0mbulge_vel_mod\u001b[0m\u001b[0;34m(\u001b[0m\u001b[0mr\u001b[0m\u001b[0;34m*\u001b[0m\u001b[0;36m1000\u001b[0m\u001b[0;34m,\u001b[0m\u001b[0;36m1\u001b[0m\u001b[0;34m,\u001b[0m\u001b[0;36m270\u001b[0m\u001b[0;34m,\u001b[0m\u001b[0;36m3500\u001b[0m\u001b[0;34m)\u001b[0m\u001b[0;34m,\u001b[0m\u001b[0;34m'--'\u001b[0m\u001b[0;34m,\u001b[0m\u001b[0mlabel\u001b[0m\u001b[0;34m=\u001b[0m\u001b[0;34m'bulge'\u001b[0m\u001b[0;34m)\u001b[0m\u001b[0;34m\u001b[0m\u001b[0;34m\u001b[0m\u001b[0m\n\u001b[0m\u001b[1;32m      2\u001b[0m \u001b[0mplt\u001b[0m\u001b[0;34m.\u001b[0m\u001b[0mplot\u001b[0m\u001b[0;34m(\u001b[0m\u001b[0mr\u001b[0m\u001b[0;34m,\u001b[0m \u001b[0mdisk_vel\u001b[0m\u001b[0;34m(\u001b[0m\u001b[0mr\u001b[0m\u001b[0;34m*\u001b[0m\u001b[0;36m1000\u001b[0m\u001b[0;34m,\u001b[0m\u001b[0;36m8.44e2\u001b[0m\u001b[0;34m,\u001b[0m\u001b[0;36m3500\u001b[0m\u001b[0;34m)\u001b[0m\u001b[0;34m,\u001b[0m\u001b[0;34m':'\u001b[0m\u001b[0;34m,\u001b[0m\u001b[0mlabel\u001b[0m\u001b[0;34m=\u001b[0m\u001b[0;34m'disk'\u001b[0m\u001b[0;34m)\u001b[0m\u001b[0;34m\u001b[0m\u001b[0;34m\u001b[0m\u001b[0m\n\u001b[1;32m      3\u001b[0m \u001b[0mplt\u001b[0m\u001b[0;34m.\u001b[0m\u001b[0mplot\u001b[0m\u001b[0;34m(\u001b[0m\u001b[0mr\u001b[0m\u001b[0;34m,\u001b[0m\u001b[0mhalo_vel_iso\u001b[0m\u001b[0;34m(\u001b[0m\u001b[0mr\u001b[0m\u001b[0;34m*\u001b[0m\u001b[0;36m1000\u001b[0m\u001b[0;34m,\u001b[0m\u001b[0;36m5.1e-3\u001b[0m\u001b[0;34m,\u001b[0m\u001b[0;36m12000\u001b[0m\u001b[0;34m)\u001b[0m\u001b[0;34m,\u001b[0m\u001b[0mlabel\u001b[0m\u001b[0;34m=\u001b[0m\u001b[0;34m'iso halo'\u001b[0m\u001b[0;34m)\u001b[0m\u001b[0;34m\u001b[0m\u001b[0;34m\u001b[0m\u001b[0m\n\u001b[1;32m      4\u001b[0m \u001b[0;31m#plt.plot(r,halo_vel_NFW(r*1000,5.1e-3,12000),label='nfw halo')\u001b[0m\u001b[0;34m\u001b[0m\u001b[0;34m\u001b[0m\u001b[0;34m\u001b[0m\u001b[0m\n\u001b[1;32m      5\u001b[0m \u001b[0;31m#plt.plot(r,halo_vel_bur(r*1000,5.1e-3,12000),label='bur halo')\u001b[0m\u001b[0;34m\u001b[0m\u001b[0;34m\u001b[0m\u001b[0;34m\u001b[0m\u001b[0m\n",
      "\u001b[0;31mNameError\u001b[0m: name 'bulge_vel_mod' is not defined"
     ]
    }
   ],
   "source": [
    "plt.plot(r,bulge_vel_mod(r*1000,1,270,3500),'--',label='bulge')\n",
    "plt.plot(r, disk_vel(r*1000,8.44e2,3500),':',label='disk')\n",
    "plt.plot(r,halo_vel_iso(r*1000,5.1e-3,12000),label='iso halo')\n",
    "#plt.plot(r,halo_vel_NFW(r*1000,5.1e-3,12000),label='nfw halo')\n",
    "#plt.plot(r,halo_vel_bur(r*1000,5.1e-3,12000),label='bur halo')\n",
    "plt.plot(r,vel_tot_iso(r,[1,270,8.44e2,3.5,200,5.5]),label='iso tot')\n",
    "#plt.plot(r,vel_tot_NFW(r,[1,250,8.44e2,3.5,5.1e-3,12]),label='new tot')\n",
    "#plt.plot(r,vel_tot_bur(r,[1,250,8.44e2,3.5,5.1e-3,12]),label='bur tot')\n",
    "plt.legend(bbox_to_anchor=(1.05, 1), loc='upper left', borderaxespad=0.)\n",
    "plt.xlabel('r [kpc]')\n",
    "plt.ylabel('$v_{cir}$ [km/s]')\n",
    "plt.xlim(0,20)\n",
    "plt.title('Recreating MW RC')"
   ]
  },
  {
   "cell_type": "markdown",
   "metadata": {},
   "source": [
    "This matches Sofue 2013, Fig. 6"
   ]
  },
  {
   "cell_type": "markdown",
   "metadata": {},
   "source": [
    "# Now Using slightly different parameter values \n",
    "(Obtained by tweaking)"
   ]
  },
  {
   "cell_type": "markdown",
   "metadata": {},
   "source": [
    "$$\\alpha_b = 1$$\n",
    "$$V_{in} = 250 \\text{km/s}$$\n",
    "$$\\Sigma_{dc} = 8.44\\times10^2 M_{\\odot}/{pc}^2$$\n",
    "$$R_d = 3.5 \\text{kpc}$$\n",
    "$$\\rho_{hc, iso} = 7 \\times 10^{-3} M_{\\odot}/{pc}^3$$\n",
    "$$R_{hc, iso} = 16 \\text{kpc}$$\n",
    "$$\\rho_{hc, NFW} = 8 \\times 10^{-3} M_{\\odot}/{pc}^3$$\n",
    "$$R_{hc, NFW} = 16 \\text{kpc}$$\n",
    "$$\\rho_{hc, bur} = 1.2 \\times 10^{-2} M_{\\odot}/{pc}^3$$\n",
    "$$R_{hc,bur} = 16 \\text{kpc}$$"
   ]
  },
  {
   "cell_type": "code",
   "execution_count": 62,
   "metadata": {},
   "outputs": [
    {
     "ename": "NameError",
     "evalue": "name 'bulge_vel_mod' is not defined",
     "output_type": "error",
     "traceback": [
      "\u001b[0;31m---------------------------------------------------------------------------\u001b[0m",
      "\u001b[0;31mNameError\u001b[0m                                 Traceback (most recent call last)",
      "\u001b[0;32m<ipython-input-62-da347b8ef771>\u001b[0m in \u001b[0;36m<module>\u001b[0;34m\u001b[0m\n\u001b[0;32m----> 1\u001b[0;31m \u001b[0mplt\u001b[0m\u001b[0;34m.\u001b[0m\u001b[0mplot\u001b[0m\u001b[0;34m(\u001b[0m\u001b[0mr\u001b[0m\u001b[0;34m,\u001b[0m\u001b[0mbulge_vel_mod\u001b[0m\u001b[0;34m(\u001b[0m\u001b[0mr\u001b[0m\u001b[0;34m*\u001b[0m\u001b[0;36m1000\u001b[0m\u001b[0;34m,\u001b[0m\u001b[0;36m1\u001b[0m\u001b[0;34m,\u001b[0m\u001b[0;36m270\u001b[0m\u001b[0;34m,\u001b[0m\u001b[0;36m3500\u001b[0m\u001b[0;34m)\u001b[0m\u001b[0;34m,\u001b[0m\u001b[0;34m'--'\u001b[0m\u001b[0;34m,\u001b[0m\u001b[0mlabel\u001b[0m\u001b[0;34m=\u001b[0m\u001b[0;34m'bulge'\u001b[0m\u001b[0;34m)\u001b[0m\u001b[0;34m\u001b[0m\u001b[0;34m\u001b[0m\u001b[0m\n\u001b[0m\u001b[1;32m      2\u001b[0m \u001b[0mplt\u001b[0m\u001b[0;34m.\u001b[0m\u001b[0mplot\u001b[0m\u001b[0;34m(\u001b[0m\u001b[0mr\u001b[0m\u001b[0;34m,\u001b[0m \u001b[0mdisk_vel\u001b[0m\u001b[0;34m(\u001b[0m\u001b[0mr\u001b[0m\u001b[0;34m*\u001b[0m\u001b[0;36m1000\u001b[0m\u001b[0;34m,\u001b[0m\u001b[0;36m8.44e2\u001b[0m\u001b[0;34m,\u001b[0m\u001b[0;36m3500\u001b[0m\u001b[0;34m)\u001b[0m\u001b[0;34m,\u001b[0m\u001b[0;34m':'\u001b[0m\u001b[0;34m,\u001b[0m\u001b[0mlabel\u001b[0m\u001b[0;34m=\u001b[0m\u001b[0;34m'disk'\u001b[0m\u001b[0;34m)\u001b[0m\u001b[0;34m\u001b[0m\u001b[0;34m\u001b[0m\u001b[0m\n\u001b[1;32m      3\u001b[0m \u001b[0mplt\u001b[0m\u001b[0;34m.\u001b[0m\u001b[0mplot\u001b[0m\u001b[0;34m(\u001b[0m\u001b[0mr\u001b[0m\u001b[0;34m,\u001b[0m\u001b[0mhalo_vel_iso\u001b[0m\u001b[0;34m(\u001b[0m\u001b[0mr\u001b[0m\u001b[0;34m*\u001b[0m\u001b[0;36m1000\u001b[0m\u001b[0;34m,\u001b[0m\u001b[0;36m7e-3\u001b[0m\u001b[0;34m,\u001b[0m\u001b[0;36m16000\u001b[0m\u001b[0;34m)\u001b[0m\u001b[0;34m,\u001b[0m\u001b[0mlabel\u001b[0m\u001b[0;34m=\u001b[0m\u001b[0;34m'iso halo'\u001b[0m\u001b[0;34m)\u001b[0m\u001b[0;34m\u001b[0m\u001b[0;34m\u001b[0m\u001b[0m\n\u001b[1;32m      4\u001b[0m \u001b[0mplt\u001b[0m\u001b[0;34m.\u001b[0m\u001b[0mplot\u001b[0m\u001b[0;34m(\u001b[0m\u001b[0mr\u001b[0m\u001b[0;34m,\u001b[0m\u001b[0mhalo_vel_NFW\u001b[0m\u001b[0;34m(\u001b[0m\u001b[0mr\u001b[0m\u001b[0;34m*\u001b[0m\u001b[0;36m1000\u001b[0m\u001b[0;34m,\u001b[0m\u001b[0;36m8e-3\u001b[0m\u001b[0;34m,\u001b[0m\u001b[0;36m16000\u001b[0m\u001b[0;34m)\u001b[0m\u001b[0;34m,\u001b[0m\u001b[0mlabel\u001b[0m\u001b[0;34m=\u001b[0m\u001b[0;34m'nfw halo'\u001b[0m\u001b[0;34m)\u001b[0m\u001b[0;34m\u001b[0m\u001b[0;34m\u001b[0m\u001b[0m\n\u001b[1;32m      5\u001b[0m \u001b[0mplt\u001b[0m\u001b[0;34m.\u001b[0m\u001b[0mplot\u001b[0m\u001b[0;34m(\u001b[0m\u001b[0mr\u001b[0m\u001b[0;34m,\u001b[0m\u001b[0mhalo_vel_bur\u001b[0m\u001b[0;34m(\u001b[0m\u001b[0mr\u001b[0m\u001b[0;34m*\u001b[0m\u001b[0;36m1000\u001b[0m\u001b[0;34m,\u001b[0m\u001b[0;36m1.2e-2\u001b[0m\u001b[0;34m,\u001b[0m\u001b[0;36m16000\u001b[0m\u001b[0;34m)\u001b[0m\u001b[0;34m,\u001b[0m\u001b[0mlabel\u001b[0m\u001b[0;34m=\u001b[0m\u001b[0;34m'bur halo'\u001b[0m\u001b[0;34m)\u001b[0m\u001b[0;34m\u001b[0m\u001b[0;34m\u001b[0m\u001b[0m\n",
      "\u001b[0;31mNameError\u001b[0m: name 'bulge_vel_mod' is not defined"
     ]
    }
   ],
   "source": [
    "plt.plot(r,bulge_vel_mod(r*1000,1,270,3500),'--',label='bulge')\n",
    "plt.plot(r, disk_vel(r*1000,8.44e2,3500),':',label='disk')\n",
    "plt.plot(r,halo_vel_iso(r*1000,7e-3,16000),label='iso halo')\n",
    "plt.plot(r,halo_vel_NFW(r*1000,8e-3,16000),label='nfw halo')\n",
    "plt.plot(r,halo_vel_bur(r*1000,1.2e-2,16000),label='bur halo')\n",
    "plt.plot(r,vel_tot_iso(r,[1,250,8.44e2,3.5,7e-3,16]),label='iso tot')\n",
    "plt.plot(r,vel_tot_NFW(r,[1,250,8.44e2,3.5,8e-3,16]),label='new tot')\n",
    "plt.plot(r,vel_tot_bur(r,[1,250,8.44e2,3.5,1.2e-2,16]),label='bur tot')\n",
    "plt.legend(bbox_to_anchor=(1.05, 1), loc='upper left', borderaxespad=0.)\n",
    "plt.xlabel('r [kpc]')\n",
    "plt.ylabel('$v_{cir}$ [km/s]')\n",
    "plt.title('Rotation curve of the Milky Way')"
   ]
  },
  {
   "cell_type": "code",
   "execution_count": null,
   "metadata": {},
   "outputs": [],
   "source": []
  },
  {
   "cell_type": "code",
   "execution_count": null,
   "metadata": {},
   "outputs": [],
   "source": []
  },
  {
   "cell_type": "code",
   "execution_count": null,
   "metadata": {},
   "outputs": [],
   "source": []
  },
  {
   "cell_type": "markdown",
   "metadata": {},
   "source": [
    "$$\\rho_{iso} (R) = \\frac{\\rho_{iso}^{0}}{1+(R/r_h)^2}$$\n",
    "$$\\rho_{iso}^{0} = 0.74(\\frac{V_{\\infty}}{200km/s})(\\frac{h}{1 kpc})^{-2} M_{\\odot}pc^{-3}$$\n",
    "$$M(R) = 4\\pi\\int^{R}_0 \\rho_{iso}(R)R^2dR$$"
   ]
  },
  {
   "cell_type": "code",
   "execution_count": null,
   "metadata": {},
   "outputs": [],
   "source": []
  },
  {
   "cell_type": "code",
   "execution_count": 63,
   "metadata": {},
   "outputs": [
    {
     "data": {
      "text/plain": [
       "0.02446280991735537"
      ]
     },
     "execution_count": 63,
     "metadata": {},
     "output_type": "execute_result"
    }
   ],
   "source": [
    "0.740 * (200 / 200) **2 * (5500/1000) ** (-2)"
   ]
  },
  {
   "cell_type": "code",
   "execution_count": 64,
   "metadata": {},
   "outputs": [
    {
     "data": {
      "text/plain": [
       "199.2433329270944"
      ]
     },
     "execution_count": 64,
     "metadata": {},
     "output_type": "execute_result"
    }
   ],
   "source": [
    "v_inf = np.sqrt((4 * np.pi * G * 5.1e-3* (Msun) * 12000 ** 2) / (3.086e16))/1000\n",
    "v_inf"
   ]
  },
  {
   "cell_type": "code",
   "execution_count": 67,
   "metadata": {},
   "outputs": [
    {
     "data": {
      "text/plain": [
       "Text(0.5, 1.0, 'Recreating Rotation curve of the Milky Way')"
      ]
     },
     "execution_count": 67,
     "metadata": {},
     "output_type": "execute_result"
    },
    {
     "data": {
      "image/png": "[encoded data removed]",
      "text/plain": [
       "<Figure size 720x360 with 1 Axes>"
      ]
     },
     "metadata": {
      "needs_background": "light"
     },
     "output_type": "display_data"
    }
   ],
   "source": [
    "\n",
    "plt.figure(figsize=(10,5))\n",
    "plt.plot(r,exp_bulge(r*1000,1.12,500),label='bulge')\n",
    "plt.plot(r, disk_vel(r*1000,8.44e2,3500),':',label='disk')\n",
    "plt.plot(r,halo_vel_iso(r*1000,5.1e-3,12000),label='iso halo')\n",
    "plt.plot(r,vel_tot_iso(r,[1.12,.5,8.44e2,3.5,5.1e-3,12]),label='iso tot')\n",
    "plt.legend(bbox_to_anchor=(1.05, 1), loc='upper left', borderaxespad=0.)\n",
    "plt.xlabel('r [kpc]')\n",
    "plt.ylabel('$v_{cir}$ [km/s]')\n",
    "plt.title('Recreating Rotation curve of the Milky Way')\n"
   ]
  },
  {
   "cell_type": "code",
   "execution_count": null,
   "metadata": {},
   "outputs": [],
   "source": []
  },
  {
   "cell_type": "code",
   "execution_count": null,
   "metadata": {},
   "outputs": [],
   "source": []
  }
 ],
 "metadata": {
  "kernelspec": {
   "display_name": "Python 3",
   "language": "python",
   "name": "python3"
  },
  "language_info": {
   "codemirror_mode": {
    "name": "ipython",
    "version": 3
   },
   "file_extension": ".py",
   "mimetype": "text/x-python",
   "name": "python",
   "nbconvert_exporter": "python",
   "pygments_lexer": "ipython3",
   "version": "3.8.5"
  }
 },
 "nbformat": 4,
 "nbformat_minor": 4
}
