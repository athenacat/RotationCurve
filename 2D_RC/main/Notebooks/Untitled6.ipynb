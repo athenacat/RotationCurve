{
 "cells": [
  {
   "cell_type": "code",
   "execution_count": 1,
   "metadata": {},
   "outputs": [],
   "source": [
    "from astropy.io import ascii\n",
    "from astropy.table import Table,QTable\n",
    "import numpy as np\n",
    "import numpy.ma as ma\n",
    "#import pandas as pd\n",
    "#import corner\n",
    "import matplotlib.pyplot as plt\n",
    "#%matplotlib notebook\n",
    "#import emcee\n",
    "from astropy.io import fits\n",
    "from astropy.table import Table, QTable\n",
    "\n",
    "import sys\n",
    "sys.path.insert(1, '/Users/richardzhang/Documents/UR_Stuff/Research_UR/RotationCurve/2D_RC/main/')\n",
    "#sys.path.insert(1, '/Users/kellydouglass/Documents/Research/Rotation_curves/Yifan_Zhang/RotationCurve/2D_RC/main/')\n",
    "from RC_2D_Fit_Functions import Galaxy_Data, getTidal\n",
    "from Velocity_Map_Functions_cython import rot_incl_iso, rot_incl_NFW, rot_incl_bur\n",
    "\n",
    "MANGA_FOLDER = '/Users/richardzhang/Documents/UR_Stuff/Research_UR/SDSS/dr17/manga/spectro/'\n",
    "#MANGDA_FOLDER = '/home/yzh250/Documents/UR_Stuff/Research_UR/SDSS/dr16/manga/spectro/'\n",
    "#MANGA_FOLDER = '/Users/kellydouglass/Documents/Research/data/SDSS/dr16/manga/spectro/'\n",
    "\n",
    "DRP_FILENAME = MANGA_FOLDER + 'redux/v3_1_1/drpall-v3_1_1.fits'\n",
    "\n",
    "VEL_MAP_FOLDER = MANGA_FOLDER + 'analysis/v3_1_1/3.1.0/HYB10-GAU-MILESHC/'\n",
    "\n",
    "from Velocity_Map_Functions_cython import rot_incl_iso,\\\n",
    "                                          rot_incl_NFW, \\\n",
    "                                          rot_incl_bur           \n",
    "\n",
    "from galaxy_component_functions_cython import vel_tot_iso,\\\n",
    "                                              vel_tot_NFW,\\\n",
    "                                              vel_tot_bur,\\\n",
    "                                              bulge_vel,\\\n",
    "                                              disk_vel,\\\n",
    "                                              halo_vel_iso,\\\n",
    "                                              halo_vel_NFW,\\\n",
    "                                              halo_vel_bur\n",
    "from RC_2D_Fit_Functions import Galaxy_Data, \\\n",
    "                                Galaxy_Fitting_iso,\\\n",
    "                                Galaxy_Fitting_NFW, \\\n",
    "                                Galaxy_Fitting_bur, \\\n",
    "                                Hessian_Calculation_Isothermal,\\\n",
    "                                Hessian_Calculation_NFW,\\\n",
    "                                Hessian_Calculation_Burket,\\\n",
    "                                Plotting_Isothermal,\\\n",
    "                                Plotting_NFW,\\\n",
    "                                Plotting_Burkert,\\\n",
    "                                getTidal,\\\n",
    "                                deproject_spaxel,\\\n",
    "                                plot_rot_curve,\\\n",
    "                                plot_diagnostic_panel,\\\n",
    "                                run_MCMC"
   ]
  },
  {
   "cell_type": "code",
   "execution_count": 2,
   "metadata": {},
   "outputs": [],
   "source": [
    "iso_data_range = Table.read('iso_data_range.csv',format='ascii.csv')\n",
    "nfw_data_range = Table.read('nfw_data_range.csv',format='ascii.csv')\n",
    "bur_data_range = Table.read('bur_data_range.csv',format='ascii.csv')"
   ]
  },
  {
   "cell_type": "code",
   "execution_count": 4,
   "metadata": {},
   "outputs": [
    {
     "data": {
      "text/html": [
       "&lt;Column name=&apos;r_max&apos; dtype=&apos;float64&apos; length=4876&gt;\n",
       "<table>\n",
       "<tr><td>0.7593608684523873</td></tr>\n",
       "<tr><td>0.6438362077517789</td></tr>\n",
       "<tr><td>0.7170601682490884</td></tr>\n",
       "<tr><td>0.17085107263706525</td></tr>\n",
       "<tr><td>0.837374345510644</td></tr>\n",
       "<tr><td>1.5809175095606516</td></tr>\n",
       "<tr><td>0.2935464520987169</td></tr>\n",
       "<tr><td>0.7680727164877199</td></tr>\n",
       "<tr><td>0.5581457715097686</td></tr>\n",
       "<tr><td>0.5266250215478128</td></tr>\n",
       "<tr><td>0.4796580343609709</td></tr>\n",
       "<tr><td>1.803624412489672</td></tr>\n",
       "<tr><td>...</td></tr>\n",
       "<tr><td>0.3616808465602161</td></tr>\n",
       "<tr><td>0.20489393111671073</td></tr>\n",
       "<tr><td>1.079308512913684</td></tr>\n",
       "<tr><td>0.9092769843584351</td></tr>\n",
       "<tr><td>0.4568984650098489</td></tr>\n",
       "<tr><td>0.2157859325884868</td></tr>\n",
       "<tr><td>0.24933696565003116</td></tr>\n",
       "<tr><td>0.5228541122416391</td></tr>\n",
       "<tr><td>0.9944806877475757</td></tr>\n",
       "<tr><td>0.2858904459065851</td></tr>\n",
       "<tr><td>0.32771430503184434</td></tr>\n",
       "<tr><td>0.4696370477887318</td></tr>\n",
       "</table>"
      ],
      "text/plain": [
       "<Column name='r_max' dtype='float64' length=4876>\n",
       " 0.7593608684523873\n",
       " 0.6438362077517789\n",
       " 0.7170601682490884\n",
       "0.17085107263706525\n",
       "  0.837374345510644\n",
       " 1.5809175095606516\n",
       " 0.2935464520987169\n",
       " 0.7680727164877199\n",
       " 0.5581457715097686\n",
       " 0.5266250215478128\n",
       " 0.4796580343609709\n",
       "  1.803624412489672\n",
       "                ...\n",
       " 0.3616808465602161\n",
       "0.20489393111671073\n",
       "  1.079308512913684\n",
       " 0.9092769843584351\n",
       " 0.4568984650098489\n",
       " 0.2157859325884868\n",
       "0.24933696565003116\n",
       " 0.5228541122416391\n",
       " 0.9944806877475757\n",
       " 0.2858904459065851\n",
       "0.32771430503184434\n",
       " 0.4696370477887318"
      ]
     },
     "execution_count": 4,
     "metadata": {},
     "output_type": "execute_result"
    }
   ],
   "source": [
    "iso_data_rat = iso_data_range['r_max']/iso_data_range['r90']"
   ]
  },
  {
   "cell_type": "code",
   "execution_count": 5,
   "metadata": {},
   "outputs": [],
   "source": [
    "nfw_data_rat = nfw_data_range['r_max']/nfw_data_range['r90']"
   ]
  },
  {
   "cell_type": "code",
   "execution_count": 6,
   "metadata": {},
   "outputs": [],
   "source": [
    "bur_data_rat = bur_data_range['r_max']/bur_data_range['r90']"
   ]
  },
  {
   "cell_type": "code",
   "execution_count": 46,
   "metadata": {},
   "outputs": [
    {
     "data": {
      "text/plain": [
       "Text(0.5, 1.0, '$r_{max}/r_{90}$ Isothermal')"
      ]
     },
     "execution_count": 46,
     "metadata": {},
     "output_type": "execute_result"
    },
    {
     "data": {
      "image/png": "[encoded data removed]",
      "text/plain": [
       "<Figure size 432x432 with 1 Axes>"
      ]
     },
     "metadata": {
      "needs_background": "light"
     },
     "output_type": "display_data"
    }
   ],
   "source": [
    "fig = plt.figure(figsize=(6,6))\n",
    "plt.hist(iso_data_rat,bins=500)\n",
    "plt.xlim(0,3)\n",
    "plt.xlabel(r'$r_{max}/r_{90}$',fontsize=15)\n",
    "plt.title(r'$r_{max}/r_{90}$ Isothermal',fontsize=15)"
   ]
  },
  {
   "cell_type": "code",
   "execution_count": 47,
   "metadata": {},
   "outputs": [
    {
     "data": {
      "text/plain": [
       "Text(0.5, 1.0, '$r_{max}/r_{90}$ NFW')"
      ]
     },
     "execution_count": 47,
     "metadata": {},
     "output_type": "execute_result"
    },
    {
     "data": {
      "image/png": "[encoded data removed]",
      "text/plain": [
       "<Figure size 432x432 with 1 Axes>"
      ]
     },
     "metadata": {
      "needs_background": "light"
     },
     "output_type": "display_data"
    }
   ],
   "source": [
    "fig = plt.figure(figsize=(6,6))\n",
    "plt.hist(nfw_data_rat,bins=500)\n",
    "plt.xlim(0,3)\n",
    "plt.xlabel(r'$r_{max}/r_{90}$',fontsize=15)\n",
    "plt.title(r'$r_{max}/r_{90}$ NFW',fontsize=15)"
   ]
  },
  {
   "cell_type": "code",
   "execution_count": 50,
   "metadata": {},
   "outputs": [
    {
     "data": {
      "text/plain": [
       "Text(0.5, 1.0, '$r_{max}/r_{90}$ Burkert')"
      ]
     },
     "execution_count": 50,
     "metadata": {},
     "output_type": "execute_result"
    },
    {
     "data": {
      "image/png": "[encoded data removed]",
      "text/plain": [
       "<Figure size 432x432 with 1 Axes>"
      ]
     },
     "metadata": {
      "needs_background": "light"
     },
     "output_type": "display_data"
    }
   ],
   "source": [
    "fig = plt.figure(figsize=(6,6))\n",
    "plt.hist(bur_data_rat,bins=500)\n",
    "plt.xlim(0,0.03)\n",
    "plt.xlabel(r'$r_{max}/r_{90}$',fontsize=15)\n",
    "plt.title(r'$r_{max}/r_{90}$ Burkert',fontsize=15)"
   ]
  },
  {
   "cell_type": "code",
   "execution_count": null,
   "metadata": {},
   "outputs": [],
   "source": []
  }
 ],
 "metadata": {
  "kernelspec": {
   "display_name": "Python 3",
   "language": "python",
   "name": "python3"
  },
  "language_info": {
   "codemirror_mode": {
    "name": "ipython",
    "version": 3
   },
   "file_extension": ".py",
   "mimetype": "text/x-python",
   "name": "python",
   "nbconvert_exporter": "python",
   "pygments_lexer": "ipython3",
   "version": "3.8.5"
  }
 },
 "nbformat": 4,
 "nbformat_minor": 4
}
