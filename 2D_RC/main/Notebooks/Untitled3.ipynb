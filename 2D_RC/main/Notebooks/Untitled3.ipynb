{
 "cells": [
  {
   "cell_type": "code",
   "execution_count": 26,
   "metadata": {},
   "outputs": [],
   "source": [
    "from astropy.io import ascii\n",
    "from astropy.table import Table,QTable\n",
    "import numpy as np\n",
    "import pandas as pd"
   ]
  },
  {
   "cell_type": "code",
   "execution_count": 28,
   "metadata": {},
   "outputs": [],
   "source": [
    "data_1 = ascii.read(\"gal_count_1.85\")"
   ]
  },
  {
   "cell_type": "code",
   "execution_count": 3,
   "metadata": {},
   "outputs": [],
   "source": [
    "data_2 = ascii.read(\"gal_count_2\")"
   ]
  },
  {
   "cell_type": "code",
   "execution_count": 4,
   "metadata": {},
   "outputs": [],
   "source": [
    "data_3 = ascii.read(\"gal_count_2_ttype\")"
   ]
  },
  {
   "cell_type": "code",
   "execution_count": 5,
   "metadata": {},
   "outputs": [],
   "source": [
    "gal_list_new_smoothness = []\n",
    "for i in range(len(data_1)):\n",
    "    if data_2['flag'][i] != data_1['flag'][i]:\n",
    "        gal_list_new_smoothness.append(data_1['galaxy_ID'][i])"
   ]
  },
  {
   "cell_type": "code",
   "execution_count": 6,
   "metadata": {},
   "outputs": [
    {
     "data": {
      "text/plain": [
       "['10001-6104',\n",
       " '7957-12703',\n",
       " '7962-3704',\n",
       " '7964-1902',\n",
       " '7991-1902',\n",
       " '8078-12702',\n",
       " '8082-3704',\n",
       " '8083-3704',\n",
       " '8083-6103',\n",
       " '8086-6103',\n",
       " '8133-12704',\n",
       " '8133-6103',\n",
       " '8137-12701',\n",
       " '8140-12702',\n",
       " '8143-1902',\n",
       " '8144-6103',\n",
       " '8145-12703',\n",
       " '8146-12703',\n",
       " '8146-3701',\n",
       " '8149-12705',\n",
       " '8155-3704',\n",
       " '8241-9102',\n",
       " '8249-1902',\n",
       " '8252-12701',\n",
       " '8253-12702',\n",
       " '8253-12705',\n",
       " '8254-12702',\n",
       " '8254-12705',\n",
       " '8255-12703',\n",
       " '8255-6101',\n",
       " '8255-6104',\n",
       " '8258-6104',\n",
       " '8262-12702',\n",
       " '8263-6103',\n",
       " '8274-12705',\n",
       " '8311-9101',\n",
       " '8315-9101',\n",
       " '8317-12703',\n",
       " '8318-6103',\n",
       " '8323-3704',\n",
       " '8325-1901',\n",
       " '8332-3704',\n",
       " '8333-12701',\n",
       " '8439-1901',\n",
       " '8439-3702',\n",
       " '8440-3704',\n",
       " '8444-9101',\n",
       " '8449-6104',\n",
       " '8455-12702',\n",
       " '8458-6102',\n",
       " '8461-9102',\n",
       " '8481-6102',\n",
       " '8485-3701',\n",
       " '8486-6104',\n",
       " '8547-12703',\n",
       " '8552-9102',\n",
       " '8566-9101',\n",
       " '8567-3704',\n",
       " '8567-6103',\n",
       " '8591-3702',\n",
       " '8597-1902',\n",
       " '8612-6102',\n",
       " '8612-9102',\n",
       " '8618-6104',\n",
       " '8623-12701',\n",
       " '8623-12705',\n",
       " '8623-3702',\n",
       " '8624-3702',\n",
       " '8624-6102',\n",
       " '8626-12701',\n",
       " '8626-6103',\n",
       " '8655-6101',\n",
       " '8713-1901',\n",
       " '8718-3704',\n",
       " '8726-1901',\n",
       " '8726-3701',\n",
       " '8726-6103',\n",
       " '8728-3702',\n",
       " '8728-9101',\n",
       " '8931-9101',\n",
       " '8933-12701',\n",
       " '8935-3703',\n",
       " '8936-6102',\n",
       " '8936-9102',\n",
       " '8939-12705',\n",
       " '8940-3702',\n",
       " '8941-3704',\n",
       " '8944-1902',\n",
       " '8948-3704',\n",
       " '8950-9101',\n",
       " '8978-3704',\n",
       " '8980-1902',\n",
       " '8987-9102',\n",
       " '8992-12701',\n",
       " '8993-6104',\n",
       " '8996-3701',\n",
       " '8997-12703',\n",
       " '8997-12705',\n",
       " '8997-3702',\n",
       " '9002-3702',\n",
       " '9024-12703',\n",
       " '9027-6101',\n",
       " '9028-3702',\n",
       " '9029-6104',\n",
       " '9031-12702',\n",
       " '9031-3703',\n",
       " '9034-1902',\n",
       " '9034-6103',\n",
       " '9035-12702',\n",
       " '9035-1901',\n",
       " '9037-9101',\n",
       " '9039-6104',\n",
       " '9044-12704',\n",
       " '9044-6103',\n",
       " '9047-9101',\n",
       " '9048-9101',\n",
       " '9183-12703',\n",
       " '9183-3702',\n",
       " '9185-6103',\n",
       " '9193-12703',\n",
       " '9194-6103',\n",
       " '9194-9101',\n",
       " '9490-1901',\n",
       " '9491-12702',\n",
       " '9492-12702',\n",
       " '9492-3702',\n",
       " '9493-3701',\n",
       " '9494-6102',\n",
       " '9501-3704',\n",
       " '9505-12702',\n",
       " '9505-12703',\n",
       " '9508-3702',\n",
       " '9512-6102',\n",
       " '9864-9102',\n",
       " '9865-12704',\n",
       " '9865-3704',\n",
       " '9870-1902',\n",
       " '9870-3701',\n",
       " '9870-6101',\n",
       " '9876-3701',\n",
       " '9891-3704']"
      ]
     },
     "execution_count": 6,
     "metadata": {},
     "output_type": "execute_result"
    }
   ],
   "source": [
    "gal_list_new_smoothness"
   ]
  },
  {
   "cell_type": "code",
   "execution_count": 7,
   "metadata": {},
   "outputs": [
    {
     "data": {
      "text/plain": [
       "141"
      ]
     },
     "execution_count": 7,
     "metadata": {},
     "output_type": "execute_result"
    }
   ],
   "source": [
    "len(gal_list_new_smoothness)"
   ]
  },
  {
   "cell_type": "code",
   "execution_count": 8,
   "metadata": {},
   "outputs": [],
   "source": [
    "gal_list_new_smoothness_ttype = []\n",
    "for i in range(len(data_1)):\n",
    "    if data_3['flag'][i] != data_1['flag'][i]:\n",
    "        gal_list_new_smoothness_ttype.append(data_1['galaxy_ID'][i])"
   ]
  },
  {
   "cell_type": "code",
   "execution_count": 9,
   "metadata": {},
   "outputs": [
    {
     "data": {
      "text/plain": [
       "['10001-3704',\n",
       " '7815-1901',\n",
       " '7957-12703',\n",
       " '7958-3703',\n",
       " '7958-6103',\n",
       " '7962-3704',\n",
       " '7964-6104',\n",
       " '7964-9102',\n",
       " '7968-9101',\n",
       " '7972-6101',\n",
       " '7975-3704',\n",
       " '7977-3701',\n",
       " '7977-3702',\n",
       " '7990-1901',\n",
       " '7990-1902',\n",
       " '7990-3701',\n",
       " '7991-1901',\n",
       " '7991-1902',\n",
       " '7991-3702',\n",
       " '8077-3701',\n",
       " '8077-3704',\n",
       " '8077-6101',\n",
       " '8078-12702',\n",
       " '8078-1902',\n",
       " '8080-3702',\n",
       " '8080-6104',\n",
       " '8081-6104',\n",
       " '8082-1901',\n",
       " '8082-3704',\n",
       " '8083-3704',\n",
       " '8084-1902',\n",
       " '8086-12705',\n",
       " '8086-1901',\n",
       " '8086-6103',\n",
       " '8086-9101',\n",
       " '8131-3701',\n",
       " '8132-1901',\n",
       " '8132-1902',\n",
       " '8133-12704',\n",
       " '8133-3702',\n",
       " '8133-6101',\n",
       " '8133-9102',\n",
       " '8135-1901',\n",
       " '8137-12701',\n",
       " '8137-1902',\n",
       " '8137-3703',\n",
       " '8137-6104',\n",
       " '8138-3704',\n",
       " '8139-3704',\n",
       " '8139-9102',\n",
       " '8140-12702',\n",
       " '8140-3702',\n",
       " '8141-6102',\n",
       " '8141-6103',\n",
       " '8143-1901',\n",
       " '8144-3702',\n",
       " '8145-12703',\n",
       " '8146-12703',\n",
       " '8146-3701',\n",
       " '8146-3702',\n",
       " '8147-1901',\n",
       " '8147-1902',\n",
       " '8149-12704',\n",
       " '8149-1901',\n",
       " '8149-3701',\n",
       " '8150-3702',\n",
       " '8150-6104',\n",
       " '8153-3702',\n",
       " '8154-3703',\n",
       " '8155-3702',\n",
       " '8155-3703',\n",
       " '8156-12705',\n",
       " '8158-12702',\n",
       " '8158-1902',\n",
       " '8158-3701',\n",
       " '8158-3702',\n",
       " '8158-3704',\n",
       " '8158-6102',\n",
       " '8243-6102',\n",
       " '8247-1901',\n",
       " '8247-3703',\n",
       " '8247-6103',\n",
       " '8249-9101',\n",
       " '8250-1902',\n",
       " '8250-3703',\n",
       " '8250-9102',\n",
       " '8252-12701',\n",
       " '8252-3704',\n",
       " '8253-12702',\n",
       " '8253-12705',\n",
       " '8253-1901',\n",
       " '8253-9101',\n",
       " '8254-12702',\n",
       " '8254-12705',\n",
       " '8255-12703',\n",
       " '8256-12705',\n",
       " '8256-3704',\n",
       " '8257-3701',\n",
       " '8258-6102',\n",
       " '8258-9102',\n",
       " '8259-1901',\n",
       " '8261-1901',\n",
       " '8262-12702',\n",
       " '8262-3703',\n",
       " '8263-6103',\n",
       " '8274-3704',\n",
       " '8311-1901',\n",
       " '8311-3701',\n",
       " '8311-9101',\n",
       " '8313-3703',\n",
       " '8315-9101',\n",
       " '8317-12703',\n",
       " '8317-1902',\n",
       " '8318-1901',\n",
       " '8318-1902',\n",
       " '8318-3703',\n",
       " '8318-6103',\n",
       " '8320-1901',\n",
       " '8323-1901',\n",
       " '8323-3703',\n",
       " '8323-3704',\n",
       " '8325-3704',\n",
       " '8329-1902',\n",
       " '8329-3701',\n",
       " '8330-1901',\n",
       " '8330-3702',\n",
       " '8332-12705',\n",
       " '8332-3701',\n",
       " '8332-3704',\n",
       " '8332-6104',\n",
       " '8338-1902',\n",
       " '8439-1901',\n",
       " '8439-1902',\n",
       " '8440-3701',\n",
       " '8440-3704',\n",
       " '8443-3701',\n",
       " '8444-9101',\n",
       " '8445-1902',\n",
       " '8446-1901',\n",
       " '8446-3701',\n",
       " '8447-1902',\n",
       " '8447-3703',\n",
       " '8449-6103',\n",
       " '8449-6104',\n",
       " '8451-3704',\n",
       " '8452-3703',\n",
       " '8454-12705',\n",
       " '8454-3701',\n",
       " '8455-12702',\n",
       " '8456-1902',\n",
       " '8456-3701',\n",
       " '8458-6104',\n",
       " '8461-9102',\n",
       " '8464-1902',\n",
       " '8465-1902',\n",
       " '8481-6101',\n",
       " '8481-6102',\n",
       " '8482-3702',\n",
       " '8482-3703',\n",
       " '8483-1901',\n",
       " '8483-3701',\n",
       " '8483-3703',\n",
       " '8485-12703',\n",
       " '8485-3701',\n",
       " '8486-3704',\n",
       " '8486-6104',\n",
       " '8547-12703',\n",
       " '8547-3703',\n",
       " '8548-3701',\n",
       " '8549-12701',\n",
       " '8551-1901',\n",
       " '8551-3704',\n",
       " '8554-1902',\n",
       " '8555-6102',\n",
       " '8566-9101',\n",
       " '8567-1901',\n",
       " '8567-3702',\n",
       " '8567-3704',\n",
       " '8567-6103',\n",
       " '8568-1901',\n",
       " '8588-1902',\n",
       " '8588-3702',\n",
       " '8588-3704',\n",
       " '8591-6101',\n",
       " '8597-1902',\n",
       " '8600-1902',\n",
       " '8601-6104',\n",
       " '8602-12702',\n",
       " '8603-6101',\n",
       " '8604-6102',\n",
       " '8604-6103',\n",
       " '8606-3702',\n",
       " '8606-3703',\n",
       " '8611-3701',\n",
       " '8611-3702',\n",
       " '8611-6101',\n",
       " '8612-1902',\n",
       " '8612-6101',\n",
       " '8612-9102',\n",
       " '8613-1902',\n",
       " '8613-3701',\n",
       " '8613-6104',\n",
       " '8615-1902',\n",
       " '8615-6104',\n",
       " '8618-3704',\n",
       " '8618-6102',\n",
       " '8623-12701',\n",
       " '8623-12703',\n",
       " '8623-12705',\n",
       " '8623-3702',\n",
       " '8624-6102',\n",
       " '8625-1901',\n",
       " '8626-6102',\n",
       " '8655-1901',\n",
       " '8712-1901',\n",
       " '8714-1902',\n",
       " '8714-3704',\n",
       " '8714-6104',\n",
       " '8715-3703',\n",
       " '8715-6101',\n",
       " '8716-1902',\n",
       " '8718-1901',\n",
       " '8719-1902',\n",
       " '8720-3701',\n",
       " '8720-3702',\n",
       " '8720-3703',\n",
       " '8720-6101',\n",
       " '8721-3703',\n",
       " '8727-1901',\n",
       " '8727-3701',\n",
       " '8728-9101',\n",
       " '8931-9101',\n",
       " '8933-12701',\n",
       " '8935-3703',\n",
       " '8936-9102',\n",
       " '8937-1901',\n",
       " '8937-1902',\n",
       " '8937-6103',\n",
       " '8938-3702',\n",
       " '8939-3701',\n",
       " '8941-3704',\n",
       " '8942-3701',\n",
       " '8944-1902',\n",
       " '8945-1901',\n",
       " '8945-3703',\n",
       " '8945-9102',\n",
       " '8946-1901',\n",
       " '8947-1902',\n",
       " '8948-3702',\n",
       " '8948-3704',\n",
       " '8948-6103',\n",
       " '8950-9101',\n",
       " '8977-1901',\n",
       " '8977-6101',\n",
       " '8977-6104',\n",
       " '8978-1901',\n",
       " '8978-9102',\n",
       " '8979-12705',\n",
       " '8979-3703',\n",
       " '8980-1901',\n",
       " '8980-1902',\n",
       " '8982-3704',\n",
       " '8984-1902',\n",
       " '8987-9102',\n",
       " '8991-3701',\n",
       " '8991-6103',\n",
       " '8992-12701',\n",
       " '8992-3701',\n",
       " '8992-3704',\n",
       " '8993-3703',\n",
       " '8993-6103',\n",
       " '8993-6104',\n",
       " '8995-1901',\n",
       " '8995-3703',\n",
       " '8996-3701',\n",
       " '8996-3704',\n",
       " '8997-12703',\n",
       " '8997-1902',\n",
       " '8997-3702',\n",
       " '8999-6104',\n",
       " '9000-1902',\n",
       " '9002-12701',\n",
       " '9002-3702',\n",
       " '9002-3704',\n",
       " '9025-3704',\n",
       " '9025-6101',\n",
       " '9026-3702',\n",
       " '9027-1901',\n",
       " '9027-1902',\n",
       " '9027-6101',\n",
       " '9028-3702',\n",
       " '9029-1902',\n",
       " '9029-6104',\n",
       " '9031-12702',\n",
       " '9031-3703',\n",
       " '9031-3704',\n",
       " '9034-6103',\n",
       " '9035-12702',\n",
       " '9035-1901',\n",
       " '9036-3703',\n",
       " '9036-9102',\n",
       " '9037-1902',\n",
       " '9037-3702',\n",
       " '9037-6103',\n",
       " '9037-6104',\n",
       " '9037-9101',\n",
       " '9038-12702',\n",
       " '9039-1902',\n",
       " '9043-3702',\n",
       " '9044-12704',\n",
       " '9045-1901',\n",
       " '9045-1902',\n",
       " '9045-3704',\n",
       " '9047-6101',\n",
       " '9047-9101',\n",
       " '9048-1902',\n",
       " '9048-6101',\n",
       " '9048-6103',\n",
       " '9048-9101',\n",
       " '9050-6104',\n",
       " '9085-1901',\n",
       " '9088-6104',\n",
       " '9095-1902',\n",
       " '9182-6101',\n",
       " '9183-12703',\n",
       " '9183-12705',\n",
       " '9183-3704',\n",
       " '9184-12704',\n",
       " '9184-1901',\n",
       " '9184-3701',\n",
       " '9184-6101',\n",
       " '9184-6103',\n",
       " '9185-1901',\n",
       " '9185-3702',\n",
       " '9193-12703',\n",
       " '9193-1902',\n",
       " '9194-3704',\n",
       " '9194-9101',\n",
       " '9196-1901',\n",
       " '9196-3702',\n",
       " '9196-9102',\n",
       " '9485-12701',\n",
       " '9485-6101',\n",
       " '9486-3701',\n",
       " '9487-3702',\n",
       " '9490-1901',\n",
       " '9490-3701',\n",
       " '9491-12702',\n",
       " '9491-3703',\n",
       " '9491-3704',\n",
       " '9492-3702',\n",
       " '9492-3703',\n",
       " '9494-6102',\n",
       " '9494-6104',\n",
       " '9497-12705',\n",
       " '9500-3703',\n",
       " '9500-6104',\n",
       " '9502-6103',\n",
       " '9505-12702',\n",
       " '9505-12703',\n",
       " '9505-6103',\n",
       " '9507-3701',\n",
       " '9508-1902',\n",
       " '9508-6103',\n",
       " '9509-1902',\n",
       " '9509-3704',\n",
       " '9512-3702',\n",
       " '9512-3703',\n",
       " '9863-6101',\n",
       " '9864-9102',\n",
       " '9865-12704',\n",
       " '9865-3704',\n",
       " '9868-12702',\n",
       " '9868-3704',\n",
       " '9870-1901',\n",
       " '9870-1902',\n",
       " '9870-3701',\n",
       " '9870-6101',\n",
       " '9876-3701',\n",
       " '9881-1902',\n",
       " '9881-6103',\n",
       " '9881-6104',\n",
       " '9883-12701',\n",
       " '9888-1902',\n",
       " '9891-12703',\n",
       " '9891-1901',\n",
       " '9891-6101']"
      ]
     },
     "execution_count": 9,
     "metadata": {},
     "output_type": "execute_result"
    }
   ],
   "source": [
    "gal_list_new_smoothness_ttype"
   ]
  },
  {
   "cell_type": "code",
   "execution_count": 10,
   "metadata": {},
   "outputs": [
    {
     "data": {
      "text/plain": [
       "387"
      ]
     },
     "execution_count": 10,
     "metadata": {},
     "output_type": "execute_result"
    }
   ],
   "source": [
    "len(gal_list_new_smoothness_ttype)"
   ]
  },
  {
   "cell_type": "code",
   "execution_count": 12,
   "metadata": {},
   "outputs": [
    {
     "data": {
      "text/plain": [
       "numpy.float64"
      ]
     },
     "execution_count": 12,
     "metadata": {},
     "output_type": "execute_result"
    }
   ],
   "source": [
    "type(data_3['flag'][0])"
   ]
  },
  {
   "cell_type": "code",
   "execution_count": 14,
   "metadata": {},
   "outputs": [],
   "source": [
    "good_count_sm2_t0 = 0\n",
    "for i in range(len(data_3['flag'])):\n",
    "    if data_3['flag'][i] == 1.0:\n",
    "        good_count_sm2_t0 += 1"
   ]
  },
  {
   "cell_type": "code",
   "execution_count": 15,
   "metadata": {},
   "outputs": [
    {
     "data": {
      "text/plain": [
       "2255"
      ]
     },
     "execution_count": 15,
     "metadata": {},
     "output_type": "execute_result"
    }
   ],
   "source": [
    "good_count_sm2_t0"
   ]
  },
  {
   "cell_type": "code",
   "execution_count": 16,
   "metadata": {},
   "outputs": [],
   "source": [
    "good_count = 0\n",
    "for i in range(len(data_1['flag'])):\n",
    "    if data_1['flag'][i] == 1.0:\n",
    "        good_count += 1"
   ]
  },
  {
   "cell_type": "code",
   "execution_count": 17,
   "metadata": {},
   "outputs": [
    {
     "data": {
      "text/plain": [
       "2460"
      ]
     },
     "execution_count": 17,
     "metadata": {},
     "output_type": "execute_result"
    }
   ],
   "source": [
    "good_count"
   ]
  },
  {
   "cell_type": "code",
   "execution_count": 31,
   "metadata": {},
   "outputs": [],
   "source": [
    "iso_mini_fits = Table.read('iso_mini_new.csv',format='ascii.csv')"
   ]
  },
  {
   "cell_type": "code",
   "execution_count": 10,
   "metadata": {},
   "outputs": [
    {
     "data": {
      "text/plain": [
       "2255"
      ]
     },
     "execution_count": 10,
     "metadata": {},
     "output_type": "execute_result"
    }
   ],
   "source": [
    "fits_count = 0\n",
    "for i in range(0,len(iso_mini_fits)):\n",
    "    if not np.isnan(iso_mini_fits['chi2'][i]):\n",
    "        fits_count += 1\n",
    "fits_count"
   ]
  },
  {
   "cell_type": "code",
   "execution_count": 11,
   "metadata": {},
   "outputs": [
    {
     "data": {
      "text/plain": [
       "1663"
      ]
     },
     "execution_count": 11,
     "metadata": {},
     "output_type": "execute_result"
    }
   ],
   "source": [
    "good_fits_count = 0\n",
    "for i in range(0,len(iso_mini_fits)):\n",
    "    if not np.isnan(iso_mini_fits['chi2'][i]) and iso_mini_fits['chi2'][i] <= 150:\n",
    "        good_fits_count += 1\n",
    "good_fits_count"
   ]
  },
  {
   "cell_type": "code",
   "execution_count": 13,
   "metadata": {},
   "outputs": [
    {
     "data": {
      "text/plain": [
       "98"
      ]
     },
     "execution_count": 13,
     "metadata": {},
     "output_type": "execute_result"
    }
   ],
   "source": [
    "bad_fits_count_b1 = 0\n",
    "for i in range(0,len(iso_mini_fits)):\n",
    "    if not np.isnan(iso_mini_fits['chi2'][i]) and (iso_mini_fits['chi2'][i] > 150 and iso_mini_fits['chi2'][i] <= 200):\n",
    "        bad_fits_count_b1 += 1\n",
    "bad_fits_count_b1"
   ]
  },
  {
   "cell_type": "code",
   "execution_count": 14,
   "metadata": {},
   "outputs": [
    {
     "data": {
      "text/plain": [
       "105"
      ]
     },
     "execution_count": 14,
     "metadata": {},
     "output_type": "execute_result"
    }
   ],
   "source": [
    "bad_fits_count_b2 = 0\n",
    "for i in range(0,len(iso_mini_fits)):\n",
    "    if not np.isnan(iso_mini_fits['chi2'][i]) and (iso_mini_fits['chi2'][i] > 200 and iso_mini_fits['chi2'][i] <= 300):\n",
    "        bad_fits_count_b2 += 1\n",
    "bad_fits_count_b2"
   ]
  },
  {
   "cell_type": "code",
   "execution_count": 15,
   "metadata": {},
   "outputs": [
    {
     "data": {
      "text/plain": [
       "63"
      ]
     },
     "execution_count": 15,
     "metadata": {},
     "output_type": "execute_result"
    }
   ],
   "source": [
    "bad_fits_count_b3 = 0\n",
    "for i in range(0,len(iso_mini_fits)):\n",
    "    if not np.isnan(iso_mini_fits['chi2'][i]) and (iso_mini_fits['chi2'][i] > 300 and iso_mini_fits['chi2'][i] <= 400):\n",
    "        bad_fits_count_b3 += 1\n",
    "bad_fits_count_b3"
   ]
  },
  {
   "cell_type": "code",
   "execution_count": 16,
   "metadata": {},
   "outputs": [
    {
     "data": {
      "text/plain": [
       "33"
      ]
     },
     "execution_count": 16,
     "metadata": {},
     "output_type": "execute_result"
    }
   ],
   "source": [
    "bad_fits_count_b5 = 0\n",
    "for i in range(0,len(iso_mini_fits)):\n",
    "    if not np.isnan(iso_mini_fits['chi2'][i]) and (iso_mini_fits['chi2'][i] > 400 and iso_mini_fits['chi2'][i] <= 500):\n",
    "        bad_fits_count_b5 += 1\n",
    "bad_fits_count_b5"
   ]
  },
  {
   "cell_type": "code",
   "execution_count": 33,
   "metadata": {},
   "outputs": [],
   "source": [
    "nfw_mini_fits = pd.read_csv('iso_mini_new.csv')"
   ]
  },
  {
   "cell_type": "code",
   "execution_count": 18,
   "metadata": {},
   "outputs": [
    {
     "data": {
      "text/plain": [
       "2255"
      ]
     },
     "execution_count": 18,
     "metadata": {},
     "output_type": "execute_result"
    }
   ],
   "source": [
    "fits_count_nfw = 0\n",
    "for i in range(0,len(nfw_mini_fits)):\n",
    "    if not np.isnan(nfw_mini_fits['chi2'][i]):\n",
    "        fits_count_nfw += 1\n",
    "fits_count_nfw"
   ]
  },
  {
   "cell_type": "code",
   "execution_count": 19,
   "metadata": {},
   "outputs": [
    {
     "data": {
      "text/plain": [
       "1771"
      ]
     },
     "execution_count": 19,
     "metadata": {},
     "output_type": "execute_result"
    }
   ],
   "source": [
    "good_fits_count_nfw = 0\n",
    "for i in range(0,len(nfw_mini_fits)):\n",
    "    if not np.isnan(nfw_mini_fits['chi2'][i]) and nfw_mini_fits['chi2'][i] <= 150:\n",
    "        good_fits_count_nfw += 1\n",
    "good_fits_count_nfw"
   ]
  },
  {
   "cell_type": "code",
   "execution_count": 40,
   "metadata": {},
   "outputs": [],
   "source": [
    "bur_mini_fits = pd.read_csv('bur_mini_new.csv')#,format='ascii.csv')"
   ]
  },
  {
   "cell_type": "code",
   "execution_count": 41,
   "metadata": {},
   "outputs": [
    {
     "data": {
      "text/plain": [
       "94"
      ]
     },
     "execution_count": 41,
     "metadata": {},
     "output_type": "execute_result"
    }
   ],
   "source": [
    "bad_fits_count_b1_bur = 0\n",
    "for i in range(0,len(bur_mini_fits)):\n",
    "    if not np.isnan(bur_mini_fits['chi2'][i]) and (bur_mini_fits['chi2'][i] > 150 and bur_mini_fits['chi2'][i] <= 200):\n",
    "        bad_fits_count_b1_bur += 1\n",
    "bad_fits_count_b1_bur"
   ]
  },
  {
   "cell_type": "code",
   "execution_count": 42,
   "metadata": {},
   "outputs": [
    {
     "data": {
      "text/plain": [
       "1649"
      ]
     },
     "execution_count": 42,
     "metadata": {},
     "output_type": "execute_result"
    }
   ],
   "source": [
    "good_fits_count_bur = 0\n",
    "for i in range(0,len(bur_mini_fits)):\n",
    "    if not np.isnan(bur_mini_fits['chi2'][i]) and bur_mini_fits['chi2'][i] <= 150:\n",
    "        good_fits_count_bur += 1\n",
    "good_fits_count_bur"
   ]
  },
  {
   "cell_type": "code",
   "execution_count": 43,
   "metadata": {},
   "outputs": [
    {
     "data": {
      "text/html": [
       "<div><i>Table length=6404</i>\n",
       "<table id=\"table140560978768176\" class=\"table-striped table-bordered table-condensed\">\n",
       "<thead><tr><th>galaxy_ID</th><th>rho0_b</th><th>Rb</th><th>SigD</th><th>Rd</th><th>rho0_h</th><th>Rh</th><th>incl</th><th>phi</th><th>x_cen</th><th>y_cen</th><th>Vsys</th><th>chi2</th></tr></thead>\n",
       "<thead><tr><th>str11</th><th>float64</th><th>float64</th><th>float64</th><th>float64</th><th>float64</th><th>float64</th><th>float64</th><th>float64</th><th>float64</th><th>float64</th><th>float64</th><th>float64</th></tr></thead>\n",
       "<tr><td>10001-12701</td><td>0.528291628</td><td>0.519199474</td><td>1186.662904</td><td>6.27584858</td><td>-0.632613278</td><td>1.775568522</td><td>0.367529844</td><td>1.064241938</td><td>37.90950146</td><td>39.38451951</td><td>2.597767546</td><td>34.01136626</td></tr>\n",
       "<tr><td>10001-12702</td><td>0.19485593</td><td>0.40910858</td><td>540.5425784</td><td>16.36982311</td><td>-2.44486967</td><td>0.100065559</td><td>0.676515511</td><td>3.327074163</td><td>37.40979448</td><td>36.46819334</td><td>3.682228086</td><td>5.870467141</td></tr>\n",
       "<tr><td>10001-12703</td><td>0.854751128</td><td>0.561502924</td><td>432.3613461</td><td>13.46075637</td><td>-6.999999834</td><td>813.4646417</td><td>0.602870445</td><td>0.918460484</td><td>37.67294365</td><td>38.07749965</td><td>13.7671227</td><td>154.109528</td></tr>\n",
       "<tr><td>10001-12704</td><td>-0.315150165</td><td>8.942796053</td><td>738.1773728</td><td>18.67724812</td><td>-0.186955875</td><td>3.615596829</td><td>0.569485607</td><td>0.60289846</td><td>33.77403134</td><td>31.2206351</td><td>-7.589383346</td><td>436.9663356</td></tr>\n",
       "<tr><td>10001-12705</td><td>0.999956174</td><td>2.328231207</td><td>2999.999996</td><td>29.99996632</td><td>1.999946529</td><td>0.187924306</td><td>0.118562599</td><td>5.290620659</td><td>36.73928252</td><td>36.85037884</td><td>-20.55299729</td><td>44.51862361</td></tr>\n",
       "<tr><td>10001-1901</td><td>1.0</td><td>4.104889409</td><td>2977.80581</td><td>21.68738464</td><td>1.658863469</td><td>1.263754815</td><td>0.104787037</td><td>4.717071664</td><td>15.58168468</td><td>26.16208213</td><td>-19.0329717</td><td>22.78812179</td></tr>\n",
       "<tr><td>10001-3701</td><td>nan</td><td>nan</td><td>nan</td><td>nan</td><td>nan</td><td>nan</td><td>nan</td><td>nan</td><td>nan</td><td>nan</td><td>nan</td><td>nan</td></tr>\n",
       "<tr><td>10001-3702</td><td>-2.754512592</td><td>0.260737874</td><td>574.8419473</td><td>18.99880064</td><td>-0.965736351</td><td>0.480721511</td><td>0.546396962</td><td>2.30556051</td><td>22.4800498</td><td>22.36719729</td><td>-0.54125803</td><td>10.94606125</td></tr>\n",
       "<tr><td>10001-3703</td><td>1.0</td><td>5.352876893</td><td>1242.536506</td><td>6.287390323</td><td>1.008079284</td><td>0.915433029</td><td>0.100655462</td><td>6.411034013</td><td>23.38469674</td><td>20.72803333</td><td>-13.14915792</td><td>85.79243466</td></tr>\n",
       "<tr><td>10001-6101</td><td>nan</td><td>nan</td><td>nan</td><td>nan</td><td>nan</td><td>nan</td><td>nan</td><td>nan</td><td>nan</td><td>nan</td><td>nan</td><td>nan</td></tr>\n",
       "<tr><td>...</td><td>...</td><td>...</td><td>...</td><td>...</td><td>...</td><td>...</td><td>...</td><td>...</td><td>...</td><td>...</td><td>...</td><td>...</td></tr>\n",
       "<tr><td>9893-6104</td><td>nan</td><td>nan</td><td>nan</td><td>nan</td><td>nan</td><td>nan</td><td>nan</td><td>nan</td><td>nan</td><td>nan</td><td>nan</td><td>nan</td></tr>\n",
       "<tr><td>9893-9102</td><td>nan</td><td>nan</td><td>nan</td><td>nan</td><td>nan</td><td>nan</td><td>nan</td><td>nan</td><td>nan</td><td>nan</td><td>nan</td><td>nan</td></tr>\n",
       "<tr><td>9894-12702</td><td>nan</td><td>nan</td><td>nan</td><td>nan</td><td>nan</td><td>nan</td><td>nan</td><td>nan</td><td>nan</td><td>nan</td><td>nan</td><td>nan</td></tr>\n",
       "<tr><td>9894-12704</td><td>nan</td><td>nan</td><td>nan</td><td>nan</td><td>nan</td><td>nan</td><td>nan</td><td>nan</td><td>nan</td><td>nan</td><td>nan</td><td>nan</td></tr>\n",
       "<tr><td>9894-1901</td><td>nan</td><td>nan</td><td>nan</td><td>nan</td><td>nan</td><td>nan</td><td>nan</td><td>nan</td><td>nan</td><td>nan</td><td>nan</td><td>nan</td></tr>\n",
       "<tr><td>9894-3701</td><td>nan</td><td>nan</td><td>nan</td><td>nan</td><td>nan</td><td>nan</td><td>nan</td><td>nan</td><td>nan</td><td>nan</td><td>nan</td><td>nan</td></tr>\n",
       "<tr><td>9894-3703</td><td>nan</td><td>nan</td><td>nan</td><td>nan</td><td>nan</td><td>nan</td><td>nan</td><td>nan</td><td>nan</td><td>nan</td><td>nan</td><td>nan</td></tr>\n",
       "<tr><td>9894-6101</td><td>nan</td><td>nan</td><td>nan</td><td>nan</td><td>nan</td><td>nan</td><td>nan</td><td>nan</td><td>nan</td><td>nan</td><td>nan</td><td>nan</td></tr>\n",
       "<tr><td>9894-6103</td><td>nan</td><td>nan</td><td>nan</td><td>nan</td><td>nan</td><td>nan</td><td>nan</td><td>nan</td><td>nan</td><td>nan</td><td>nan</td><td>nan</td></tr>\n",
       "<tr><td>9894-9101</td><td>nan</td><td>nan</td><td>nan</td><td>nan</td><td>nan</td><td>nan</td><td>nan</td><td>nan</td><td>nan</td><td>nan</td><td>nan</td><td>nan</td></tr>\n",
       "</table></div>"
      ],
      "text/plain": [
       "<Table length=6404>\n",
       " galaxy_ID     rho0_b         Rb     ...    y_cen        Vsys         chi2   \n",
       "   str11      float64      float64   ...   float64     float64      float64  \n",
       "----------- ------------ ----------- ... ----------- ------------ -----------\n",
       "10001-12701  0.528291628 0.519199474 ... 39.38451951  2.597767546 34.01136626\n",
       "10001-12702   0.19485593  0.40910858 ... 36.46819334  3.682228086 5.870467141\n",
       "10001-12703  0.854751128 0.561502924 ... 38.07749965   13.7671227  154.109528\n",
       "10001-12704 -0.315150165 8.942796053 ...  31.2206351 -7.589383346 436.9663356\n",
       "10001-12705  0.999956174 2.328231207 ... 36.85037884 -20.55299729 44.51862361\n",
       " 10001-1901          1.0 4.104889409 ... 26.16208213  -19.0329717 22.78812179\n",
       " 10001-3701          nan         nan ...         nan          nan         nan\n",
       " 10001-3702 -2.754512592 0.260737874 ... 22.36719729  -0.54125803 10.94606125\n",
       " 10001-3703          1.0 5.352876893 ... 20.72803333 -13.14915792 85.79243466\n",
       " 10001-6101          nan         nan ...         nan          nan         nan\n",
       "        ...          ...         ... ...         ...          ...         ...\n",
       "  9893-6104          nan         nan ...         nan          nan         nan\n",
       "  9893-9102          nan         nan ...         nan          nan         nan\n",
       " 9894-12702          nan         nan ...         nan          nan         nan\n",
       " 9894-12704          nan         nan ...         nan          nan         nan\n",
       "  9894-1901          nan         nan ...         nan          nan         nan\n",
       "  9894-3701          nan         nan ...         nan          nan         nan\n",
       "  9894-3703          nan         nan ...         nan          nan         nan\n",
       "  9894-6101          nan         nan ...         nan          nan         nan\n",
       "  9894-6103          nan         nan ...         nan          nan         nan\n",
       "  9894-9101          nan         nan ...         nan          nan         nan"
      ]
     },
     "execution_count": 43,
     "metadata": {},
     "output_type": "execute_result"
    }
   ],
   "source": [
    "iso_mini_fits"
   ]
  },
  {
   "cell_type": "code",
   "execution_count": 44,
   "metadata": {},
   "outputs": [
    {
     "ename": "AttributeError",
     "evalue": "module 'pandas' has no attribute 'drop'",
     "output_type": "error",
     "traceback": [
      "\u001b[0;31m---------------------------------------------------------------------------\u001b[0m",
      "\u001b[0;31mAttributeError\u001b[0m                            Traceback (most recent call last)",
      "\u001b[0;32m<ipython-input-44-873f794dc333>\u001b[0m in \u001b[0;36m<module>\u001b[0;34m\u001b[0m\n\u001b[1;32m      1\u001b[0m \u001b[0;32mfor\u001b[0m \u001b[0mi\u001b[0m \u001b[0;32min\u001b[0m \u001b[0mrange\u001b[0m\u001b[0;34m(\u001b[0m\u001b[0mlen\u001b[0m\u001b[0;34m(\u001b[0m\u001b[0miso_mini_fits\u001b[0m\u001b[0;34m)\u001b[0m\u001b[0;34m)\u001b[0m\u001b[0;34m:\u001b[0m\u001b[0;34m\u001b[0m\u001b[0;34m\u001b[0m\u001b[0m\n\u001b[1;32m      2\u001b[0m     \u001b[0;32mif\u001b[0m \u001b[0mnp\u001b[0m\u001b[0;34m.\u001b[0m\u001b[0misnan\u001b[0m\u001b[0;34m(\u001b[0m\u001b[0miso_mini_fits\u001b[0m\u001b[0;34m[\u001b[0m\u001b[0;34m'chi2'\u001b[0m\u001b[0;34m]\u001b[0m\u001b[0;34m[\u001b[0m\u001b[0mi\u001b[0m\u001b[0;34m]\u001b[0m\u001b[0;34m)\u001b[0m\u001b[0;34m:\u001b[0m\u001b[0;34m\u001b[0m\u001b[0;34m\u001b[0m\u001b[0m\n\u001b[0;32m----> 3\u001b[0;31m         \u001b[0mpd\u001b[0m\u001b[0;34m.\u001b[0m\u001b[0mdrop\u001b[0m\u001b[0;34m(\u001b[0m\u001b[0miso_mini_fits\u001b[0m\u001b[0;34m[\u001b[0m\u001b[0mi\u001b[0m\u001b[0;34m]\u001b[0m\u001b[0;34m)\u001b[0m\u001b[0;34m\u001b[0m\u001b[0;34m\u001b[0m\u001b[0m\n\u001b[0m",
      "\u001b[0;32m~/anaconda3/lib/python3.8/site-packages/pandas/__init__.py\u001b[0m in \u001b[0;36m__getattr__\u001b[0;34m(name)\u001b[0m\n\u001b[1;32m    256\u001b[0m             \u001b[0;32mreturn\u001b[0m \u001b[0m_SparseArray\u001b[0m\u001b[0;34m\u001b[0m\u001b[0;34m\u001b[0m\u001b[0m\n\u001b[1;32m    257\u001b[0m \u001b[0;34m\u001b[0m\u001b[0m\n\u001b[0;32m--> 258\u001b[0;31m         \u001b[0;32mraise\u001b[0m \u001b[0mAttributeError\u001b[0m\u001b[0;34m(\u001b[0m\u001b[0;34mf\"module 'pandas' has no attribute '{name}'\"\u001b[0m\u001b[0;34m)\u001b[0m\u001b[0;34m\u001b[0m\u001b[0;34m\u001b[0m\u001b[0m\n\u001b[0m\u001b[1;32m    259\u001b[0m \u001b[0;34m\u001b[0m\u001b[0m\n\u001b[1;32m    260\u001b[0m \u001b[0;34m\u001b[0m\u001b[0m\n",
      "\u001b[0;31mAttributeError\u001b[0m: module 'pandas' has no attribute 'drop'"
     ]
    }
   ],
   "source": [
    "for i in range(len(iso_mini_fits)):\n",
    "    if np.isnan(iso_mini_fits['chi2'][i]):\n",
    "        pd.drop(iso_mini_fits[i])"
   ]
  },
  {
   "cell_type": "code",
   "execution_count": null,
   "metadata": {},
   "outputs": [],
   "source": []
  }
 ],
 "metadata": {
  "kernelspec": {
   "display_name": "Python 3",
   "language": "python",
   "name": "python3"
  },
  "language_info": {
   "codemirror_mode": {
    "name": "ipython",
    "version": 3
   },
   "file_extension": ".py",
   "mimetype": "text/x-python",
   "name": "python",
   "nbconvert_exporter": "python",
   "pygments_lexer": "ipython3",
   "version": "3.8.5"
  }
 },
 "nbformat": 4,
 "nbformat_minor": 4
}
