{
 "cells": [
  {
   "cell_type": "code",
   "execution_count": 1,
   "metadata": {},
   "outputs": [],
   "source": [
    "import numpy as np\n",
    "import numpy.ma as ma\n",
    "\n",
    "import matplotlib.pyplot as plt\n",
    "\n",
    "import csv\n",
    "\n",
    "from astropy.io import ascii\n",
    "from astropy.table import Table, QTable"
   ]
  },
  {
   "cell_type": "code",
   "execution_count": 2,
   "metadata": {},
   "outputs": [],
   "source": [
    "SMOOTHNESS_MORPH_FOLDER = '/Users/richardzhang/Documents/UR_Stuff/Research_UR/RotationCurve/2D_RC/main/'\n",
    "\n",
    "smoothness_morph_file = SMOOTHNESS_MORPH_FOLDER + 'cross_table.csv'"
   ]
  },
  {
   "cell_type": "code",
   "execution_count": 3,
   "metadata": {},
   "outputs": [],
   "source": [
    "cross_match_table = Table.read(smoothness_morph_file,format='ascii.commented_header')"
   ]
  },
  {
   "cell_type": "code",
   "execution_count": 4,
   "metadata": {},
   "outputs": [
    {
     "data": {
      "text/html": [
       "<i>Table length=11273</i>\n",
       "<table id=\"table140535366353488\" class=\"table-striped table-bordered table-condensed\">\n",
       "<thead><tr><th>galaxy_ID</th><th>smoothness</th><th>DL_ttype</th><th>DL_PLTG</th></tr></thead>\n",
       "<thead><tr><th>str11</th><th>float64</th><th>float64</th><th>float64</th></tr></thead>\n",
       "<tr><td>10001-12701</td><td>1.560186343059074</td><td>6.564641952514648</td><td>0.9992548227310181</td></tr>\n",
       "<tr><td>10001-12702</td><td>1.5619979358006435</td><td>4.730921268463135</td><td>0.9537974298000336</td></tr>\n",
       "<tr><td>10001-12703</td><td>1.1414035570714935</td><td>4.756507873535156</td><td>0.9986315071582794</td></tr>\n",
       "<tr><td>10001-12704</td><td>1.2909390780165348</td><td>4.773223400115967</td><td>0.9849883019924164</td></tr>\n",
       "<tr><td>10001-12705</td><td>1.116217114299689</td><td>4.76101016998291</td><td>0.9949208498001099</td></tr>\n",
       "<tr><td>10001-1901</td><td>1.2054986454566976</td><td>1.6820045709609985</td><td>0.93021559715271</td></tr>\n",
       "<tr><td>10001-1902</td><td>2.901467556423611</td><td>0.021545112133026123</td><td>0.14400435239076614</td></tr>\n",
       "<tr><td>10001-3701</td><td>2.4162433428506414</td><td>-1.1476022005081177</td><td>0.037860458716750145</td></tr>\n",
       "<tr><td>10001-3702</td><td>1.4364336310030654</td><td>0.09041932225227356</td><td>0.04245169833302498</td></tr>\n",
       "<tr><td>10001-3703</td><td>0.8464522553718801</td><td>2.792056083679199</td><td>0.9254826605319977</td></tr>\n",
       "<tr><td>...</td><td>...</td><td>...</td><td>...</td></tr>\n",
       "<tr><td>9894-3701</td><td>1.2284519706497887</td><td>0.34328705072402954</td><td>0.22961314022541046</td></tr>\n",
       "<tr><td>9894-3702</td><td>0.564601061815884</td><td>3.838649272918701</td><td>0.9641553461551666</td></tr>\n",
       "<tr><td>9894-3703</td><td>0.5766285202266034</td><td>-1.511540174484253</td><td>0.00750068249180913</td></tr>\n",
       "<tr><td>9894-3704</td><td>1.6251409253807423</td><td>-2.3530690670013428</td><td>0.007281576748937368</td></tr>\n",
       "<tr><td>9894-6101</td><td>1.2218607567231607</td><td>2.6373136043548584</td><td>0.9874241650104523</td></tr>\n",
       "<tr><td>9894-6102</td><td>1.1781794029896653</td><td>6.283726215362549</td><td>0.9999672770500183</td></tr>\n",
       "<tr><td>9894-6103</td><td>1.0128618048492974</td><td>4.672900199890137</td><td>0.8953999876976013</td></tr>\n",
       "<tr><td>9894-6104</td><td>0.37198274913883633</td><td>3.4287099838256836</td><td>0.9595855176448822</td></tr>\n",
       "<tr><td>9894-9101</td><td>2.7264555574194786</td><td>-0.9255131483078003</td><td>0.03111880924552679</td></tr>\n",
       "<tr><td>9894-9102</td><td>0.9512362007472827</td><td>6.997000694274902</td><td>0.9995801150798798</td></tr>\n",
       "</table>"
      ],
      "text/plain": [
       "<Table length=11273>\n",
       " galaxy_ID       smoothness           DL_ttype             DL_PLTG       \n",
       "   str11          float64             float64              float64       \n",
       "----------- ------------------- -------------------- --------------------\n",
       "10001-12701   1.560186343059074    6.564641952514648   0.9992548227310181\n",
       "10001-12702  1.5619979358006435    4.730921268463135   0.9537974298000336\n",
       "10001-12703  1.1414035570714935    4.756507873535156   0.9986315071582794\n",
       "10001-12704  1.2909390780165348    4.773223400115967   0.9849883019924164\n",
       "10001-12705   1.116217114299689     4.76101016998291   0.9949208498001099\n",
       " 10001-1901  1.2054986454566976   1.6820045709609985     0.93021559715271\n",
       " 10001-1902   2.901467556423611 0.021545112133026123  0.14400435239076614\n",
       " 10001-3701  2.4162433428506414  -1.1476022005081177 0.037860458716750145\n",
       " 10001-3702  1.4364336310030654  0.09041932225227356  0.04245169833302498\n",
       " 10001-3703  0.8464522553718801    2.792056083679199   0.9254826605319977\n",
       "        ...                 ...                  ...                  ...\n",
       "  9894-3701  1.2284519706497887  0.34328705072402954  0.22961314022541046\n",
       "  9894-3702   0.564601061815884    3.838649272918701   0.9641553461551666\n",
       "  9894-3703  0.5766285202266034   -1.511540174484253  0.00750068249180913\n",
       "  9894-3704  1.6251409253807423  -2.3530690670013428 0.007281576748937368\n",
       "  9894-6101  1.2218607567231607   2.6373136043548584   0.9874241650104523\n",
       "  9894-6102  1.1781794029896653    6.283726215362549   0.9999672770500183\n",
       "  9894-6103  1.0128618048492974    4.672900199890137   0.8953999876976013\n",
       "  9894-6104 0.37198274913883633   3.4287099838256836   0.9595855176448822\n",
       "  9894-9101  2.7264555574194786  -0.9255131483078003  0.03111880924552679\n",
       "  9894-9102  0.9512362007472827    6.997000694274902   0.9995801150798798"
      ]
     },
     "execution_count": 4,
     "metadata": {},
     "output_type": "execute_result"
    }
   ],
   "source": [
    "cross_match_table"
   ]
  },
  {
   "cell_type": "code",
   "execution_count": 5,
   "metadata": {},
   "outputs": [],
   "source": [
    "smoothness = cross_match_table['smoothness'].data"
   ]
  },
  {
   "cell_type": "code",
   "execution_count": 6,
   "metadata": {},
   "outputs": [
    {
     "data": {
      "text/plain": [
       "(array([  2.,   4.,   3.,  13.,  15.,  34.,  41.,  34.,  62.,  61.,  83.,\n",
       "         66.,  81.,  94.,  94.,  90., 112., 109.,  88.,  86.,  94.,  83.,\n",
       "        104., 104., 107.,  81.,  88.,  95.,  78.,  94.,  91.,  99.,  99.,\n",
       "        100.,  94.,  97.,  95.,  90.,  95.,  96.,  97.,  97.,  94., 120.,\n",
       "         90., 108.,  96., 104.,  99.,  93.,  87., 101., 101.,  95.,  97.,\n",
       "         95.,  86.,  91., 100., 110.,  88., 106.,  79.,  99.,  83.,  68.,\n",
       "         88.,  78.,  71.,  76.,  75.,  67.,  54.,  73.,  71.,  66.,  67.,\n",
       "         74.,  46.,  48.,  56.,  58.,  56.,  42.,  61.,  49.,  47.,  54.,\n",
       "         38.,  51.,  56.,  60.,  54.,  57.,  49.,  63.,  43.,  58.,  67.,\n",
       "         56.,  62.,  64.,  84.,  86.,  94.,  98.,  88.,  92., 122., 114.,\n",
       "        126., 119., 111., 111., 117., 126.,  98., 103.,  73.,  85.,  63.,\n",
       "         65.,  54.,  60.,  52.,  40.,  41.,  29.,  36.,  26.,  31.,  15.,\n",
       "         16.,  16.,  16.,  15.,  13.,  12.,   7.,   6.,  10.,   5.,   8.,\n",
       "          5.,   1.,   4.,   5.,   5.,   2.,   4.,   4.,   3.,   0.,   1.,\n",
       "          3.,   1.,   2.,   1.,   0.,   1.,   0.,   3.,   1.,   1.,   0.,\n",
       "          0.,   0.,   0.,   0.,   0.,   1.,   2.,   1.,   0.,   0.,   1.,\n",
       "          0.,   1.,   0.,   0.,   1.,   0.,   0.,   0.,   1.,   0.,   0.,\n",
       "          1.,   0.,   1.,   0.,   0.,   0.,   0.,   0.,   0.,   0.,   0.,\n",
       "          0.,   0.,   0.,   0.,   0.,   0.,   0.,   0.,   0.,   0.,   0.,\n",
       "          0.,   0.,   0.,   0.,   0.,   0.,   0.,   0.,   0.,   0.,   0.,\n",
       "          0.,   0.,   0.,   0.,   0.,   0.,   0.,   2.,   0.,   0.,   0.,\n",
       "          0.,   0.,   0.,   0.,   0.,   0.,   0.,   0.,   0.,   0.,   0.,\n",
       "          0.,   0.,   0.,   0.,   0.,   0.,   0.,   0.,   0.,   0.,   0.,\n",
       "          0.,   0.,   0.,   0.,   0.,   0.,   0.,   0.,   0.,   0.,   0.,\n",
       "          0.,   0.,   0.,   0.,   0.,   0.,   0.,   0.,   0.,   0.,   0.,\n",
       "          0.,   0.,   0.,   0.,   0.,   0.,   0.,   0.,   0.,   0.,   0.,\n",
       "          0.,   0.,   0.,   0.,   0.,   0.,   0.,   0.,   0.,   0.,   0.,\n",
       "          0.,   0.,   0.,   0.,   0.,   0.,   0.,   0.,   0.,   0.,   0.,\n",
       "          0.,   0.,   0.,   0.,   0.,   0.,   0.,   0.,   0.,   0.,   0.,\n",
       "          0.,   0.,   0.,   0.,   0.,   0.,   0.,   0.,   0.,   0.,   0.,\n",
       "          0.,   0.,   0.,   0.,   0.,   0.,   0.,   0.,   0.,   1.,   0.,\n",
       "          0.,   0.,   0.,   0.,   0.,   0.,   0.,   0.,   0.,   0.,   0.,\n",
       "          0.,   0.,   0.,   0.,   0.,   0.,   0.,   0.,   0.,   0.,   0.,\n",
       "          0.,   0.,   0.,   0.,   0.,   0.,   0.,   0.,   0.,   0.,   0.,\n",
       "          0.,   0.,   0.,   0.,   0.,   0.,   0.,   0.,   0.,   0.,   0.,\n",
       "          0.,   0.,   0.,   0.,   0.,   0.,   0.,   0.,   0.,   1.,   0.,\n",
       "          0.,   0.,   0.,   0.,   0.,   0.,   0.,   0.,   0.,   0.,   0.,\n",
       "          0.,   0.,   0.,   0.,   0.,   0.,   0.,   0.,   0.,   0.,   0.,\n",
       "          0.,   0.,   0.,   0.,   0.,   0.,   0.,   0.,   0.,   0.,   0.,\n",
       "          0.,   0.,   0.,   0.,   0.,   0.,   0.,   0.,   0.,   0.,   0.,\n",
       "          0.,   0.,   0.,   0.,   0.,   0.,   0.,   0.,   0.,   0.,   0.,\n",
       "          0.,   0.,   0.,   0.,   0.,   0.,   0.,   0.,   0.,   0.,   0.,\n",
       "          0.,   0.,   0.,   0.,   0.,   0.,   0.,   0.,   0.,   0.,   0.,\n",
       "          0.,   0.,   0.,   0.,   0.,   0.,   0.,   0.,   0.,   0.,   0.,\n",
       "          0.,   0.,   0.,   0.,   0.,   0.,   0.,   0.,   0.,   0.,   0.,\n",
       "          0.,   0.,   0.,   0.,   0.,   0.,   0.,   0.,   0.,   0.,   0.,\n",
       "          0.,   0.,   0.,   0.,   0.,   0.,   0.,   0.,   0.,   0.,   0.,\n",
       "          0.,   0.,   0.,   0.,   0.,   0.,   0.,   0.,   0.,   0.,   0.,\n",
       "          0.,   0.,   0.,   0.,   0.,   0.,   0.,   0.,   0.,   0.,   0.,\n",
       "          0.,   0.,   0.,   0.,   0.,   0.,   0.,   0.,   0.,   0.,   0.,\n",
       "          0.,   0.,   0.,   0.,   0.,   0.,   0.,   0.,   0.,   0.,   0.,\n",
       "          0.,   0.,   0.,   0.,   0.,   0.,   0.,   0.,   0.,   0.,   0.,\n",
       "          0.,   0.,   0.,   0.,   0.,   0.,   0.,   0.,   0.,   0.,   0.,\n",
       "          0.,   0.,   0.,   0.,   0.,   0.,   0.,   0.,   0.,   0.,   0.,\n",
       "          0.,   0.,   0.,   0.,   0.,   0.,   0.,   0.,   0.,   0.,   0.,\n",
       "          0.,   0.,   0.,   0.,   0.,   0.,   0.,   0.,   0.,   0.,   0.,\n",
       "          0.,   0.,   0.,   0.,   0.,   0.,   0.,   0.,   0.,   0.,   0.,\n",
       "          0.,   0.,   0.,   0.,   0.,   0.,   0.,   0.,   0.,   0.,   0.,\n",
       "          0.,   0.,   0.,   0.,   0.,   0.,   0.,   0.,   0.,   0.,   0.,\n",
       "          0.,   0.,   0.,   0.,   0.,   0.,   0.,   0.,   0.,   0.,   0.,\n",
       "          0.,   0.,   0.,   0.,   0.,   0.,   0.,   0.,   0.,   0.,   0.,\n",
       "          0.,   0.,   0.,   0.,   0.,   0.,   0.,   0.,   0.,   0.,   0.,\n",
       "          0.,   0.,   0.,   0.,   0.,   0.,   0.,   0.,   0.,   0.,   0.,\n",
       "          0.,   0.,   0.,   0.,   0.,   0.,   0.,   0.,   0.,   0.,   0.,\n",
       "          0.,   0.,   0.,   0.,   0.,   0.,   0.,   0.,   0.,   0.,   0.,\n",
       "          0.,   0.,   0.,   0.,   0.,   0.,   0.,   0.,   0.,   0.,   0.,\n",
       "          0.,   0.,   0.,   0.,   0.,   0.,   0.,   0.,   0.,   0.,   0.,\n",
       "          0.,   0.,   0.,   0.,   0.,   0.,   0.,   0.,   0.,   0.,   0.,\n",
       "          0.,   0.,   0.,   0.,   0.,   0.,   0.,   0.,   0.,   0.,   0.,\n",
       "          0.,   0.,   0.,   0.,   0.,   0.,   0.,   0.,   0.,   0.,   0.,\n",
       "          0.,   0.,   0.,   0.,   0.,   0.,   0.,   0.,   0.,   0.,   0.,\n",
       "          0.,   0.,   0.,   0.,   0.,   0.,   0.,   0.,   0.,   0.,   0.,\n",
       "          0.,   0.,   0.,   0.,   0.,   0.,   0.,   0.,   0.,   0.,   0.,\n",
       "          0.,   0.,   0.,   0.,   0.,   0.,   0.,   0.,   0.,   0.,   0.,\n",
       "          0.,   0.,   0.,   0.,   0.,   0.,   0.,   0.,   0.,   0.,   0.,\n",
       "          0.,   0.,   0.,   0.,   0.,   0.,   0.,   0.,   0.,   0.,   0.,\n",
       "          0.,   0.,   0.,   0.,   0.,   0.,   0.,   0.,   0.,   0.,   0.,\n",
       "          0.,   0.,   0.,   0.,   0.,   0.,   0.,   0.,   0.,   0.,   0.,\n",
       "          0.,   0.,   0.,   0.,   0.,   0.,   0.,   0.,   0.,   0.,   0.,\n",
       "          0.,   0.,   0.,   0.,   0.,   0.,   0.,   0.,   0.,   0.,   0.,\n",
       "          0.,   0.,   0.,   0.,   0.,   0.,   0.,   0.,   0.,   0.,   0.,\n",
       "          0.,   0.,   0.,   0.,   0.,   0.,   0.,   0.,   0.,   0.,   0.,\n",
       "          0.,   0.,   0.,   0.,   0.,   0.,   0.,   0.,   0.,   0.,   0.,\n",
       "          0.,   0.,   0.,   0.,   0.,   0.,   0.,   0.,   0.,   0.,   0.,\n",
       "          0.,   0.,   0.,   0.,   0.,   0.,   0.,   0.,   0.,   0.,   0.,\n",
       "          0.,   0.,   0.,   0.,   0.,   0.,   0.,   0.,   0.,   0.,   0.,\n",
       "          0.,   0.,   0.,   0.,   0.,   0.,   0.,   0.,   0.,   0.,   0.,\n",
       "          0.,   0.,   0.,   0.,   0.,   0.,   0.,   0.,   0.,   0.,   0.,\n",
       "          0.,   0.,   0.,   0.,   0.,   0.,   0.,   0.,   0.,   0.,   0.,\n",
       "          0.,   0.,   0.,   0.,   0.,   0.,   0.,   0.,   0.,   0.,   0.,\n",
       "          0.,   0.,   0.,   0.,   0.,   0.,   0.,   0.,   0.,   1.]),\n",
       " array([ 0.25524131,  0.27584664,  0.29645196, ..., 20.81935481,\n",
       "        20.83996013, 20.86056546]),\n",
       " <BarContainer object of 1000 artists>)"
      ]
     },
     "execution_count": 6,
     "metadata": {},
     "output_type": "execute_result"
    },
    {
     "data": {
      "image/png": "[encoded data removed]",
      "text/plain": [
       "<Figure size 432x288 with 1 Axes>"
      ]
     },
     "metadata": {
      "needs_background": "light"
     },
     "output_type": "display_data"
    }
   ],
   "source": [
    "plt.hist(smoothness,bins=1000)"
   ]
  },
  {
   "cell_type": "code",
   "execution_count": 7,
   "metadata": {},
   "outputs": [],
   "source": [
    "ttype = cross_match_table['DL_ttype'].data"
   ]
  },
  {
   "cell_type": "code",
   "execution_count": 9,
   "metadata": {},
   "outputs": [],
   "source": [
    "pltg = cross_match_table['DL_PLTG'].data"
   ]
  },
  {
   "cell_type": "code",
   "execution_count": 22,
   "metadata": {},
   "outputs": [
    {
     "data": {
      "text/plain": [
       "Text(0.5, 1.0, 'smoothness vs ttype')"
      ]
     },
     "execution_count": 22,
     "metadata": {},
     "output_type": "execute_result"
    },
    {
     "data": {
      "image/png": "[encoded data removed]",
      "text/plain": [
       "<Figure size 432x288 with 1 Axes>"
      ]
     },
     "metadata": {
      "needs_background": "light"
     },
     "output_type": "display_data"
    }
   ],
   "source": [
    "plt.plot(smoothness,ttype,',')\n",
    "plt.xlabel('smoothness score')\n",
    "plt.ylabel('ttype')\n",
    "plt.xlim(0,5)\n",
    "plt.title('smoothness vs ttype')"
   ]
  },
  {
   "cell_type": "code",
   "execution_count": 26,
   "metadata": {},
   "outputs": [
    {
     "data": {
      "text/plain": [
       "Text(0.5, 1.0, 'smoothness vs probability of being LTG')"
      ]
     },
     "execution_count": 26,
     "metadata": {},
     "output_type": "execute_result"
    },
    {
     "data": {
      "image/png": "[encoded data removed]",
      "text/plain": [
       "<Figure size 432x288 with 1 Axes>"
      ]
     },
     "metadata": {
      "needs_background": "light"
     },
     "output_type": "display_data"
    }
   ],
   "source": [
    "plt.plot(smoothness,pltg,',')\n",
    "plt.xlabel('smoothness score')\n",
    "plt.ylabel('probability of being a LTG')\n",
    "plt.xlim(0,5)\n",
    "plt.title('smoothness vs probability of being LTG')"
   ]
  },
  {
   "cell_type": "code",
   "execution_count": null,
   "metadata": {},
   "outputs": [],
   "source": []
  }
 ],
 "metadata": {
  "kernelspec": {
   "display_name": "Python 3",
   "language": "python",
   "name": "python3"
  },
  "language_info": {
   "codemirror_mode": {
    "name": "ipython",
    "version": 3
   },
   "file_extension": ".py",
   "mimetype": "text/x-python",
   "name": "python",
   "nbconvert_exporter": "python",
   "pygments_lexer": "ipython3",
   "version": "3.8.5"
  }
 },
 "nbformat": 4,
 "nbformat_minor": 4
}
