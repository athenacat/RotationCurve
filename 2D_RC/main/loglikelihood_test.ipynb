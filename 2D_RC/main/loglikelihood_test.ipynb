{
 "cells": [
  {
   "cell_type": "code",
   "execution_count": 1,
   "metadata": {},
   "outputs": [],
   "source": [
    "import numpy as np\n",
    "import numpy.ma as ma\n",
    "from numpy import log as ln\n",
    "\n",
    "from numpy import log as ln\n",
    "from scipy.optimize import minimize\n",
    "from scipy.special import kn\n",
    "from scipy.special import iv\n",
    "\n",
    "import matplotlib.pyplot as plt\n",
    "import numdifftools as ndt\n",
    "\n",
    "from scipy import integrate as inte\n",
    "import emcee\n",
    "import corner\n",
    "\n",
    "from Velocity_Map_Functions import loglikelihood_iso,\\\n",
    "                                   loglikelihood_NFW, \\\n",
    "                                   loglikelihood_bur,\\\n",
    "                                   loglikelihood_iso_flat,\\\n",
    "                                   loglikelihood_NFW_flat, \\\n",
    "                                   loglikelihood_bur_flat\n",
    "\n",
    "from RC_2D_Fit_Functions import Galaxy_Data\n",
    "\n",
    "# Constants\n",
    "G = 6.674E-11  # m^3 kg^-1 s^-2\n",
    "Msun = 1.989E30  # kg\n",
    "scale = 0.46886408261217366\n",
    "gshape = (74,74)"
   ]
  },
  {
   "cell_type": "code",
   "execution_count": 2,
   "metadata": {},
   "outputs": [],
   "source": [
    "# For galaxy 7443-12705\n",
    "r_band, Ha_vel, Ha_vel_ivar, Ha_vel_mask, Ha_flux, Ha_flux_ivar, Ha_flux_mask, vmasked, Ha_flux_masked, ivar_masked, gshape, x_center_guess, y_center_guess = Galaxy_Data('7443-12705')"
   ]
  },
  {
   "cell_type": "code",
   "execution_count": 3,
   "metadata": {},
   "outputs": [],
   "source": [
    "# param bounds \n",
    "rho_b_min = 0\n",
    "rho_b_max = 100\n",
    "Rb_min = 0\n",
    "Rb_max = 5\n",
    "Sig_d_min = 100 \n",
    "Sig_d_max = 3000\n",
    "Rd_min = 1\n",
    "Rd_max = 30\n",
    "rho_h_min = 1e-5 \n",
    "rho_h_max = 0.1\n",
    "Rh_min = 0.01\n",
    "Rh_max = 500\n",
    "i_min = 0\n",
    "i_max = np.pi/2\n",
    "phi_min = 0\n",
    "phi_max = 2*np.pi\n",
    "cen_x_min = 20\n",
    "cen_x_max = 40\n",
    "cen_y_min = 20\n",
    "cen_y_max = 40\n",
    "vsys_min = -100\n",
    "vsys_max = 100"
   ]
  },
  {
   "cell_type": "code",
   "execution_count": 4,
   "metadata": {},
   "outputs": [],
   "source": [
    "# Isothermal\n",
    "# A set good fitting parameters\n",
    "param_iso = [0.063326658,3.467219046,456.8635966,6.798370692,0.001518047,31.91162509,1.080563,0.698362228,36.63252193,37.66018439,11.59115735]"
   ]
  },
  {
   "cell_type": "code",
   "execution_count": 5,
   "metadata": {},
   "outputs": [
    {
     "data": {
      "text/plain": [
       "-54803.83157910621"
      ]
     },
     "execution_count": 5,
     "metadata": {},
     "output_type": "execute_result"
    }
   ],
   "source": [
    "loglikelihood_iso_flat(param_iso,scale,gshape,vmasked.compressed(),ivar_masked.compressed(),Ha_vel_mask)"
   ]
  },
  {
   "cell_type": "markdown",
   "metadata": {},
   "source": [
    "# rho_b"
   ]
  },
  {
   "cell_type": "code",
   "execution_count": 6,
   "metadata": {},
   "outputs": [],
   "source": [
    "param_iso = [rho_b_min,3.467219046,456.8635966,6.798370692,0.001518047,31.91162509,1.080563,0.698362228,36.63252193,37.66018439,11.59115735]"
   ]
  },
  {
   "cell_type": "code",
   "execution_count": 7,
   "metadata": {},
   "outputs": [
    {
     "data": {
      "text/plain": [
       "-205486.45705677493"
      ]
     },
     "execution_count": 7,
     "metadata": {},
     "output_type": "execute_result"
    }
   ],
   "source": [
    "loglikelihood_iso_flat(param_iso,scale,gshape,vmasked.compressed(),ivar_masked.compressed(),Ha_vel_mask)"
   ]
  },
  {
   "cell_type": "code",
   "execution_count": 8,
   "metadata": {},
   "outputs": [],
   "source": [
    "param_iso = [rho_b_max,3.467219046,456.8635966,6.798370692,0.001518047,31.91162509,1.080563,0.698362228,36.63252193,37.66018439,11.59115735]"
   ]
  },
  {
   "cell_type": "code",
   "execution_count": 9,
   "metadata": {},
   "outputs": [
    {
     "data": {
      "text/plain": [
       "-1330253986.6085486"
      ]
     },
     "execution_count": 9,
     "metadata": {},
     "output_type": "execute_result"
    }
   ],
   "source": [
    "loglikelihood_iso_flat(param_iso,scale,gshape,vmasked.compressed(),ivar_masked.compressed(),Ha_vel_mask)"
   ]
  },
  {
   "cell_type": "markdown",
   "metadata": {},
   "source": [
    "# Rb"
   ]
  },
  {
   "cell_type": "code",
   "execution_count": 10,
   "metadata": {},
   "outputs": [],
   "source": [
    "param_iso = [0.063326658,Rb_min,456.8635966,6.798370692,0.001518047,31.91162509,1.080563,0.698362228,36.63252193,37.66018439,11.59115735]"
   ]
  },
  {
   "cell_type": "code",
   "execution_count": 11,
   "metadata": {},
   "outputs": [
    {
     "name": "stderr",
     "output_type": "stream",
     "text": [
      "/Users/richardzhang/Documents/UR_stuff/Research_UR/RotationCurve/2D_RC/main/galaxy_component_functions.py:46: RuntimeWarning: divide by zero encountered in double_scalars\n",
      "  mass_b = 4 * np.pi * rho_0 * ((-1/3*Rb**3*np.exp(-(r/Rb)**3)+(1/3)*(Rb**3)))\n"
     ]
    },
    {
     "data": {
      "text/plain": [
       "-205486.45705677493"
      ]
     },
     "execution_count": 11,
     "metadata": {},
     "output_type": "execute_result"
    }
   ],
   "source": [
    "loglikelihood_iso_flat(param_iso,scale,gshape,vmasked.compressed(),ivar_masked.compressed(),Ha_vel_mask)"
   ]
  },
  {
   "cell_type": "code",
   "execution_count": 12,
   "metadata": {},
   "outputs": [],
   "source": [
    "param_iso = [0.063326658,Rb_max,456.8635966,6.798370692,0.001518047,31.91162509,1.080563,0.698362228,36.63252193,37.66018439,11.59115735]"
   ]
  },
  {
   "cell_type": "code",
   "execution_count": 13,
   "metadata": {},
   "outputs": [
    {
     "data": {
      "text/plain": [
       "-33819.317113475576"
      ]
     },
     "execution_count": 13,
     "metadata": {},
     "output_type": "execute_result"
    }
   ],
   "source": [
    "loglikelihood_iso_flat(param_iso,scale,gshape,vmasked.compressed(),ivar_masked.compressed(),Ha_vel_mask)"
   ]
  },
  {
   "cell_type": "markdown",
   "metadata": {},
   "source": [
    "# Sig_d"
   ]
  },
  {
   "cell_type": "code",
   "execution_count": 14,
   "metadata": {},
   "outputs": [],
   "source": [
    "param_iso = [0.063326658,3.467219046,Sig_d_min,6.798370692,0.001518047,31.91162509,1.080563,0.698362228,36.63252193,37.66018439,11.59115735]"
   ]
  },
  {
   "cell_type": "code",
   "execution_count": 15,
   "metadata": {},
   "outputs": [
    {
     "data": {
      "text/plain": [
       "-1077443.5377673798"
      ]
     },
     "execution_count": 15,
     "metadata": {},
     "output_type": "execute_result"
    }
   ],
   "source": [
    "loglikelihood_iso_flat(param_iso,scale,gshape,vmasked.compressed(),ivar_masked.compressed(),Ha_vel_mask)"
   ]
  },
  {
   "cell_type": "code",
   "execution_count": 16,
   "metadata": {},
   "outputs": [],
   "source": [
    "param_iso = [0.063326658,3.467219046,Sig_d_max,6.798370692,0.001518047,31.91162509,1.080563,0.698362228,36.63252193,37.66018439,11.59115735]"
   ]
  },
  {
   "cell_type": "code",
   "execution_count": 17,
   "metadata": {},
   "outputs": [
    {
     "data": {
      "text/plain": [
       "-7618386.333052214"
      ]
     },
     "execution_count": 17,
     "metadata": {},
     "output_type": "execute_result"
    }
   ],
   "source": [
    "loglikelihood_iso_flat(param_iso,scale,gshape,vmasked.compressed(),ivar_masked.compressed(),Ha_vel_mask)"
   ]
  },
  {
   "cell_type": "markdown",
   "metadata": {},
   "source": [
    "# Rd"
   ]
  },
  {
   "cell_type": "code",
   "execution_count": 18,
   "metadata": {},
   "outputs": [],
   "source": [
    "param_iso = [0.063326658,3.467219046,456.8635966,Rd_min,0.001518047,31.91162509,1.080563,0.698362228,36.63252193,37.66018439,11.59115735]"
   ]
  },
  {
   "cell_type": "code",
   "execution_count": 19,
   "metadata": {},
   "outputs": [
    {
     "data": {
      "text/plain": [
       "-1617104.6887422295"
      ]
     },
     "execution_count": 19,
     "metadata": {},
     "output_type": "execute_result"
    }
   ],
   "source": [
    "loglikelihood_iso_flat(param_iso,scale,gshape,vmasked.compressed(),ivar_masked.compressed(),Ha_vel_mask)"
   ]
  },
  {
   "cell_type": "code",
   "execution_count": 20,
   "metadata": {},
   "outputs": [],
   "source": [
    "param_iso = [0.063326658,3.467219046,456.8635966,Rd_max,0.001518047,31.91162509,1.080563,0.698362228,36.63252193,37.66018439,11.59115735]"
   ]
  },
  {
   "cell_type": "code",
   "execution_count": 21,
   "metadata": {},
   "outputs": [
    {
     "data": {
      "text/plain": [
       "-120579.9265525527"
      ]
     },
     "execution_count": 21,
     "metadata": {},
     "output_type": "execute_result"
    }
   ],
   "source": [
    "loglikelihood_iso_flat(param_iso,scale,gshape,vmasked.compressed(),ivar_masked.compressed(),Ha_vel_mask)"
   ]
  },
  {
   "cell_type": "markdown",
   "metadata": {},
   "source": [
    "# rho_h"
   ]
  },
  {
   "cell_type": "code",
   "execution_count": 22,
   "metadata": {},
   "outputs": [],
   "source": [
    "param_iso = [0.063326658,3.467219046,456.8635966,6.798370692,rho_h_min,31.91162509,1.080563,0.698362228,36.63252193,37.66018439,11.59115735]"
   ]
  },
  {
   "cell_type": "code",
   "execution_count": 23,
   "metadata": {},
   "outputs": [
    {
     "data": {
      "text/plain": [
       "-86918.45878014594"
      ]
     },
     "execution_count": 23,
     "metadata": {},
     "output_type": "execute_result"
    }
   ],
   "source": [
    "loglikelihood_iso_flat(param_iso,scale,gshape,vmasked.compressed(),ivar_masked.compressed(),Ha_vel_mask)"
   ]
  },
  {
   "cell_type": "code",
   "execution_count": 24,
   "metadata": {},
   "outputs": [],
   "source": [
    "param_iso = [0.063326658,3.467219046,456.8635966,6.798370692,rho_h_max,31.91162509,1.080563,0.698362228,36.63252193,37.66018439,11.59115735]"
   ]
  },
  {
   "cell_type": "code",
   "execution_count": 25,
   "metadata": {},
   "outputs": [
    {
     "data": {
      "text/plain": [
       "-7025124.179060934"
      ]
     },
     "execution_count": 25,
     "metadata": {},
     "output_type": "execute_result"
    }
   ],
   "source": [
    "loglikelihood_iso_flat(param_iso,scale,gshape,vmasked.compressed(),ivar_masked.compressed(),Ha_vel_mask)"
   ]
  },
  {
   "cell_type": "markdown",
   "metadata": {},
   "source": [
    "# Rh"
   ]
  },
  {
   "cell_type": "code",
   "execution_count": 26,
   "metadata": {},
   "outputs": [],
   "source": [
    "param_iso = [0.063326658,3.467219046,456.8635966,6.798370692,0.001518047,Rh_min,1.080563,0.698362228,36.63252193,37.66018439,11.59115735]"
   ]
  },
  {
   "cell_type": "code",
   "execution_count": 27,
   "metadata": {},
   "outputs": [
    {
     "data": {
      "text/plain": [
       "-87174.16300180121"
      ]
     },
     "execution_count": 27,
     "metadata": {},
     "output_type": "execute_result"
    }
   ],
   "source": [
    "loglikelihood_iso_flat(param_iso,scale,gshape,vmasked.compressed(),ivar_masked.compressed(),Ha_vel_mask)"
   ]
  },
  {
   "cell_type": "code",
   "execution_count": 28,
   "metadata": {},
   "outputs": [],
   "source": [
    "param_iso = [0.063326658,3.467219046,456.8635966,6.798370692,0.001518047,Rh_max,1.080563,0.698362228,36.63252193,37.66018439,11.59115735]"
   ]
  },
  {
   "cell_type": "code",
   "execution_count": 29,
   "metadata": {},
   "outputs": [
    {
     "data": {
      "text/plain": [
       "-53296.83044971083"
      ]
     },
     "execution_count": 29,
     "metadata": {},
     "output_type": "execute_result"
    }
   ],
   "source": [
    "loglikelihood_iso_flat(param_iso,scale,gshape,vmasked.compressed(),ivar_masked.compressed(),Ha_vel_mask)"
   ]
  },
  {
   "cell_type": "markdown",
   "metadata": {},
   "source": [
    "# inclination"
   ]
  },
  {
   "cell_type": "code",
   "execution_count": 54,
   "metadata": {},
   "outputs": [],
   "source": [
    "param_iso = [0.063326658,3.467219046,456.8635966,6.798370692,0.001518047,31.91162509,i_min,0.698362228,36.63252193,37.66018439,11.59115735]"
   ]
  },
  {
   "cell_type": "code",
   "execution_count": 55,
   "metadata": {},
   "outputs": [
    {
     "data": {
      "text/plain": [
       "-6196205.111313326"
      ]
     },
     "execution_count": 55,
     "metadata": {},
     "output_type": "execute_result"
    }
   ],
   "source": [
    "loglikelihood_iso_flat(param_iso,scale,gshape,vmasked.compressed(),ivar_masked.compressed(),Ha_vel_mask)"
   ]
  },
  {
   "cell_type": "code",
   "execution_count": 79,
   "metadata": {},
   "outputs": [],
   "source": [
    "param_iso = [0.063326658,3.467219046,456.8635966,6.798370692,0.001518047,31.91162509,1.56,0.698362228,36.63252193,37.66018439,11.59115735]"
   ]
  },
  {
   "cell_type": "code",
   "execution_count": 80,
   "metadata": {},
   "outputs": [
    {
     "data": {
      "text/plain": [
       "-4446986.289564518"
      ]
     },
     "execution_count": 80,
     "metadata": {},
     "output_type": "execute_result"
    }
   ],
   "source": [
    "loglikelihood_iso_flat(param_iso,scale,gshape,vmasked.compressed(),ivar_masked.compressed(),Ha_vel_mask)"
   ]
  },
  {
   "cell_type": "markdown",
   "metadata": {},
   "source": [
    "Should not let inclination go to $\\pi/2$"
   ]
  },
  {
   "cell_type": "markdown",
   "metadata": {},
   "source": [
    "# phi"
   ]
  },
  {
   "cell_type": "code",
   "execution_count": 34,
   "metadata": {},
   "outputs": [],
   "source": [
    "param_iso = [0.063326658,3.467219046,456.8635966,6.798370692,0.001518047,31.91162509,1.080563,phi_min,36.63252193,37.66018439,11.59115735]"
   ]
  },
  {
   "cell_type": "code",
   "execution_count": 35,
   "metadata": {},
   "outputs": [
    {
     "data": {
      "text/plain": [
       "-1734436.9460079777"
      ]
     },
     "execution_count": 35,
     "metadata": {},
     "output_type": "execute_result"
    }
   ],
   "source": [
    "loglikelihood_iso_flat(param_iso,scale,gshape,vmasked.compressed(),ivar_masked.compressed(),Ha_vel_mask)"
   ]
  },
  {
   "cell_type": "code",
   "execution_count": 36,
   "metadata": {},
   "outputs": [],
   "source": [
    "param_iso = [0.063326658,3.467219046,456.8635966,6.798370692,0.001518047,31.91162509,1.080563,phi_max,36.63252193,37.66018439,11.59115735]"
   ]
  },
  {
   "cell_type": "code",
   "execution_count": 37,
   "metadata": {},
   "outputs": [
    {
     "data": {
      "text/plain": [
       "-1734436.946007979"
      ]
     },
     "execution_count": 37,
     "metadata": {},
     "output_type": "execute_result"
    }
   ],
   "source": [
    "loglikelihood_iso_flat(param_iso,scale,gshape,vmasked.compressed(),ivar_masked.compressed(),Ha_vel_mask)"
   ]
  },
  {
   "cell_type": "markdown",
   "metadata": {},
   "source": [
    "# cen_x"
   ]
  },
  {
   "cell_type": "code",
   "execution_count": 38,
   "metadata": {},
   "outputs": [],
   "source": [
    "param_iso = [0.063326658,3.467219046,456.8635966,6.798370692,0.001518047,31.91162509,1.080563,0.698362228,cen_x_min,37.66018439,11.59115735]"
   ]
  },
  {
   "cell_type": "code",
   "execution_count": 39,
   "metadata": {},
   "outputs": [
    {
     "data": {
      "text/plain": [
       "-3235295.6681233356"
      ]
     },
     "execution_count": 39,
     "metadata": {},
     "output_type": "execute_result"
    }
   ],
   "source": [
    "loglikelihood_iso_flat(param_iso,scale,gshape,vmasked.compressed(),ivar_masked.compressed(),Ha_vel_mask)"
   ]
  },
  {
   "cell_type": "code",
   "execution_count": 40,
   "metadata": {},
   "outputs": [],
   "source": [
    "param_iso = [0.063326658,3.467219046,456.8635966,6.798370692,0.001518047,31.91162509,1.080563,0.698362228,cen_x_max,37.66018439,11.59115735]"
   ]
  },
  {
   "cell_type": "code",
   "execution_count": 41,
   "metadata": {},
   "outputs": [
    {
     "data": {
      "text/plain": [
       "-228512.2825472739"
      ]
     },
     "execution_count": 41,
     "metadata": {},
     "output_type": "execute_result"
    }
   ],
   "source": [
    "loglikelihood_iso_flat(param_iso,scale,gshape,vmasked.compressed(),ivar_masked.compressed(),Ha_vel_mask)"
   ]
  },
  {
   "cell_type": "markdown",
   "metadata": {},
   "source": [
    "# cen_y"
   ]
  },
  {
   "cell_type": "code",
   "execution_count": 42,
   "metadata": {},
   "outputs": [],
   "source": [
    "param_iso = [0.063326658,3.467219046,456.8635966,6.798370692,0.001518047,31.91162509,1.080563,0.698362228,36.63252193,cen_y_min,11.59115735]"
   ]
  },
  {
   "cell_type": "code",
   "execution_count": 43,
   "metadata": {},
   "outputs": [
    {
     "data": {
      "text/plain": [
       "-2492682.5512041156"
      ]
     },
     "execution_count": 43,
     "metadata": {},
     "output_type": "execute_result"
    }
   ],
   "source": [
    "loglikelihood_iso_flat(param_iso,scale,gshape,vmasked.compressed(),ivar_masked.compressed(),Ha_vel_mask)"
   ]
  },
  {
   "cell_type": "code",
   "execution_count": 44,
   "metadata": {},
   "outputs": [],
   "source": [
    "param_iso = [0.063326658,3.467219046,456.8635966,6.798370692,0.001518047,31.91162509,1.080563,0.698362228,36.63252193,cen_y_max,11.59115735]"
   ]
  },
  {
   "cell_type": "code",
   "execution_count": 45,
   "metadata": {},
   "outputs": [
    {
     "data": {
      "text/plain": [
       "-162334.27088690872"
      ]
     },
     "execution_count": 45,
     "metadata": {},
     "output_type": "execute_result"
    }
   ],
   "source": [
    "loglikelihood_iso_flat(param_iso,scale,gshape,vmasked.compressed(),ivar_masked.compressed(),Ha_vel_mask)"
   ]
  },
  {
   "cell_type": "markdown",
   "metadata": {},
   "source": [
    "# vsys"
   ]
  },
  {
   "cell_type": "code",
   "execution_count": 46,
   "metadata": {},
   "outputs": [],
   "source": [
    "param_iso = [0.063326658,3.467219046,456.8635966,6.798370692,0.001518047,31.91162509,1.080563,0.698362228,36.63252193,37.66018439,vsys_min]"
   ]
  },
  {
   "cell_type": "code",
   "execution_count": 47,
   "metadata": {},
   "outputs": [
    {
     "data": {
      "text/plain": [
       "-4595327.730839774"
      ]
     },
     "execution_count": 47,
     "metadata": {},
     "output_type": "execute_result"
    }
   ],
   "source": [
    "loglikelihood_iso_flat(param_iso,scale,gshape,vmasked.compressed(),ivar_masked.compressed(),Ha_vel_mask)"
   ]
  },
  {
   "cell_type": "code",
   "execution_count": 48,
   "metadata": {},
   "outputs": [],
   "source": [
    "param_iso = [0.063326658,3.467219046,456.8635966,6.798370692,0.001518047,31.91162509,1.080563,0.698362228,36.63252193,37.66018439,vsys_max]"
   ]
  },
  {
   "cell_type": "code",
   "execution_count": 49,
   "metadata": {},
   "outputs": [
    {
     "data": {
      "text/plain": [
       "-2525214.58756383"
      ]
     },
     "execution_count": 49,
     "metadata": {},
     "output_type": "execute_result"
    }
   ],
   "source": [
    "loglikelihood_iso_flat(param_iso,scale,gshape,vmasked.compressed(),ivar_masked.compressed(),Ha_vel_mask)"
   ]
  },
  {
   "cell_type": "code",
   "execution_count": 64,
   "metadata": {},
   "outputs": [
    {
     "data": {
      "text/plain": [
       "1.5707963267948966"
      ]
     },
     "execution_count": 64,
     "metadata": {},
     "output_type": "execute_result"
    }
   ],
   "source": [
    "np.pi/2"
   ]
  },
  {
   "cell_type": "code",
   "execution_count": null,
   "metadata": {},
   "outputs": [],
   "source": []
  }
 ],
 "metadata": {
  "kernelspec": {
   "display_name": "Python 3",
   "language": "python",
   "name": "python3"
  },
  "language_info": {
   "codemirror_mode": {
    "name": "ipython",
    "version": 3
   },
   "file_extension": ".py",
   "mimetype": "text/x-python",
   "name": "python",
   "nbconvert_exporter": "python",
   "pygments_lexer": "ipython3",
   "version": "3.8.5"
  }
 },
 "nbformat": 4,
 "nbformat_minor": 4
}
