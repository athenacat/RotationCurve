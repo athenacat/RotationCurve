{
 "cells": [
  {
   "cell_type": "code",
   "execution_count": 12,
   "id": "a906c164",
   "metadata": {},
   "outputs": [],
   "source": [
    "import os\n",
    "import numpy as np\n",
    "import numpy.ma as ma\n",
    "from astropy.table import Table\n",
    "import matplotlib.pyplot as plt\n",
    "from disk_mass import calc_mass_curve, fit_mass_curve\n",
    "from combin_fit_functions import combination_fit\n",
    "from DRP_rotation_curve import extract_data, extract_Pipe3d_data\n",
    "from rotation_fitfunctions import find_phi, find_axis_ratio, chi2\n",
    "import RC_plotting_functions as RC\n",
    "%matplotlib inline"
   ]
  },
  {
   "cell_type": "code",
   "execution_count": 13,
   "id": "90879c24",
   "metadata": {},
   "outputs": [
    {
     "data": {
      "text/plain": [
       "<module 'disk_mass' from 'C:\\\\Users\\\\Lara\\\\Documents\\\\rotationcurves\\\\disk_mass.py'>"
      ]
     },
     "execution_count": 13,
     "metadata": {},
     "output_type": "execute_result"
    }
   ],
   "source": [
    "import importlib\n",
    "import disk_mass\n",
    "import rotation_fitfunctions\n",
    "importlib.reload(disk_mass)"
   ]
  },
  {
   "cell_type": "code",
   "execution_count": 14,
   "id": "56aeb354",
   "metadata": {},
   "outputs": [],
   "source": [
    "gal_ID = '7443-12705'\n",
    "H_0 = 100  # Hubble's Constant in units of h km/s/Mpc\n",
    "c = 299792.458  # Speed of light in units of km/s"
   ]
  },
  {
   "cell_type": "code",
   "execution_count": 15,
   "id": "dc5ee29e",
   "metadata": {},
   "outputs": [],
   "source": [
    "MASS_MAP_FOLDER = r\"C:\\Users\\Lara\\Documents\\rotationcurves\\mangadata\\pipe3d\\v3_1_1\\3.1.1\\7443\"\n",
    "VEL_MAP_FOLDER = r\"C:\\Users\\Lara\\Documents\\rotationcurves\\mangadata\\analysis\\v3_1_1\\3.1.0\\HYB10-MILESHC-MASTARSSP\\7443\\12705\"\n",
    "DRP_FILENAME = r\"C:\\Users\\Lara\\Documents\\rotationcurves\\mangadata\\redux\\v3_1_1\\drpall-v3_1_1.fits\""
   ]
  },
  {
   "cell_type": "code",
   "execution_count": 16,
   "id": "03a7b30c",
   "metadata": {},
   "outputs": [
    {
     "name": "stderr",
     "output_type": "stream",
     "text": [
      "WARNING: hdu= was not specified but multiple tables are present, reading in first available table (hdu=1) [astropy.io.fits.connect]\n"
     ]
    }
   ],
   "source": [
    "DRP_FILENAME = r\"C:\\Users\\Lara\\Documents\\rotationcurves\\mangadata\\redux\\v3_1_1\\drpall-v3_1_1.fits\"\n",
    "DRP_table = Table.read( DRP_FILENAME, format='fits')\n",
    "\n",
    "\n",
    "DRP_index = {}\n",
    "\n",
    "for i in range(len(DRP_table)):\n",
    "    galaxy_ID = DRP_table['plateifu'][i]\n",
    "\n",
    "    DRP_index[galaxy_ID] = i\n"
   ]
  },
  {
   "cell_type": "code",
   "execution_count": 17,
   "id": "212c18df",
   "metadata": {
    "scrolled": true
   },
   "outputs": [
    {
     "name": "stdout",
     "output_type": "stream",
     "text": [
      "-9.503156\n",
      "(37, 37)\n",
      "0.6447036817356814\n"
     ]
    }
   ],
   "source": [
    "maps = extract_data(VEL_MAP_FOLDER,gal_ID,['Ha_vel', 'r_band', 'Ha_flux', 'Ha_sigma'])\n",
    "sMass_density, sMass_density_err = extract_Pipe3d_data(MASS_MAP_FOLDER, gal_ID)\n",
    "i_DRP = DRP_index[gal_ID]\n",
    "axis_ratio = [DRP_table['nsa_sersic_ba'][i_DRP]]\n",
    "incl = np.arccos(np.sqrt((axis_ratio[0]**2 - 0.2**2)/(1-0.2**2))) \n",
    "phi = DRP_table['nsa_elpetro_phi'][i_DRP]\n",
    "z = DRP_table['nsa_z'][i_DRP]\n",
    "SN_map = maps['Ha_flux'] * np.sqrt(maps['Ha_flux_ivar'])\n",
    "vmap_mask = maps['Ha_vel_mask'] + (SN_map < 5)\n",
    "sM_mask = maps['Ha_vel_mask']\n",
    "maps['vmasked'] = ma.array(maps['Ha_vel'], mask=vmap_mask)\n",
    "maps['ivarmasked'] = ma.array(maps['Ha_vel_ivar'], mask=vmap_mask)\n",
    "\n",
    "shape = maps['vmasked'].shape\n",
    "scale = (0.5 * z * c / H_0) * 1000 / 206265  # kpc\n",
    "center = np.unravel_index(ma.argmax(maps['r_band']), shape)\n",
    "x0 = [center[0]]\n",
    "y0 = [center[1]]\n",
    "phi = [find_phi(center, phi, maps['vmasked'])]\n",
    "#param = [incl, phi, x_center, y_center]\n"
   ]
  },
  {
   "cell_type": "code",
   "execution_count": 18,
   "id": "81e69c69",
   "metadata": {},
   "outputs": [],
   "source": [
    "rho_h = [-1.5]\n",
    "Rh = [10]\n",
    "vsys = [0]\n"
   ]
  },
  {
   "cell_type": "code",
   "execution_count": 19,
   "id": "b3fed6d2",
   "metadata": {
    "scrolled": true
   },
   "outputs": [
    {
     "name": "stdout",
     "output_type": "stream",
     "text": [
      "finding mass curve\n"
     ]
    },
    {
     "name": "stderr",
     "output_type": "stream",
     "text": [
      "C:\\Users\\Lara\\Documents\\rotationcurves\\rotation_curve_functions.py:229: RuntimeWarning: invalid value encountered in double_scalars\n",
      "  vel = np.sqrt(coeff_2 * F / r)\n",
      "C:\\Users\\Lara\\Documents\\rotationcurves\\rotation_curve_functions.py:347: RuntimeWarning: invalid value encountered in double_scalars\n",
      "  bessel_component = (iv(0, y) * kn(0, y) - iv(1, y) * kn(1, y))\n",
      "C:\\Users\\Lara\\Documents\\rotationcurves\\rotation_curve_functions.py:590: RuntimeWarning: invalid value encountered in double_scalars\n",
      "  vel2 = G * (halo_mass * Msun) / (r * 3.08E16)\n",
      "C:\\Users\\Lara\\Documents\\rotationcurves\\rotation_curve_functions.py:589: RuntimeWarning: invalid value encountered in log\n",
      "  halo_mass = 4*np.pi*rho0_h*Rh**3*((-r/(Rh+r)) + np.log(Rh + r) - np.log(Rh))\n"
     ]
    },
    {
     "name": "stdout",
     "output_type": "stream",
     "text": [
      "---------------------------------------------------\n",
      "Status: 0  fit: [-2.2500581  24.16714447  1.07199864  0.69812734 36.58815807 37.70475585\n",
      " 14.43402039]\n",
      "finding mass curve\n",
      "---------------------------------------------------\n",
      "Status: 0  fit: [ -3.47027123 238.99054971   1.05284629   0.697164    36.52061203\n",
      "  37.70310325  14.85726111]\n",
      "finding mass curve\n",
      "---------------------------------------------------\n",
      "Status: 0  fit: [ -3.48709935 241.15512143   1.06235128   0.69698948  36.55688378\n",
      "  37.70427986  14.70609408]\n",
      "finding mass curve\n",
      "---------------------------------------------------\n",
      "Status: 0  fit: [ -3.48849468 243.19219594   1.06317679   0.6971047   36.5579082\n",
      "  37.70333266  14.69253693]\n",
      "finding mass curve\n",
      "---------------------------------------------------\n",
      "Status: 0  fit: [ -3.49213644 245.22527675   1.06320177   0.69710816  36.55794076\n",
      "  37.70327112  14.69270489]\n",
      "finding mass curve\n",
      "---------------------------------------------------\n",
      "Status: 0  fit: [ -3.49590706 247.2564586    1.06324968   0.69711039  36.55797127\n",
      "  37.70328777  14.69283714]\n",
      "finding mass curve\n",
      "---------------------------------------------------\n",
      "Status: 0  fit: [ -3.49960809 249.26854493   1.0632621    0.69711282  36.5580011\n",
      "  37.70329411  14.69299504]\n",
      "finding mass curve\n",
      "---------------------------------------------------\n",
      "Status: 0  fit: [ -3.50328291 251.28256394   1.06327523   0.69711519  36.55803347\n",
      "  37.70331039  14.69322859]\n",
      "finding mass curve\n",
      "---------------------------------------------------\n",
      "Status: 0  fit: [ -3.50688835 253.27605394   1.06327351   0.69711782  36.5580702\n",
      "  37.70332268  14.69343254]\n",
      "finding mass curve\n",
      "---------------------------------------------------\n",
      "Status: 0  fit: [ -3.51046481 255.26957042   1.06328648   0.69712026  36.55810513\n",
      "  37.70333856  14.69361659]\n",
      "finding mass curve\n",
      "---------------------------------------------------\n",
      "Status: 0  fit: [ -3.51401471 257.26532602   1.06330018   0.69712224  36.55813126\n",
      "  37.7033428   14.69376318]\n",
      "finding mass curve\n",
      "---------------------------------------------------\n",
      "Status: 0  fit: [ -3.51748117 259.22917593   1.06331233   0.69712481  36.55816484\n",
      "  37.70336428  14.69402219]\n",
      "finding mass curve\n",
      "---------------------------------------------------\n",
      "Status: 0  fit: [ -3.52094467 261.20758695   1.06332398   0.69712748  36.55820742\n",
      "  37.70338124  14.69417265]\n",
      "finding mass curve\n",
      "---------------------------------------------------\n",
      "Status: 0  fit: [ -3.524451   263.22228188   1.06334294   0.69712676  36.55822543\n",
      "  37.70331739  14.69364905]\n",
      "finding mass curve\n",
      "---------------------------------------------------\n",
      "Status: 0  fit: [ -3.52787364 265.20894779   1.06335296   0.69712989  36.55825247\n",
      "  37.70335507  14.69410884]\n",
      "finding mass curve\n",
      "---------------------------------------------------\n",
      "Status: 0  fit: [ -3.53124751 267.18156356   1.06336498   0.69713211  36.55828393\n",
      "  37.70337083  14.69429808]\n",
      "finding mass curve\n",
      "---------------------------------------------------\n",
      "Status: 0  fit: [ -3.53458648 269.14863828   1.06337724   0.69713405  36.5583129\n",
      "  37.70337825  14.69441889]\n",
      "finding mass curve\n",
      "---------------------------------------------------\n",
      "Status: 0  fit: [ -3.53788922 271.10927066   1.06338919   0.69713588  36.55833786\n",
      "  37.70338265  14.69454089]\n",
      "finding mass curve\n",
      "---------------------------------------------------\n",
      "Status: 0  fit: [ -3.54115601 273.06323699   1.06340099   0.69713769  36.55836449\n",
      "  37.70338837  14.6946478 ]\n",
      "finding mass curve\n",
      "---------------------------------------------------\n",
      "Status: 0  fit: [ -3.54441704 275.02855136   1.06341235   0.69713964  36.55839017\n",
      "  37.70339859  14.69480662]\n",
      "finding mass curve\n"
     ]
    },
    {
     "ename": "KeyboardInterrupt",
     "evalue": "",
     "output_type": "error",
     "traceback": [
      "\u001b[1;31m---------------------------------------------------------------------------\u001b[0m",
      "\u001b[1;31mKeyboardInterrupt\u001b[0m                         Traceback (most recent call last)",
      "\u001b[1;32m~\\AppData\\Local\\Temp\\ipykernel_21232\\2503758744.py\u001b[0m in \u001b[0;36m<module>\u001b[1;34m\u001b[0m\n\u001b[0;32m      1\u001b[0m \u001b[1;32mfor\u001b[0m \u001b[0mi\u001b[0m \u001b[1;32min\u001b[0m \u001b[0mrange\u001b[0m\u001b[1;33m(\u001b[0m\u001b[1;36m50\u001b[0m\u001b[1;33m)\u001b[0m\u001b[1;33m:\u001b[0m\u001b[1;33m\u001b[0m\u001b[1;33m\u001b[0m\u001b[0m\n\u001b[0;32m      2\u001b[0m     \u001b[0mparams\u001b[0m \u001b[1;33m=\u001b[0m \u001b[0mrho_h\u001b[0m\u001b[1;33m[\u001b[0m\u001b[1;33m-\u001b[0m\u001b[1;36m1\u001b[0m\u001b[1;33m]\u001b[0m\u001b[1;33m,\u001b[0m \u001b[0mRh\u001b[0m\u001b[1;33m[\u001b[0m\u001b[1;33m-\u001b[0m\u001b[1;36m1\u001b[0m\u001b[1;33m]\u001b[0m\u001b[1;33m,\u001b[0m \u001b[0maxis_ratio\u001b[0m\u001b[1;33m[\u001b[0m\u001b[1;33m-\u001b[0m\u001b[1;36m1\u001b[0m\u001b[1;33m]\u001b[0m\u001b[1;33m,\u001b[0m \u001b[0mphi\u001b[0m\u001b[1;33m[\u001b[0m\u001b[1;33m-\u001b[0m\u001b[1;36m1\u001b[0m\u001b[1;33m]\u001b[0m\u001b[1;33m,\u001b[0m \u001b[0mx0\u001b[0m\u001b[1;33m[\u001b[0m\u001b[1;33m-\u001b[0m\u001b[1;36m1\u001b[0m\u001b[1;33m]\u001b[0m\u001b[1;33m,\u001b[0m \u001b[0my0\u001b[0m\u001b[1;33m[\u001b[0m\u001b[1;33m-\u001b[0m\u001b[1;36m1\u001b[0m\u001b[1;33m]\u001b[0m\u001b[1;33m,\u001b[0m  \u001b[0mvsys\u001b[0m\u001b[1;33m[\u001b[0m\u001b[1;33m-\u001b[0m\u001b[1;36m1\u001b[0m\u001b[1;33m]\u001b[0m\u001b[1;33m\u001b[0m\u001b[1;33m\u001b[0m\u001b[0m\n\u001b[1;32m----> 3\u001b[1;33m     fit = combination_fit(sMass_density, sMass_density_err, maps['r_band'], maps['vmasked'], maps['ivarmasked'], vmap_mask, \\\n\u001b[0m\u001b[0;32m      4\u001b[0m                 sM_mask, params, z, gal_ID, \"NFW\")\n\u001b[0;32m      5\u001b[0m \u001b[1;33m\u001b[0m\u001b[0m\n",
      "\u001b[1;32m~\\Documents\\rotationcurves\\combin_fit_functions.py\u001b[0m in \u001b[0;36mcombination_fit\u001b[1;34m(sMass_density, sMass_density_err, r_band, vmap, ivar, vmap_mask, sM_mask, para_guesses, z, gal_ID, fit_function)\u001b[0m\n\u001b[0;32m     28\u001b[0m                                        shape, vmap, ivar, vmap_mask)\n\u001b[0;32m     29\u001b[0m     \u001b[1;32melif\u001b[0m \u001b[0mfit_function\u001b[0m \u001b[1;33m==\u001b[0m \u001b[1;34m'NFW'\u001b[0m\u001b[1;33m:\u001b[0m\u001b[1;33m\u001b[0m\u001b[1;33m\u001b[0m\u001b[0m\n\u001b[1;32m---> 30\u001b[1;33m         best_fit = parameterfit_NFW(param, param_outputs['rho_bulge'], param_outputs['R_bulge'],\\\n\u001b[0m\u001b[0;32m     31\u001b[0m                                        \u001b[0mparam_outputs\u001b[0m\u001b[1;33m[\u001b[0m\u001b[1;34m'Sigma_disk'\u001b[0m\u001b[1;33m]\u001b[0m\u001b[1;33m,\u001b[0m \u001b[0mparam_outputs\u001b[0m\u001b[1;33m[\u001b[0m\u001b[1;34m'R_disk'\u001b[0m\u001b[1;33m]\u001b[0m\u001b[1;33m,\u001b[0m \u001b[0mscale\u001b[0m\u001b[1;33m,\u001b[0m\u001b[0;31m\\\u001b[0m\u001b[1;33m\u001b[0m\u001b[1;33m\u001b[0m\u001b[0m\n\u001b[0;32m     32\u001b[0m                                        shape, vmap, ivar, vmap_mask)\n",
      "\u001b[1;32m~\\Documents\\rotationcurves\\rotation_fitfunctions.py\u001b[0m in \u001b[0;36mparameterfit_NFW\u001b[1;34m(params, rhob, Rb, SigD, Rd, scale, shape, vmap, ivar, mask)\u001b[0m\n\u001b[0;32m    329\u001b[0m     \u001b[1;31m# print(ig_iso)\u001b[0m\u001b[1;33m\u001b[0m\u001b[1;33m\u001b[0m\u001b[0m\n\u001b[0;32m    330\u001b[0m \u001b[1;33m\u001b[0m\u001b[0m\n\u001b[1;32m--> 331\u001b[1;33m     bestfit_NFW = minimize(nloglikelihood_NFW_flat,\n\u001b[0m\u001b[0;32m    332\u001b[0m                            \u001b[0mig_NFW\u001b[0m\u001b[1;33m,\u001b[0m\u001b[1;33m\u001b[0m\u001b[1;33m\u001b[0m\u001b[0m\n\u001b[0;32m    333\u001b[0m                            args=(rhob, Rb, SigD, Rd, scale, shape,\n",
      "\u001b[1;32m~\\anaconda3\\lib\\site-packages\\scipy\\optimize\\_minimize.py\u001b[0m in \u001b[0;36mminimize\u001b[1;34m(fun, x0, args, method, jac, hess, hessp, bounds, constraints, tol, callback, options)\u001b[0m\n\u001b[0;32m    688\u001b[0m                                    **options)\n\u001b[0;32m    689\u001b[0m     \u001b[1;32melif\u001b[0m \u001b[0mmeth\u001b[0m \u001b[1;33m==\u001b[0m \u001b[1;34m'powell'\u001b[0m\u001b[1;33m:\u001b[0m\u001b[1;33m\u001b[0m\u001b[1;33m\u001b[0m\u001b[0m\n\u001b[1;32m--> 690\u001b[1;33m         \u001b[0mres\u001b[0m \u001b[1;33m=\u001b[0m \u001b[0m_minimize_powell\u001b[0m\u001b[1;33m(\u001b[0m\u001b[0mfun\u001b[0m\u001b[1;33m,\u001b[0m \u001b[0mx0\u001b[0m\u001b[1;33m,\u001b[0m \u001b[0margs\u001b[0m\u001b[1;33m,\u001b[0m \u001b[0mcallback\u001b[0m\u001b[1;33m,\u001b[0m \u001b[0mbounds\u001b[0m\u001b[1;33m,\u001b[0m \u001b[1;33m**\u001b[0m\u001b[0moptions\u001b[0m\u001b[1;33m)\u001b[0m\u001b[1;33m\u001b[0m\u001b[1;33m\u001b[0m\u001b[0m\n\u001b[0m\u001b[0;32m    691\u001b[0m     \u001b[1;32melif\u001b[0m \u001b[0mmeth\u001b[0m \u001b[1;33m==\u001b[0m \u001b[1;34m'cg'\u001b[0m\u001b[1;33m:\u001b[0m\u001b[1;33m\u001b[0m\u001b[1;33m\u001b[0m\u001b[0m\n\u001b[0;32m    692\u001b[0m         \u001b[0mres\u001b[0m \u001b[1;33m=\u001b[0m \u001b[0m_minimize_cg\u001b[0m\u001b[1;33m(\u001b[0m\u001b[0mfun\u001b[0m\u001b[1;33m,\u001b[0m \u001b[0mx0\u001b[0m\u001b[1;33m,\u001b[0m \u001b[0margs\u001b[0m\u001b[1;33m,\u001b[0m \u001b[0mjac\u001b[0m\u001b[1;33m,\u001b[0m \u001b[0mcallback\u001b[0m\u001b[1;33m,\u001b[0m \u001b[1;33m**\u001b[0m\u001b[0moptions\u001b[0m\u001b[1;33m)\u001b[0m\u001b[1;33m\u001b[0m\u001b[1;33m\u001b[0m\u001b[0m\n",
      "\u001b[1;32m~\\anaconda3\\lib\\site-packages\\scipy\\optimize\\_optimize.py\u001b[0m in \u001b[0;36m_minimize_powell\u001b[1;34m(func, x0, args, callback, bounds, xtol, ftol, maxiter, maxfev, disp, direc, return_all, **unknown_options)\u001b[0m\n\u001b[0;32m   3180\u001b[0m                 \u001b[0mdirec1\u001b[0m \u001b[1;33m=\u001b[0m \u001b[0mdirec\u001b[0m\u001b[1;33m[\u001b[0m\u001b[0mi\u001b[0m\u001b[1;33m]\u001b[0m\u001b[1;33m\u001b[0m\u001b[1;33m\u001b[0m\u001b[0m\n\u001b[0;32m   3181\u001b[0m                 \u001b[0mfx2\u001b[0m \u001b[1;33m=\u001b[0m \u001b[0mfval\u001b[0m\u001b[1;33m\u001b[0m\u001b[1;33m\u001b[0m\u001b[0m\n\u001b[1;32m-> 3182\u001b[1;33m                 fval, x, direc1 = _linesearch_powell(func, x, direc1,\n\u001b[0m\u001b[0;32m   3183\u001b[0m                                                      \u001b[0mtol\u001b[0m\u001b[1;33m=\u001b[0m\u001b[0mxtol\u001b[0m \u001b[1;33m*\u001b[0m \u001b[1;36m100\u001b[0m\u001b[1;33m,\u001b[0m\u001b[1;33m\u001b[0m\u001b[1;33m\u001b[0m\u001b[0m\n\u001b[0;32m   3184\u001b[0m                                                      \u001b[0mlower_bound\u001b[0m\u001b[1;33m=\u001b[0m\u001b[0mlower_bound\u001b[0m\u001b[1;33m,\u001b[0m\u001b[1;33m\u001b[0m\u001b[1;33m\u001b[0m\u001b[0m\n",
      "\u001b[1;32m~\\anaconda3\\lib\\site-packages\\scipy\\optimize\\_optimize.py\u001b[0m in \u001b[0;36m_linesearch_powell\u001b[1;34m(func, p, xi, tol, lower_bound, upper_bound, fval)\u001b[0m\n\u001b[0;32m   2918\u001b[0m         \u001b[1;32melif\u001b[0m \u001b[1;32mnot\u001b[0m \u001b[0mnp\u001b[0m\u001b[1;33m.\u001b[0m\u001b[0misneginf\u001b[0m\u001b[1;33m(\u001b[0m\u001b[0mbound\u001b[0m\u001b[1;33m[\u001b[0m\u001b[1;36m0\u001b[0m\u001b[1;33m]\u001b[0m\u001b[1;33m)\u001b[0m \u001b[1;32mand\u001b[0m \u001b[1;32mnot\u001b[0m \u001b[0mnp\u001b[0m\u001b[1;33m.\u001b[0m\u001b[0misposinf\u001b[0m\u001b[1;33m(\u001b[0m\u001b[0mbound\u001b[0m\u001b[1;33m[\u001b[0m\u001b[1;36m1\u001b[0m\u001b[1;33m]\u001b[0m\u001b[1;33m)\u001b[0m\u001b[1;33m:\u001b[0m\u001b[1;33m\u001b[0m\u001b[1;33m\u001b[0m\u001b[0m\n\u001b[0;32m   2919\u001b[0m             \u001b[1;31m# we can use a bounded scalar minimization\u001b[0m\u001b[1;33m\u001b[0m\u001b[1;33m\u001b[0m\u001b[0m\n\u001b[1;32m-> 2920\u001b[1;33m             \u001b[0mres\u001b[0m \u001b[1;33m=\u001b[0m \u001b[0m_minimize_scalar_bounded\u001b[0m\u001b[1;33m(\u001b[0m\u001b[0mmyfunc\u001b[0m\u001b[1;33m,\u001b[0m \u001b[0mbound\u001b[0m\u001b[1;33m,\u001b[0m \u001b[0mxatol\u001b[0m\u001b[1;33m=\u001b[0m\u001b[0mtol\u001b[0m \u001b[1;33m/\u001b[0m \u001b[1;36m100\u001b[0m\u001b[1;33m)\u001b[0m\u001b[1;33m\u001b[0m\u001b[1;33m\u001b[0m\u001b[0m\n\u001b[0m\u001b[0;32m   2921\u001b[0m             \u001b[0mxi\u001b[0m \u001b[1;33m=\u001b[0m \u001b[0mres\u001b[0m\u001b[1;33m.\u001b[0m\u001b[0mx\u001b[0m \u001b[1;33m*\u001b[0m \u001b[0mxi\u001b[0m\u001b[1;33m\u001b[0m\u001b[1;33m\u001b[0m\u001b[0m\n\u001b[0;32m   2922\u001b[0m             \u001b[1;32mreturn\u001b[0m \u001b[0msqueeze\u001b[0m\u001b[1;33m(\u001b[0m\u001b[0mres\u001b[0m\u001b[1;33m.\u001b[0m\u001b[0mfun\u001b[0m\u001b[1;33m)\u001b[0m\u001b[1;33m,\u001b[0m \u001b[0mp\u001b[0m \u001b[1;33m+\u001b[0m \u001b[0mxi\u001b[0m\u001b[1;33m,\u001b[0m \u001b[0mxi\u001b[0m\u001b[1;33m\u001b[0m\u001b[1;33m\u001b[0m\u001b[0m\n",
      "\u001b[1;32m~\\anaconda3\\lib\\site-packages\\scipy\\optimize\\_optimize.py\u001b[0m in \u001b[0;36m_minimize_scalar_bounded\u001b[1;34m(func, bounds, args, xatol, maxiter, disp, **unknown_options)\u001b[0m\n\u001b[0;32m   2162\u001b[0m         \u001b[0msi\u001b[0m \u001b[1;33m=\u001b[0m \u001b[0mnp\u001b[0m\u001b[1;33m.\u001b[0m\u001b[0msign\u001b[0m\u001b[1;33m(\u001b[0m\u001b[0mrat\u001b[0m\u001b[1;33m)\u001b[0m \u001b[1;33m+\u001b[0m \u001b[1;33m(\u001b[0m\u001b[0mrat\u001b[0m \u001b[1;33m==\u001b[0m \u001b[1;36m0\u001b[0m\u001b[1;33m)\u001b[0m\u001b[1;33m\u001b[0m\u001b[1;33m\u001b[0m\u001b[0m\n\u001b[0;32m   2163\u001b[0m         \u001b[0mx\u001b[0m \u001b[1;33m=\u001b[0m \u001b[0mxf\u001b[0m \u001b[1;33m+\u001b[0m \u001b[0msi\u001b[0m \u001b[1;33m*\u001b[0m \u001b[0mnp\u001b[0m\u001b[1;33m.\u001b[0m\u001b[0mmaximum\u001b[0m\u001b[1;33m(\u001b[0m\u001b[0mnp\u001b[0m\u001b[1;33m.\u001b[0m\u001b[0mabs\u001b[0m\u001b[1;33m(\u001b[0m\u001b[0mrat\u001b[0m\u001b[1;33m)\u001b[0m\u001b[1;33m,\u001b[0m \u001b[0mtol1\u001b[0m\u001b[1;33m)\u001b[0m\u001b[1;33m\u001b[0m\u001b[1;33m\u001b[0m\u001b[0m\n\u001b[1;32m-> 2164\u001b[1;33m         \u001b[0mfu\u001b[0m \u001b[1;33m=\u001b[0m \u001b[0mfunc\u001b[0m\u001b[1;33m(\u001b[0m\u001b[0mx\u001b[0m\u001b[1;33m,\u001b[0m \u001b[1;33m*\u001b[0m\u001b[0margs\u001b[0m\u001b[1;33m)\u001b[0m\u001b[1;33m\u001b[0m\u001b[1;33m\u001b[0m\u001b[0m\n\u001b[0m\u001b[0;32m   2165\u001b[0m         \u001b[0mnum\u001b[0m \u001b[1;33m+=\u001b[0m \u001b[1;36m1\u001b[0m\u001b[1;33m\u001b[0m\u001b[1;33m\u001b[0m\u001b[0m\n\u001b[0;32m   2166\u001b[0m         \u001b[0mfmin_data\u001b[0m \u001b[1;33m=\u001b[0m \u001b[1;33m(\u001b[0m\u001b[0mnum\u001b[0m\u001b[1;33m,\u001b[0m \u001b[0mx\u001b[0m\u001b[1;33m,\u001b[0m \u001b[0mfu\u001b[0m\u001b[1;33m)\u001b[0m\u001b[1;33m\u001b[0m\u001b[1;33m\u001b[0m\u001b[0m\n",
      "\u001b[1;32m~\\anaconda3\\lib\\site-packages\\scipy\\optimize\\_optimize.py\u001b[0m in \u001b[0;36mmyfunc\u001b[1;34m(alpha)\u001b[0m\n\u001b[0;32m   2901\u001b[0m     \"\"\"\n\u001b[0;32m   2902\u001b[0m     \u001b[1;32mdef\u001b[0m \u001b[0mmyfunc\u001b[0m\u001b[1;33m(\u001b[0m\u001b[0malpha\u001b[0m\u001b[1;33m)\u001b[0m\u001b[1;33m:\u001b[0m\u001b[1;33m\u001b[0m\u001b[1;33m\u001b[0m\u001b[0m\n\u001b[1;32m-> 2903\u001b[1;33m         \u001b[1;32mreturn\u001b[0m \u001b[0mfunc\u001b[0m\u001b[1;33m(\u001b[0m\u001b[0mp\u001b[0m \u001b[1;33m+\u001b[0m \u001b[0malpha\u001b[0m\u001b[1;33m*\u001b[0m\u001b[0mxi\u001b[0m\u001b[1;33m)\u001b[0m\u001b[1;33m\u001b[0m\u001b[1;33m\u001b[0m\u001b[0m\n\u001b[0m\u001b[0;32m   2904\u001b[0m \u001b[1;33m\u001b[0m\u001b[0m\n\u001b[0;32m   2905\u001b[0m     \u001b[1;31m# if xi is zero, then don't optimize\u001b[0m\u001b[1;33m\u001b[0m\u001b[1;33m\u001b[0m\u001b[0m\n",
      "\u001b[1;32m~\\anaconda3\\lib\\site-packages\\scipy\\optimize\\_optimize.py\u001b[0m in \u001b[0;36mfunction_wrapper\u001b[1;34m(x, *wrapper_args)\u001b[0m\n\u001b[0;32m    494\u001b[0m         \u001b[0mncalls\u001b[0m\u001b[1;33m[\u001b[0m\u001b[1;36m0\u001b[0m\u001b[1;33m]\u001b[0m \u001b[1;33m+=\u001b[0m \u001b[1;36m1\u001b[0m\u001b[1;33m\u001b[0m\u001b[1;33m\u001b[0m\u001b[0m\n\u001b[0;32m    495\u001b[0m         \u001b[1;31m# A copy of x is sent to the user function (gh13740)\u001b[0m\u001b[1;33m\u001b[0m\u001b[1;33m\u001b[0m\u001b[0m\n\u001b[1;32m--> 496\u001b[1;33m         \u001b[0mfx\u001b[0m \u001b[1;33m=\u001b[0m \u001b[0mfunction\u001b[0m\u001b[1;33m(\u001b[0m\u001b[0mnp\u001b[0m\u001b[1;33m.\u001b[0m\u001b[0mcopy\u001b[0m\u001b[1;33m(\u001b[0m\u001b[0mx\u001b[0m\u001b[1;33m)\u001b[0m\u001b[1;33m,\u001b[0m \u001b[1;33m*\u001b[0m\u001b[1;33m(\u001b[0m\u001b[0mwrapper_args\u001b[0m \u001b[1;33m+\u001b[0m \u001b[0margs\u001b[0m\u001b[1;33m)\u001b[0m\u001b[1;33m)\u001b[0m\u001b[1;33m\u001b[0m\u001b[1;33m\u001b[0m\u001b[0m\n\u001b[0m\u001b[0;32m    497\u001b[0m         \u001b[1;31m# Ideally, we'd like to a have a true scalar returned from f(x). For\u001b[0m\u001b[1;33m\u001b[0m\u001b[1;33m\u001b[0m\u001b[0m\n\u001b[0;32m    498\u001b[0m         \u001b[1;31m# backwards-compatibility, also allow np.array([1.3]),\u001b[0m\u001b[1;33m\u001b[0m\u001b[1;33m\u001b[0m\u001b[0m\n",
      "\u001b[1;32m~\\Documents\\rotationcurves\\rotation_fitfunctions.py\u001b[0m in \u001b[0;36mnloglikelihood_NFW_flat\u001b[1;34m(params, rhob, Rb, SigD, Rd, scale, shape, vdata_flat, ivar_flat, mask)\u001b[0m\n\u001b[0;32m    196\u001b[0m \u001b[1;33m\u001b[0m\u001b[0m\n\u001b[0;32m    197\u001b[0m \u001b[1;32mdef\u001b[0m \u001b[0mnloglikelihood_NFW_flat\u001b[0m\u001b[1;33m(\u001b[0m\u001b[0mparams\u001b[0m\u001b[1;33m,\u001b[0m \u001b[0mrhob\u001b[0m\u001b[1;33m,\u001b[0m \u001b[0mRb\u001b[0m\u001b[1;33m,\u001b[0m \u001b[0mSigD\u001b[0m\u001b[1;33m,\u001b[0m \u001b[0mRd\u001b[0m\u001b[1;33m,\u001b[0m \u001b[0mscale\u001b[0m\u001b[1;33m,\u001b[0m \u001b[0mshape\u001b[0m\u001b[1;33m,\u001b[0m \u001b[0mvdata_flat\u001b[0m\u001b[1;33m,\u001b[0m \u001b[0mivar_flat\u001b[0m\u001b[1;33m,\u001b[0m \u001b[0mmask\u001b[0m\u001b[1;33m)\u001b[0m\u001b[1;33m:\u001b[0m\u001b[1;33m\u001b[0m\u001b[1;33m\u001b[0m\u001b[0m\n\u001b[1;32m--> 198\u001b[1;33m     \u001b[1;32mreturn\u001b[0m \u001b[1;33m-\u001b[0m\u001b[0mloglikelihood_NFW_flat\u001b[0m\u001b[1;33m(\u001b[0m\u001b[0mparams\u001b[0m\u001b[1;33m,\u001b[0m \u001b[0mrhob\u001b[0m\u001b[1;33m,\u001b[0m \u001b[0mRb\u001b[0m\u001b[1;33m,\u001b[0m \u001b[0mSigD\u001b[0m\u001b[1;33m,\u001b[0m \u001b[0mRd\u001b[0m\u001b[1;33m,\u001b[0m \u001b[0mscale\u001b[0m\u001b[1;33m,\u001b[0m \u001b[0mshape\u001b[0m\u001b[1;33m,\u001b[0m \u001b[0mvdata_flat\u001b[0m\u001b[1;33m,\u001b[0m \u001b[0mivar_flat\u001b[0m\u001b[1;33m,\u001b[0m \u001b[0mmask\u001b[0m\u001b[1;33m)\u001b[0m\u001b[1;33m\u001b[0m\u001b[1;33m\u001b[0m\u001b[0m\n\u001b[0m\u001b[0;32m    199\u001b[0m \u001b[1;33m\u001b[0m\u001b[0m\n\u001b[0;32m    200\u001b[0m \u001b[1;33m\u001b[0m\u001b[0m\n",
      "\u001b[1;32m~\\Documents\\rotationcurves\\rotation_fitfunctions.py\u001b[0m in \u001b[0;36mloglikelihood_NFW_flat\u001b[1;34m(params, rhob, Rb, SigD, Rd, scale, shape, vdata_flat, ivar_flat, mask)\u001b[0m\n\u001b[0;32m    185\u001b[0m     \u001b[1;31m# Construct the model\u001b[0m\u001b[1;33m\u001b[0m\u001b[1;33m\u001b[0m\u001b[0m\n\u001b[0;32m    186\u001b[0m     \u001b[1;31m# ---------------------------------------------------------------------------\u001b[0m\u001b[1;33m\u001b[0m\u001b[1;33m\u001b[0m\u001b[0m\n\u001b[1;32m--> 187\u001b[1;33m     \u001b[0mmodel\u001b[0m \u001b[1;33m=\u001b[0m \u001b[0mrot_incl_NFW\u001b[0m\u001b[1;33m(\u001b[0m\u001b[0mshape\u001b[0m\u001b[1;33m,\u001b[0m \u001b[0mscale\u001b[0m\u001b[1;33m,\u001b[0m \u001b[0mtotal_param\u001b[0m\u001b[1;33m)\u001b[0m\u001b[1;33m\u001b[0m\u001b[1;33m\u001b[0m\u001b[0m\n\u001b[0m\u001b[0;32m    188\u001b[0m     \u001b[0mmodel_masked\u001b[0m \u001b[1;33m=\u001b[0m \u001b[0mma\u001b[0m\u001b[1;33m.\u001b[0m\u001b[0marray\u001b[0m\u001b[1;33m(\u001b[0m\u001b[0mmodel\u001b[0m\u001b[1;33m,\u001b[0m \u001b[0mmask\u001b[0m\u001b[1;33m=\u001b[0m\u001b[0mmask\u001b[0m\u001b[1;33m)\u001b[0m\u001b[1;33m\u001b[0m\u001b[1;33m\u001b[0m\u001b[0m\n\u001b[0;32m    189\u001b[0m     \u001b[0mmodel_flat\u001b[0m \u001b[1;33m=\u001b[0m \u001b[0mmodel_masked\u001b[0m\u001b[1;33m.\u001b[0m\u001b[0mcompressed\u001b[0m\u001b[1;33m(\u001b[0m\u001b[1;33m)\u001b[0m\u001b[1;33m\u001b[0m\u001b[1;33m\u001b[0m\u001b[0m\n",
      "\u001b[1;32m~\\Documents\\rotationcurves\\rotation_fitfunctions.py\u001b[0m in \u001b[0;36mrot_incl_NFW\u001b[1;34m(shape, scale, params)\u001b[0m\n\u001b[0;32m    253\u001b[0m     \u001b[1;32mfor\u001b[0m \u001b[0mi\u001b[0m \u001b[1;32min\u001b[0m \u001b[0mrange\u001b[0m\u001b[1;33m(\u001b[0m\u001b[0mshape\u001b[0m\u001b[1;33m[\u001b[0m\u001b[1;36m0\u001b[0m\u001b[1;33m]\u001b[0m\u001b[1;33m)\u001b[0m\u001b[1;33m:\u001b[0m\u001b[1;33m\u001b[0m\u001b[1;33m\u001b[0m\u001b[0m\n\u001b[0;32m    254\u001b[0m         \u001b[1;32mfor\u001b[0m \u001b[0mj\u001b[0m \u001b[1;32min\u001b[0m \u001b[0mrange\u001b[0m\u001b[1;33m(\u001b[0m\u001b[0mshape\u001b[0m\u001b[1;33m[\u001b[0m\u001b[1;36m1\u001b[0m\u001b[1;33m]\u001b[0m\u001b[1;33m)\u001b[0m\u001b[1;33m:\u001b[0m\u001b[1;33m\u001b[0m\u001b[1;33m\u001b[0m\u001b[0m\n\u001b[1;32m--> 255\u001b[1;33m             \u001b[0mx\u001b[0m \u001b[1;33m=\u001b[0m \u001b[1;33m(\u001b[0m\u001b[1;33m(\u001b[0m\u001b[0mj\u001b[0m \u001b[1;33m-\u001b[0m \u001b[0mcenter_x\u001b[0m\u001b[1;33m)\u001b[0m \u001b[1;33m*\u001b[0m \u001b[0mnp\u001b[0m\u001b[1;33m.\u001b[0m\u001b[0mcos\u001b[0m\u001b[1;33m(\u001b[0m\u001b[0mphi\u001b[0m\u001b[1;33m)\u001b[0m \u001b[1;33m+\u001b[0m \u001b[0mnp\u001b[0m\u001b[1;33m.\u001b[0m\u001b[0msin\u001b[0m\u001b[1;33m(\u001b[0m\u001b[0mphi\u001b[0m\u001b[1;33m)\u001b[0m \u001b[1;33m*\u001b[0m \u001b[1;33m(\u001b[0m\u001b[0mi\u001b[0m \u001b[1;33m-\u001b[0m \u001b[0mcenter_y\u001b[0m\u001b[1;33m)\u001b[0m\u001b[1;33m)\u001b[0m \u001b[1;33m/\u001b[0m \u001b[0mnp\u001b[0m\u001b[1;33m.\u001b[0m\u001b[0mcos\u001b[0m\u001b[1;33m(\u001b[0m\u001b[0minclination\u001b[0m\u001b[1;33m)\u001b[0m\u001b[1;33m\u001b[0m\u001b[1;33m\u001b[0m\u001b[0m\n\u001b[0m\u001b[0;32m    256\u001b[0m             \u001b[0my\u001b[0m \u001b[1;33m=\u001b[0m \u001b[1;33m(\u001b[0m\u001b[1;33m-\u001b[0m\u001b[1;33m(\u001b[0m\u001b[0mj\u001b[0m \u001b[1;33m-\u001b[0m \u001b[0mcenter_x\u001b[0m\u001b[1;33m)\u001b[0m \u001b[1;33m*\u001b[0m \u001b[0mnp\u001b[0m\u001b[1;33m.\u001b[0m\u001b[0msin\u001b[0m\u001b[1;33m(\u001b[0m\u001b[0mphi\u001b[0m\u001b[1;33m)\u001b[0m \u001b[1;33m+\u001b[0m \u001b[0mnp\u001b[0m\u001b[1;33m.\u001b[0m\u001b[0mcos\u001b[0m\u001b[1;33m(\u001b[0m\u001b[0mphi\u001b[0m\u001b[1;33m)\u001b[0m \u001b[1;33m*\u001b[0m \u001b[1;33m(\u001b[0m\u001b[0mi\u001b[0m \u001b[1;33m-\u001b[0m \u001b[0mcenter_y\u001b[0m\u001b[1;33m)\u001b[0m\u001b[1;33m)\u001b[0m\u001b[1;33m\u001b[0m\u001b[1;33m\u001b[0m\u001b[0m\n\u001b[0;32m    257\u001b[0m             \u001b[0mr\u001b[0m \u001b[1;33m=\u001b[0m \u001b[0mnp\u001b[0m\u001b[1;33m.\u001b[0m\u001b[0msqrt\u001b[0m\u001b[1;33m(\u001b[0m\u001b[0mx\u001b[0m \u001b[1;33m**\u001b[0m \u001b[1;36m2\u001b[0m \u001b[1;33m+\u001b[0m \u001b[0my\u001b[0m \u001b[1;33m**\u001b[0m \u001b[1;36m2\u001b[0m\u001b[1;33m)\u001b[0m\u001b[1;33m\u001b[0m\u001b[1;33m\u001b[0m\u001b[0m\n",
      "\u001b[1;31mKeyboardInterrupt\u001b[0m: "
     ]
    }
   ],
   "source": [
    "for i in range(50):\n",
    "    params = rho_h[-1], Rh[-1], axis_ratio[-1], phi[-1], x0[-1], y0[-1],  vsys[-1]\n",
    "    fit = combination_fit(sMass_density, sMass_density_err, maps['r_band'], maps['vmasked'], maps['ivarmasked'], vmap_mask, \\\n",
    "                sM_mask, params, z, gal_ID, \"NFW\")\n",
    "    \n",
    "    x0.append(fit[8])\n",
    "    y0.append(fit[9])\n",
    "    axis_ratio.append(find_axis_ratio(fit[6]))\n",
    "    phi.append(fit[7])\n",
    "    rho_h.append(fit[4])\n",
    "    Rh.append(fit[5])\n",
    "    vsys.append(fit[10])\n",
    "    \"\"\"if np.abs(x0[-2]-x0[-1])<1 and np.abs(y0[-2]-y0[-1])<1 and np.abs(phi[-2]-phi[-1])<0.00017 and \\\n",
    "        np.abs(axis_ratio[-2]-axis_ratio[-1])<0.001 and np.abs(vsys[-2]-vsys[-1])<0.01:\n",
    "        break\n",
    "    \"\"\"\n",
    "    "
   ]
  },
  {
   "cell_type": "code",
   "execution_count": 11,
   "id": "083bf350",
   "metadata": {},
   "outputs": [
    {
     "name": "stdout",
     "output_type": "stream",
     "text": [
      "[37, 36.601317634646975, 36.58787688702797, 36.59054333919501, 36.5930250404196]\n"
     ]
    }
   ],
   "source": [
    "print(x0)"
   ]
  },
  {
   "cell_type": "code",
   "execution_count": 33,
   "id": "81b5074f",
   "metadata": {},
   "outputs": [
    {
     "data": {
      "text/plain": [
       "[<matplotlib.lines.Line2D at 0x1735c0118e0>]"
      ]
     },
     "execution_count": 33,
     "metadata": {},
     "output_type": "execute_result"
    },
    {
     "data": {
      "image/png": "[encoded data removed]",
      "text/plain": [
       "<Figure size 640x480 with 1 Axes>"
      ]
     },
     "metadata": {},
     "output_type": "display_data"
    }
   ],
   "source": [
    "plt.plot(x0[10:])"
   ]
  },
  {
   "cell_type": "code",
   "execution_count": 182,
   "id": "eba7ff20",
   "metadata": {},
   "outputs": [
    {
     "name": "stdout",
     "output_type": "stream",
     "text": [
      "0\n",
      "1\n",
      "2\n",
      "3\n",
      "4\n",
      "5\n",
      "6\n",
      "7\n",
      "8\n",
      "9\n",
      "10\n",
      "11\n",
      "12\n",
      "13\n",
      "14\n",
      "15\n",
      "16\n",
      "17\n",
      "18\n",
      "19\n",
      "20\n",
      "21\n",
      "22\n",
      "23\n",
      "24\n",
      "25\n",
      "26\n",
      "27\n",
      "28\n",
      "29\n",
      "30\n",
      "31\n",
      "32\n",
      "33\n",
      "34\n",
      "35\n",
      "36\n",
      "37\n",
      "38\n",
      "39\n",
      "40\n",
      "41\n",
      "42\n",
      "43\n",
      "44\n",
      "45\n",
      "46\n",
      "47\n",
      "48\n",
      "49\n",
      "50\n"
     ]
    },
    {
     "ename": "IndexError",
     "evalue": "list index out of range",
     "output_type": "error",
     "traceback": [
      "\u001b[1;31m---------------------------------------------------------------------------\u001b[0m",
      "\u001b[1;31mIndexError\u001b[0m                                Traceback (most recent call last)",
      "\u001b[1;32m~\\AppData\\Local\\Temp\\ipykernel_7624\\1195590801.py\u001b[0m in \u001b[0;36m<module>\u001b[1;34m\u001b[0m\n\u001b[0;32m      9\u001b[0m \u001b[1;32mfor\u001b[0m \u001b[0mi\u001b[0m \u001b[1;32min\u001b[0m \u001b[0mrange\u001b[0m\u001b[1;33m(\u001b[0m\u001b[1;36m51\u001b[0m\u001b[1;33m)\u001b[0m\u001b[1;33m:\u001b[0m\u001b[1;33m\u001b[0m\u001b[1;33m\u001b[0m\u001b[0m\n\u001b[0;32m     10\u001b[0m     \u001b[0mprint\u001b[0m\u001b[1;33m(\u001b[0m\u001b[0mi\u001b[0m\u001b[1;33m)\u001b[0m\u001b[1;33m\u001b[0m\u001b[1;33m\u001b[0m\u001b[0m\n\u001b[1;32m---> 11\u001b[1;33m     \u001b[0mx0diff\u001b[0m\u001b[1;33m.\u001b[0m\u001b[0mappend\u001b[0m\u001b[1;33m(\u001b[0m\u001b[0mnp\u001b[0m\u001b[1;33m.\u001b[0m\u001b[0mabs\u001b[0m\u001b[1;33m(\u001b[0m\u001b[0mx0\u001b[0m\u001b[1;33m[\u001b[0m\u001b[0mi\u001b[0m\u001b[1;33m+\u001b[0m\u001b[1;36m1\u001b[0m\u001b[1;33m]\u001b[0m\u001b[1;33m-\u001b[0m\u001b[0mx0\u001b[0m\u001b[1;33m[\u001b[0m\u001b[0mi\u001b[0m\u001b[1;33m]\u001b[0m\u001b[1;33m)\u001b[0m\u001b[1;33m)\u001b[0m\u001b[1;33m\u001b[0m\u001b[1;33m\u001b[0m\u001b[0m\n\u001b[0m\u001b[0;32m     12\u001b[0m     \u001b[0my0diff\u001b[0m\u001b[1;33m.\u001b[0m\u001b[0mappend\u001b[0m\u001b[1;33m(\u001b[0m\u001b[0mnp\u001b[0m\u001b[1;33m.\u001b[0m\u001b[0mabs\u001b[0m\u001b[1;33m(\u001b[0m\u001b[0my0\u001b[0m\u001b[1;33m[\u001b[0m\u001b[0mi\u001b[0m\u001b[1;33m+\u001b[0m\u001b[1;36m1\u001b[0m\u001b[1;33m]\u001b[0m\u001b[1;33m-\u001b[0m\u001b[0my0\u001b[0m\u001b[1;33m[\u001b[0m\u001b[0mi\u001b[0m\u001b[1;33m]\u001b[0m\u001b[1;33m)\u001b[0m\u001b[1;33m)\u001b[0m\u001b[1;33m\u001b[0m\u001b[1;33m\u001b[0m\u001b[0m\n\u001b[0;32m     13\u001b[0m     \u001b[0mphidiff\u001b[0m\u001b[1;33m.\u001b[0m\u001b[0mappend\u001b[0m\u001b[1;33m(\u001b[0m\u001b[0mnp\u001b[0m\u001b[1;33m.\u001b[0m\u001b[0mabs\u001b[0m\u001b[1;33m(\u001b[0m\u001b[0mphi\u001b[0m\u001b[1;33m[\u001b[0m\u001b[0mi\u001b[0m\u001b[1;33m+\u001b[0m\u001b[1;36m1\u001b[0m\u001b[1;33m]\u001b[0m\u001b[1;33m-\u001b[0m\u001b[0mphi\u001b[0m\u001b[1;33m[\u001b[0m\u001b[0mi\u001b[0m\u001b[1;33m]\u001b[0m\u001b[1;33m)\u001b[0m\u001b[1;33m)\u001b[0m\u001b[1;33m\u001b[0m\u001b[1;33m\u001b[0m\u001b[0m\n",
      "\u001b[1;31mIndexError\u001b[0m: list index out of range"
     ]
    }
   ],
   "source": [
    "x0diff = []\n",
    "y0diff = []\n",
    "phidiff = []\n",
    "axis_ratiodiff = []\n",
    "rho_hdiff = []\n",
    "Rhdiff = []\n",
    "vsysdiff = []\n",
    "\n",
    "for i in range(51):\n",
    "    print(i)\n",
    "    x0diff.append(np.abs(x0[i+1]-x0[i]))\n",
    "    y0diff.append(np.abs(y0[i+1]-y0[i]))\n",
    "    phidiff.append(np.abs(phi[i+1]-phi[i]))\n",
    "    axis_ratiodiff.append(np.abs( axis_ratio[i+1]-axis_ratio[i]))\n",
    "    rho_hdiff.append(np.abs(rho_h[i+1]-rho_h[i]))\n",
    "    Rhdiff.append(np.abs(Rh[i+1]-Rh[i]))\n",
    "    vsysdiff.append(np.abs(vsys[i+1]-vsys[i]))"
   ]
  },
  {
   "cell_type": "code",
   "execution_count": 196,
   "id": "7bab7304",
   "metadata": {},
   "outputs": [
    {
     "data": {
      "image/png": "[encoded data removed]",
      "text/plain": [
       "<Figure size 640x480 with 1 Axes>"
      ]
     },
     "metadata": {},
     "output_type": "display_data"
    }
   ],
   "source": [
    "r = range(2,51)\n",
    "plt.plot(r,x0diff[1:50])\n",
    "plt.plot(r,y0diff[1:50])\n",
    "plt.plot(r,phidiff[1:50])\n",
    "plt.plot(r,axis_ratiodiff[1:50])\n",
    "plt.plot(r,rho_hdiff[1:50])\n",
    "plt.plot(r,Rhdiff[1:50])\n",
    "plt.plot(r,vsysdiff[1:50])\n",
    "plt.legend(['X0','Y0','phi','axis ratio', 'rhoh', 'Rh','vsys'])\n",
    "plt.xticks(np.arange(0, 50, step=2))\n",
    "plt.xlabel(\"Iteration\")\n",
    "plt.ylabel(\"Change from last iteration\")\n",
    "#plt.yscale('log')\n",
    "plt.title('Difference of Fit parameters')\n",
    "plt.xlim([1,50])\n",
    "#plt.ylim([0,5])\n",
    "plt.savefig('isodifferenceoffitparameters')"
   ]
  },
  {
   "cell_type": "code",
   "execution_count": 138,
   "id": "dea16de7",
   "metadata": {},
   "outputs": [
    {
     "ename": "ValueError",
     "evalue": "x and y must have same first dimension, but have shapes (20,) and (50,)",
     "output_type": "error",
     "traceback": [
      "\u001b[1;31m---------------------------------------------------------------------------\u001b[0m",
      "\u001b[1;31mValueError\u001b[0m                                Traceback (most recent call last)",
      "\u001b[1;32m~\\AppData\\Local\\Temp\\ipykernel_7624\\1897026765.py\u001b[0m in \u001b[0;36m<module>\u001b[1;34m\u001b[0m\n\u001b[0;32m      1\u001b[0m \u001b[0mr\u001b[0m \u001b[1;33m=\u001b[0m \u001b[0mrange\u001b[0m\u001b[1;33m(\u001b[0m\u001b[1;36m2\u001b[0m\u001b[1;33m,\u001b[0m\u001b[1;36m22\u001b[0m\u001b[1;33m)\u001b[0m\u001b[1;33m\u001b[0m\u001b[1;33m\u001b[0m\u001b[0m\n\u001b[1;32m----> 2\u001b[1;33m \u001b[0mplt\u001b[0m\u001b[1;33m.\u001b[0m\u001b[0mplot\u001b[0m\u001b[1;33m(\u001b[0m\u001b[0mr\u001b[0m\u001b[1;33m,\u001b[0m\u001b[0mx0diff\u001b[0m\u001b[1;33m)\u001b[0m\u001b[1;33m\u001b[0m\u001b[1;33m\u001b[0m\u001b[0m\n\u001b[0m\u001b[0;32m      3\u001b[0m \u001b[0mplt\u001b[0m\u001b[1;33m.\u001b[0m\u001b[0mplot\u001b[0m\u001b[1;33m(\u001b[0m\u001b[0mr\u001b[0m\u001b[1;33m,\u001b[0m\u001b[0my0diff\u001b[0m\u001b[1;33m)\u001b[0m\u001b[1;33m\u001b[0m\u001b[1;33m\u001b[0m\u001b[0m\n\u001b[0;32m      4\u001b[0m \u001b[0mplt\u001b[0m\u001b[1;33m.\u001b[0m\u001b[0mplot\u001b[0m\u001b[1;33m(\u001b[0m\u001b[0mr\u001b[0m\u001b[1;33m,\u001b[0m\u001b[0mphidiff\u001b[0m\u001b[1;33m)\u001b[0m\u001b[1;33m\u001b[0m\u001b[1;33m\u001b[0m\u001b[0m\n\u001b[0;32m      5\u001b[0m \u001b[0mplt\u001b[0m\u001b[1;33m.\u001b[0m\u001b[0mplot\u001b[0m\u001b[1;33m(\u001b[0m\u001b[0mr\u001b[0m\u001b[1;33m,\u001b[0m\u001b[0maxis_ratiodiff\u001b[0m\u001b[1;33m)\u001b[0m\u001b[1;33m\u001b[0m\u001b[1;33m\u001b[0m\u001b[0m\n",
      "\u001b[1;32m~\\anaconda3\\lib\\site-packages\\matplotlib\\pyplot.py\u001b[0m in \u001b[0;36mplot\u001b[1;34m(scalex, scaley, data, *args, **kwargs)\u001b[0m\n\u001b[0;32m   2767\u001b[0m \u001b[1;33m@\u001b[0m\u001b[0m_copy_docstring_and_deprecators\u001b[0m\u001b[1;33m(\u001b[0m\u001b[0mAxes\u001b[0m\u001b[1;33m.\u001b[0m\u001b[0mplot\u001b[0m\u001b[1;33m)\u001b[0m\u001b[1;33m\u001b[0m\u001b[1;33m\u001b[0m\u001b[0m\n\u001b[0;32m   2768\u001b[0m \u001b[1;32mdef\u001b[0m \u001b[0mplot\u001b[0m\u001b[1;33m(\u001b[0m\u001b[1;33m*\u001b[0m\u001b[0margs\u001b[0m\u001b[1;33m,\u001b[0m \u001b[0mscalex\u001b[0m\u001b[1;33m=\u001b[0m\u001b[1;32mTrue\u001b[0m\u001b[1;33m,\u001b[0m \u001b[0mscaley\u001b[0m\u001b[1;33m=\u001b[0m\u001b[1;32mTrue\u001b[0m\u001b[1;33m,\u001b[0m \u001b[0mdata\u001b[0m\u001b[1;33m=\u001b[0m\u001b[1;32mNone\u001b[0m\u001b[1;33m,\u001b[0m \u001b[1;33m**\u001b[0m\u001b[0mkwargs\u001b[0m\u001b[1;33m)\u001b[0m\u001b[1;33m:\u001b[0m\u001b[1;33m\u001b[0m\u001b[1;33m\u001b[0m\u001b[0m\n\u001b[1;32m-> 2769\u001b[1;33m     return gca().plot(\n\u001b[0m\u001b[0;32m   2770\u001b[0m         \u001b[1;33m*\u001b[0m\u001b[0margs\u001b[0m\u001b[1;33m,\u001b[0m \u001b[0mscalex\u001b[0m\u001b[1;33m=\u001b[0m\u001b[0mscalex\u001b[0m\u001b[1;33m,\u001b[0m \u001b[0mscaley\u001b[0m\u001b[1;33m=\u001b[0m\u001b[0mscaley\u001b[0m\u001b[1;33m,\u001b[0m\u001b[1;33m\u001b[0m\u001b[1;33m\u001b[0m\u001b[0m\n\u001b[0;32m   2771\u001b[0m         **({\"data\": data} if data is not None else {}), **kwargs)\n",
      "\u001b[1;32m~\\anaconda3\\lib\\site-packages\\matplotlib\\axes\\_axes.py\u001b[0m in \u001b[0;36mplot\u001b[1;34m(self, scalex, scaley, data, *args, **kwargs)\u001b[0m\n\u001b[0;32m   1630\u001b[0m         \"\"\"\n\u001b[0;32m   1631\u001b[0m         \u001b[0mkwargs\u001b[0m \u001b[1;33m=\u001b[0m \u001b[0mcbook\u001b[0m\u001b[1;33m.\u001b[0m\u001b[0mnormalize_kwargs\u001b[0m\u001b[1;33m(\u001b[0m\u001b[0mkwargs\u001b[0m\u001b[1;33m,\u001b[0m \u001b[0mmlines\u001b[0m\u001b[1;33m.\u001b[0m\u001b[0mLine2D\u001b[0m\u001b[1;33m)\u001b[0m\u001b[1;33m\u001b[0m\u001b[1;33m\u001b[0m\u001b[0m\n\u001b[1;32m-> 1632\u001b[1;33m         \u001b[0mlines\u001b[0m \u001b[1;33m=\u001b[0m \u001b[1;33m[\u001b[0m\u001b[1;33m*\u001b[0m\u001b[0mself\u001b[0m\u001b[1;33m.\u001b[0m\u001b[0m_get_lines\u001b[0m\u001b[1;33m(\u001b[0m\u001b[1;33m*\u001b[0m\u001b[0margs\u001b[0m\u001b[1;33m,\u001b[0m \u001b[0mdata\u001b[0m\u001b[1;33m=\u001b[0m\u001b[0mdata\u001b[0m\u001b[1;33m,\u001b[0m \u001b[1;33m**\u001b[0m\u001b[0mkwargs\u001b[0m\u001b[1;33m)\u001b[0m\u001b[1;33m]\u001b[0m\u001b[1;33m\u001b[0m\u001b[1;33m\u001b[0m\u001b[0m\n\u001b[0m\u001b[0;32m   1633\u001b[0m         \u001b[1;32mfor\u001b[0m \u001b[0mline\u001b[0m \u001b[1;32min\u001b[0m \u001b[0mlines\u001b[0m\u001b[1;33m:\u001b[0m\u001b[1;33m\u001b[0m\u001b[1;33m\u001b[0m\u001b[0m\n\u001b[0;32m   1634\u001b[0m             \u001b[0mself\u001b[0m\u001b[1;33m.\u001b[0m\u001b[0madd_line\u001b[0m\u001b[1;33m(\u001b[0m\u001b[0mline\u001b[0m\u001b[1;33m)\u001b[0m\u001b[1;33m\u001b[0m\u001b[1;33m\u001b[0m\u001b[0m\n",
      "\u001b[1;32m~\\anaconda3\\lib\\site-packages\\matplotlib\\axes\\_base.py\u001b[0m in \u001b[0;36m__call__\u001b[1;34m(self, data, *args, **kwargs)\u001b[0m\n\u001b[0;32m    310\u001b[0m                 \u001b[0mthis\u001b[0m \u001b[1;33m+=\u001b[0m \u001b[0margs\u001b[0m\u001b[1;33m[\u001b[0m\u001b[1;36m0\u001b[0m\u001b[1;33m]\u001b[0m\u001b[1;33m,\u001b[0m\u001b[1;33m\u001b[0m\u001b[1;33m\u001b[0m\u001b[0m\n\u001b[0;32m    311\u001b[0m                 \u001b[0margs\u001b[0m \u001b[1;33m=\u001b[0m \u001b[0margs\u001b[0m\u001b[1;33m[\u001b[0m\u001b[1;36m1\u001b[0m\u001b[1;33m:\u001b[0m\u001b[1;33m]\u001b[0m\u001b[1;33m\u001b[0m\u001b[1;33m\u001b[0m\u001b[0m\n\u001b[1;32m--> 312\u001b[1;33m             \u001b[1;32myield\u001b[0m \u001b[1;32mfrom\u001b[0m \u001b[0mself\u001b[0m\u001b[1;33m.\u001b[0m\u001b[0m_plot_args\u001b[0m\u001b[1;33m(\u001b[0m\u001b[0mthis\u001b[0m\u001b[1;33m,\u001b[0m \u001b[0mkwargs\u001b[0m\u001b[1;33m)\u001b[0m\u001b[1;33m\u001b[0m\u001b[1;33m\u001b[0m\u001b[0m\n\u001b[0m\u001b[0;32m    313\u001b[0m \u001b[1;33m\u001b[0m\u001b[0m\n\u001b[0;32m    314\u001b[0m     \u001b[1;32mdef\u001b[0m \u001b[0mget_next_color\u001b[0m\u001b[1;33m(\u001b[0m\u001b[0mself\u001b[0m\u001b[1;33m)\u001b[0m\u001b[1;33m:\u001b[0m\u001b[1;33m\u001b[0m\u001b[1;33m\u001b[0m\u001b[0m\n",
      "\u001b[1;32m~\\anaconda3\\lib\\site-packages\\matplotlib\\axes\\_base.py\u001b[0m in \u001b[0;36m_plot_args\u001b[1;34m(self, tup, kwargs, return_kwargs)\u001b[0m\n\u001b[0;32m    496\u001b[0m \u001b[1;33m\u001b[0m\u001b[0m\n\u001b[0;32m    497\u001b[0m         \u001b[1;32mif\u001b[0m \u001b[0mx\u001b[0m\u001b[1;33m.\u001b[0m\u001b[0mshape\u001b[0m\u001b[1;33m[\u001b[0m\u001b[1;36m0\u001b[0m\u001b[1;33m]\u001b[0m \u001b[1;33m!=\u001b[0m \u001b[0my\u001b[0m\u001b[1;33m.\u001b[0m\u001b[0mshape\u001b[0m\u001b[1;33m[\u001b[0m\u001b[1;36m0\u001b[0m\u001b[1;33m]\u001b[0m\u001b[1;33m:\u001b[0m\u001b[1;33m\u001b[0m\u001b[1;33m\u001b[0m\u001b[0m\n\u001b[1;32m--> 498\u001b[1;33m             raise ValueError(f\"x and y must have same first dimension, but \"\n\u001b[0m\u001b[0;32m    499\u001b[0m                              f\"have shapes {x.shape} and {y.shape}\")\n\u001b[0;32m    500\u001b[0m         \u001b[1;32mif\u001b[0m \u001b[0mx\u001b[0m\u001b[1;33m.\u001b[0m\u001b[0mndim\u001b[0m \u001b[1;33m>\u001b[0m \u001b[1;36m2\u001b[0m \u001b[1;32mor\u001b[0m \u001b[0my\u001b[0m\u001b[1;33m.\u001b[0m\u001b[0mndim\u001b[0m \u001b[1;33m>\u001b[0m \u001b[1;36m2\u001b[0m\u001b[1;33m:\u001b[0m\u001b[1;33m\u001b[0m\u001b[1;33m\u001b[0m\u001b[0m\n",
      "\u001b[1;31mValueError\u001b[0m: x and y must have same first dimension, but have shapes (20,) and (50,)"
     ]
    },
    {
     "data": {
      "image/png": "[encoded data removed]",
      "text/plain": [
       "<Figure size 640x480 with 1 Axes>"
      ]
     },
     "metadata": {},
     "output_type": "display_data"
    }
   ],
   "source": [
    "r = range(2,22)\n",
    "plt.plot(r,x0diff)\n",
    "plt.plot(r,y0diff)\n",
    "plt.plot(r,phidiff)\n",
    "plt.plot(r,axis_ratiodiff)\n",
    "plt.plot(r,rho_hdiff)\n",
    "plt.plot(r,Rhdiff)\n",
    "plt.legend(['X0','Y0','phi','axis ratio', 'rhoh', 'Rh'])\n",
    "plt.xticks(np.arange(0, 20, step=2))\n",
    "plt.xlabel(\"Iteration\")\n",
    "plt.ylabel(\"Change from last iteration\")\n",
    "plt.xlim([15,20])\n",
    "plt.ylim([0,0.001])\n"
   ]
  },
  {
   "cell_type": "code",
   "execution_count": 166,
   "id": "3eb5b082",
   "metadata": {},
   "outputs": [
    {
     "data": {
      "text/plain": [
       "(0.0, 1e-12)"
      ]
     },
     "execution_count": 166,
     "metadata": {},
     "output_type": "execute_result"
    },
    {
     "data": {
      "image/png": "[encoded data removed]",
      "text/plain": [
       "<Figure size 640x480 with 1 Axes>"
      ]
     },
     "metadata": {},
     "output_type": "display_data"
    }
   ],
   "source": [
    "plt.plot(r,phidiff)\n",
    "plt.xlim([45,50])\n",
    "plt.ylim([0,0.000000000001])"
   ]
  },
  {
   "cell_type": "code",
   "execution_count": 167,
   "id": "82fcfec0",
   "metadata": {},
   "outputs": [
    {
     "name": "stdout",
     "output_type": "stream",
     "text": [
      "[6.12352125883303, 3.1814734875597495, 0.12331187079152972, 0.0818750958579022, 0.04761873305826114, 0.032459732362531746, 0.020614116493641532, 0.01395633381737671, 0.009016276007210777, 0.005998569938415521, 0.00398440172970016, 0.002648339170407077, 0.0017592933496430874, 0.0011682505982770763, 0.0007755765726837893, 0.000514802772177525, 0.0003416716498803041, 0.00022674882908724214, 0.00015047347551355728, 9.985291982594902e-05, 6.626013008670384e-05, 4.396808295759058e-05, 2.9175530549707673e-05, 1.9359638590010775e-05, 1.2846173187419652e-05, 8.524112832475339e-06, 5.656190601222022e-06, 3.753174085296962e-06, 2.4904067252862205e-06, 1.6525067501049762e-06, 1.0965285994757323e-06, 7.276083229257324e-07, 4.827904529491889e-07, 3.2036764974208154e-07, 2.1256594173735266e-07, 1.4104768553124813e-07, 9.359817543241888e-08, 6.211110648024487e-08, 4.121088981179355e-08, 2.7340678165899135e-08, 1.814841699143699e-08, 1.2035449969971523e-08, 7.992803752188138e-09, 5.30229904427415e-09, 3.5124108066497683e-09, 2.3335129384349784e-09, 1.5541363751481185e-09, 1.0188649923748017e-09, 6.85779433240441e-10, 4.517435314710383e-10]\n"
     ]
    }
   ],
   "source": [
    "print(Rhdiff)"
   ]
  },
  {
   "cell_type": "code",
   "execution_count": 168,
   "id": "56ef780c",
   "metadata": {},
   "outputs": [
    {
     "name": "stdout",
     "output_type": "stream",
     "text": [
      "[0.05510458072566127, 0.0004821988440649738, 2.4523636018791706e-05, 1.8613099993514126e-05, 1.0881835209475277e-05, 4.7956947544225415e-06, 3.22047725953567e-06, 1.4207003218302816e-06, 1.2172567744883622e-06, 7.496336301704432e-07, 4.5369785250937156e-07, 2.981043001337724e-07, 1.9644639892568705e-07, 1.2979132235635404e-07, 8.588147681898306e-08, 5.688015081162234e-08, 3.76958738668165e-08, 2.4992394487277636e-08, 1.6574554062565028e-08, 1.0994022026089567e-08, 7.293323500690008e-09, 4.838677458707252e-09, 3.2103762981350314e-09, 2.130093990082571e-09, 1.4133429981910695e-09, 9.377830734180748e-10, 6.22277784856351e-10, 4.129061537128109e-10, 2.739447557686958e-10, 1.8179990846078908e-10, 1.2065060062127486e-10, 8.006229013091115e-11, 5.3090420948365136e-11, 3.524469605054037e-11, 2.3363644352514257e-11, 1.5523915486426176e-11, 1.0285883256244688e-11, 6.86084522527608e-12, 4.5318193642174265e-12, 2.9889424268958464e-12, 2.0021762026090073e-12, 1.3158363287857355e-12, 8.957279362675763e-13, 5.74429392941056e-13, 3.6981528950263964e-13, 2.715605518233133e-13, 1.979527652906654e-13, 7.849276784099857e-14, 8.193445921733655e-14, 5.229150445984487e-14]\n"
     ]
    }
   ],
   "source": [
    "print(phidiff)"
   ]
  },
  {
   "cell_type": "code",
   "execution_count": 169,
   "id": "9e8b7601",
   "metadata": {},
   "outputs": [],
   "source": [
    "difference = Table()"
   ]
  },
  {
   "cell_type": "code",
   "execution_count": 171,
   "id": "c97724ae",
   "metadata": {},
   "outputs": [],
   "source": [
    "difference['x0']=x0diff\n",
    "difference['y0']=y0diff\n",
    "difference['phi']=phidiff\n",
    "difference['axis ratio']=axis_ratiodiff\n",
    "difference['Halo density']=rho_hdiff\n",
    "difference['Halo scale radius']=Rhdiff"
   ]
  },
  {
   "cell_type": "code",
   "execution_count": 177,
   "id": "c12912d8",
   "metadata": {},
   "outputs": [],
   "source": [
    "difference.write('iterationsdiff', format='csv', overwrite = True)"
   ]
  },
  {
   "cell_type": "code",
   "execution_count": 175,
   "id": "bf1b798c",
   "metadata": {},
   "outputs": [
    {
     "name": "stdout",
     "output_type": "stream",
     "text": [
      "           Format           Read Write Auto-identify Deprecated\n",
      "--------------------------- ---- ----- ------------- ----------\n",
      "                      ascii  Yes   Yes            No           \n",
      "               ascii.aastex  Yes   Yes            No           \n",
      "                ascii.basic  Yes   Yes            No           \n",
      "     ascii.commented_header  Yes   Yes            No           \n",
      "                  ascii.csv  Yes   Yes           Yes           \n",
      "                 ascii.ecsv  Yes   Yes           Yes           \n",
      "           ascii.fast_basic  Yes   Yes            No           \n",
      "ascii.fast_commented_header  Yes   Yes            No           \n",
      "             ascii.fast_csv  Yes   Yes            No           \n",
      "       ascii.fast_no_header  Yes   Yes            No           \n",
      "             ascii.fast_rdb  Yes   Yes            No           \n",
      "             ascii.fast_tab  Yes   Yes            No           \n",
      "          ascii.fixed_width  Yes   Yes            No           \n",
      "ascii.fixed_width_no_header  Yes   Yes            No           \n",
      " ascii.fixed_width_two_line  Yes   Yes            No           \n",
      "                 ascii.html  Yes   Yes           Yes           \n",
      "                 ascii.ipac  Yes   Yes            No           \n",
      "                ascii.latex  Yes   Yes           Yes           \n",
      "                  ascii.mrt  Yes   Yes            No           \n",
      "            ascii.no_header  Yes   Yes            No           \n",
      "                  ascii.qdp  Yes   Yes           Yes           \n",
      "                  ascii.rdb  Yes   Yes           Yes           \n",
      "                  ascii.rst  Yes   Yes            No           \n",
      "                  ascii.tab  Yes   Yes            No           \n",
      "                       asdf  Yes   Yes           Yes           \n",
      "                       fits  Yes   Yes           Yes           \n",
      "                       hdf5  Yes   Yes           Yes           \n",
      "                   jsviewer   No   Yes            No           \n",
      "                 pandas.csv  Yes   Yes            No           \n",
      "                pandas.html  Yes   Yes            No           \n",
      "                pandas.json  Yes   Yes            No           \n",
      "                    parquet  Yes   Yes           Yes           \n",
      "                    votable  Yes   Yes           Yes           \n",
      "                     aastex  Yes   Yes            No        Yes\n",
      "                        csv  Yes   Yes            No        Yes\n",
      "                       html  Yes   Yes            No        Yes\n",
      "                       ipac  Yes   Yes            No        Yes\n",
      "                      latex  Yes   Yes            No        Yes\n",
      "                        mrt  Yes   Yes            No        Yes\n",
      "                        rdb  Yes   Yes            No        Yes\n"
     ]
    }
   ],
   "source": [
    "Table.write.list_formats()"
   ]
  },
  {
   "cell_type": "code",
   "execution_count": 11,
   "id": "ce90a653",
   "metadata": {},
   "outputs": [],
   "source": [
    "test = [0]"
   ]
  },
  {
   "cell_type": "code",
   "execution_count": null,
   "id": "bccb30d6",
   "metadata": {},
   "outputs": [],
   "source": []
  }
 ],
 "metadata": {
  "kernelspec": {
   "display_name": "Python 3 (ipykernel)",
   "language": "python",
   "name": "python3"
  },
  "language_info": {
   "codemirror_mode": {
    "name": "ipython",
    "version": 3
   },
   "file_extension": ".py",
   "mimetype": "text/x-python",
   "name": "python",
   "nbconvert_exporter": "python",
   "pygments_lexer": "ipython3",
   "version": "3.9.13"
  }
 },
 "nbformat": 4,
 "nbformat_minor": 5
}
