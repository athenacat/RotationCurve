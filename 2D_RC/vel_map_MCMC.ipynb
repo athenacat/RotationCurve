{
 "cells": [
  {
   "cell_type": "code",
   "execution_count": 1,
   "metadata": {},
   "outputs": [],
   "source": [
    "import matplotlib.pyplot as plt\n",
    "import numpy as np\n",
    "import os.path\n",
    "from astropy.io import fits\n",
    "from astropy.table import QTable, Column\n",
    "import astropy.units as u\n",
    "from scipy.optimize import minimize\n",
    "import emcee\n",
    "import corner"
   ]
  },
  {
   "cell_type": "code",
   "execution_count": 3,
   "metadata": {},
   "outputs": [],
   "source": [
    "# Import functions from other .py files\n",
    "from Velocity_Map_Functions import rot_incl_iso,\\\n",
    "                                   rot_incl_NFW, \\\n",
    "                                   rot_incl_bur, \\\n",
    "                                   nloglikelihood_iso,\\\n",
    "                                   nloglikelihood_NFW, \\\n",
    "                                   nloglikelihood_bur,\\\n",
    "                                   nloglikelihood_iso_nb,\\\n",
    "                                   nloglikelihood_NFW_nb, \\\n",
    "                                   nloglikelihood_bur_nb,\\\n",
    "                                   loglikelihood_iso_flat,\\\n",
    "                                   loglikelihood_NFW_flat, \\\n",
    "                                   loglikelihood_bur_flat,\\\n",
    "                                   nloglikelihood_iso_flat,\\\n",
    "                                   nloglikelihood_NFW_flat,\\\n",
    "                                   nloglikelihood_bur_flat,\\\n",
    "                                   find_phi\n",
    "from galaxy_component_functions import vel_tot_iso,\\\n",
    "                                       vel_tot_NFW,\\\n",
    "                                       vel_tot_bur\n",
    "\n",
    "import os.path\n",
    "from os import path"
   ]
  },
  {
   "cell_type": "code",
   "execution_count": 4,
   "metadata": {},
   "outputs": [],
   "source": [
    "def log_prior_iso(params):\n",
    "    rho_0,r_b,Sig_D,r_d,rho_h,r_h,inclination,phi,center_x,center_y = params\n",
    "    if 7 < logM < 13 and 0 < r_d < 10 and 0.00001 < rho_h < 0.1 and 0 < r_h< 100 and 0 < inclination < np.pi/2 and -np.pi/2 < phi < np.pi/2 and 0 < center_x < 37 and 0 < center_y < 37:\n",
    "        return 0.0\n",
    "    return -np.inf"
   ]
  },
  {
   "cell_type": "code",
   "execution_count": null,
   "metadata": {},
   "outputs": [],
   "source": []
  }
 ],
 "metadata": {
  "kernelspec": {
   "display_name": "Python 3",
   "language": "python",
   "name": "python3"
  },
  "language_info": {
   "codemirror_mode": {
    "name": "ipython",
    "version": 3
   },
   "file_extension": ".py",
   "mimetype": "text/x-python",
   "name": "python",
   "nbconvert_exporter": "python",
   "pygments_lexer": "ipython3",
   "version": "3.8.5"
  }
 },
 "nbformat": 4,
 "nbformat_minor": 4
}
