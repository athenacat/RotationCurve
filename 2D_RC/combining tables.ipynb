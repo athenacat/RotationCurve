{
 "cells": [
  {
   "cell_type": "code",
   "execution_count": 27,
   "metadata": {},
   "outputs": [],
   "source": [
    "from astropy.table import Table, vstack\n",
    "import numpy as np\n",
    "import numpy.ma as ma"
   ]
  },
  {
   "cell_type": "code",
   "execution_count": 2,
   "metadata": {},
   "outputs": [],
   "source": [
    "\n",
    "MANGA_FOLDER = '/scratch/kdougla7/data/SDSS/dr17/manga/spectro/'\n",
    "DRP_FILENAME = MANGA_FOLDER + 'redux/v3_1_1/' + 'drpall-v3_1_1.fits'\n"
   ]
  },
  {
   "cell_type": "code",
   "execution_count": 3,
   "metadata": {},
   "outputs": [
    {
     "name": "stderr",
     "output_type": "stream",
     "text": [
      "WARNING: hdu= was not specified but multiple tables are present, reading in first available table (hdu=1) [astropy.io.fits.connect]\n"
     ]
    }
   ],
   "source": [
    "DRP_table = Table.read( DRP_FILENAME, format='fits')\n",
    "DRP_index = {}\n",
    "\n",
    "for i in range(len(DRP_table)):\n",
    "    galaxy_ID = DRP_table['plateifu'][i]\n",
    "    DRP_index[galaxy_ID] = i\n"
   ]
  },
  {
   "cell_type": "code",
   "execution_count": 4,
   "metadata": {},
   "outputs": [
    {
     "name": "stdout",
     "output_type": "stream",
     "text": [
      "1989\n"
     ]
    }
   ],
   "source": []
  },
  {
   "cell_type": "code",
   "execution_count": 68,
   "metadata": {},
   "outputs": [],
   "source": [
    "batch0 = Table.read('/scratch/lstroud3/RotationCurves/Images/NFW/batch0.fits')\n",
    "batch1 = Table.read('/scratch/lstroud3/RotationCurves/Images/NFW/batch1.fits')\n",
    "batch2 = Table.read('/scratch/lstroud3/RotationCurves/Images/NFW/batch2.fits')\n",
    "batch3 = Table.read('/scratch/lstroud3/RotationCurves/Images/NFW/batch3.fits')\n",
    "batch4 = Table.read('/scratch/lstroud3/RotationCurves/Images/NFW/batch4.fits')\n",
    "batch5 = Table.read('/scratch/lstroud3/RotationCurves/Images/NFW/batch5.fits')\n",
    "batch6 = Table.read('/scratch/lstroud3/RotationCurves/Images/NFW/batch6.fits')\n",
    "batch7 = Table.read('/scratch/lstroud3/RotationCurves/Images/NFW/batch7.fits')\n",
    "batch8 = Table.read('/scratch/lstroud3/RotationCurves/Images/NFW/batch8.fits')\n",
    "batch9 = Table.read('/scratch/lstroud3/RotationCurves/Images/NFW/batch9.fits')\n",
    "batch10 = Table.read('/scratch/lstroud3/RotationCurves/Images/NFW/batch10.fits')\n",
    "batch11= Table.read('/scratch/lstroud3/RotationCurves/Images/NFW/batch11.fits')\n"
   ]
  },
  {
   "cell_type": "code",
   "execution_count": 69,
   "metadata": {},
   "outputs": [],
   "source": [
    "lastset = Table.read('/scratch/lstroud3/RotationCurves/Images/NFW/1980-2000.fits')\n"
   ]
  },
  {
   "cell_type": "code",
   "execution_count": 72,
   "metadata": {},
   "outputs": [],
   "source": [
    "full_table = Table(vstack([batch0,batch1,batch2,batch3,batch4,batch5,batch6,batch7,batch8,batch9,batch10,batch11,lastset]))"
   ]
  },
  {
   "cell_type": "code",
   "execution_count": 71,
   "metadata": {},
   "outputs": [],
   "source": [
    "batch1 = batch1[0:980]"
   ]
  },
  {
   "cell_type": "code",
   "execution_count": 73,
   "metadata": {
    "scrolled": true
   },
   "outputs": [],
   "source": [
    "Table.sort(full_table,'fit flag')"
   ]
  },
  {
   "cell_type": "code",
   "execution_count": 76,
   "metadata": {
    "scrolled": true
   },
   "outputs": [
    {
     "name": "stdout",
     "output_type": "stream",
     "text": [
      "  plateifu          chi2        fit flag\n",
      "----------- ------------------- --------\n",
      " 11939-1901                  --    -10.0\n",
      " 11828-1902                  --    -10.0\n",
      " 11949-1901                  --    -10.0\n",
      "  8626-9102                  --    -10.0\n",
      "  8564-3701                  --     -6.0\n",
      "  9035-1902                  --     -6.0\n",
      "11018-12701                  --     -6.0\n",
      "  9187-6102                  --     -6.0\n",
      " 11944-3703                  --     -6.0\n",
      "  8615-3701                  --     -6.0\n",
      "        ...                 ...      ...\n",
      "  7992-3703  0.3082475054522741     43.0\n",
      " 11010-3702  350.93531851606417     43.0\n",
      " 8996-12704  1.4291393806779933     44.0\n",
      "11004-12702  1.4500522916176888     44.0\n",
      "  8946-6103   373.1124844898438     45.0\n",
      "11025-12703  11.159272387052528     46.0\n",
      "  8993-6104 0.20072148001577936     47.0\n",
      "  7963-9101  17.877317895110902     48.0\n",
      "  8984-9102  107.97308011627119     48.0\n",
      "  9495-6101  3.8247471475771824     49.0\n",
      " 8657-12701     520.65797732831     49.0\n",
      "Length = 9912 rows\n"
     ]
    }
   ],
   "source": [
    "print(full_table['plateifu','chi2','fit flag'][0:9912])"
   ]
  },
  {
   "cell_type": "code",
   "execution_count": 78,
   "metadata": {},
   "outputs": [
    {
     "name": "stdout",
     "output_type": "stream",
     "text": [
      "259005.00000700352\n"
     ]
    }
   ],
   "source": [
    "print(ma.MaskedArray.max(full_table['chi2']))"
   ]
  },
  {
   "cell_type": "code",
   "execution_count": 79,
   "metadata": {},
   "outputs": [],
   "source": [
    "cfit = 0\n",
    "cdisk = 0\n",
    "ctot = 0\n",
    "for i in range(len(full_table)):\n",
    "    if full_table['fit flag'][i] >= 0:\n",
    "        cfit += 1\n",
    "    if full_table['fit flag'][i] == -5:\n",
    "        cdisk += 1\n",
    "    if full_table['fit flag'][i] == -6:\n",
    "        ctot += 1"
   ]
  },
  {
   "cell_type": "code",
   "execution_count": 80,
   "metadata": {},
   "outputs": [
    {
     "name": "stdout",
     "output_type": "stream",
     "text": [
      "3581 761 299\n"
     ]
    }
   ],
   "source": [
    "print(cfit,cdisk,ctot)"
   ]
  },
  {
   "cell_type": "code",
   "execution_count": 86,
   "metadata": {},
   "outputs": [
    {
     "data": {
      "text/plain": [
       "4641"
      ]
     },
     "execution_count": 86,
     "metadata": {},
     "output_type": "execute_result"
    }
   ],
   "source": [
    "(3568+735+338)"
   ]
  },
  {
   "cell_type": "code",
   "execution_count": 82,
   "metadata": {},
   "outputs": [
    {
     "data": {
      "text/plain": [
       "0.7716009480715363"
      ]
     },
     "execution_count": 82,
     "metadata": {},
     "output_type": "execute_result"
    }
   ],
   "source": [
    "cfit/(cfit+cdisk+ctot)"
   ]
  },
  {
   "cell_type": "code",
   "execution_count": null,
   "metadata": {},
   "outputs": [],
   "source": [
    "\"\"\"\n",
    "fit/disk fail/tot fail\n",
    "Iso: 3479/766/396 74.9% chi2: (0.03, 1640308)\n",
    "NFW: 3581/761/299 77% chi2: (0.02, 259005)\n",
    "Bur: 3568/735/338 76.8% chi2: (0.03, 153251) \"\"\"\n"
   ]
  },
  {
   "cell_type": "code",
   "execution_count": 83,
   "metadata": {},
   "outputs": [],
   "source": [
    "full_table.write('/scratch/lstroud3/RotationCurves/Images/NFW/fulltable.fits')"
   ]
  },
  {
   "cell_type": "code",
   "execution_count": null,
   "metadata": {},
   "outputs": [],
   "source": []
  }
 ],
 "metadata": {
  "kernelspec": {
   "display_name": "Python 3 (anaconda3 2021.11)",
   "language": "python",
   "name": "anaconda3-2021.11"
  },
  "language_info": {
   "codemirror_mode": {
    "name": "ipython",
    "version": 3
   },
   "file_extension": ".py",
   "mimetype": "text/x-python",
   "name": "python",
   "nbconvert_exporter": "python",
   "pygments_lexer": "ipython3",
   "version": "3.9.7"
  }
 },
 "nbformat": 4,
 "nbformat_minor": 2
}
