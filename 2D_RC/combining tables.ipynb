{
 "cells": [
  {
   "cell_type": "code",
   "execution_count": 2,
   "metadata": {},
   "outputs": [],
   "source": [
    "from astropy.table import Table, vstack\n",
    "import numpy as np\n",
    "import numpy.ma as ma"
   ]
  },
  {
   "cell_type": "code",
   "execution_count": 3,
   "metadata": {},
   "outputs": [],
   "source": [
    "\n",
    "MANGA_FOLDER = '/scratch/kdougla7/data/SDSS/dr17/manga/spectro/'\n",
    "DRP_FILENAME = MANGA_FOLDER + 'redux/v3_1_1/' + 'drpall-v3_1_1.fits'\n"
   ]
  },
  {
   "cell_type": "code",
   "execution_count": 4,
   "metadata": {},
   "outputs": [
    {
     "name": "stderr",
     "output_type": "stream",
     "text": [
      "WARNING: hdu= was not specified but multiple tables are present, reading in first available table (hdu=1) [astropy.io.fits.connect]\n"
     ]
    }
   ],
   "source": [
    "DRP_table = Table.read( DRP_FILENAME, format='fits')\n",
    "DRP_index = {}\n",
    "\n",
    "for i in range(len(DRP_table)):\n",
    "    galaxy_ID = DRP_table['plateifu'][i]\n",
    "    DRP_index[galaxy_ID] = i\n"
   ]
  },
  {
   "cell_type": "code",
   "execution_count": 4,
   "metadata": {},
   "outputs": [
    {
     "name": "stdout",
     "output_type": "stream",
     "text": [
      "1989\n"
     ]
    }
   ],
   "source": []
  },
  {
   "cell_type": "code",
   "execution_count": 68,
   "metadata": {},
   "outputs": [],
   "source": [
    "batch0 = Table.read('/scratch/lstroud3/RotationCurves/Images/NFW/batch0.fits')\n",
    "batch1 = Table.read('/scratch/lstroud3/RotationCurves/Images/NFW/batch1.fits')\n",
    "batch2 = Table.read('/scratch/lstroud3/RotationCurves/Images/NFW/batch2.fits')\n",
    "batch3 = Table.read('/scratch/lstroud3/RotationCurves/Images/NFW/batch3.fits')\n",
    "batch4 = Table.read('/scratch/lstroud3/RotationCurves/Images/NFW/batch4.fits')\n",
    "batch5 = Table.read('/scratch/lstroud3/RotationCurves/Images/NFW/batch5.fits')\n",
    "batch6 = Table.read('/scratch/lstroud3/RotationCurves/Images/NFW/batch6.fits')\n",
    "batch7 = Table.read('/scratch/lstroud3/RotationCurves/Images/NFW/batch7.fits')\n",
    "batch8 = Table.read('/scratch/lstroud3/RotationCurves/Images/NFW/batch8.fits')\n",
    "batch9 = Table.read('/scratch/lstroud3/RotationCurves/Images/NFW/batch9.fits')\n",
    "batch10 = Table.read('/scratch/lstroud3/RotationCurves/Images/NFW/batch10.fits')\n",
    "batch11= Table.read('/scratch/lstroud3/RotationCurves/Images/NFW/batch11.fits')\n"
   ]
  },
  {
   "cell_type": "code",
   "execution_count": 69,
   "metadata": {},
   "outputs": [],
   "source": [
    "lastset = Table.read('/scratch/lstroud3/RotationCurves/Images/NFW/1980-2000.fits')\n"
   ]
  },
  {
   "cell_type": "code",
   "execution_count": 72,
   "metadata": {},
   "outputs": [],
   "source": [
    "full_table = Table(vstack([batch0,batch1,batch2,batch3,batch4,batch5,batch6,batch7,batch8,batch9,batch10,batch11,lastset]))"
   ]
  },
  {
   "cell_type": "code",
   "execution_count": 71,
   "metadata": {},
   "outputs": [],
   "source": [
    "batch1 = batch1[0:980]"
   ]
  },
  {
   "cell_type": "code",
   "execution_count": 73,
   "metadata": {
    "scrolled": true
   },
   "outputs": [],
   "source": [
    "Table.sort(full_table,'fit flag')"
   ]
  },
  {
   "cell_type": "code",
   "execution_count": 76,
   "metadata": {
    "scrolled": true
   },
   "outputs": [
    {
     "name": "stdout",
     "output_type": "stream",
     "text": [
      "  plateifu          chi2        fit flag\n",
      "----------- ------------------- --------\n",
      " 11939-1901                  --    -10.0\n",
      " 11828-1902                  --    -10.0\n",
      " 11949-1901                  --    -10.0\n",
      "  8626-9102                  --    -10.0\n",
      "  8564-3701                  --     -6.0\n",
      "  9035-1902                  --     -6.0\n",
      "11018-12701                  --     -6.0\n",
      "  9187-6102                  --     -6.0\n",
      " 11944-3703                  --     -6.0\n",
      "  8615-3701                  --     -6.0\n",
      "        ...                 ...      ...\n",
      "  7992-3703  0.3082475054522741     43.0\n",
      " 11010-3702  350.93531851606417     43.0\n",
      " 8996-12704  1.4291393806779933     44.0\n",
      "11004-12702  1.4500522916176888     44.0\n",
      "  8946-6103   373.1124844898438     45.0\n",
      "11025-12703  11.159272387052528     46.0\n",
      "  8993-6104 0.20072148001577936     47.0\n",
      "  7963-9101  17.877317895110902     48.0\n",
      "  8984-9102  107.97308011627119     48.0\n",
      "  9495-6101  3.8247471475771824     49.0\n",
      " 8657-12701     520.65797732831     49.0\n",
      "Length = 9912 rows\n"
     ]
    }
   ],
   "source": [
    "print(full_table['plateifu','chi2','fit flag'][0:9912])"
   ]
  },
  {
   "cell_type": "code",
   "execution_count": 78,
   "metadata": {},
   "outputs": [
    {
     "name": "stdout",
     "output_type": "stream",
     "text": [
      "259005.00000700352\n"
     ]
    }
   ],
   "source": [
    "print(ma.MaskedArray.max(full_table['chi2']))"
   ]
  },
  {
   "cell_type": "code",
   "execution_count": 79,
   "metadata": {},
   "outputs": [],
   "source": [
    "cfit = 0\n",
    "cdisk = 0\n",
    "ctot = 0\n",
    "for i in range(len(full_table)):\n",
    "    if full_table['fit flag'][i] >= 0:\n",
    "        cfit += 1\n",
    "    if full_table['fit flag'][i] == -5:\n",
    "        cdisk += 1\n",
    "    if full_table['fit flag'][i] == -6:\n",
    "        ctot += 1"
   ]
  },
  {
   "cell_type": "code",
   "execution_count": 80,
   "metadata": {},
   "outputs": [
    {
     "name": "stdout",
     "output_type": "stream",
     "text": [
      "3581 761 299\n"
     ]
    }
   ],
   "source": [
    "print(cfit,cdisk,ctot)"
   ]
  },
  {
   "cell_type": "code",
   "execution_count": 86,
   "metadata": {},
   "outputs": [
    {
     "data": {
      "text/plain": [
       "4641"
      ]
     },
     "execution_count": 86,
     "metadata": {},
     "output_type": "execute_result"
    }
   ],
   "source": [
    "(3568+735+338)"
   ]
  },
  {
   "cell_type": "code",
   "execution_count": 82,
   "metadata": {},
   "outputs": [
    {
     "data": {
      "text/plain": [
       "0.7716009480715363"
      ]
     },
     "execution_count": 82,
     "metadata": {},
     "output_type": "execute_result"
    }
   ],
   "source": [
    "cfit/(cfit+cdisk+ctot)"
   ]
  },
  {
   "cell_type": "code",
   "execution_count": null,
   "metadata": {},
   "outputs": [],
   "source": [
    "\"\"\"\n",
    "fit/disk fail/tot fail\n",
    "Iso: 3479/766/396 74.9% chi2: (0.03, 1640308)\n",
    "NFW: 3581/761/299 77% chi2: (0.02, 259005)\n",
    "Bur: 3568/735/338 76.8% chi2: (0.03, 153251) \"\"\"\n"
   ]
  },
  {
   "cell_type": "code",
   "execution_count": 83,
   "metadata": {},
   "outputs": [],
   "source": [
    "full_table.write('/scratch/lstroud3/RotationCurves/Images/NFW/fulltable.fits')"
   ]
  },
  {
   "cell_type": "code",
   "execution_count": 11,
   "metadata": {},
   "outputs": [],
   "source": []
  },
  {
   "cell_type": "code",
   "execution_count": 22,
   "metadata": {},
   "outputs": [
    {
     "data": {
      "text/html": [
       "<i>Table length=40</i>\n",
       "<table id=\"table47296408573264-272060\" class=\"table-striped table-bordered table-condensed\">\n",
       "<thead><tr><th>idx</th><th>plateifu</th><th>chi2</th><th>fit flag</th></tr></thead>\n",
       "<tr><td>0</td><td>10507-3702</td><td>14.157266600498797</td><td>13.0</td></tr>\n",
       "<tr><td>1</td><td>10519-12702</td><td>101.22164848040464</td><td>7.0</td></tr>\n",
       "<tr><td>2</td><td>10838-12705</td><td>72.03832378777051</td><td>5.0</td></tr>\n",
       "<tr><td>3</td><td>11011-3702</td><td>--</td><td>-5.0</td></tr>\n",
       "<tr><td>4</td><td>11012-6104</td><td>--</td><td>-5.0</td></tr>\n",
       "<tr><td>5</td><td>11014-9101</td><td>--</td><td>-5.0</td></tr>\n",
       "<tr><td>6</td><td>11024-3703</td><td>--</td><td>-5.0</td></tr>\n",
       "<tr><td>7</td><td>11759-1902</td><td>0.27134684199497905</td><td>13.0</td></tr>\n",
       "<tr><td>8</td><td>11835-6104</td><td>0.14618366910591588</td><td>18.0</td></tr>\n",
       "<tr><td>9</td><td>11867-9101</td><td>44.08671885656209</td><td>10.0</td></tr>\n",
       "<tr><td>10</td><td>12495-12704</td><td>1.5004849256805233</td><td>17.0</td></tr>\n",
       "<tr><td>11</td><td>12622-12704</td><td>1.4091218786847317</td><td>2.0</td></tr>\n",
       "<tr><td>12</td><td>12651-3701</td><td>216.0179636209569</td><td>4.0</td></tr>\n",
       "<tr><td>13</td><td>7978-12704</td><td>5.947489783793821</td><td>5.0</td></tr>\n",
       "<tr><td>14</td><td>7991-6103</td><td>--</td><td>-6.0</td></tr>\n",
       "<tr><td>15</td><td>8138-12702</td><td>385.65025126435927</td><td>3.0</td></tr>\n",
       "<tr><td>16</td><td>8143-12705</td><td>2.586109330879546</td><td>45.0</td></tr>\n",
       "<tr><td>17</td><td>8255-1901</td><td>--</td><td>-5.0</td></tr>\n",
       "<tr><td>18</td><td>8322-12704</td><td>2331.1761481620106</td><td>6.0</td></tr>\n",
       "<tr><td>19</td><td>8337-9101</td><td>1.276930134767802</td><td>14.0</td></tr>\n",
       "<tr><td>20</td><td>8443-12704</td><td>0.3926217665960876</td><td>5.0</td></tr>\n",
       "<tr><td>21</td><td>8564-1901</td><td>--</td><td>-5.0</td></tr>\n",
       "<tr><td>22</td><td>8565-12705</td><td>21.80411829218403</td><td>5.0</td></tr>\n",
       "<tr><td>23</td><td>8622-3703</td><td>11.228630299607843</td><td>13.0</td></tr>\n",
       "<tr><td>24</td><td>8626-12702</td><td>119.68865744590022</td><td>5.0</td></tr>\n",
       "<tr><td>25</td><td>8715-9102</td><td>109.37000132864412</td><td>7.0</td></tr>\n",
       "<tr><td>26</td><td>8719-9102</td><td>31.46199088942164</td><td>6.0</td></tr>\n",
       "<tr><td>27</td><td>8727-12702</td><td>165.43413486306346</td><td>10.0</td></tr>\n",
       "<tr><td>28</td><td>8942-3704</td><td>267.94842346475207</td><td>4.0</td></tr>\n",
       "<tr><td>29</td><td>8944-6101</td><td>35.012155474587104</td><td>4.0</td></tr>\n",
       "<tr><td>30</td><td>8979-3701</td><td>--</td><td>-5.0</td></tr>\n",
       "<tr><td>31</td><td>8987-3704</td><td>2.2263160142582272</td><td>3.0</td></tr>\n",
       "<tr><td>32</td><td>9025-12704</td><td>23.642651656700878</td><td>3.0</td></tr>\n",
       "<tr><td>33</td><td>9037-12701</td><td>13.544976379349567</td><td>4.0</td></tr>\n",
       "<tr><td>34</td><td>9042-6102</td><td>428.6108434363169</td><td>7.0</td></tr>\n",
       "<tr><td>35</td><td>9046-3704</td><td>0.13965014479450696</td><td>2.0</td></tr>\n",
       "<tr><td>36</td><td>9192-3703</td><td>11.074309437320098</td><td>5.0</td></tr>\n",
       "<tr><td>37</td><td>9484-6102</td><td>397.59977494861465</td><td>4.0</td></tr>\n",
       "<tr><td>38</td><td>9504-3701</td><td>9.569997318933838</td><td>3.0</td></tr>\n",
       "<tr><td>39</td><td>9512-12701</td><td>49.323688301337626</td><td>11.0</td></tr>\n",
       "</table><style>table.dataTable {clear: both; width: auto !important; margin: 0 !important;}\n",
       ".dataTables_info, .dataTables_length, .dataTables_filter, .dataTables_paginate{\n",
       "display: inline-block; margin-right: 1em; }\n",
       ".paginate_button { margin-right: 5px; }\n",
       "</style>\n",
       "<script>\n",
       "\n",
       "var astropy_sort_num = function(a, b) {\n",
       "    var a_num = parseFloat(a);\n",
       "    var b_num = parseFloat(b);\n",
       "\n",
       "    if (isNaN(a_num) && isNaN(b_num))\n",
       "        return ((a < b) ? -1 : ((a > b) ? 1 : 0));\n",
       "    else if (!isNaN(a_num) && !isNaN(b_num))\n",
       "        return ((a_num < b_num) ? -1 : ((a_num > b_num) ? 1 : 0));\n",
       "    else\n",
       "        return isNaN(a_num) ? -1 : 1;\n",
       "}\n",
       "\n",
       "require.config({paths: {\n",
       "    datatables: 'https://cdn.datatables.net/1.10.12/js/jquery.dataTables.min'\n",
       "}});\n",
       "require([\"datatables\"], function(){\n",
       "    console.log(\"$('#table47296408573264-272060').dataTable()\");\n",
       "    \n",
       "jQuery.extend( jQuery.fn.dataTableExt.oSort, {\n",
       "    \"optionalnum-asc\": astropy_sort_num,\n",
       "    \"optionalnum-desc\": function (a,b) { return -astropy_sort_num(a, b); }\n",
       "});\n",
       "\n",
       "    $('#table47296408573264-272060').dataTable({\n",
       "        order: [],\n",
       "        pageLength: 50,\n",
       "        lengthMenu: [[10, 25, 50, 100, 500, 1000, -1], [10, 25, 50, 100, 500, 1000, 'All']],\n",
       "        pagingType: \"full_numbers\",\n",
       "        columnDefs: [{targets: [0, 2, 3], type: \"optionalnum\"}]\n",
       "    });\n",
       "});\n",
       "</script>\n"
      ],
      "text/plain": [
       "<IPython.core.display.HTML object>"
      ]
     },
     "execution_count": 22,
     "metadata": {},
     "output_type": "execute_result"
    }
   ],
   "source": [
    "fixed_findphi['plateifu','chi2','fit flag'].show_in_notebook()"
   ]
  },
  {
   "cell_type": "code",
   "execution_count": 20,
   "metadata": {},
   "outputs": [],
   "source": [
    "iso = Table.read('/scratch/lstroud3/RotationCurves/Images/Isothermal/fulltable.fits')\n",
    "nfw = Table.read('/scratch/lstroud3/RotationCurves/Images/NFW/fulltable.fits')\n",
    "bur = Table.read('/scratch/lstroud3/RotationCurves/Images/Burkert/fulltable.fits')\n",
    "new_iso= Table.read('/scratch/lstroud3/RotationCurves/Images/Isothermal/findphifix.fits')\n",
    "new_nfw=Table.read('/scratch/lstroud3/RotationCurves/Images/NFW/findphifix.fits')\n",
    "new_bur=Table.read('/scratch/lstroud3/RotationCurves/Images/Burkert/findphifix.fits')\n",
    "\n",
    "bur_i = {}\n",
    "iso_i = {}\n",
    "nfw_i = {}\n",
    "new_ind = {}\n",
    "\n",
    "for i in range(len(new_iso)):\n",
    "    gal = new_iso['plateifu'][i]\n",
    "    new_ind[gal] = i\n",
    "\n",
    "for i in range(len(bur)):\n",
    "    gal = bur['plateifu'][i]\n",
    "    bur_i[gal] = i\n",
    "for i in range(len(iso)):\n",
    "    gal = iso['plateifu'][i]\n",
    "    iso_i[gal] = i    \n",
    "for i in range(len(nfw)):\n",
    "    gal = nfw['plateifu'][i]\n",
    "    nfw_i[gal] = i        \n",
    "    \n",
    "    \n",
    "for gal_ID in new_iso['plateifu']:\n",
    "    buri = bur_i[gal_ID]\n",
    "    isoi = iso_i[gal_ID]\n",
    "    nfwi = nfw_i[gal_ID]\n",
    "    newi = new_ind[gal_ID]\n",
    "    bur[buri] = new_bur[newi]\n",
    "    iso[isoi] = new_iso[newi]\n",
    "    nfw[nfwi] = new_nfw[newi]\n"
   ]
  },
  {
   "cell_type": "code",
   "execution_count": 26,
   "metadata": {},
   "outputs": [],
   "source": [
    "iso.write('/scratch/lstroud3/RotationCurves/Images/Isothermal/fulltable.fits',overwrite=True)\n",
    "bur.write('/scratch/lstroud3/RotationCurves/Images/Burkert/fulltable.fits',overwrite=True)\n",
    "nfw.write('/scratch/lstroud3/RotationCurves/Images/NFW/fulltable.fits',overwrite=True)"
   ]
  },
  {
   "cell_type": "code",
   "execution_count": 27,
   "metadata": {},
   "outputs": [],
   "source": [
    "full_fail = Table.read('/scratch/lstroud3/RotationCurves/failed_objects_table.fits')"
   ]
  },
  {
   "cell_type": "code",
   "execution_count": 29,
   "metadata": {},
   "outputs": [],
   "source": [
    "fail_i = {}\n",
    "for i in range(len(full_fail)):\n",
    "    gal = full_fail['plateifu'][i]\n",
    "    fail_i[gal] = i"
   ]
  },
  {
   "cell_type": "code",
   "execution_count": 32,
   "metadata": {},
   "outputs": [],
   "source": [
    "for gal_ID in new_iso['plateifu']:\n",
    "    newi = new_ind[gal_ID]\n",
    "    fail = fail_i[gal_ID]\n",
    "    \n",
    "    if new_iso['fit flag'][newi] > 0:\n",
    "        full_fail['Isothermal chi2'][fail] = new_iso['chi2'][newi]\n",
    "        if new_iso['chi2'][newi] <= 50:\n",
    "            full_fail['fitting code'][fail] -= 200\n",
    "        else:\n",
    "            full_fail['fitting code'][fail] -= 100\n",
    "        full_fail['visual code'][fail] = np.nan\n",
    "    if new_nfw['fit flag'][newi] > 0:\n",
    "        full_fail['NFW chi2'][fail] = new_nfw['chi2'][newi]\n",
    "        if new_nfw['chi2'][newi] <= 50:\n",
    "            full_fail['fitting code'][fail] -= 20\n",
    "        else:\n",
    "            full_fail['fitting code'][fail] -= 10\n",
    "        full_fail['visual code'][fail] = np.nan   \n",
    "    if new_bur['fit flag'][newi] > 0:\n",
    "        full_fail['Burkert chi2'][fail] = new_bur['chi2'][newi]\n",
    "        if new_bur['chi2'][newi] <= 50:\n",
    "            full_fail['fitting code'][fail] -= 2\n",
    "        else:\n",
    "            full_fail['fitting code'][fail] -= 1\n",
    "        full_fail['visual code'][fail] = np.nan"
   ]
  },
  {
   "cell_type": "code",
   "execution_count": 37,
   "metadata": {},
   "outputs": [
    {
     "data": {
      "text/html": [
       "<i>Row index=809</i>\n",
       "<table id=\"table47296450178784\">\n",
       "<thead><tr><th>plate</th><th>ifudsgn</th><th>plateifu</th><th>mangaid</th><th>versdrp2</th><th>versdrp3</th><th>verscore</th><th>versutil</th><th>versprim</th><th>platetyp</th><th>srvymode</th><th>objra</th><th>objdec</th><th>ifuglon</th><th>ifuglat</th><th>ifura</th><th>ifudec</th><th>ebvgal</th><th>nexp</th><th>exptime</th><th>drp3qual</th><th>bluesn2</th><th>redsn2</th><th>harname</th><th>frlplug</th><th>cartid</th><th>designid</th><th>cenra</th><th>cendec</th><th>airmsmin</th><th>airmsmed</th><th>airmsmax</th><th>seemin</th><th>seemed</th><th>seemax</th><th>transmin</th><th>transmed</th><th>transmax</th><th>mjdmin</th><th>mjdmed</th><th>mjdmax</th><th>gfwhm</th><th>rfwhm</th><th>ifwhm</th><th>zfwhm</th><th>mngtarg1</th><th>mngtarg2</th><th>mngtarg3</th><th>catidnum</th><th>plttarg</th><th>manga_tileid</th><th>nsa_iauname</th><th>ifudesignsize</th><th>ifutargetsize</th><th>ifudesignwrongsize</th><th>z</th><th>zmin</th><th>zmax</th><th>szmin</th><th>szmax</th><th>ezmin</th><th>ezmax</th><th>probs</th><th>pweight</th><th>psweight</th><th>psrweight</th><th>sweight</th><th>srweight</th><th>eweight</th><th>esweight</th><th>esrweight</th><th>nsa_field</th><th>nsa_run</th><th>nsa_camcol</th><th>nsa_version</th><th>nsa_nsaid</th><th>nsa_nsaid_v1b</th><th>nsa_z</th><th>nsa_zdist</th><th>nsa_sersic_absmag [7]</th><th>nsa_elpetro_absmag [7]</th><th>nsa_elpetro_amivar [7]</th><th>nsa_sersic_mass</th><th>nsa_elpetro_mass</th><th>nsa_elpetro_ba</th><th>nsa_elpetro_phi</th><th>nsa_extinction [7]</th><th>nsa_elpetro_th50_r</th><th>nsa_petro_th50</th><th>nsa_petro_flux [7]</th><th>nsa_petro_flux_ivar [7]</th><th>nsa_elpetro_flux [7]</th><th>nsa_elpetro_flux_ivar [7]</th><th>nsa_sersic_ba</th><th>nsa_sersic_n</th><th>nsa_sersic_phi</th><th>nsa_sersic_th50</th><th>nsa_sersic_flux [7]</th><th>nsa_sersic_flux_ivar [7]</th><th>Isothermal chi2</th><th>NFW chi2</th><th>Burkert chi2</th><th>fitting code</th><th>visual code</th></tr></thead>\n",
       "<thead><tr><th>int64</th><th>bytes32</th><th>bytes32</th><th>bytes32</th><th>bytes32</th><th>bytes32</th><th>bytes32</th><th>bytes32</th><th>bytes32</th><th>bytes32</th><th>bytes32</th><th>float64</th><th>float64</th><th>float64</th><th>float64</th><th>float64</th><th>float64</th><th>float64</th><th>int64</th><th>float64</th><th>int64</th><th>float64</th><th>float64</th><th>bytes53</th><th>int64</th><th>bytes32</th><th>int64</th><th>float64</th><th>float64</th><th>float64</th><th>float64</th><th>float64</th><th>float64</th><th>float64</th><th>float64</th><th>float64</th><th>float64</th><th>float64</th><th>int64</th><th>int64</th><th>int64</th><th>float64</th><th>float64</th><th>float64</th><th>float64</th><th>int64</th><th>int64</th><th>int64</th><th>int64</th><th>bytes32</th><th>int64</th><th>bytes19</th><th>int64</th><th>int64</th><th>int64</th><th>float64</th><th>float64</th><th>float64</th><th>float64</th><th>float64</th><th>float64</th><th>float64</th><th>float64</th><th>float64</th><th>float64</th><th>float64</th><th>float64</th><th>float64</th><th>float64</th><th>float64</th><th>float64</th><th>int64</th><th>int64</th><th>int64</th><th>bytes6</th><th>int64</th><th>int64</th><th>float64</th><th>float64</th><th>float64</th><th>float64</th><th>float64</th><th>float64</th><th>float64</th><th>float64</th><th>float64</th><th>float64</th><th>float64</th><th>float64</th><th>float64</th><th>float64</th><th>float64</th><th>float64</th><th>float64</th><th>float64</th><th>float64</th><th>float64</th><th>float64</th><th>float64</th><th>float64</th><th>float64</th><th>float64</th><th>float64</th><th>float64</th></tr></thead>\n",
       "<tr><td>12622</td><td>12704</td><td>12622-12704</td><td>1-421784</td><td>v3_1_1</td><td>v3_1_1</td><td>v1_9_1</td><td>v5_5_36</td><td>v2_9</td><td>APOGEE-2&amp;MaNGA</td><td>MaNGA dither</td><td>201.02653</td><td>31.76235</td><td>67.9791012706</td><td>81.5158982847</td><td>201.02653</td><td>31.76235</td><td>0.0170168</td><td>9</td><td>8100.51</td><td>4096</td><td>23.574</td><td>47.5028</td><td>ma135</td><td>34</td><td>5</td><td>12883</td><td>200.94104</td><td>31.6766</td><td>1.02039</td><td>1.0538</td><td>1.15942</td><td>1.13915</td><td>1.21732</td><td>1.28285</td><td>0.794021</td><td>0.803084</td><td>0.812173</td><td>59017</td><td>59018</td><td>59018</td><td>2.42028</td><td>2.39158</td><td>2.37874</td><td>2.36846</td><td>1040</td><td>0</td><td>0</td><td>1</td><td>plateTargets-1.par</td><td>6498</td><td>J132406.36+314544.3</td><td>127</td><td>217</td><td>0</td><td>0.015435423</td><td>0.014179789</td><td>0.023378344</td><td>0.031750944</td><td>0.031249404</td><td>0.014179789</td><td>0.023378344</td><td>0.67973006</td><td>1.9512174</td><td>1.9512174</td><td>1.9512174</td><td>-999.0</td><td>-999.0</td><td>1.9535052</td><td>1.9535052</td><td>1.9535052</td><td>192</td><td>4599</td><td>4</td><td>v1_0_1</td><td>445993</td><td>-999</td><td>0.015435423</td><td>0.015969718</td><td>-15.124372 .. -18.27471</td><td>-15.254048 .. -18.087776</td><td>405.25406 .. 201.73387</td><td>1238947100.0</td><td>1082935900.0</td><td>0.8669555</td><td>1.4597168</td><td>0.14059739 .. 0.02508366</td><td>12.358266</td><td>11.924413</td><td>47.88397 .. 795.2899</td><td>0.58712786 .. 0.0004853106</td><td>47.83347 .. 742.4693</td><td>0.59384274 .. 0.000527089</td><td>0.8676623</td><td>1.1093059</td><td>168.32306</td><td>12.535223</td><td>42.309166 .. 882.1933</td><td>0.64334095 .. 0.0032125204</td><td>1.0543436765187457</td><td>1.4091218786847317</td><td>1.0353316484259305</td><td>0.0</td><td>nan</td></tr>\n",
       "</table>"
      ],
      "text/plain": [
       "<Row index=809>\n",
       "plate ifudsgn   plateifu  mangaid  versdrp2 versdrp3 verscore versutil versprim    platetyp      srvymode     objra    objdec     ifuglon       ifuglat      ifura    ifudec    ebvgal   nexp exptime drp3qual bluesn2  redsn2 harname frlplug  cartid designid   cenra    cendec airmsmin airmsmed airmsmax  seemin  seemed  seemax transmin transmed transmax mjdmin mjdmed mjdmax  gfwhm   rfwhm   ifwhm   zfwhm  mngtarg1 mngtarg2 mngtarg3 catidnum      plttarg       manga_tileid     nsa_iauname     ifudesignsize ifutargetsize ifudesignwrongsize      z          zmin        zmax       szmin       szmax       ezmin       ezmax      probs     pweight   psweight psrweight sweight srweight  eweight   esweight esrweight nsa_field nsa_run nsa_camcol nsa_version nsa_nsaid nsa_nsaid_v1b    nsa_z     nsa_zdist   nsa_sersic_absmag [7]   nsa_elpetro_absmag [7]  nsa_elpetro_amivar [7] nsa_sersic_mass nsa_elpetro_mass nsa_elpetro_ba nsa_elpetro_phi    nsa_extinction [7]    nsa_elpetro_th50_r nsa_petro_th50  nsa_petro_flux [7]   nsa_petro_flux_ivar [7]   nsa_elpetro_flux [7] nsa_elpetro_flux_ivar [7] nsa_sersic_ba nsa_sersic_n nsa_sersic_phi nsa_sersic_th50  nsa_sersic_flux [7]   nsa_sersic_flux_ivar [7]   Isothermal chi2        NFW chi2         Burkert chi2    fitting code visual code\n",
       "int64 bytes32   bytes32   bytes32  bytes32  bytes32  bytes32  bytes32  bytes32     bytes32       bytes32     float64  float64     float64       float64     float64  float64   float64  int64 float64  int64   float64 float64 bytes53  int64  bytes32  int64    float64  float64 float64  float64  float64  float64 float64 float64 float64  float64  float64  int64  int64  int64  float64 float64 float64 float64  int64    int64    int64    int64        bytes32          int64           bytes19           int64         int64           int64          float64     float64     float64     float64     float64     float64     float64    float64    float64   float64   float64  float64 float64   float64   float64   float64    int64    int64    int64       bytes6     int64       int64       float64     float64           float64                 float64                 float64             float64         float64         float64         float64             float64               float64          float64           float64                 float64                 float64                 float64             float64      float64       float64         float64            float64                 float64                float64            float64            float64         float64      float64  \n",
       "----- ------- ----------- -------- -------- -------- -------- -------- -------- -------------- ------------ --------- -------- ------------- ------------- --------- -------- --------- ----- ------- -------- ------- ------- ------- ------- ------- -------- --------- ------- -------- -------- -------- ------- ------- ------- -------- -------- -------- ------ ------ ------ ------- ------- ------- ------- -------- -------- -------- -------- ------------------ ------------ ------------------- ------------- ------------- ------------------ ----------- ----------- ----------- ----------- ----------- ----------- ----------- ---------- --------- --------- --------- ------- -------- --------- --------- --------- --------- ------- ---------- ----------- --------- ------------- ----------- ----------- ----------------------- ------------------------ ---------------------- --------------- ---------------- -------------- --------------- ------------------------ ------------------ -------------- -------------------- -------------------------- -------------------- ------------------------- ------------- ------------ -------------- --------------- --------------------- -------------------------- ------------------ ------------------ ------------------ ------------ -----------\n",
       "12622   12704 12622-12704 1-421784   v3_1_1   v3_1_1   v1_9_1  v5_5_36     v2_9 APOGEE-2&MaNGA MaNGA dither 201.02653 31.76235 67.9791012706 81.5158982847 201.02653 31.76235 0.0170168     9 8100.51     4096  23.574 47.5028   ma135      34       5    12883 200.94104 31.6766  1.02039   1.0538  1.15942 1.13915 1.21732 1.28285 0.794021 0.803084 0.812173  59017  59018  59018 2.42028 2.39158 2.37874 2.36846     1040        0        0        1 plateTargets-1.par         6498 J132406.36+314544.3           127           217                  0 0.015435423 0.014179789 0.023378344 0.031750944 0.031249404 0.014179789 0.023378344 0.67973006 1.9512174 1.9512174 1.9512174  -999.0   -999.0 1.9535052 1.9535052 1.9535052       192    4599          4      v1_0_1    445993          -999 0.015435423 0.015969718 -15.124372 .. -18.27471 -15.254048 .. -18.087776 405.25406 .. 201.73387    1238947100.0     1082935900.0      0.8669555       1.4597168 0.14059739 .. 0.02508366          12.358266      11.924413 47.88397 .. 795.2899 0.58712786 .. 0.0004853106 47.83347 .. 742.4693 0.59384274 .. 0.000527089     0.8676623    1.1093059      168.32306       12.535223 42.309166 .. 882.1933 0.64334095 .. 0.0032125204 1.0543436765187457 1.4091218786847317 1.0353316484259305          0.0         nan"
      ]
     },
     "execution_count": 37,
     "metadata": {},
     "output_type": "execute_result"
    }
   ],
   "source": [
    "full_fail[fail_i['12622-12704']]"
   ]
  },
  {
   "cell_type": "code",
   "execution_count": 38,
   "metadata": {},
   "outputs": [],
   "source": [
    "full_fail.write('/scratch/lstroud3/RotationCurves/failed_objects_table.fits', overwrite = True)"
   ]
  },
  {
   "cell_type": "code",
   "execution_count": null,
   "metadata": {},
   "outputs": [],
   "source": []
  }
 ],
 "metadata": {
  "kernelspec": {
   "display_name": "Python 3 (anaconda3 2021.11)",
   "language": "python",
   "name": "anaconda3-2021.11"
  },
  "language_info": {
   "codemirror_mode": {
    "name": "ipython",
    "version": 3
   },
   "file_extension": ".py",
   "mimetype": "text/x-python",
   "name": "python",
   "nbconvert_exporter": "python",
   "pygments_lexer": "ipython3",
   "version": "3.9.7"
  }
 },
 "nbformat": 4,
 "nbformat_minor": 2
}
