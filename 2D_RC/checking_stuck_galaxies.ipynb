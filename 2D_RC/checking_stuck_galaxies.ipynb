{
 "cells": [
  {
   "cell_type": "code",
   "execution_count": 1,
   "metadata": {},
   "outputs": [],
   "source": [
    "import numpy as np\n",
    "import numpy.ma as ma\n",
    "\n",
    "from astropy.table import Table\n",
    "\n",
    "from scipy.optimize import minimize, Bounds\n",
    "\n",
    "from DRP_rotation_curve import extract_data, extract_Pipe3d_data\n",
    "\n",
    "from disk_mass import calc_mass_curve, fit_mass_curve\n",
    "\n",
    "from rotation_fitfunctions import find_phi, find_axis_ratio, find_incl, parameterfit_iso, parameterfit_NFW, parameterfit_bur, chi2\n",
    "\n",
    "from rotation_curve_functions import disk_bulge_vel, halo_vel_NFW, bulge_vel, disk_vel\n",
    "\n",
    "import RC_plotting_functions as RC#import plot_diagnostic_panel\n",
    "\n",
    "import matplotlib.pyplot as plt\n",
    "\n"
   ]
  },
  {
   "cell_type": "code",
   "execution_count": 2,
   "metadata": {},
   "outputs": [],
   "source": [
    "import sys\n",
    "sys.path.insert(1,\"main/\")\n",
    "from Velocity_Map_Functions_cython import rot_incl_iso, rot_incl_bur, rot_incl_NFW\n",
    "from galaxy_component_functions_cython import vel_tot_iso, halo_vel_iso, disk_vel, bulge_vel"
   ]
  },
  {
   "cell_type": "code",
   "execution_count": 3,
   "metadata": {},
   "outputs": [],
   "source": [
    "gal_ID = '11945-1901' \n",
    "H_0 = 100  # Hubble's Constant in units of h km/s/Mpc\n",
    "c = 299792.458  # Speed of light in units of km/s"
   ]
  },
  {
   "cell_type": "code",
   "execution_count": 4,
   "metadata": {},
   "outputs": [],
   "source": [
    "#MASS_MAP_FOLDER = r\"C:\\Users\\Lara\\Documents\\rotationcurves\\mangadata\\pipe3d\\v3_1_1\\3.1.1\\7443\"\n",
    "#VEL_MAP_FOLDER = r\"C:\\Users\\Lara\\Documents\\rotationcurves\\mangadata\\analysis\\v3_1_1\\3.1.0\\HYB10-MILESHC-MASTARSSP\\7443\\12705\"\n",
    "#DRP_FILENAME = r\"C:\\Users\\Lara\\Documents\\rotationcurves\\mangadata\\redux\\v3_1_1\\drpall-v3_1_1.fits\"\n",
    "\n",
    "MANGA_FOLDER = '/scratch/kdougla7/data/SDSS/dr17/manga/spectro/'\n",
    "MASS_MAP_FOLDER = MANGA_FOLDER + 'pipe3d/'\n",
    "VEL_MAP_FOLDER = MANGA_FOLDER + 'analysis/v3_1_1/3.1.0/HYB10-MILESHC-MASTARSSP/'\n",
    "DRP_FILENAME = MANGA_FOLDER + 'redux/v3_1_1/' + 'drpall-v3_1_1.fits'"
   ]
  },
  {
   "cell_type": "code",
   "execution_count": 5,
   "metadata": {},
   "outputs": [],
   "source": [
    "DRP_table = Table.read( DRP_FILENAME, 'MANGA')\n",
    "\n",
    "\n",
    "DRP_index = {}\n",
    "\n",
    "for i in range(len(DRP_table)):\n",
    "    galaxy_ID = DRP_table['plateifu'][i]\n",
    "\n",
    "    DRP_index[galaxy_ID] = i\n"
   ]
  },
  {
   "cell_type": "code",
   "execution_count": 6,
   "metadata": {},
   "outputs": [],
   "source": [
    "# Extract data\n",
    "maps = extract_data(VEL_MAP_FOLDER,gal_ID,['Ha_vel', 'r_band', 'Ha_flux', 'Ha_sigma'])\n",
    "sMass_density, sMass_density_err = extract_Pipe3d_data(MASS_MAP_FOLDER, gal_ID)\n",
    "\n",
    "i_DRP = DRP_index[gal_ID]"
   ]
  },
  {
   "cell_type": "code",
   "execution_count": 7,
   "metadata": {},
   "outputs": [
    {
     "name": "stdout",
     "output_type": "stream",
     "text": [
      "0.87228686\n",
      "0.5225343935791924\n",
      "44.950897\n",
      "0.029205708\n",
      "0\n",
      "(16, 16)\n",
      "0.7845411543748415\n",
      "3.926133807964635\n"
     ]
    }
   ],
   "source": [
    "# Locate and save photometric parameters\n",
    "axis_ratio = DRP_table['nsa_elpetro_ba'][i_DRP]\n",
    "incl = find_incl(axis_ratio)\n",
    "\n",
    "phi = DRP_table['nsa_elpetro_phi'][i_DRP]\n",
    "print(axis_ratio)\n",
    "print(incl)\n",
    "print(phi)\n",
    "\n",
    "z = DRP_table['nsa_z'][i_DRP]\n",
    "print(z)\n",
    "\n",
    "# Create S/N > 5 mask\n",
    "SN_map = maps['Ha_flux'] * np.sqrt(maps['Ha_flux_ivar'])\n",
    "map_mask = maps['Ha_vel_mask'] + (SN_map < 5)\n",
    "\n",
    "# Mask the velocity map with the S/N > 5 mask\n",
    "maps['vmasked'] = ma.array(maps['Ha_vel'], mask=map_mask)\n",
    "maps['ivarmasked'] = ma.array(maps['Ha_vel_ivar'], mask=map_mask)\n",
    "\n",
    "shape = maps['vmasked'].shape\n",
    "\n",
    "# Calculate the scale of the pixels\n",
    "scale = (0.5 * z * c / H_0) * 1000 / 206265  # kpc\n",
    "\n",
    "center = np.unravel_index(ma.argmax(maps['r_band']), shape)\n",
    "x_center = center[0]\n",
    "y_center = center[1]\n",
    "#center = (15,15)\n",
    "phi = find_phi(center, phi, maps['vmasked'])\n",
    "\n",
    "print(phi)"
   ]
  },
  {
   "cell_type": "code",
   "execution_count": 7,
   "metadata": {},
   "outputs": [
    {
     "name": "stdout",
     "output_type": "stream",
     "text": [
      "True\n"
     ]
    }
   ],
   "source": [
    "m = ma.getmask(maps['vmasked'][center])\n",
    "\n",
    "vsys = maps['vmasked'][center]\n",
    "print(m)"
   ]
  },
  {
   "cell_type": "code",
   "execution_count": 12,
   "metadata": {},
   "outputs": [
    {
     "name": "stdout",
     "output_type": "stream",
     "text": [
      "None\n"
     ]
    }
   ],
   "source": [
    "phi = find_phi(center, phi, maps['vmasked'])\n",
    "print(phi)"
   ]
  },
  {
   "cell_type": "code",
   "execution_count": 8,
   "metadata": {},
   "outputs": [
    {
     "data": {
      "image/png": "[encoded data removed]",
      "text/plain": [
       "<Figure size 432x288 with 2 Axes>"
      ]
     },
     "metadata": {
      "needs_background": "light"
     },
     "output_type": "display_data"
    }
   ],
   "source": [
    "plt.imshow(maps[\"vmasked\"], \n",
    "           origin='lower', \n",
    "           cmap='RdBu_r')\n",
    "\n",
    "plt.xlabel('spaxel')\n",
    "plt.ylabel('spaxel')\n",
    "\n",
    "cbar = plt.colorbar()\n",
    "cbar.set_label('km/s')"
   ]
  },
  {
   "cell_type": "code",
   "execution_count": null,
   "metadata": {},
   "outputs": [],
   "source": []
  }
 ],
 "metadata": {
  "kernelspec": {
   "display_name": "Python 3 (anaconda3 2021.11)",
   "language": "python",
   "name": "anaconda3-2021.11"
  },
  "language_info": {
   "codemirror_mode": {
    "name": "ipython",
    "version": 3
   },
   "file_extension": ".py",
   "mimetype": "text/x-python",
   "name": "python",
   "nbconvert_exporter": "python",
   "pygments_lexer": "ipython3",
   "version": "3.9.7"
  }
 },
 "nbformat": 4,
 "nbformat_minor": 2
}
