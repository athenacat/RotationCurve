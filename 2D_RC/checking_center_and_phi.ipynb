{
 "cells": [
  {
   "cell_type": "code",
   "execution_count": 3,
   "metadata": {},
   "outputs": [],
   "source": [
    "from DRP_rotation_curve import extract_data, extract_Pipe3d_data\n",
    "from rotation_fitfunctions import find_phi, find_incl, find_axis_ratio\n",
    "from astropy.table import Table\n",
    "import numpy as np\n",
    "import numpy.ma as ma\n",
    "import matplotlib.pyplot as plt\n"
   ]
  },
  {
   "cell_type": "code",
   "execution_count": 4,
   "metadata": {},
   "outputs": [],
   "source": [
    "#where the data lives\n",
    "MANGA_FOLDER = '/scratch/kdougla7/data/SDSS/dr17/manga/spectro/'\n",
    "VEL_MAP_FOLDER = MANGA_FOLDER + 'analysis/v3_1_1/3.1.0/HYB10-MILESHC-MASTARSSP/'\n",
    "DRP_FILENAME = MANGA_FOLDER + 'redux/v3_1_1/' + 'drpall-v3_1_1.fits'"
   ]
  },
  {
   "cell_type": "code",
   "execution_count": 5,
   "metadata": {},
   "outputs": [],
   "source": [
    "#reading in DRP_all\n",
    "DRP_table = Table.read(DRP_FILENAME, 'MANGA')\n",
    "\n",
    "DRP_index = {}\n",
    "\n",
    "for i in range(len(DRP_table)):\n",
    "    galaxy_ID = DRP_table['plateifu'][i]\n",
    "\n",
    "    DRP_index[galaxy_ID] = i\n"
   ]
  },
  {
   "cell_type": "code",
   "execution_count": 875,
   "metadata": {},
   "outputs": [],
   "source": [
    "#galaxy being checked\n",
    "gal_ID = '9893-3703'"
   ]
  },
  {
   "cell_type": "code",
   "execution_count": 876,
   "metadata": {
    "scrolled": true
   },
   "outputs": [
    {
     "name": "stdout",
     "output_type": "stream",
     "text": [
      "-36.503353\n",
      "(22, 22)\n",
      "1.133299879185234\n",
      "[25 14] 0.4\n",
      "1.133299879185234 1.133299879185234\n",
      "(44, 44)\n"
     ]
    }
   ],
   "source": [
    "#reading in velocity map and getting center/phi\n",
    "maps = extract_data(VEL_MAP_FOLDER,gal_ID,['Ha_vel', 'r_band', 'Ha_flux', 'Ha_sigma'])\n",
    "SN_map = maps['Ha_flux'] * np.sqrt(maps['Ha_flux_ivar'])\n",
    "vmap_mask = maps['Ha_vel_mask'] + (SN_map < 5)\n",
    "maps['vmasked'] = ma.array(maps['Ha_vel'], mask=vmap_mask)\n",
    "maps['ivarmasked'] = ma.array(maps['Ha_vel_ivar'], mask=vmap_mask)\n",
    "maps['rbandmasked'] = ma.array(maps['r_band'], mask = maps['Ha_vel_mask'])\n",
    "i_DRP = DRP_index[gal_ID]\n",
    "shape = maps['vmasked'].shape\n",
    "center = np.unravel_index(ma.argmax(maps['rbandmasked']), shape)\n",
    "phi = DRP_table['nsa_elpetro_phi'][i_DRP] \n",
    "new_phi = find_phi(center, phi, maps['vmasked'])\n",
    "phi *= np.pi/180\n",
    "print(phi,new_phi)\n",
    "print(shape)"
   ]
  },
  {
   "cell_type": "code",
   "execution_count": 877,
   "metadata": {},
   "outputs": [
    {
     "name": "stdout",
     "output_type": "stream",
     "text": [
      "(22, 22)\n"
     ]
    },
    {
     "data": {
      "image/png": "[encoded data removed]",
      "text/plain": [
       "<Figure size 432x288 with 2 Axes>"
      ]
     },
     "metadata": {
      "needs_background": "light"
     },
     "output_type": "display_data"
    }
   ],
   "source": [
    "print(center)\n",
    "plt.imshow(maps['vmasked'],origin='lower',cmap='RdBu_r')\n",
    "cbar = plt.colorbar()\n",
    "plt.plot(center[0],center[1],marker='o',color='cyan')\n",
    "plt.quiver([center[0]],[center[1]],[-np.sin(new_phi)],[np.cos(new_phi)],scale=5,color='cyan')\n",
    "y= np.linspace(0,shape[0])\n",
    "plt.plot(-((np.tan(phi))*(y-center[1]))+center[0],y,color='green')\n",
    "plt.xlim(0,shape[0])\n",
    "plt.ylim(0,shape[1])\n",
    "plt.xlabel('spaxel')\n",
    "plt.ylabel('spaxel')\n",
    "plt.title(gal_ID+' Velocity Map')\n",
    "\n",
    "cbar.set_label('km/s')\n",
    "\n"
   ]
  },
  {
   "cell_type": "code",
   "execution_count": 878,
   "metadata": {},
   "outputs": [],
   "source": [
    "full_fail['visual code'][fail_index[gal_ID]] = 3\n",
    "full_fail.write('/scratch/lstroud3/RotationCurves/failed_objects_table.fits',overwrite='true')\n",
    "#1 phi wrong, 5 find phi wrong, 4 not sure what wrong, 2 center wrong, 3 weird"
   ]
  },
  {
   "cell_type": "code",
   "execution_count": 29,
   "metadata": {},
   "outputs": [],
   "source": [
    "full_fail = Table.read('/scratch/lstroud3/RotationCurves/failed_objects_table.fits')"
   ]
  },
  {
   "cell_type": "code",
   "execution_count": 36,
   "metadata": {},
   "outputs": [
    {
     "name": "stdout",
     "output_type": "stream",
     "text": [
      "plate ifudsgn   plateifu  mangaid  ... Burkert chi2 fitting code visual code\n",
      "----- ------- ----------- -------- ... ------------ ------------ -----------\n",
      "10001   12703 10001-12703  1-55648 ...           --        222.0         4.0\n",
      "10001    1901  10001-1901  1-55567 ...           --        222.0         4.0\n",
      "10213    6103  10213-6103  1-44581 ...           --        222.0         4.0\n",
      "10215    1902  10215-1902 1-153901 ...           --        222.0         4.0\n",
      "10215    3703  10215-3703 1-122138 ...           --        222.0         4.0\n",
      "10217    3703  10217-3703 1-458727 ...           --        222.0         4.0\n",
      "10218    3703  10218-3703 1-383171 ...           --        222.0         4.0\n",
      "10218    3704  10218-3704 1-412176 ...           --        222.0         4.0\n",
      "10219   12703 10219-12703 1-556776 ...           --        222.0         4.0\n",
      "10219   12704 10219-12704 1-383825 ...           --        222.0         4.0\n",
      "  ...     ...         ...      ... ...          ...          ...         ...\n",
      " 9876    6101   9876-6101 1-623893 ...           --        222.0         1.0\n",
      " 9878    6101   9878-6101 1-522568 ...           --        222.0         4.0\n",
      " 9879    3704   9879-3704 1-457386 ...           --        222.0         1.0\n",
      " 9882    6102   9882-6102 1-523039 ...           --        222.0         1.0\n",
      " 9883   12701  9883-12701 1-176644 ...           --        222.0         3.0\n",
      " 9883    1902   9883-1902 1-176647 ...           --        222.0         4.0\n",
      " 9886    1901   9886-1901 1-375679 ...           --        222.0         3.0\n",
      " 9886    1902   9886-1902 1-317099 ...           --        222.0         4.0\n",
      " 9890   12705  9890-12705 1-316607 ...           --        222.0         2.0\n",
      " 9891   12704  9891-12704 1-373830 ...           --        222.0         2.0\n",
      " 9893    3703   9893-3703 1-326103 ...           --        222.0         3.0\n",
      "Length = 690 rows\n"
     ]
    }
   ],
   "source": [
    "print(full_fail[full_fail['fitting code']==222])"
   ]
  },
  {
   "cell_type": "code",
   "execution_count": 38,
   "metadata": {},
   "outputs": [
    {
     "data": {
      "text/plain": [
       "(<MaskedColumn name='visual code' dtype='float64' length=6>\n",
       " 1.0\n",
       " 2.0\n",
       " 3.0\n",
       " 4.0\n",
       " 5.0\n",
       "  --,\n",
       " array([ 158,   36,  154,  302,   40, 1827]))"
      ]
     },
     "execution_count": 38,
     "metadata": {},
     "output_type": "execute_result"
    }
   ],
   "source": [
    "np.unique(full_fail['visual code'],return_counts=True)"
   ]
  },
  {
   "cell_type": "code",
   "execution_count": null,
   "metadata": {},
   "outputs": [],
   "source": []
  }
 ],
 "metadata": {
  "kernelspec": {
   "display_name": "Python 3 (anaconda3 2021.11)",
   "language": "python",
   "name": "anaconda3-2021.11"
  },
  "language_info": {
   "codemirror_mode": {
    "name": "ipython",
    "version": 3
   },
   "file_extension": ".py",
   "mimetype": "text/x-python",
   "name": "python",
   "nbconvert_exporter": "python",
   "pygments_lexer": "ipython3",
   "version": "3.9.7"
  }
 },
 "nbformat": 4,
 "nbformat_minor": 2
}
