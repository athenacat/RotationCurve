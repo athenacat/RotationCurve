{
 "cells": [
  {
   "cell_type": "code",
   "execution_count": 1,
   "metadata": {},
   "outputs": [],
   "source": [
    "from DRP_rotation_curve import extract_data, extract_Pipe3d_data\n",
    "from rotation_fitfunctions import find_phi, find_incl, find_axis_ratio\n",
    "from astropy.table import Table\n",
    "import numpy as np\n",
    "import numpy.ma as ma\n",
    "import matplotlib.pyplot as plt\n"
   ]
  },
  {
   "cell_type": "code",
   "execution_count": 2,
   "metadata": {},
   "outputs": [],
   "source": [
    "#where the data lives\n",
    "MANGA_FOLDER = '/scratch/kdougla7/data/SDSS/dr17/manga/spectro/'\n",
    "VEL_MAP_FOLDER = MANGA_FOLDER + 'analysis/v3_1_1/3.1.0/HYB10-MILESHC-MASTARSSP/'\n",
    "DRP_FILENAME = MANGA_FOLDER + 'redux/v3_1_1/' + 'drpall-v3_1_1.fits'"
   ]
  },
  {
   "cell_type": "code",
   "execution_count": 3,
   "metadata": {},
   "outputs": [],
   "source": [
    "#reading in DRP_all\n",
    "DRP_table = Table.read(DRP_FILENAME, 'MANGA')\n",
    "\n",
    "DRP_index = {}\n",
    "\n",
    "for i in range(len(DRP_table)):\n",
    "    galaxy_ID = DRP_table['plateifu'][i]\n",
    "\n",
    "    DRP_index[galaxy_ID] = i\n"
   ]
  },
  {
   "cell_type": "code",
   "execution_count": 464,
   "metadata": {},
   "outputs": [],
   "source": [
    "\n",
    "full_fail = Table.read('/scratch/lstroud3/RotationCurves/failed_objects_table.fits')\n",
    "t = full_fail[full_fail['fitting code']==222]\n",
    "\n",
    "\n",
    "\n",
    "\n",
    "#galaxy being checked\n",
    "gal_ID = t[t['visual code'] ==3]['plateifu'][0]"
   ]
  },
  {
   "cell_type": "code",
   "execution_count": 465,
   "metadata": {
    "scrolled": true
   },
   "outputs": [],
   "source": [
    "#reading in velocity map and getting center/phi\n",
    "maps = extract_data(VEL_MAP_FOLDER,gal_ID,['Ha_vel', 'r_band', 'Ha_flux', 'Ha_sigma'])\n",
    "SN_map = maps['Ha_flux'] * np.sqrt(maps['Ha_flux_ivar'])\n",
    "vmap_mask = maps['Ha_vel_mask'] + (SN_map < 5)\n",
    "maps['vmasked'] = ma.array(maps['Ha_vel'], mask=vmap_mask)\n",
    "maps['ivarmasked'] = ma.array(maps['Ha_vel_ivar'], mask=vmap_mask)\n",
    "maps['rbandmasked'] = ma.array(maps['r_band'], mask = maps['Ha_vel_mask'])\n",
    "i_DRP = DRP_index[gal_ID]\n",
    "shape = maps['vmasked'].shape\n",
    "\n"
   ]
  },
  {
   "cell_type": "code",
   "execution_count": 466,
   "metadata": {},
   "outputs": [
    {
     "name": "stdout",
     "output_type": "stream",
     "text": [
      "4.577113746050365\n",
      "1.4355210924605721 4.577113746050365\n",
      "(74, 74)\n"
     ]
    }
   ],
   "source": [
    "if gal_ID in ['10220-12703','10516-12705','10520-12705','12066-12703',\\\n",
    "                          '11012-12703','8239-12703','8941-12703','8717-12705',\\\n",
    "                          '10841-12705','11018-12701','11743-12701','11751-12702',\\\n",
    "                          '11824-12702','11832-12702','11865-12705','12651-12701',\\\n",
    "                          '8088-12704','8438-12705','8711-12701','8950-12705','9037-9102'\\\n",
    "                         '9498-12703',]:\n",
    "    center = (37,37)\n",
    "                \n",
    "elif gal_ID in ['8466-12705','11021-12702']:\n",
    "    center = (37,42)\n",
    "                \n",
    "elif gal_ID in ['10222-6102','8133-6102','8252-6103']:\n",
    "    center = (27,27)\n",
    "\n",
    "elif gal_ID == '11830-3704':\n",
    "    center = (20,19)         \n",
    "            \n",
    "elif gal_ID in ['9879-6101','10845-6101','11758-6103','9872-6103']:\n",
    "    center = (30,27)      \n",
    "\n",
    "elif gal_ID in ['7443-3701','8335-3704','9514-3702','8318-3702','8657-3702','7815-3704','8341-3702']:\n",
    "    center = (22,22)  \n",
    "\n",
    "elif gal_ID in ['8728-6104','12488-6102','8551-6104','8570-6104']:\n",
    "    center = (25,25)\n",
    "elif gal_ID in ['10223-12704']:\n",
    "    center = (41,31)\n",
    "elif gal_ID == '11945-9101':\n",
    "    center = (31,31)\n",
    "            \n",
    "elif gal_ID == '12066-12703':\n",
    "    center = (37,30)\n",
    "                         \n",
    "elif gal_ID == '10495-12704':\n",
    "    center = (39,36)\n",
    "            \n",
    "elif gal_ID in ['10515-3703','8651-3702']:\n",
    "    center = (20,25)\n",
    "elif gal_ID in ['11021-12702','9891-12704']:\n",
    "    center = (35,40)\n",
    "elif gal_ID in ['11823-12702','11947-12703']:\n",
    "    center = (40,40)\n",
    "elif gal_ID == '8240-12705':\n",
    "    center = (45,45)\n",
    "elif gal_ID in ['8613-12701','9890-12705']:\n",
    "    center = (40,37)\n",
    "elif gal_ID == '8626-1902':\n",
    "    center = (17,17)\n",
    "elif gal_ID == '9046-12705':\n",
    "    center = (30,35)\n",
    "else:\n",
    "    center = np.unravel_index(ma.argmax(maps['rbandmasked']), shape)\n",
    "\n",
    "phi = DRP_table['nsa_elpetro_phi'][i_DRP] \n",
    "new_phi = find_phi(center, phi, maps['vmasked'])\n",
    "phi *= np.pi/180\n",
    "print(phi,new_phi)\n",
    "print(shape)            "
   ]
  },
  {
   "cell_type": "code",
   "execution_count": 467,
   "metadata": {},
   "outputs": [
    {
     "name": "stdout",
     "output_type": "stream",
     "text": [
      "(37, 37)\n"
     ]
    },
    {
     "data": {
      "image/png": "[encoded data removed]",
      "text/plain": [
       "<Figure size 432x288 with 2 Axes>"
      ]
     },
     "metadata": {
      "needs_background": "light"
     },
     "output_type": "display_data"
    }
   ],
   "source": [
    "print(center)\n",
    "plt.imshow(maps['vmasked'],origin='lower',cmap='RdBu_r')#,vmax=50)# vmin = -100)\n",
    "cbar = plt.colorbar()\n",
    "plt.plot(center[0],center[1],marker='o',color='cyan')\n",
    "plt.quiver([center[0]],[center[1]],[-np.sin(new_phi)],[np.cos(new_phi)],scale=5,color='cyan')\n",
    "y= np.linspace(0,shape[0])\n",
    "plt.plot(-((np.tan(phi))*(y-center[1]))+center[0],y,color='green')\n",
    "plt.xlim(0,shape[0])\n",
    "plt.ylim(0,shape[1])\n",
    "plt.xlabel('spaxel')\n",
    "plt.ylabel('spaxel')\n",
    "plt.title(gal_ID+' Velocity Map')\n",
    "\n",
    "cbar.set_label('km/s')\n",
    "\n",
    "#agn/continous masks"
   ]
  },
  {
   "cell_type": "code",
   "execution_count": 396,
   "metadata": {},
   "outputs": [],
   "source": [
    "maps['vmasked'] -= maps['vmasked'][center]"
   ]
  },
  {
   "cell_type": "code",
   "execution_count": 468,
   "metadata": {},
   "outputs": [],
   "source": [
    "full_fail['visual code'][fail_index[gal_ID]] = 3.5\n",
    "full_fail.write('/scratch/lstroud3/RotationCurves/failed_objects_table.fits',overwrite='true')\n",
    "#1 phi wrong, 5 find phi wrong, 4 not sure what wrong, 2 center wrong, 3 weird\n",
    "\n",
    "\n",
    "#3.1 phi wrong\n",
    "#3.2 center wrong\n",
    "#3.3 map weird\n",
    "#3.4 not sure\n",
    "#3.5 some extraneous pixels need to be masked"
   ]
  },
  {
   "cell_type": "code",
   "execution_count": 430,
   "metadata": {},
   "outputs": [
    {
     "name": "stdout",
     "output_type": "stream",
     "text": [
      "8453-6102\n"
     ]
    }
   ],
   "source": [
    "print(full_fail['plateifu'][fail_index[gal_ID]])"
   ]
  },
  {
   "cell_type": "code",
   "execution_count": 5,
   "metadata": {},
   "outputs": [],
   "source": [
    "fail_index = {}\n",
    "for i in range(len(full_fail)):\n",
    "    g = full_fail['plateifu'][i]\n",
    "    fail_index[g] = i"
   ]
  },
  {
   "cell_type": "code",
   "execution_count": 469,
   "metadata": {},
   "outputs": [
    {
     "data": {
      "text/plain": [
       "(<MaskedColumn name='visual code' dtype='float64' length=10>\n",
       " 1.0\n",
       " 2.0\n",
       " 3.0\n",
       " 3.1\n",
       " 3.2\n",
       " 3.3\n",
       " 3.4\n",
       " 3.5\n",
       " 4.0\n",
       "  --,\n",
       " array([ 167,    3,   61,   33,   11,   33,   12,    8,  306, 1883]))"
      ]
     },
     "execution_count": 469,
     "metadata": {},
     "output_type": "execute_result"
    }
   ],
   "source": [
    "np.unique(full_fail['visual code'],return_counts=True)"
   ]
  },
  {
   "cell_type": "code",
   "execution_count": 111,
   "metadata": {},
   "outputs": [
    {
     "data": {
      "text/html": [
       "<i>Table length=3</i>\n",
       "<table id=\"table47490293768496-923446\" class=\"table-striped table-bordered table-condensed\">\n",
       "<thead><tr><th>idx</th><th>plate</th><th>ifudsgn</th><th>plateifu</th><th>mangaid</th><th>versdrp2</th><th>versdrp3</th><th>verscore</th><th>versutil</th><th>versprim</th><th>platetyp</th><th>srvymode</th><th>objra</th><th>objdec</th><th>ifuglon</th><th>ifuglat</th><th>ifura</th><th>ifudec</th><th>ebvgal</th><th>nexp</th><th>exptime</th><th>drp3qual</th><th>bluesn2</th><th>redsn2</th><th>harname</th><th>frlplug</th><th>cartid</th><th>designid</th><th>cenra</th><th>cendec</th><th>airmsmin</th><th>airmsmed</th><th>airmsmax</th><th>seemin</th><th>seemed</th><th>seemax</th><th>transmin</th><th>transmed</th><th>transmax</th><th>mjdmin</th><th>mjdmed</th><th>mjdmax</th><th>gfwhm</th><th>rfwhm</th><th>ifwhm</th><th>zfwhm</th><th>mngtarg1</th><th>mngtarg2</th><th>mngtarg3</th><th>catidnum</th><th>plttarg</th><th>manga_tileid</th><th>nsa_iauname</th><th>ifudesignsize</th><th>ifutargetsize</th><th>ifudesignwrongsize</th><th>z</th><th>zmin</th><th>zmax</th><th>szmin</th><th>szmax</th><th>ezmin</th><th>ezmax</th><th>probs</th><th>pweight</th><th>psweight</th><th>psrweight</th><th>sweight</th><th>srweight</th><th>eweight</th><th>esweight</th><th>esrweight</th><th>nsa_field</th><th>nsa_run</th><th>nsa_camcol</th><th>nsa_version</th><th>nsa_nsaid</th><th>nsa_nsaid_v1b</th><th>nsa_z</th><th>nsa_zdist</th><th>nsa_sersic_absmag [7]</th><th>nsa_elpetro_absmag [7]</th><th>nsa_elpetro_amivar [7]</th><th>nsa_sersic_mass</th><th>nsa_elpetro_mass</th><th>nsa_elpetro_ba</th><th>nsa_elpetro_phi</th><th>nsa_extinction [7]</th><th>nsa_elpetro_th50_r</th><th>nsa_petro_th50</th><th>nsa_petro_flux [7]</th><th>nsa_petro_flux_ivar [7]</th><th>nsa_elpetro_flux [7]</th><th>nsa_elpetro_flux_ivar [7]</th><th>nsa_sersic_ba</th><th>nsa_sersic_n</th><th>nsa_sersic_phi</th><th>nsa_sersic_th50</th><th>nsa_sersic_flux [7]</th><th>nsa_sersic_flux_ivar [7]</th><th>Isothermal chi2</th><th>NFW chi2</th><th>Burkert chi2</th><th>fitting code</th><th>visual code</th></tr></thead>\n",
       "<tr><td>0</td><td>11978</td><td>12701</td><td>11978-12701</td><td>1-294537</td><td>v3_1_1</td><td>v3_1_1</td><td>v1_9_1</td><td>v5_5_36</td><td>v2_9</td><td>APOGEE-2&amp;MaNGA</td><td>MaNGA dither</td><td>249.823000211</td><td>20.4815891141</td><td>38.6427144244</td><td>37.885002369</td><td>249.823</td><td>20.481589</td><td>0.0637748</td><td>9</td><td>8100.79</td><td>0</td><td>18.6949</td><td>48.3751</td><td>ma057</td><td>22</td><td>1</td><td>12259</td><td>250.53024</td><td>21.613958</td><td>1.02349</td><td>1.03937</td><td>1.07842</td><td>1.32465</td><td>1.44418</td><td>1.67171</td><td>0.863491</td><td>0.875162</td><td>0.883735</td><td>58665</td><td>58665</td><td>58665</td><td>2.55851</td><td>2.55191</td><td>2.54296</td><td>2.53257</td><td>2080</td><td>0</td><td>8388608</td><td>1</td><td>plateTargets-1.par</td><td>7593</td><td>J163917.51+202853.7</td><td>127</td><td>169</td><td>0</td><td>0.061554644</td><td>0.027411299</td><td>0.039516494</td><td>0.058709648</td><td>0.06432304</td><td>0.022192728</td><td>0.04573329</td><td>0.59491783</td><td>-999.0</td><td>0.22464368</td><td>0.24687965</td><td>0.42430046</td><td>0.51127803</td><td>-999.0</td><td>0.15014528</td><td>0.15976281</td><td>279</td><td>4002</td><td>5</td><td>v1_0_1</td><td>311596</td><td>-999</td><td>0.061554644</td><td>0.061800513</td><td>-16.914621 .. -21.751368</td><td>-17.623293 .. -21.529688</td><td>8.241771 .. 850.1279</td><td>34700330000.0</td><td>25335360000.0</td><td>0.6056041</td><td>149.00507</td><td>0.52347606 .. 0.09339216</td><td>6.2610025</td><td>5.1902356</td><td>10.071947 .. 996.16156</td><td>0.02573588 .. 0.0036107393</td><td>19.409824 .. 1011.7943</td><td>0.026133105 .. 0.004167675</td><td>0.52630454</td><td>1.6762757</td><td>149.22656</td><td>7.281101</td><td>9.7569685 .. 1237.2483</td><td>0.08068133 .. 0.014796845</td><td>--</td><td>--</td><td>--</td><td>222.0</td><td>2.0</td></tr>\n",
       "<tr><td>1</td><td>9037</td><td>9102</td><td>9037-9102</td><td>1-247771</td><td>v3_1_1</td><td>v3_1_1</td><td>v1_9_1</td><td>v5_5_36</td><td>v2_9</td><td>APOGEE-2&amp;MaNGA</td><td>MaNGA dither</td><td>235.910665084</td><td>43.8248209256</td><td>70.2827585957</td><td>51.7164603161</td><td>235.91067</td><td>43.824821</td><td>0.0209941</td><td>9</td><td>8100.7</td><td>0</td><td>23.6224</td><td>45.8916</td><td>ma125</td><td>33</td><td>6</td><td>9630</td><td>234.45221</td><td>43.385616</td><td>1.01969</td><td>1.05587</td><td>1.21638</td><td>1.14836</td><td>1.27256</td><td>1.87544</td><td>0.859875</td><td>0.877498</td><td>0.87926</td><td>57863</td><td>57863</td><td>57864</td><td>2.48123</td><td>2.51973</td><td>2.52549</td><td>2.5268</td><td>0</td><td>0</td><td>1024</td><td>1</td><td>plateTargets-1.par</td><td>6367</td><td>J154338.54+434929.3</td><td>91</td><td>-999</td><td>0</td><td>0.03743</td><td>-999.0</td><td>-999.0</td><td>-999.0</td><td>-999.0</td><td>-999.0</td><td>-999.0</td><td>-999.0</td><td>-999.0</td><td>-999.0</td><td>-999.0</td><td>-999.0</td><td>-999.0</td><td>-999.0</td><td>-999.0</td><td>-999.0</td><td>69</td><td>3187</td><td>2</td><td>v1_0_1</td><td>262329</td><td>-999</td><td>0.0374297</td><td>0.0378507</td><td>-15.5022 .. -19.636</td><td>-15.8476 .. -19.5686</td><td>4.75763 .. 682.238</td><td>4419590000.0</td><td>3992650000.0</td><td>0.199388</td><td>117.897</td><td>0.173301 .. 0.0309182</td><td>8.71328</td><td>6.24323</td><td>14.1307 .. 415.966</td><td>0.00991748 .. 0.00239621</td><td>13.8056 .. 490.481</td><td>0.0296516 .. 0.00866102</td><td>0.15</td><td>0.653566</td><td>117.811</td><td>8.90436</td><td>9.88558 .. 520.376</td><td>0.0792868 .. 0.0365285</td><td>--</td><td>--</td><td>--</td><td>222.0</td><td>2.0</td></tr>\n",
       "<tr><td>2</td><td>9498</td><td>12703</td><td>9498-12703</td><td>1-163668</td><td>v3_1_1</td><td>v3_1_1</td><td>v1_9_1</td><td>v5_5_36</td><td>v2_9</td><td>APOGEE-2&amp;MaNGA</td><td>MaNGA dither</td><td>118.151107409</td><td>24.5676237974</td><td>196.384159506</td><td>23.7692148921</td><td>118.15111</td><td>24.567624</td><td>0.0683267</td><td>15</td><td>13501.4</td><td>0</td><td>29.1409</td><td>49.6577</td><td>ma027</td><td>31</td><td>2</td><td>10047</td><td>118.53847</td><td>23.229647</td><td>1.02239</td><td>1.08425</td><td>1.15656</td><td>1.39828</td><td>1.80786</td><td>2.17769</td><td>0.92056</td><td>0.98385</td><td>1.00324</td><td>58046</td><td>58048</td><td>58049</td><td>2.75957</td><td>2.70017</td><td>2.69688</td><td>2.69457</td><td>2304</td><td>0</td><td>0</td><td>1</td><td>plateTargets-1.par</td><td>6651</td><td>J075236.26+243403.3</td><td>127</td><td>91</td><td>127</td><td>0.0500388</td><td>0.0233117</td><td>0.03039</td><td>0.0456233</td><td>0.0500093</td><td>0.0183666</td><td>0.0357024</td><td>0.65632</td><td>-999.0</td><td>0.501777</td><td>0.547152</td><td>0.83265</td><td>0.965519</td><td>-999.0</td><td>0.310819</td><td>0.327651</td><td>18</td><td>2961</td><td>3</td><td>v1_0_1</td><td>173063</td><td>-999</td><td>0.0500388</td><td>0.0499658</td><td>-15.8223 .. -20.6701</td><td>-15.8292 .. -20.6165</td><td>4.27691 .. 609.307</td><td>13235800000.0</td><td>12619700000.0</td><td>0.389244</td><td>70.9067</td><td>0.568579 .. 0.101439</td><td>4.82023</td><td>3.56821</td><td>5.08516 .. 643.587</td><td>0.138369 .. 0.00327578</td><td>5.35668 .. 671.15</td><td>0.176917 .. 0.00353077</td><td>0.25806</td><td>1.39921</td><td>71.1199</td><td>5.36452</td><td>5.36513 .. 707.416</td><td>0.476022 .. 0.0255824</td><td>--</td><td>--</td><td>--</td><td>222.0</td><td>2.0</td></tr>\n",
       "</table><style>table.dataTable {clear: both; width: auto !important; margin: 0 !important;}\n",
       ".dataTables_info, .dataTables_length, .dataTables_filter, .dataTables_paginate{\n",
       "display: inline-block; margin-right: 1em; }\n",
       ".paginate_button { margin-right: 5px; }\n",
       "</style>\n",
       "<script>\n",
       "\n",
       "var astropy_sort_num = function(a, b) {\n",
       "    var a_num = parseFloat(a);\n",
       "    var b_num = parseFloat(b);\n",
       "\n",
       "    if (isNaN(a_num) && isNaN(b_num))\n",
       "        return ((a < b) ? -1 : ((a > b) ? 1 : 0));\n",
       "    else if (!isNaN(a_num) && !isNaN(b_num))\n",
       "        return ((a_num < b_num) ? -1 : ((a_num > b_num) ? 1 : 0));\n",
       "    else\n",
       "        return isNaN(a_num) ? -1 : 1;\n",
       "}\n",
       "\n",
       "require.config({paths: {\n",
       "    datatables: 'https://cdn.datatables.net/1.10.12/js/jquery.dataTables.min'\n",
       "}});\n",
       "require([\"datatables\"], function(){\n",
       "    console.log(\"$('#table47490293768496-923446').dataTable()\");\n",
       "    \n",
       "jQuery.extend( jQuery.fn.dataTableExt.oSort, {\n",
       "    \"optionalnum-asc\": astropy_sort_num,\n",
       "    \"optionalnum-desc\": function (a,b) { return -astropy_sort_num(a, b); }\n",
       "});\n",
       "\n",
       "    $('#table47490293768496-923446').dataTable({\n",
       "        order: [],\n",
       "        pageLength: 50,\n",
       "        lengthMenu: [[10, 25, 50, 100, 500, 1000, -1], [10, 25, 50, 100, 500, 1000, 'All']],\n",
       "        pagingType: \"full_numbers\",\n",
       "        columnDefs: [{targets: [0, 1, 12, 13, 14, 15, 16, 17, 18, 19, 20, 21, 22, 23, 25, 27, 28, 29, 30, 31, 32, 33, 34, 35, 36, 37, 38, 39, 40, 41, 42, 43, 44, 45, 46, 47, 48, 49, 51, 53, 54, 55, 56, 57, 58, 59, 60, 61, 62, 63, 64, 65, 66, 67, 68, 69, 70, 71, 72, 73, 74, 76, 77, 78, 79, 80, 81, 82, 83, 84, 85, 86, 87, 88, 89, 90, 91, 92, 93, 94, 95, 96, 97, 98, 99, 100, 101, 102, 103, 104], type: \"optionalnum\"}]\n",
       "    });\n",
       "});\n",
       "</script>\n"
      ],
      "text/plain": [
       "<IPython.core.display.HTML object>"
      ]
     },
     "execution_count": 111,
     "metadata": {},
     "output_type": "execute_result"
    }
   ],
   "source": [
    "t = full_fail[full_fail['fitting code']==222]\n",
    "t[t['visual code']==2].show_in_notebook()"
   ]
  },
  {
   "cell_type": "code",
   "execution_count": 429,
   "metadata": {
    "scrolled": false
   },
   "outputs": [
    {
     "data": {
      "text/html": [
       "<i>Table length=69</i>\n",
       "<table id=\"table47490297437200-818705\" class=\"table-striped table-bordered table-condensed\">\n",
       "<thead><tr><th>idx</th><th>plateifu</th><th>visual code</th></tr></thead>\n",
       "<tr><td>0</td><td>8453-6102</td><td>3.0</td></tr>\n",
       "<tr><td>1</td><td>8458-3701</td><td>3.0</td></tr>\n",
       "<tr><td>2</td><td>8461-1902</td><td>3.0</td></tr>\n",
       "<tr><td>3</td><td>8465-3702</td><td>3.0</td></tr>\n",
       "<tr><td>4</td><td>8466-1901</td><td>3.0</td></tr>\n",
       "<tr><td>5</td><td>8483-3704</td><td>3.0</td></tr>\n",
       "<tr><td>6</td><td>8486-6104</td><td>3.0</td></tr>\n",
       "<tr><td>7</td><td>8547-12702</td><td>3.0</td></tr>\n",
       "<tr><td>8</td><td>8549-1901</td><td>3.0</td></tr>\n",
       "<tr><td>9</td><td>8551-1902</td><td>3.0</td></tr>\n",
       "<tr><td>10</td><td>8552-3701</td><td>3.0</td></tr>\n",
       "<tr><td>11</td><td>8553-9102</td><td>3.0</td></tr>\n",
       "<tr><td>12</td><td>8562-12703</td><td>3.0</td></tr>\n",
       "<tr><td>13</td><td>8563-6101</td><td>3.0</td></tr>\n",
       "<tr><td>14</td><td>8565-3704</td><td>3.0</td></tr>\n",
       "<tr><td>15</td><td>8570-6103</td><td>3.0</td></tr>\n",
       "<tr><td>16</td><td>8588-3703</td><td>3.0</td></tr>\n",
       "<tr><td>17</td><td>8595-1902</td><td>3.0</td></tr>\n",
       "<tr><td>18</td><td>8598-12704</td><td>3.0</td></tr>\n",
       "<tr><td>19</td><td>8598-1902</td><td>3.0</td></tr>\n",
       "<tr><td>20</td><td>8610-3701</td><td>3.0</td></tr>\n",
       "<tr><td>21</td><td>8619-12702</td><td>3.0</td></tr>\n",
       "<tr><td>22</td><td>8623-12705</td><td>3.0</td></tr>\n",
       "<tr><td>23</td><td>8652-3701</td><td>3.0</td></tr>\n",
       "<tr><td>24</td><td>8654-12705</td><td>3.0</td></tr>\n",
       "<tr><td>25</td><td>8654-9102</td><td>3.0</td></tr>\n",
       "<tr><td>26</td><td>8655-12703</td><td>3.0</td></tr>\n",
       "<tr><td>27</td><td>8657-12704</td><td>3.0</td></tr>\n",
       "<tr><td>28</td><td>8714-1901</td><td>3.0</td></tr>\n",
       "<tr><td>29</td><td>8727-3702</td><td>3.0</td></tr>\n",
       "<tr><td>30</td><td>8727-9102</td><td>3.0</td></tr>\n",
       "<tr><td>31</td><td>8728-6104</td><td>3.0</td></tr>\n",
       "<tr><td>32</td><td>8931-9101</td><td>3.0</td></tr>\n",
       "<tr><td>33</td><td>8937-1902</td><td>3.0</td></tr>\n",
       "<tr><td>34</td><td>8940-3704</td><td>3.0</td></tr>\n",
       "<tr><td>35</td><td>8940-6101</td><td>3.0</td></tr>\n",
       "<tr><td>36</td><td>8944-1901</td><td>3.0</td></tr>\n",
       "<tr><td>37</td><td>8945-1901</td><td>3.0</td></tr>\n",
       "<tr><td>38</td><td>8946-3701</td><td>3.0</td></tr>\n",
       "<tr><td>39</td><td>8948-12704</td><td>3.0</td></tr>\n",
       "<tr><td>40</td><td>8977-12705</td><td>3.0</td></tr>\n",
       "<tr><td>41</td><td>8980-1902</td><td>3.0</td></tr>\n",
       "<tr><td>42</td><td>9002-12701</td><td>3.0</td></tr>\n",
       "<tr><td>43</td><td>9025-3703</td><td>3.0</td></tr>\n",
       "<tr><td>44</td><td>9026-6102</td><td>3.0</td></tr>\n",
       "<tr><td>45</td><td>9028-1902</td><td>3.0</td></tr>\n",
       "<tr><td>46</td><td>9030-1902</td><td>3.0</td></tr>\n",
       "<tr><td>47</td><td>9032-6104</td><td>3.0</td></tr>\n",
       "<tr><td>48</td><td>9040-1901</td><td>3.0</td></tr>\n",
       "<tr><td>49</td><td>9049-6104</td><td>3.0</td></tr>\n",
       "<tr><td>50</td><td>9087-6104</td><td>3.0</td></tr>\n",
       "<tr><td>51</td><td>9183-9102</td><td>3.0</td></tr>\n",
       "<tr><td>52</td><td>9186-9101</td><td>3.0</td></tr>\n",
       "<tr><td>53</td><td>9187-12702</td><td>3.0</td></tr>\n",
       "<tr><td>54</td><td>9187-9102</td><td>3.0</td></tr>\n",
       "<tr><td>55</td><td>9188-12705</td><td>3.0</td></tr>\n",
       "<tr><td>56</td><td>9190-3703</td><td>3.0</td></tr>\n",
       "<tr><td>57</td><td>9191-12701</td><td>3.0</td></tr>\n",
       "<tr><td>58</td><td>9192-3704</td><td>3.0</td></tr>\n",
       "<tr><td>59</td><td>9494-1901</td><td>3.0</td></tr>\n",
       "<tr><td>60</td><td>9494-3701</td><td>3.0</td></tr>\n",
       "<tr><td>61</td><td>9496-3702</td><td>3.0</td></tr>\n",
       "<tr><td>62</td><td>9497-12705</td><td>3.0</td></tr>\n",
       "<tr><td>63</td><td>9862-12703</td><td>3.0</td></tr>\n",
       "<tr><td>64</td><td>9865-3704</td><td>3.0</td></tr>\n",
       "<tr><td>65</td><td>9867-3702</td><td>3.0</td></tr>\n",
       "<tr><td>66</td><td>9883-12701</td><td>3.0</td></tr>\n",
       "<tr><td>67</td><td>9886-1901</td><td>3.0</td></tr>\n",
       "<tr><td>68</td><td>9893-3703</td><td>3.0</td></tr>\n",
       "</table><style>table.dataTable {clear: both; width: auto !important; margin: 0 !important;}\n",
       ".dataTables_info, .dataTables_length, .dataTables_filter, .dataTables_paginate{\n",
       "display: inline-block; margin-right: 1em; }\n",
       ".paginate_button { margin-right: 5px; }\n",
       "</style>\n",
       "<script>\n",
       "\n",
       "var astropy_sort_num = function(a, b) {\n",
       "    var a_num = parseFloat(a);\n",
       "    var b_num = parseFloat(b);\n",
       "\n",
       "    if (isNaN(a_num) && isNaN(b_num))\n",
       "        return ((a < b) ? -1 : ((a > b) ? 1 : 0));\n",
       "    else if (!isNaN(a_num) && !isNaN(b_num))\n",
       "        return ((a_num < b_num) ? -1 : ((a_num > b_num) ? 1 : 0));\n",
       "    else\n",
       "        return isNaN(a_num) ? -1 : 1;\n",
       "}\n",
       "\n",
       "require.config({paths: {\n",
       "    datatables: 'https://cdn.datatables.net/1.10.12/js/jquery.dataTables.min'\n",
       "}});\n",
       "require([\"datatables\"], function(){\n",
       "    console.log(\"$('#table47490297437200-818705').dataTable()\");\n",
       "    \n",
       "jQuery.extend( jQuery.fn.dataTableExt.oSort, {\n",
       "    \"optionalnum-asc\": astropy_sort_num,\n",
       "    \"optionalnum-desc\": function (a,b) { return -astropy_sort_num(a, b); }\n",
       "});\n",
       "\n",
       "    $('#table47490297437200-818705').dataTable({\n",
       "        order: [],\n",
       "        pageLength: 50,\n",
       "        lengthMenu: [[10, 25, 50, 100, 500, 1000, -1], [10, 25, 50, 100, 500, 1000, 'All']],\n",
       "        pagingType: \"full_numbers\",\n",
       "        columnDefs: [{targets: [0, 2], type: \"optionalnum\"}]\n",
       "    });\n",
       "});\n",
       "</script>\n"
      ],
      "text/plain": [
       "<IPython.core.display.HTML object>"
      ]
     },
     "execution_count": 429,
     "metadata": {},
     "output_type": "execute_result"
    }
   ],
   "source": [
    "full_fail = Table.read('/scratch/lstroud3/RotationCurves/failed_objects_table.fits')\n",
    "t = full_fail[full_fail['fitting code']==222]\n",
    "l = t[t['visual code'] ==3]\n",
    "l['plateifu','visual code'].show_in_notebook()"
   ]
  },
  {
   "cell_type": "code",
   "execution_count": null,
   "metadata": {},
   "outputs": [],
   "source": [
    "#11014-9101 was missorted as find phi instead of phi\n",
    "#11978-12701, 9037-9102,9498-12703, didn't actually get center corrected\n",
    "#7972-6102"
   ]
  }
 ],
 "metadata": {
  "kernelspec": {
   "display_name": "Python 3 (anaconda3 2021.11)",
   "language": "python",
   "name": "anaconda3-2021.11"
  },
  "language_info": {
   "codemirror_mode": {
    "name": "ipython",
    "version": 3
   },
   "file_extension": ".py",
   "mimetype": "text/x-python",
   "name": "python",
   "nbconvert_exporter": "python",
   "pygments_lexer": "ipython3",
   "version": "3.9.7"
  }
 },
 "nbformat": 4,
 "nbformat_minor": 2
}
