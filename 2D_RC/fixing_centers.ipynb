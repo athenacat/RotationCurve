{
 "cells": [
  {
   "cell_type": "code",
   "execution_count": 1,
   "metadata": {},
   "outputs": [],
   "source": [
    "from DRP_rotation_curve import extract_data, extract_Pipe3d_data\n",
    "from rotation_fitfunctions import find_phi, find_incl, find_axis_ratio\n",
    "from astropy.table import Table\n",
    "import numpy as np\n",
    "import numpy.ma as ma\n",
    "import matplotlib.pyplot as plt"
   ]
  },
  {
   "cell_type": "code",
   "execution_count": 2,
   "metadata": {},
   "outputs": [],
   "source": [
    "#where the data lives\n",
    "MANGA_FOLDER = '/scratch/kdougla7/data/SDSS/dr17/manga/spectro/'\n",
    "VEL_MAP_FOLDER = MANGA_FOLDER + 'analysis/v3_1_1/3.1.0/HYB10-MILESHC-MASTARSSP/'\n",
    "DRP_FILENAME = MANGA_FOLDER + 'redux/v3_1_1/' + 'drpall-v3_1_1.fits'"
   ]
  },
  {
   "cell_type": "code",
   "execution_count": 3,
   "metadata": {},
   "outputs": [],
   "source": [
    "#reading in DRP_all\n",
    "DRP_table = Table.read(DRP_FILENAME, 'MANGA')\n",
    "\n",
    "DRP_index = {}\n",
    "\n",
    "for i in range(len(DRP_table)):\n",
    "    galaxy_ID = DRP_table['plateifu'][i]\n",
    "\n",
    "    DRP_index[galaxy_ID] = i\n"
   ]
  },
  {
   "cell_type": "code",
   "execution_count": 4,
   "metadata": {},
   "outputs": [],
   "source": [
    "full_fail = Table.read('/scratch/lstroud3/RotationCurves/failed_objects_table.fits')"
   ]
  },
  {
   "cell_type": "code",
   "execution_count": 33,
   "metadata": {},
   "outputs": [
    {
     "data": {
      "text/html": [
       "<i>Table length=11</i>\n",
       "<table id=\"table47111734583152-254191\" class=\"table-striped table-bordered table-condensed\">\n",
       "<thead><tr><th>idx</th><th>plateifu</th><th>visual code</th></tr></thead>\n",
       "<tr><td>0</td><td>11955-12702</td><td>3.2</td></tr>\n",
       "<tr><td>1</td><td>11977-12704</td><td>3.2</td></tr>\n",
       "<tr><td>2</td><td>11982-12703</td><td>3.2</td></tr>\n",
       "<tr><td>3</td><td>12069-12702</td><td>3.2</td></tr>\n",
       "<tr><td>4</td><td>12769-12705</td><td>3.2</td></tr>\n",
       "<tr><td>5</td><td>7958-12703</td><td>3.2</td></tr>\n",
       "<tr><td>6</td><td>7972-6102</td><td>3.2</td></tr>\n",
       "<tr><td>7</td><td>7981-12703</td><td>3.2</td></tr>\n",
       "<tr><td>8</td><td>8146-9101</td><td>3.2</td></tr>\n",
       "<tr><td>9</td><td>8148-6102</td><td>3.2</td></tr>\n",
       "<tr><td>10</td><td>8252-12701</td><td>3.2</td></tr>\n",
       "</table><style>table.dataTable {clear: both; width: auto !important; margin: 0 !important;}\n",
       ".dataTables_info, .dataTables_length, .dataTables_filter, .dataTables_paginate{\n",
       "display: inline-block; margin-right: 1em; }\n",
       ".paginate_button { margin-right: 5px; }\n",
       "</style>\n",
       "<script>\n",
       "\n",
       "var astropy_sort_num = function(a, b) {\n",
       "    var a_num = parseFloat(a);\n",
       "    var b_num = parseFloat(b);\n",
       "\n",
       "    if (isNaN(a_num) && isNaN(b_num))\n",
       "        return ((a < b) ? -1 : ((a > b) ? 1 : 0));\n",
       "    else if (!isNaN(a_num) && !isNaN(b_num))\n",
       "        return ((a_num < b_num) ? -1 : ((a_num > b_num) ? 1 : 0));\n",
       "    else\n",
       "        return isNaN(a_num) ? -1 : 1;\n",
       "}\n",
       "\n",
       "require.config({paths: {\n",
       "    datatables: 'https://cdn.datatables.net/1.10.12/js/jquery.dataTables.min'\n",
       "}});\n",
       "require([\"datatables\"], function(){\n",
       "    console.log(\"$('#table47111734583152-254191').dataTable()\");\n",
       "    \n",
       "jQuery.extend( jQuery.fn.dataTableExt.oSort, {\n",
       "    \"optionalnum-asc\": astropy_sort_num,\n",
       "    \"optionalnum-desc\": function (a,b) { return -astropy_sort_num(a, b); }\n",
       "});\n",
       "\n",
       "    $('#table47111734583152-254191').dataTable({\n",
       "        order: [],\n",
       "        pageLength: 50,\n",
       "        lengthMenu: [[10, 25, 50, 100, 500, 1000, -1], [10, 25, 50, 100, 500, 1000, 'All']],\n",
       "        pagingType: \"full_numbers\",\n",
       "        columnDefs: [{targets: [0, 2], type: \"optionalnum\"}]\n",
       "    });\n",
       "});\n",
       "</script>\n"
      ],
      "text/plain": [
       "<IPython.core.display.HTML object>"
      ]
     },
     "execution_count": 33,
     "metadata": {},
     "output_type": "execute_result"
    }
   ],
   "source": [
    "t = full_fail[full_fail['fitting code']==222]\n",
    "t[t['visual code']==3.2]['plateifu','visual code'].show_in_notebook()"
   ]
  },
  {
   "cell_type": "code",
   "execution_count": 92,
   "metadata": {},
   "outputs": [],
   "source": [
    "#galaxy being checked\n",
    "gal_ID = '8252-12701' #7972-6102, 8148-6102, 8252-12701 is (27,27),8146-9101 (35,30)"
   ]
  },
  {
   "cell_type": "code",
   "execution_count": 85,
   "metadata": {},
   "outputs": [],
   "source": [
    "#reading in velocity map and getting center/phi\n",
    "maps = extract_data(VEL_MAP_FOLDER,gal_ID,['Ha_vel', 'r_band', 'Ha_flux', 'Ha_sigma'])\n",
    "SN_map = maps['Ha_flux'] * np.sqrt(maps['Ha_flux_ivar'])\n",
    "vmap_mask = maps['Ha_vel_mask'] + (SN_map < 5)\n",
    "maps['vmasked'] = ma.array(maps['Ha_vel'], mask=vmap_mask)\n",
    "maps['ivarmasked'] = ma.array(maps['Ha_vel_ivar'], mask=vmap_mask)\n",
    "maps['rbandmasked'] = ma.array(maps['r_band'], mask = vmap_mask)\n",
    "i_DRP = DRP_index[gal_ID]\n",
    "shape = maps['vmasked'].shape\n",
    "center = np.unravel_index(ma.argmax(maps['rbandmasked']), shape)\n",
    "\n"
   ]
  },
  {
   "cell_type": "code",
   "execution_count": 93,
   "metadata": {},
   "outputs": [
    {
     "name": "stdout",
     "output_type": "stream",
     "text": [
      "0.19679110915011663\n",
      "0.19679110915011663 0.19679110915011663\n"
     ]
    }
   ],
   "source": [
    "center = (27,27)\n",
    "phi = DRP_table['nsa_elpetro_phi'][i_DRP] \n",
    "new_phi = find_phi(center, phi, maps['vmasked'])\n",
    "phi = DRP_table['nsa_elpetro_phi'][i_DRP] \n",
    "phi *= np.pi/180\n",
    "print(phi,new_phi)"
   ]
  },
  {
   "cell_type": "code",
   "execution_count": 31,
   "metadata": {},
   "outputs": [],
   "source": [
    "maps['vmasked']-= maps['vmasked'][center]"
   ]
  },
  {
   "cell_type": "code",
   "execution_count": 94,
   "metadata": {},
   "outputs": [
    {
     "data": {
      "image/png": "[encoded data removed]",
      "text/plain": [
       "<Figure size 432x288 with 2 Axes>"
      ]
     },
     "metadata": {
      "needs_background": "light"
     },
     "output_type": "display_data"
    }
   ],
   "source": [
    "\n",
    "plt.imshow(maps['vmasked'],origin='lower',cmap='RdBu_r',vmax = 100,vmin=-100)\n",
    "cbar = plt.colorbar()\n",
    "plt.plot(center[0],center[1],marker='o',color='cyan')\n",
    "plt.quiver([center[0]],[center[1]],[-np.sin(new_phi)],[np.cos(new_phi)],scale=5,color='cyan')\n",
    "y= np.linspace(0,shape[0])\n",
    "plt.plot(-((np.tan(phi))*(y-center[1]))+center[0],y,color='green')\n",
    "plt.xlim(0,shape[0])\n",
    "plt.ylim(0,shape[1])\n",
    "plt.xlabel('spaxel')\n",
    "plt.ylabel('spaxel')\n",
    "plt.title(gal_ID+' Velocity Map')\n",
    "\n",
    "cbar.set_label('km/s')\n"
   ]
  },
  {
   "cell_type": "code",
   "execution_count": 312,
   "metadata": {},
   "outputs": [
    {
     "ename": "KeyError",
     "evalue": "'11021-12702'",
     "output_type": "error",
     "traceback": [
      "\u001b[0;31m---------------------------------------------------------------------------\u001b[0m",
      "\u001b[0;31mKeyError\u001b[0m                                  Traceback (most recent call last)",
      "\u001b[0;32m/local_scratch/19082087/ipykernel_4232/1480952243.py\u001b[0m in \u001b[0;36m<module>\u001b[0;34m\u001b[0m\n\u001b[0;32m----> 1\u001b[0;31m \u001b[0mx\u001b[0m\u001b[0;34m[\u001b[0m\u001b[0;34m'new_x0'\u001b[0m\u001b[0;34m]\u001b[0m\u001b[0;34m[\u001b[0m\u001b[0mx_ind\u001b[0m\u001b[0;34m[\u001b[0m\u001b[0mgal_ID\u001b[0m\u001b[0;34m]\u001b[0m\u001b[0;34m]\u001b[0m \u001b[0;34m=\u001b[0m \u001b[0mcenter\u001b[0m\u001b[0;34m[\u001b[0m\u001b[0;36m0\u001b[0m\u001b[0;34m]\u001b[0m\u001b[0;34m\u001b[0m\u001b[0;34m\u001b[0m\u001b[0m\n\u001b[0m\u001b[1;32m      2\u001b[0m \u001b[0mx\u001b[0m\u001b[0;34m[\u001b[0m\u001b[0;34m'new_y0'\u001b[0m\u001b[0;34m]\u001b[0m\u001b[0;34m[\u001b[0m\u001b[0mx_ind\u001b[0m\u001b[0;34m[\u001b[0m\u001b[0mgal_ID\u001b[0m\u001b[0;34m]\u001b[0m\u001b[0;34m]\u001b[0m \u001b[0;34m=\u001b[0m \u001b[0mcenter\u001b[0m\u001b[0;34m[\u001b[0m\u001b[0;36m1\u001b[0m\u001b[0;34m]\u001b[0m\u001b[0;34m\u001b[0m\u001b[0;34m\u001b[0m\u001b[0m\n",
      "\u001b[0;31mKeyError\u001b[0m: '11021-12702'"
     ]
    }
   ],
   "source": [
    "x['new_x0'][x_ind[gal_ID]] = center[0]\n",
    "x['new_y0'][x_ind[gal_ID]] = center[1]"
   ]
  },
  {
   "cell_type": "code",
   "execution_count": 41,
   "metadata": {},
   "outputs": [],
   "source": [
    "x = t[t['visual code']==2]\n",
    "x['new_x0'] = np.nan\n",
    "x['new_y0'] = np.nan"
   ]
  },
  {
   "cell_type": "code",
   "execution_count": 42,
   "metadata": {},
   "outputs": [],
   "source": [
    "x_ind = {}\n",
    "for i in range(len(x)):\n",
    "    gal = x['plateifu'][i]\n",
    "    x_ind[gal] = i"
   ]
  },
  {
   "cell_type": "code",
   "execution_count": 300,
   "metadata": {},
   "outputs": [
    {
     "data": {
      "text/html": [
       "<i>Table length=36</i>\n",
       "<table id=\"table47509216673024-969072\" class=\"table-striped table-bordered table-condensed\">\n",
       "<thead><tr><th>idx</th><th>plateifu</th><th>new_x0</th><th>new_y0</th></tr></thead>\n",
       "<tr><td>0</td><td>10495-12704</td><td>39.0</td><td>36.0</td></tr>\n",
       "<tr><td>1</td><td>10515-3703</td><td>nan</td><td>nan</td></tr>\n",
       "<tr><td>2</td><td>10841-12705</td><td>nan</td><td>nan</td></tr>\n",
       "<tr><td>3</td><td>10845-6101</td><td>nan</td><td>nan</td></tr>\n",
       "<tr><td>4</td><td>11018-12701</td><td>38.0</td><td>38.0</td></tr>\n",
       "<tr><td>5</td><td>11743-12701</td><td>nan</td><td>nan</td></tr>\n",
       "<tr><td>6</td><td>11751-12702</td><td>37.0</td><td>38.0</td></tr>\n",
       "<tr><td>7</td><td>11754-6102</td><td>nan</td><td>nan</td></tr>\n",
       "<tr><td>8</td><td>11758-6103</td><td>31.0</td><td>27.0</td></tr>\n",
       "<tr><td>9</td><td>11823-12702</td><td>40.0</td><td>40.0</td></tr>\n",
       "<tr><td>10</td><td>11824-12702</td><td>37.0</td><td>38.0</td></tr>\n",
       "<tr><td>11</td><td>11827-1902</td><td>nan</td><td>nan</td></tr>\n",
       "<tr><td>12</td><td>11831-3704</td><td>nan</td><td>nan</td></tr>\n",
       "<tr><td>13</td><td>11832-12702</td><td>37.0</td><td>38.0</td></tr>\n",
       "<tr><td>14</td><td>11865-12705</td><td>35.0</td><td>37.0</td></tr>\n",
       "<tr><td>15</td><td>11947-12703</td><td>nan</td><td>nan</td></tr>\n",
       "<tr><td>16</td><td>11978-12701</td><td>35.0</td><td>37.0</td></tr>\n",
       "<tr><td>17</td><td>12488-6102</td><td>nan</td><td>nan</td></tr>\n",
       "<tr><td>18</td><td>12651-12701</td><td>35.0</td><td>36.0</td></tr>\n",
       "<tr><td>19</td><td>8088-12704</td><td>nan</td><td>nan</td></tr>\n",
       "<tr><td>20</td><td>8240-12705</td><td>45.0</td><td>45.0</td></tr>\n",
       "<tr><td>21</td><td>8252-6103</td><td>28.0</td><td>28.0</td></tr>\n",
       "<tr><td>22</td><td>8438-12705</td><td>38.0</td><td>38.0</td></tr>\n",
       "<tr><td>23</td><td>8551-6104</td><td>25.0</td><td>25.0</td></tr>\n",
       "<tr><td>24</td><td>8570-6104</td><td>25.0</td><td>25.0</td></tr>\n",
       "<tr><td>25</td><td>8613-12701</td><td>40.0</td><td>37.0</td></tr>\n",
       "<tr><td>26</td><td>8626-1902</td><td>17.0</td><td>17.0</td></tr>\n",
       "<tr><td>27</td><td>8651-3702</td><td>20.0</td><td>23.0</td></tr>\n",
       "<tr><td>28</td><td>8711-12701</td><td>37.0</td><td>37.0</td></tr>\n",
       "<tr><td>29</td><td>8950-12705</td><td>nan</td><td>nan</td></tr>\n",
       "<tr><td>30</td><td>9037-9102</td><td>38.0</td><td>37.0</td></tr>\n",
       "<tr><td>31</td><td>9046-12705</td><td>30.0</td><td>35.0</td></tr>\n",
       "<tr><td>32</td><td>9498-12703</td><td>38.0</td><td>38.0</td></tr>\n",
       "<tr><td>33</td><td>9872-6103</td><td>28.0</td><td>28.0</td></tr>\n",
       "<tr><td>34</td><td>9890-12705</td><td>40.0</td><td>35.0</td></tr>\n",
       "<tr><td>35</td><td>9891-12704</td><td>36.0</td><td>39.0</td></tr>\n",
       "</table><style>table.dataTable {clear: both; width: auto !important; margin: 0 !important;}\n",
       ".dataTables_info, .dataTables_length, .dataTables_filter, .dataTables_paginate{\n",
       "display: inline-block; margin-right: 1em; }\n",
       ".paginate_button { margin-right: 5px; }\n",
       "</style>\n",
       "<script>\n",
       "\n",
       "var astropy_sort_num = function(a, b) {\n",
       "    var a_num = parseFloat(a);\n",
       "    var b_num = parseFloat(b);\n",
       "\n",
       "    if (isNaN(a_num) && isNaN(b_num))\n",
       "        return ((a < b) ? -1 : ((a > b) ? 1 : 0));\n",
       "    else if (!isNaN(a_num) && !isNaN(b_num))\n",
       "        return ((a_num < b_num) ? -1 : ((a_num > b_num) ? 1 : 0));\n",
       "    else\n",
       "        return isNaN(a_num) ? -1 : 1;\n",
       "}\n",
       "\n",
       "require.config({paths: {\n",
       "    datatables: 'https://cdn.datatables.net/1.10.12/js/jquery.dataTables.min'\n",
       "}});\n",
       "require([\"datatables\"], function(){\n",
       "    console.log(\"$('#table47509216673024-969072').dataTable()\");\n",
       "    \n",
       "jQuery.extend( jQuery.fn.dataTableExt.oSort, {\n",
       "    \"optionalnum-asc\": astropy_sort_num,\n",
       "    \"optionalnum-desc\": function (a,b) { return -astropy_sort_num(a, b); }\n",
       "});\n",
       "\n",
       "    $('#table47509216673024-969072').dataTable({\n",
       "        order: [],\n",
       "        pageLength: 50,\n",
       "        lengthMenu: [[10, 25, 50, 100, 500, 1000, -1], [10, 25, 50, 100, 500, 1000, 'All']],\n",
       "        pagingType: \"full_numbers\",\n",
       "        columnDefs: [{targets: [0, 2, 3], type: \"optionalnum\"}]\n",
       "    });\n",
       "});\n",
       "</script>\n"
      ],
      "text/plain": [
       "<IPython.core.display.HTML object>"
      ]
     },
     "execution_count": 300,
     "metadata": {},
     "output_type": "execute_result"
    }
   ],
   "source": [
    "x['plateifu','new_x0','new_y0'].show_in_notebook()"
   ]
  },
  {
   "cell_type": "code",
   "execution_count": null,
   "metadata": {},
   "outputs": [],
   "source": [
    "'''\n",
    "\n",
    "\n",
    "\n",
    "\n",
    "0\t10495-12704\t39.0\t36.0\n",
    "1\t10515-3703\t20.0\t25.0\n",
    "2\t10841-12705\t37\t37\n",
    "3\t10845-6101\t30\t30\n",
    "4\t11018-12701\t38.0\t38.0\n",
    "5\t11743-12701\t37\t37\n",
    "6\t11751-12702\t37.0\t38.0\n",
    "7\t11021-12702\t35\t40\n",
    "8\t11758-6103\t31.0\t27.0\n",
    "9\t11823-12702\t40.0\t40.0\n",
    "10\t11824-12702\t37.0\t38.0\n",
    "13\t11832-12702\t37.0\t38.0\n",
    "14\t11865-12705\t35.0\t37.0\n",
    "15\t11947-12703\t40\t40\n",
    "16\t11978-12701\t35.0\t37.0\n",
    "17\t12488-6102\t27\t27\n",
    "18\t12651-12701\t35.0\t36.0\n",
    "19\t8088-12704\t36\t36\n",
    "20\t8240-12705\t45.0\t45.0\n",
    "21\t8252-6103\t28.0\t28.0\n",
    "22\t8438-12705\t38.0\t38.0\n",
    "23\t8551-6104\t25.0\t25.0\n",
    "24\t8570-6104\t25.0\t25.0\n",
    "25\t8613-12701\t40.0\t37.0\n",
    "26\t8626-1902\t17.0\t17.0\n",
    "27\t8651-3702\t20.0\t23.0\n",
    "28\t8711-12701\t37.0\t37.0\n",
    "29\t8950-12705\t36\t36\n",
    "30\t9037-9102\t38.0\t37.0\n",
    "31\t9046-12705\t30.0\t35.0\n",
    "32\t9498-12703\t38.0\t38.0\n",
    "33\t9872-6103\t28.0\t28.0\n",
    "34\t9890-12705\t40.0\t35.0\n",
    "35\t9891-12704\t36.0\t39.0\"\"\"\n",
    "\n",
    "\n",
    "\n"
   ]
  },
  {
   "cell_type": "code",
   "execution_count": 13,
   "metadata": {},
   "outputs": [],
   "source": [
    "new_table = Table.read('/scratch/lstroud3/RotationCurves/Images/NFW/centerfix.fits')"
   ]
  },
  {
   "cell_type": "code",
   "execution_count": 7,
   "metadata": {},
   "outputs": [
    {
     "data": {
      "text/html": [
       "<i>Table length=18</i>\n",
       "<table id=\"table47910969570640-906814\" class=\"table-striped table-bordered table-condensed\">\n",
       "<thead><tr><th>idx</th><th>plate</th><th>ifudsgn</th><th>plateifu</th><th>mangaid</th><th>versdrp2</th><th>versdrp3</th><th>verscore</th><th>versutil</th><th>versprim</th><th>platetyp</th><th>srvymode</th><th>objra</th><th>objdec</th><th>ifuglon</th><th>ifuglat</th><th>ifura</th><th>ifudec</th><th>ebvgal</th><th>nexp</th><th>exptime</th><th>drp3qual</th><th>bluesn2</th><th>redsn2</th><th>harname</th><th>frlplug</th><th>cartid</th><th>designid</th><th>cenra</th><th>cendec</th><th>airmsmin</th><th>airmsmed</th><th>airmsmax</th><th>seemin</th><th>seemed</th><th>seemax</th><th>transmin</th><th>transmed</th><th>transmax</th><th>mjdmin</th><th>mjdmed</th><th>mjdmax</th><th>gfwhm</th><th>rfwhm</th><th>ifwhm</th><th>zfwhm</th><th>mngtarg1</th><th>mngtarg2</th><th>mngtarg3</th><th>catidnum</th><th>plttarg</th><th>manga_tileid</th><th>nsa_iauname</th><th>ifudesignsize</th><th>ifutargetsize</th><th>ifudesignwrongsize</th><th>z</th><th>zmin</th><th>zmax</th><th>szmin</th><th>szmax</th><th>ezmin</th><th>ezmax</th><th>probs</th><th>pweight</th><th>psweight</th><th>psrweight</th><th>sweight</th><th>srweight</th><th>eweight</th><th>esweight</th><th>esrweight</th><th>nsa_field</th><th>nsa_run</th><th>nsa_camcol</th><th>nsa_version</th><th>nsa_nsaid</th><th>nsa_nsaid_v1b</th><th>nsa_z</th><th>nsa_zdist</th><th>nsa_sersic_absmag [7]</th><th>nsa_elpetro_absmag [7]</th><th>nsa_elpetro_amivar [7]</th><th>nsa_sersic_mass</th><th>nsa_elpetro_mass</th><th>nsa_elpetro_ba</th><th>nsa_elpetro_phi</th><th>nsa_extinction [7]</th><th>nsa_elpetro_th50_r</th><th>nsa_petro_th50</th><th>nsa_petro_flux [7]</th><th>nsa_petro_flux_ivar [7]</th><th>nsa_elpetro_flux [7]</th><th>nsa_elpetro_flux_ivar [7]</th><th>nsa_sersic_ba</th><th>nsa_sersic_n</th><th>nsa_sersic_phi</th><th>nsa_sersic_th50</th><th>nsa_sersic_flux [7]</th><th>nsa_sersic_flux_ivar [7]</th><th>rho bulge</th><th>R bulge</th><th>sigma disk</th><th>R disk</th><th>rho halo</th><th>R halo</th><th>incl</th><th>phi</th><th>x0</th><th>y0</th><th>vsys</th><th>rho bulge err</th><th>R bulge err</th><th>sigma disk err</th><th>R disk err</th><th>rho halo err</th><th>R halo err</th><th>incl err</th><th>phi err</th><th>x0 err</th><th>y0 err</th><th>vsys err</th><th>chi2</th><th>fit flag</th></tr></thead>\n",
       "<tr><td>0</td><td>10495</td><td>12704</td><td>10495-12704</td><td>1-45208</td><td>v3_1_1</td><td>v3_1_1</td><td>v1_9_1</td><td>v5_5_36</td><td>v2_9</td><td>APOGEE-2&amp;MaNGA</td><td>MaNGA dither</td><td>124.272419897</td><td>48.312047545</td><td>171.116153862</td><td>33.8222169927</td><td>124.27242</td><td>48.312048</td><td>0.0553039</td><td>12</td><td>10801.0</td><td>0</td><td>28.3706</td><td>62.947</td><td>ma154</td><td>34</td><td>6</td><td>11027</td><td>124.45808</td><td>47.83128</td><td>1.03792</td><td>1.05208</td><td>1.13793</td><td>1.73333</td><td>1.89266</td><td>1.97109</td><td>0.68591</td><td>0.890614</td><td>0.901823</td><td>58546</td><td>58547</td><td>58547</td><td>2.69623</td><td>2.65694</td><td>2.63439</td><td>2.6212</td><td>2336</td><td>0</td><td>0</td><td>1</td><td>plateTargets-1.par</td><td>6083</td><td>J081705.39+481843.4</td><td>127</td><td>169</td><td>0</td><td>0.054592</td><td>0.0251435</td><td>0.0335376</td><td>0.050353</td><td>0.0550878</td><td>0.0248908</td><td>0.0344239</td><td>0.609726</td><td>-999.0</td><td>0.382007</td><td>0.421139</td><td>0.667285</td><td>0.796579</td><td>-999.0</td><td>0.357456</td><td>0.391496</td><td>125</td><td>1345</td><td>6</td><td>v1_0_1</td><td>48141</td><td>-999</td><td>0.054592</td><td>0.0548653</td><td>-16.6186 .. -21.0321</td><td>-16.9702 .. -21.0717</td><td>295.158 .. 530.743</td><td>19353200000.0</td><td>20756700000.0</td><td>0.429259</td><td>9.21732</td><td>0.460477 .. 0.0821526</td><td>6.3595</td><td>4.80028</td><td>9.98259 .. 879.539</td><td>2.82414 .. 0.00102897</td><td>14.655 .. 848.129</td><td>3.06977 .. 0.00166519</td><td>0.350966</td><td>0.676839</td><td>9.25443</td><td>6.74763</td><td>10.3367 .. 826.14</td><td>3.51855 .. 0.0195912</td><td>0.06631475851876856</td><td>2.7891841688892276</td><td>1582.501529121807</td><td>1.4942576291652232</td><td>-0.9831724925611668</td><td>999.6799541072485</td><td>0.6262090883098702</td><td>0.3874472783379226</td><td>38.127862452638496</td><td>35.63400911714972</td><td>-7.142017913160495</td><td>0.010702194315542765</td><td>18.464105179832824</td><td>30.881428390293756</td><td>0.37488653807365174</td><td>0.0030425571931575524</td><td>55.52318774282925</td><td>0.0015565646580279657</td><td>0.0010934343573793335</td><td>0.019509210050622137</td><td>0.016911396155932755</td><td>0.2137663253606715</td><td>96.4406654990069</td><td>25.0</td></tr>\n",
       "<tr><td>1</td><td>10845</td><td>6101</td><td>10845-6101</td><td>1-60334</td><td>v3_1_1</td><td>v3_1_1</td><td>v1_9_1</td><td>v5_5_36</td><td>v2_9</td><td>APOGEE-2&amp;MaNGA</td><td>MaNGA dither</td><td>149.593812964</td><td>1.58470921575</td><td>237.089920178</td><td>41.3331958786</td><td>149.59381</td><td>1.5847092</td><td>0.0206065</td><td>12</td><td>10800.9</td><td>0</td><td>21.5987</td><td>49.151</td><td>ma037</td><td>21</td><td>1</td><td>11301</td><td>149.23582</td><td>2.9957457</td><td>1.16914</td><td>1.19243</td><td>1.23266</td><td>1.30136</td><td>1.54017</td><td>1.67429</td><td>0.722841</td><td>0.912725</td><td>0.923726</td><td>58582</td><td>58582</td><td>58583</td><td>2.61389</td><td>2.61647</td><td>2.61991</td><td>2.61901</td><td>4224</td><td>0</td><td>0</td><td>1</td><td>plateTargets-1.par</td><td>7330</td><td>J095822.50+013504.9</td><td>61</td><td>61</td><td>0</td><td>0.027746605</td><td>0.019181097</td><td>0.0263518</td><td>0.03844046</td><td>0.042664375</td><td>0.018164553</td><td>0.027363025</td><td>0.67973006</td><td>-999.0</td><td>-999.0</td><td>-999.0</td><td>-999.0</td><td>-999.0</td><td>1.3392286</td><td>0.62496454</td><td>0.6692832</td><td>180</td><td>1907</td><td>2</td><td>v1_0_1</td><td>63948</td><td>-999</td><td>0.027746605</td><td>0.027150676</td><td>-15.634673 .. -19.534174</td><td>-15.796635 .. -19.511213</td><td>613.91003 .. 716.8131</td><td>4121384400.0</td><td>4502634500.0</td><td>0.58990014</td><td>26.347229</td><td>0.17033687 .. 0.030389413</td><td>6.094013</td><td>5.2177005</td><td>24.984718 .. 891.5158</td><td>64.25798 .. 0.0024701862</td><td>26.188236 .. 929.8171</td><td>59.46958 .. 0.002754182</td><td>0.3884215</td><td>1.24141</td><td>31.123688</td><td>6.877361</td><td>22.607986 .. 939.3456</td><td>53.412045 .. 0.017484456</td><td>3.019326634390784</td><td>0.46516232153043924</td><td>302.11885737427957</td><td>1.741869313859179</td><td>0.4922511695516562</td><td>3.046641084458788</td><td>0.23700928032479074</td><td>3.8574065355798077</td><td>26.08465723390917</td><td>26.83804484161975</td><td>3.3662615710571973</td><td>0.010702194315542765</td><td>18.464105179832824</td><td>30.881428390293756</td><td>0.37488653807365174</td><td>0.017663524930453072</td><td>0.026794218260022915</td><td>0.00380588332907667</td><td>0.0017192597769235284</td><td>0.04955683776543595</td><td>0.04095833475825686</td><td>0.17658445607580606</td><td>26.352286777746187</td><td>7.0</td></tr>\n",
       "<tr><td>2</td><td>11018</td><td>12701</td><td>11018-12701</td><td>1-233925</td><td>v3_1_1</td><td>v3_1_1</td><td>v1_9_1</td><td>v5_5_36</td><td>v2_9</td><td>APOGEE-2&amp;MaNGA</td><td>MaNGA dither</td><td>195.779334612</td><td>49.8921461447</td><td>118.089022016</td><td>67.1262761916</td><td>195.77933</td><td>49.892146</td><td>0.0152319</td><td>9</td><td>8100.77</td><td>0</td><td>24.8841</td><td>39.4586</td><td>ma057</td><td>22</td><td>1</td><td>11659</td><td>195.10359</td><td>50.524212</td><td>1.04653</td><td>1.05493</td><td>1.07606</td><td>1.199</td><td>1.30253</td><td>1.51786</td><td>0.857118</td><td>0.887269</td><td>0.89303</td><td>58602</td><td>58602</td><td>58602</td><td>2.5019</td><td>2.51604</td><td>2.51266</td><td>2.4994</td><td>2336</td><td>0</td><td>0</td><td>1</td><td>plateTargets-1.par</td><td>7073</td><td>J130306.97+495333.8</td><td>127</td><td>331</td><td>0</td><td>0.04806827</td><td>0.022983799</td><td>0.029948236</td><td>0.044918288</td><td>0.049266994</td><td>0.022259198</td><td>0.030219998</td><td>0.5973356</td><td>-999.0</td><td>0.54177606</td><td>0.6017237</td><td>0.9177899</td><td>1.104136</td><td>-999.0</td><td>0.5154399</td><td>0.5694106</td><td>368</td><td>2964</td><td>4</td><td>v1_0_1</td><td>247727</td><td>-999</td><td>0.04806827</td><td>0.048338987</td><td>-15.769597 .. -20.610125</td><td>-15.901323 .. -20.591215</td><td>1.0092741 .. 579.37787</td><td>10465504000.0</td><td>8965553000.0</td><td>0.36026376</td><td>128.50003</td><td>0.12816866 .. 0.022866279</td><td>9.337143</td><td>7.083867</td><td>8.265301 .. 1009.419</td><td>0.0071525644 .. 0.0009152212</td><td>8.577091 .. 758.2356</td><td>0.016198682 .. 0.0024823672</td><td>0.34556293</td><td>1.2056668</td><td>134.26376</td><td>8.471119</td><td>7.742002 .. 761.8806</td><td>0.07060758 .. 0.012018616</td><td>0.4314535568848416</td><td>1.466043298249005</td><td>465.28077064406324</td><td>0.6137609953682522</td><td>-1.7039723831602334</td><td>997.764002363603</td><td>1.1140126561859682</td><td>5.784677346174991</td><td>39.01132474629553</td><td>39.22375284424646</td><td>-16.95958983166306</td><td>0.010702194315542765</td><td>18.464105179832824</td><td>30.881428390293756</td><td>0.37488653807365174</td><td>0.011128329703087757</td><td>431.86510630644807</td><td>0.008076704343947203</td><td>0.003987347522127069</td><td>0.032698735499844894</td><td>0.040362009400397414</td><td>0.48322883231922653</td><td>12.376552752537531</td><td>12.0</td></tr>\n",
       "<tr><td>3</td><td>11743</td><td>12701</td><td>11743-12701</td><td>1-458686</td><td>v3_1_1</td><td>v3_1_1</td><td>v1_9_1</td><td>v5_5_36</td><td>v2_9</td><td>APOGEE-2&amp;MaNGA</td><td>MaNGA dither</td><td>118.373086377</td><td>14.0230038086</td><td>206.988291881</td><td>19.9646008368</td><td>118.37309</td><td>14.023004</td><td>0.0370339</td><td>9</td><td>8100.92</td><td>0</td><td>19.7866</td><td>39.4519</td><td>ma126</td><td>22</td><td>6</td><td>12031</td><td>118.49188</td><td>13.44847</td><td>1.05615</td><td>1.07987</td><td>1.18822</td><td>1.39209</td><td>1.44877</td><td>1.49439</td><td>0.867127</td><td>0.889721</td><td>0.897923</td><td>58544</td><td>58544</td><td>58544</td><td>2.52394</td><td>2.54041</td><td>2.52402</td><td>2.50466</td><td>4672</td><td>0</td><td>64</td><td>1</td><td>plateTargets-1.par</td><td>6576</td><td>J075329.53+140122.4</td><td>127</td><td>61</td><td>0</td><td>0.029437074</td><td>0.018741492</td><td>0.026046352</td><td>0.037809364</td><td>0.042040877</td><td>0.013556095</td><td>0.032822654</td><td>0.67973006</td><td>-999.0</td><td>-999.0</td><td>-999.0</td><td>-999.0</td><td>-999.0</td><td>0.59268326</td><td>0.3974093</td><td>0.41437507</td><td>29</td><td>5061</td><td>6</td><td>v1_0_1</td><td>485065</td><td>-999</td><td>0.029437074</td><td>0.029195242</td><td>-14.5284605 .. -19.506987</td><td>-14.722915 .. -19.46659</td><td>167.60442 .. 547.98615</td><td>4082739000.0</td><td>4273864200.0</td><td>0.28575796</td><td>168.25046</td><td>0.31124708 .. 0.055528883</td><td>6.088042</td><td>4.501389</td><td>7.0271463 .. 733.79376</td><td>4.011837 .. 0.0012867048</td><td>7.3112717 .. 742.2567</td><td>5.050523 .. 0.0023134644</td><td>0.17301127</td><td>0.6100833</td><td>168.69562</td><td>6.7131724</td><td>6.0690103 .. 764.3072</td><td>6.591521 .. 0.041097816</td><td>0.042215631592362836</td><td>2.430634132808049</td><td>2821.374695311414</td><td>0.8781937202963007</td><td>1.045231781467407</td><td>2.37782219849423</td><td>0.17662718317591655</td><td>6.016141065471279</td><td>36.00804457348554</td><td>35.41404005598497</td><td>-9.25508703704033</td><td>0.010702194315542765</td><td>18.464105179832824</td><td>30.881428390293756</td><td>0.37488653807365174</td><td>0.02991559319883592</td><td>0.0163078040477326</td><td>0.005265124575983215</td><td>0.001886003417969309</td><td>0.04400393279243706</td><td>0.016545264318423045</td><td>0.12195868576961158</td><td>27.993853631753662</td><td>11.0</td></tr>\n",
       "<tr><td>4</td><td>11751</td><td>12702</td><td>11751-12702</td><td>1-301272</td><td>v3_1_1</td><td>v3_1_1</td><td>v1_9_1</td><td>v5_5_36</td><td>v2_9</td><td>APOGEE-2&amp;MaNGA</td><td>MaNGA dither</td><td>144.410643728</td><td>35.2284737818</td><td>189.391285808</td><td>48.1794166796</td><td>144.41064</td><td>35.228474</td><td>0.0164898</td><td>6</td><td>5400.53</td><td>2</td><td>15.2275</td><td>31.8901</td><td>ma134</td><td>25</td><td>6</td><td>12039</td><td>145.88643</td><td>35.485577</td><td>1.01233</td><td>1.0541</td><td>1.10467</td><td>1.20131</td><td>1.50307</td><td>1.63674</td><td>0.873051</td><td>0.879853</td><td>0.890848</td><td>58566</td><td>58567</td><td>58567</td><td>2.45631</td><td>2.4153</td><td>2.39305</td><td>2.38525</td><td>1552</td><td>0</td><td>0</td><td>1</td><td>plateTargets-1.par</td><td>7005</td><td>J093738.57+351342.3</td><td>127</td><td>169</td><td>0</td><td>0.02091762</td><td>0.01784035</td><td>0.025458125</td><td>0.036553767</td><td>0.040808342</td><td>0.016328022</td><td>0.03118593</td><td>0.67973006</td><td>1.7919735</td><td>0.74545175</td><td>0.80378485</td><td>-999.0</td><td>-999.0</td><td>0.74961376</td><td>0.47226733</td><td>0.49502736</td><td>233</td><td>3644</td><td>4</td><td>v1_0_1</td><td>318768</td><td>-999</td><td>0.02091762</td><td>0.020958452</td><td>-17.245905 .. -19.148497</td><td>-17.261429 .. -18.470398</td><td>115.521576 .. 215.51476</td><td>911821800.0</td><td>607094600.0</td><td>0.81763476</td><td>141.58961</td><td>0.13317917 .. 0.023760192</td><td>10.5394535</td><td>10.049972</td><td>173.92007 .. 886.31195</td><td>0.0049927477 .. 0.0007089808</td><td>176.44304 .. 621.52277</td><td>0.005366077 .. 0.00081593706</td><td>0.822048</td><td>0.97269493</td><td>138.4624</td><td>11.123094</td><td>173.90909 .. 1153.228</td><td>0.0077958144 .. 0.003399921</td><td>0.19314932426351322</td><td>1.3626076604962956</td><td>274.8809368646291</td><td>0.4458747001148472</td><td>0.5202635875700269</td><td>2.124960900363392</td><td>0.1357838457539024</td><td>1.0192085191927696</td><td>31.200637690201752</td><td>36.86290280897541</td><td>23.060338581063753</td><td>0.010702194315542765</td><td>18.464105179832824</td><td>30.881428390293756</td><td>0.37488653807365174</td><td>0.02110876424693614</td><td>0.011006396412727801</td><td>0.0030206770513178105</td><td>0.0006031677001288527</td><td>0.026645436890438443</td><td>0.03514238685969034</td><td>0.05250299492200952</td><td>436.53211824012385</td><td>16.0</td></tr>\n",
       "<tr><td>5</td><td>11823</td><td>12702</td><td>11823-12702</td><td>1-272423</td><td>v3_1_1</td><td>v3_1_1</td><td>v1_9_1</td><td>v5_5_36</td><td>v2_9</td><td>APOGEE-2&amp;MaNGA</td><td>MaNGA dither</td><td>248.28557</td><td>28.63065</td><td>48.351063076</td><td>41.4356943027</td><td>248.28557</td><td>28.63065</td><td>0.036792</td><td>12</td><td>10800.9</td><td>64</td><td>24.2464</td><td>58.2734</td><td>ma078-ma172</td><td>25</td><td>3-5</td><td>12068</td><td>248.50232</td><td>28.11643</td><td>1.02463</td><td>1.07211</td><td>1.16421</td><td>1.16137</td><td>1.59634</td><td>1.84411</td><td>0.831591</td><td>0.899757</td><td>0.958213</td><td>58607</td><td>58617</td><td>58631</td><td>2.4545</td><td>2.43743</td><td>2.41668</td><td>2.39288</td><td>4160</td><td>0</td><td>0</td><td>1</td><td>plateTargets-1.par</td><td>7569</td><td>J163308.51+283750.6</td><td>127</td><td>127</td><td>0</td><td>0.06586271</td><td>0.034579355</td><td>0.06254803</td><td>0.09016301</td><td>0.09987633</td><td>0.029180773</td><td>0.07057353</td><td>0.67973006</td><td>-999.0</td><td>-999.0</td><td>-999.0</td><td>-999.0</td><td>-999.0</td><td>0.061357785</td><td>0.03772313</td><td>0.039619613</td><td>130</td><td>3965</td><td>4</td><td>v1_0_1</td><td>288205</td><td>-999</td><td>0.06586271</td><td>0.06620014</td><td>-17.98009 .. -22.85814</td><td>-17.949137 .. -22.33852</td><td>476.90372 .. 789.1692</td><td>93432380000.0</td><td>61206500000.0</td><td>0.674923</td><td>8.731552</td><td>0.29820418 .. 0.05320193</td><td>8.348411</td><td>5.2907553</td><td>21.82898 .. 1760.256</td><td>4.1224494 .. 0.0013538749</td><td>27.476355 .. 1937.1742</td><td>3.142658 .. 0.00085558114</td><td>0.73708445</td><td>6.0</td><td>37.03186</td><td>28.746346</td><td>25.056843 .. 3140.0288</td><td>1.4801118 .. 0.0014413629</td><td>0.05340445131464294</td><td>5.280728809012099</td><td>4062.851995271844</td><td>1.6110881805060138</td><td>-0.6211779795827111</td><td>7.159082485066485</td><td>0.5031923209246454</td><td>3.999048520088418e-05</td><td>35.15725120628114</td><td>37.032789712987196</td><td>7.395865436807358</td><td>0.010702194315542765</td><td>18.464105179832824</td><td>30.881428390293756</td><td>0.37488653807365174</td><td>0.018112941596855975</td><td>0.1261022611591391</td><td>0.003270258616888431</td><td>0.0007883346970110243</td><td>0.020819649083598908</td><td>0.009738919368235321</td><td>0.12023831907970292</td><td>345.8194817012176</td><td>5.0</td></tr>\n",
       "<tr><td>6</td><td>11824</td><td>12702</td><td>11824-12702</td><td>1-83386</td><td>v3_1_1</td><td>v3_1_1</td><td>v1_9_1</td><td>v5_5_36</td><td>v2_9</td><td>APOGEE-2&amp;MaNGA</td><td>MaNGA dither</td><td>223.287263511</td><td>4.85106307105</td><td>0.835771652932</td><td>53.4387431269</td><td>223.28726</td><td>4.8510631</td><td>0.0322218</td><td>12</td><td>10800.9</td><td>64</td><td>24.1058</td><td>57.2343</td><td>ma145</td><td>25</td><td>4</td><td>12052</td><td>224.30287</td><td>4.6753025</td><td>1.13939</td><td>1.19426</td><td>1.29497</td><td>1.45003</td><td>1.68714</td><td>1.9775</td><td>0.872356</td><td>0.944619</td><td>1.03896</td><td>58634</td><td>58635</td><td>58635</td><td>2.67851</td><td>2.7076</td><td>2.69213</td><td>2.6529</td><td>1168</td><td>0</td><td>0</td><td>1</td><td>plateTargets-1.par</td><td>7200</td><td>J145309.06+045103.8</td><td>127</td><td>1027</td><td>0</td><td>0.021676742</td><td>0.016604641</td><td>0.024713527</td><td>0.034892704</td><td>0.039191104</td><td>0.016604641</td><td>0.024713527</td><td>0.67973006</td><td>1.8424926</td><td>0.7875263</td><td>0.84785336</td><td>-999.0</td><td>-999.0</td><td>1.8446203</td><td>0.7879148</td><td>0.8483037</td><td>87</td><td>3910</td><td>1</td><td>v1_0_1</td><td>88357</td><td>-999</td><td>0.021676742</td><td>0.021427538</td><td>-15.200439 .. -18.109095</td><td>-14.734559 .. -18.661991</td><td>80.53792 .. 96.87663</td><td>368118850.0</td><td>1423920100.0</td><td>0.23346666</td><td>75.70723</td><td>0.268231 .. 0.04785448</td><td>27.463905</td><td>20.893013</td><td>26.001944 .. 7.476408</td><td>0.40857887 .. 0.00019005069</td><td>13.985864 .. 683.9938</td><td>0.5571639 .. 0.00026741304</td><td>0.15</td><td>0.93289405</td><td>88.722046</td><td>18.16301</td><td>21.981535 .. 411.2344</td><td>1.2921911 .. 0.011978882</td><td>0.1891924493693049</td><td>0.46800236229416203</td><td>78.88302962322842</td><td>1.8123345778873625</td><td>-2.116656938584683</td><td>999.496746223995</td><td>0.5574611991588629</td><td>1.7281090365186855</td><td>39.12731767590946</td><td>34.30269710080891</td><td>-15.355374795903236</td><td>0.010702194315542765</td><td>18.464105179832824</td><td>30.881428390293756</td><td>0.37488653807365174</td><td>0.01486565024659096</td><td>190.66724822048656</td><td>0.006144069739708925</td><td>0.014364325931684702</td><td>0.0956404780339756</td><td>0.21285992765111106</td><td>0.13881623186065445</td><td>3.2019077630645834</td><td>6.0</td></tr>\n",
       "<tr><td>7</td><td>11832</td><td>12702</td><td>11832-12702</td><td>1-233231</td><td>v3_1_1</td><td>v3_1_1</td><td>v1_9_1</td><td>v5_5_36</td><td>v2_9</td><td>APOGEE-2&amp;MaNGA</td><td>MaNGA dither</td><td>188.601746513</td><td>50.5820052069</td><td>129.673577812</td><td>66.3228651126</td><td>188.60175</td><td>50.582005</td><td>0.0146315</td><td>9</td><td>8100.76</td><td>64</td><td>19.9866</td><td>41.6086</td><td>ma058</td><td>25</td><td>1</td><td>12047</td><td>188.8656</td><td>51.128498</td><td>1.0504</td><td>1.07845</td><td>1.11233</td><td>1.1675</td><td>1.27673</td><td>1.43311</td><td>0.7007</td><td>0.845314</td><td>0.862486</td><td>58607</td><td>58607</td><td>58607</td><td>2.34178</td><td>2.29648</td><td>2.27134</td><td>2.25014</td><td>2080</td><td>0</td><td>0</td><td>1</td><td>plateTargets-1.par</td><td>7087</td><td>J123424.40+503455.2</td><td>127</td><td>331</td><td>0</td><td>0.047035884</td><td>0.023632932</td><td>0.030853905</td><td>0.046349727</td><td>0.050778702</td><td>0.0232349</td><td>0.031293053</td><td>0.5962239</td><td>-999.0</td><td>0.49828032</td><td>0.5532596</td><td>0.84943753</td><td>1.0226864</td><td>-999.0</td><td>0.47513956</td><td>0.52487594</td><td>337</td><td>2964</td><td>5</td><td>v1_0_1</td><td>247007</td><td>-999</td><td>0.047035884</td><td>0.04729333</td><td>-16.461107 .. -20.742739</td><td>-16.617336 .. -20.593752</td><td>6.1318426 .. 715.8639</td><td>14106081000.0</td><td>11462495000.0</td><td>0.681665</td><td>125.643234</td><td>0.12900059 .. 0.0230147</td><td>8.789768</td><td>7.5895367</td><td>18.65573 .. 820.0826</td><td>0.018249031 .. 0.0015315678</td><td>18.748686 .. 809.0206</td><td>0.02076729 .. 0.0036245042</td><td>0.6094554</td><td>0.672585</td><td>125.32956</td><td>9.441514</td><td>16.16775 .. 926.88965</td><td>0.051824044 .. 0.027971094</td><td>0.09632355604749973</td><td>2.2938353432795164</td><td>577.5601770601611</td><td>0.8198939474236905</td><td>-0.847360090773065</td><td>3.7181813371506136</td><td>0.8591458733081658</td><td>2.1416426308273255</td><td>36.8351446541893</td><td>37.000549404818685</td><td>-0.9241714078434016</td><td>0.010702194315542765</td><td>18.464105179832824</td><td>30.881428390293756</td><td>0.37488653807365174</td><td>0.01224563088613396</td><td>0.05632491546726527</td><td>0.0050765259634041795</td><td>0.001489979390710829</td><td>0.03636085777888984</td><td>0.03337078869783548</td><td>0.21205597623062514</td><td>0.3088290813186867</td><td>10.0</td></tr>\n",
       "<tr><td>8</td><td>11865</td><td>12705</td><td>11865-12705</td><td>1-609067</td><td>v3_1_1</td><td>v3_1_1</td><td>v1_9_1</td><td>v5_5_36</td><td>v2_9</td><td>MaNGA</td><td>MaNGA dither</td><td>156.80468</td><td>1.36672</td><td>243.484087672</td><td>46.901964526</td><td>156.80468</td><td>1.36672</td><td>0.0451129</td><td>12</td><td>10801.0</td><td>4096</td><td>25.4279</td><td>54.7552</td><td>ma025</td><td>36</td><td>2</td><td>12066</td><td>157.3154</td><td>1.4441745</td><td>1.17192</td><td>1.21124</td><td>1.32191</td><td>1.2699</td><td>1.42661</td><td>1.97612</td><td>0.658853</td><td>0.836295</td><td>0.86137</td><td>58897</td><td>58897</td><td>58897</td><td>2.5482</td><td>2.48617</td><td>2.42126</td><td>2.36623</td><td>1024</td><td>0</td><td>0</td><td>1</td><td>plateTargets-1.par</td><td>7349</td><td>J102713.43+012159.0</td><td>127</td><td>271</td><td>0</td><td>0.14743233</td><td>0.11077685</td><td>0.14792688</td><td>0.0</td><td>0.0</td><td>0.11077685</td><td>0.14792688</td><td>0.67973006</td><td>0.011503897</td><td>0.011503897</td><td>0.011503897</td><td>-999.0</td><td>-999.0</td><td>0.011514922</td><td>0.011514922</td><td>0.011514922</td><td>210</td><td>1462</td><td>2</td><td>v1_0_1</td><td>652841</td><td>-999</td><td>0.14743233</td><td>0.1468192</td><td>-15.954933 .. -22.947205</td><td>-16.121922 .. -23.440239</td><td>0.24740373 .. 3.2758134e-08</td><td>817573.5</td><td>119751360000.0</td><td>0.62886006</td><td>100.94046</td><td>0.3667479 .. 0.065430656</td><td>14.126383</td><td>8.849164</td><td>0.70612556 .. 656.54254</td><td>2.3771 .. 4.363887e-06</td><td>0.46438554 .. 805.73193</td><td>1.3529118 .. 5.948215e-14</td><td>0.53249156</td><td>2.3079615</td><td>61.70276</td><td>17.879036</td><td>0.8744206 .. 764.89746</td><td>3.6428058 .. 7.1059214e-11</td><td>0.02287503972304038</td><td>9.9999999999998</td><td>39.155957393784504</td><td>4.088384747587422</td><td>-0.6480142448362078</td><td>8.799696429709568</td><td>1.2582644099318252</td><td>1.4850440099194304</td><td>42.150660231486285</td><td>41.3789054292985</td><td>-99.9999335625205</td><td>0.010702194315542765</td><td>18.464105179832824</td><td>30.881428390293756</td><td>0.37488653807365174</td><td>0.015335554863401046</td><td>0.15121923957396008</td><td>0.003785513589957869</td><td>0.010228885919851135</td><td>0.04056320632382392</td><td>0.1537438370836861</td><td>2.0089746654182656</td><td>5.141894395620028</td><td>5.0</td></tr>\n",
       "<tr><td>9</td><td>12488</td><td>6102</td><td>12488-6102</td><td>1-300145</td><td>v3_1_1</td><td>v3_1_1</td><td>v1_9_1</td><td>v5_5_36</td><td>v2_9</td><td>APOGEE-2&amp;MaNGA</td><td>MaNGA dither</td><td>134.770579111</td><td>29.8162556934</td><td>195.348909289</td><td>39.4125026949</td><td>134.77058</td><td>29.816256</td><td>0.0289013</td><td>9</td><td>8100.77</td><td>4096</td><td>18.6366</td><td>41.4424</td><td>ma123</td><td>24</td><td>6</td><td>12787</td><td>135.14563</td><td>29.351507</td><td>1.0161</td><td>1.05461</td><td>1.12638</td><td>1.33563</td><td>1.62909</td><td>1.95399</td><td>0.730688</td><td>0.859712</td><td>0.872227</td><td>58906</td><td>58906</td><td>58907</td><td>2.71016</td><td>2.69706</td><td>2.67208</td><td>2.64667</td><td>2336</td><td>0</td><td>0</td><td>1</td><td>plateTargets-1.par</td><td>6678</td><td>J085904.94+294858.5</td><td>61</td><td>91</td><td>61</td><td>0.04902498</td><td>0.023392463</td><td>0.03050365</td><td>0.045802493</td><td>0.050198715</td><td>0.01951123</td><td>0.03239259</td><td>0.66821957</td><td>-999.0</td><td>0.4958883</td><td>0.53816986</td><td>0.82132417</td><td>0.9441869</td><td>-999.0</td><td>0.38787615</td><td>0.4132729</td><td>168</td><td>3644</td><td>2</td><td>v1_0_1</td><td>317566</td><td>-999</td><td>0.04902498</td><td>0.04894069</td><td>-15.558563 .. -20.648924</td><td>-15.663597 .. -20.610355</td><td>5.4263453 .. 914.2954</td><td>12408502000.0</td><td>12463355000.0</td><td>0.5102841</td><td>37.886368</td><td>0.24094054 .. 0.04298565</td><td>4.300319</td><td>3.4206963</td><td>5.836954 .. 774.21185</td><td>0.13577849 .. 0.0077444594</td><td>6.325055 .. 737.50854</td><td>0.16129264 .. 0.011186618</td><td>0.3537242</td><td>0.91569495</td><td>39.114197</td><td>4.4572415</td><td>5.7359915 .. 757.9266</td><td>0.46340314 .. 0.041986912</td><td>1.609592426642094</td><td>0.8933137478073001</td><td>1271.4227619073265</td><td>0.7146629456389536</td><td>0.06078995399129003</td><td>3.854580621149726</td><td>0.4125354629205382</td><td>3.87577489787768</td><td>26.31783270333082</td><td>26.081421574085976</td><td>13.159863332355831</td><td>0.010702194315542765</td><td>18.464105179832824</td><td>30.881428390293756</td><td>0.37488653807365174</td><td>0.017513442159061383</td><td>0.06048547481804686</td><td>0.004387204879150797</td><td>0.0012674068394976806</td><td>0.016111594694948862</td><td>0.01545788773212588</td><td>0.15498933691406225</td><td>15.044066275402104</td><td>5.0</td></tr>\n",
       "<tr><td>10</td><td>8240</td><td>12705</td><td>8240-12705</td><td>1-584897</td><td>v3_1_1</td><td>v3_1_1</td><td>v1_9_1</td><td>v5_5_36</td><td>v2_9</td><td>APOGEE-2&amp;MaNGA</td><td>MaNGA dither</td><td>125.31636</td><td>44.33286</td><td>175.976505923</td><td>34.1834014053</td><td>125.31799</td><td>44.331858</td><td>0.0711559</td><td>15</td><td>13501.3</td><td>4096</td><td>24.4237</td><td>67.5181</td><td>ma025</td><td>36</td><td>2</td><td>8788</td><td>125.81657</td><td>43.587269</td><td>1.03113</td><td>1.07192</td><td>1.11897</td><td>1.43065</td><td>1.57808</td><td>1.70699</td><td>0.834998</td><td>0.849391</td><td>0.853101</td><td>58893</td><td>58895</td><td>58896</td><td>2.59302</td><td>2.55586</td><td>2.53078</td><td>2.51264</td><td>1168</td><td>0</td><td>0</td><td>1</td><td>plateTargets-1.par</td><td>6097</td><td>J082115.89+442005.0</td><td>127</td><td>127</td><td>0</td><td>0.0242268</td><td>0.0174958</td><td>0.0252443</td><td>0.0360847</td><td>0.0403503</td><td>0.0174958</td><td>0.0252443</td><td>0.67973</td><td>1.80263</td><td>0.755196</td><td>0.814627</td><td>-999.0</td><td>-999.0</td><td>1.80471</td><td>0.755562</td><td>0.815052</td><td>53</td><td>2075</td><td>4</td><td>v1_0_1</td><td>622468</td><td>-999</td><td>0.0242268</td><td>0.0244315</td><td>-15.3584 .. -19.0474</td><td>-15.5291 .. -19.0896</td><td>8.89433 .. 733.426</td><td>2514240000.0</td><td>3007820000.0</td><td>0.436261</td><td>161.971</td><td>0.598078 .. 0.106702</td><td>9.56014</td><td>4.92342</td><td>7.89947 .. 722.085</td><td>0.0486869 .. 0.00598002</td><td>17.2148 .. 723.32</td><td>0.0358907 .. 0.00486151</td><td>0.485011</td><td>1.7361</td><td>127.178</td><td>8.85002</td><td>14.1479 .. 697.779</td><td>0.084777 .. 0.0205376</td><td>1.4939730017751565</td><td>0.648181378168399</td><td>532.3494482789105</td><td>0.26909008833645537</td><td>0.6894943792121497</td><td>1.8894921249539653</td><td>0.22283221325845393</td><td>6.253601616459652</td><td>45.58270414449959</td><td>46.56114376426177</td><td>-69.0434778671028</td><td>0.010702194315542765</td><td>18.464105179832824</td><td>30.881428390293756</td><td>0.37488653807365174</td><td>0.029343421533022686</td><td>0.017424721843712382</td><td>0.00619819613465359</td><td>0.002884974559567684</td><td>0.07469470374669139</td><td>0.024432584887835604</td><td>0.1758679374312546</td><td>54.21239137781935</td><td>15.0</td></tr>\n",
       "<tr><td>11</td><td>8438</td><td>12705</td><td>8438-12705</td><td>1-474825</td><td>v3_1_1</td><td>v3_1_1</td><td>v1_9_1</td><td>v5_5_36</td><td>v2_9</td><td>APOGEE-2&amp;MaNGA</td><td>MaNGA dither</td><td>150.04493465</td><td>18.201636494</td><td>216.455668001</td><td>49.6959349939</td><td>150.04493</td><td>18.201636</td><td>0.0342787</td><td>9</td><td>8100.74</td><td>0</td><td>26.4037</td><td>42.7206</td><td>ma144</td><td>36</td><td>5</td><td>8936</td><td>148.91475</td><td>17.718769</td><td>1.03344</td><td>1.04979</td><td>1.14091</td><td>1.18255</td><td>1.41955</td><td>1.54952</td><td>0.924768</td><td>0.935346</td><td>0.942964</td><td>58113</td><td>58113</td><td>58113</td><td>2.51176</td><td>2.4964</td><td>2.47733</td><td>2.44998</td><td>2336</td><td>0</td><td>0</td><td>1</td><td>plateTargets-1.par</td><td>6009</td><td>J100010.77+181205.9</td><td>127</td><td>169</td><td>0</td><td>0.0493745</td><td>0.0245158</td><td>0.0323115</td><td>0.0485587</td><td>0.0531433</td><td>0.0221573</td><td>0.0345213</td><td>0.657001</td><td>-999.0</td><td>0.418041</td><td>-999.0</td><td>0.705994</td><td>-999.0</td><td>-999.0</td><td>0.336932</td><td>-999.0</td><td>129</td><td>5183</td><td>2</td><td>v1_0_1</td><td>502241</td><td>-999</td><td>0.0493745</td><td>0.0490377</td><td>-15.6014 .. -20.7642</td><td>-16.142 .. -20.7521</td><td>1.17285 .. 888.737</td><td>14473000000.0</td><td>12615500000.0</td><td>0.43015</td><td>20.8904</td><td>0.282232 .. 0.0503524</td><td>6.59563</td><td>4.82057</td><td>6.89434 .. 836.763</td><td>0.0150111 .. 0.0053585</td><td>8.38487 .. 837.508</td><td>0.0197022 .. 0.00746306</td><td>0.360794</td><td>0.666991</td><td>21.5689</td><td>6.49437</td><td>5.50391 .. 845.6</td><td>0.068282 .. 0.0412584</td><td>0.6720931671809608</td><td>1.272890637120554</td><td>923.2828261758549</td><td>1.0082161934326366</td><td>-0.29661918330648357</td><td>6.644985660194272</td><td>0.4221974739697157</td><td>3.415168570834628</td><td>38.03751936866912</td><td>37.31838636461601</td><td>-3.446427284300053</td><td>0.010702194315542765</td><td>18.464105179832824</td><td>30.881428390293756</td><td>0.37488653807365174</td><td>0.02067652821918104</td><td>0.13122091241459002</td><td>0.005870616581594688</td><td>0.001601318812479526</td><td>0.03692315982800162</td><td>0.023545823329182182</td><td>0.2298960047210387</td><td>8.777311564759822</td><td>8.0</td></tr>\n",
       "<tr><td>12</td><td>8570</td><td>6104</td><td>8570-6104</td><td>1-602390</td><td>v3_1_1</td><td>v3_1_1</td><td>v1_9_1</td><td>v5_5_36</td><td>v2_9</td><td>APOGEE-2&amp;MaNGA</td><td>MaNGA dither</td><td>23.0191161372</td><td>15.5002872562</td><td>137.160034687</td><td>-46.2456676883</td><td>23.019116</td><td>15.500287</td><td>0.0534373</td><td>12</td><td>10801.0</td><td>4096</td><td>25.9372</td><td>62.5006</td><td>ma103</td><td>30</td><td>5</td><td>9014</td><td>22.484497</td><td>14.34465</td><td>1.04756</td><td>1.06822</td><td>1.10709</td><td>1.50152</td><td>1.82399</td><td>2.27317</td><td>0.877605</td><td>0.886133</td><td>0.892176</td><td>58838</td><td>58839</td><td>58839</td><td>2.68015</td><td>2.6118</td><td>2.59727</td><td>2.58844</td><td>4672</td><td>0</td><td>0</td><td>1</td><td>plateTargets-1.par</td><td>7767</td><td>J013204.49+152955.9</td><td>61</td><td>61</td><td>0</td><td>0.0439355</td><td>0.0280343</td><td>0.0415465</td><td>0.0614829</td><td>0.0674273</td><td>0.0260036</td><td>0.0456789</td><td>0.67973</td><td>-999.0</td><td>-999.0</td><td>-999.0</td><td>-999.0</td><td>-999.0</td><td>0.25295</td><td>0.144391</td><td>0.152615</td><td>97</td><td>7845</td><td>1</td><td>v1_0_1</td><td>643212</td><td>-999</td><td>0.0439355</td><td>0.044623</td><td>-16.84 .. -22.0811</td><td>-17.437 .. -21.6956</td><td>9.16974 .. 984.974</td><td>51556900000.0</td><td>34802400000.0</td><td>0.836342</td><td>1.28595</td><td>0.441754 .. 0.0788124</td><td>5.56514</td><td>5.29076</td><td>26.4589 .. 2353.57</td><td>0.00960814 .. 0.00173081</td><td>34.1657 .. 2366.4</td><td>0.00939819 .. 0.00182648</td><td>0.788904</td><td>3.50254</td><td>0.995728</td><td>8.05028</td><td>19.7223 .. 3340.77</td><td>0.0320001 .. 0.00496498</td><td>0.48589400706423486</td><td>1.945378837763843</td><td>8739.351142846483</td><td>0.9193983948776798</td><td>-0.44561544065566616</td><td>4.072431466169665</td><td>0.4469727830283627</td><td>3.110848985275511</td><td>26.025397344332635</td><td>25.94360305437605</td><td>22.42583271691581</td><td>0.010702194315542765</td><td>18.464105179832824</td><td>30.881428390293756</td><td>0.37488653807365174</td><td>0.02277305930805226</td><td>0.11346918819781789</td><td>0.0017842813278514495</td><td>0.0006463809506816928</td><td>0.011864754154164473</td><td>0.010536043816821397</td><td>0.0999611283169124</td><td>4.451082947595871</td><td>12.0</td></tr>\n",
       "<tr><td>13</td><td>8613</td><td>12701</td><td>8613-12701</td><td>1-560933</td><td>v3_1_1</td><td>v3_1_1</td><td>v1_9_1</td><td>v5_5_36</td><td>v2_9</td><td>APOGEE-2&amp;MaNGA</td><td>MaNGA dither</td><td>254.021313773</td><td>34.0498523927</td><td>56.4650705399</td><td>37.6610678618</td><td>254.02131</td><td>34.049852</td><td>0.0201966</td><td>9</td><td>8100.61</td><td>0</td><td>22.629</td><td>46.8527</td><td>ma126</td><td>22</td><td>6</td><td>9054</td><td>255.03723</td><td>34.78595</td><td>1.02068</td><td>1.05521</td><td>1.10728</td><td>1.49171</td><td>1.62196</td><td>1.92689</td><td>0.877277</td><td>0.891648</td><td>0.907333</td><td>57515</td><td>57516</td><td>57517</td><td>2.78801</td><td>2.79242</td><td>2.76704</td><td>2.73709</td><td>4672</td><td>0</td><td>0</td><td>1</td><td>plateTargets-1.par</td><td>6859</td><td>J165605.10+340259.4</td><td>127</td><td>61</td><td>127</td><td>0.0319216</td><td>0.0234254</td><td>0.0305506</td><td>0.0458763</td><td>0.0502768</td><td>0.0191355</td><td>0.0347874</td><td>0.67973</td><td>-999.0</td><td>-999.0</td><td>-999.0</td><td>-999.0</td><td>-999.0</td><td>0.555403</td><td>0.32848</td><td>0.346242</td><td>102</td><td>2328</td><td>3</td><td>v1_0_1</td><td>594823</td><td>-999</td><td>0.0319216</td><td>0.0323797</td><td>-15.7643 .. -20.5871</td><td>-15.8506 .. -20.5921</td><td>286.612 .. 184.97</td><td>11862400000.0</td><td>12093500000.0</td><td>0.625036</td><td>14.554</td><td>0.169228 .. 0.0301917</td><td>6.65722</td><td>5.507</td><td>18.1431 .. 1753.43</td><td>1.85857 .. 6.30103e-05</td><td>18.8421 .. 1749.66</td><td>1.75772 .. 8.54522e-05</td><td>0.541589</td><td>0.538049</td><td>15.0714</td><td>6.87511</td><td>17.3252 .. 1741.42</td><td>1.32933 .. 0.00693553</td><td>2.7597792914052643</td><td>0.4216532898794604</td><td>980.7623926211709</td><td>1.9124145014714304</td><td>0.1371571848593639</td><td>3.6345187315187606</td><td>0.3329244231984378</td><td>3.3605499191653276</td><td>37.14784241119149</td><td>36.707371106591474</td><td>0.29313045038357066</td><td>0.010702194315542765</td><td>18.464105179832824</td><td>30.881428390293756</td><td>0.37488653807365174</td><td>0.012109876039746555</td><td>0.03485727053630244</td><td>0.0027867667369841937</td><td>0.0006090118333835188</td><td>0.01809316183688621</td><td>0.010088067384266897</td><td>0.0983917693412688</td><td>123.81243431881128</td><td>11.0</td></tr>\n",
       "<tr><td>14</td><td>8651</td><td>3702</td><td>8651-3702</td><td>1-178844</td><td>v3_1_1</td><td>v3_1_1</td><td>v1_9_1</td><td>v5_5_36</td><td>v2_9</td><td>APOGEE-2&amp;MaNGA</td><td>MaNGA dither</td><td>312.30584</td><td>0.32528</td><td>47.6788949509</td><td>-25.7807211148</td><td>312.30584</td><td>0.32528</td><td>0.0965764</td><td>15</td><td>13501.3</td><td>0</td><td>26.1629</td><td>64.0387</td><td>ma128</td><td>27</td><td>6</td><td>9087</td><td>313.69307</td><td>-0.0</td><td>1.18515</td><td>1.20347</td><td>1.26963</td><td>1.19822</td><td>1.52567</td><td>1.68578</td><td>0.876439</td><td>0.910286</td><td>0.926072</td><td>58289</td><td>58290</td><td>58291</td><td>2.62098</td><td>2.49413</td><td>2.45981</td><td>2.45629</td><td>1168</td><td>0</td><td>0</td><td>1</td><td>plateTargets-1.par</td><td>7658</td><td>J204913.35+001931.6</td><td>37</td><td>61</td><td>0</td><td>0.0246122</td><td>0.0203266</td><td>0.0272237</td><td>0.0401632</td><td>0.0443824</td><td>0.0192446</td><td>0.028907</td><td>0.67973</td><td>1.64612</td><td>0.651549</td><td>0.705032</td><td>-999.0</td><td>-999.0</td><td>1.14057</td><td>0.554302</td><td>0.592543</td><td>53</td><td>4207</td><td>4</td><td>v1_0_1</td><td>189049</td><td>-999</td><td>0.0246122</td><td>0.0251625</td><td>-13.157 .. -19.9512</td><td>-13.5079 .. -19.8927</td><td>50.7501 .. 874.034</td><td>7040970000.0</td><td>6929300000.0</td><td>0.568039</td><td>29.7831</td><td>0.798766 .. 0.142506</td><td>5.52558</td><td>4.11468</td><td>1.99507 .. 1351.17</td><td>15.964 .. 0.00234127</td><td>2.07775 .. 1373.01</td><td>15.0826 .. 0.00256154</td><td>0.434761</td><td>0.965821</td><td>29.4599</td><td>6.23462</td><td>1.49505 .. 1443.82</td><td>33.4548 .. 0.0105407</td><td>0.43309638590512944</td><td>1.7790131353473029</td><td>2.160160114163007e-09</td><td>9.99999977292853</td><td>0.7152570206180661</td><td>16.3312132992645</td><td>0.19754674838970296</td><td>3.582443553316386</td><td>30.010993645170462</td><td>27.309048430775366</td><td>8.932315333853731</td><td>0.010702194315542765</td><td>18.464105179832824</td><td>30.881428390293756</td><td>0.37488653807365174</td><td>0.11546469830099262</td><td>1.64591817089922</td><td>0.025178524331767243</td><td>0.00512826781281459</td><td>0.43967672988672535</td><td>0.4269696051643597</td><td>3.690802962946445</td><td>7.711755869366212</td><td>0.0</td></tr>\n",
       "<tr><td>15</td><td>8950</td><td>12705</td><td>8950-12705</td><td>1-456915</td><td>v3_1_1</td><td>v3_1_1</td><td>v1_9_1</td><td>v5_5_36</td><td>v2_9</td><td>APOGEE-2&amp;MaNGA</td><td>MaNGA dither</td><td>194.733135283</td><td>27.8334449764</td><td>56.348262029</td><td>88.1944669115</td><td>194.73314</td><td>27.833445</td><td>0.014265</td><td>9</td><td>8100.81</td><td>8</td><td>21.1438</td><td>34.1572</td><td>ma046</td><td>36</td><td>1</td><td>9550</td><td>193.81863</td><td>26.825285</td><td>1.01007</td><td>1.07223</td><td>1.22017</td><td>1.42366</td><td>1.56725</td><td>1.89758</td><td>0.858006</td><td>0.87619</td><td>0.894266</td><td>57505</td><td>57505</td><td>57505</td><td>2.63069</td><td>2.64716</td><td>2.64605</td><td>2.64676</td><td>4160</td><td>0</td><td>0</td><td>1</td><td>plateTargets-1.par</td><td>6198</td><td>J125855.94+275000.1</td><td>127</td><td>169</td><td>0</td><td>0.0251028</td><td>0.0250029</td><td>0.033248</td><td>0.0499332</td><td>0.0546313</td><td>0.0197941</td><td>0.0380494</td><td>0.67973</td><td>-999.0</td><td>-999.0</td><td>-999.0</td><td>-999.0</td><td>-999.0</td><td>0.412706</td><td>0.250813</td><td>0.263806</td><td>149</td><td>5115</td><td>5</td><td>v1_0_1</td><td>483098</td><td>-999</td><td>0.0251028</td><td>0.0249989</td><td>-16.2592 .. -21.0655</td><td>-16.162 .. -20.9937</td><td>397.754 .. 1092.22</td><td>17619800000.0</td><td>18400100000.0</td><td>0.201482</td><td>72.4747</td><td>0.113581 .. 0.0202637</td><td>10.3019</td><td>7.45828</td><td>44.0947 .. 4776.31</td><td>0.471031 .. 0.00143498</td><td>45.1228 .. 4334.67</td><td>0.633369 .. 0.00403129</td><td>0.15</td><td>0.958112</td><td>72.15</td><td>10.3846</td><td>49.493 .. 4585.13</td><td>0.462094 .. 0.0101103</td><td>2.119183506844272</td><td>0.9263709325613313</td><td>2042.3820694952708</td><td>0.7240799581827164</td><td>0.2992259552760229</td><td>2.04159592567234</td><td>0.523004536471203</td><td>4.735715671953668</td><td>36.24155615192654</td><td>41.8424875395895</td><td>-31.098769110362273</td><td>0.010702194315542765</td><td>18.464105179832824</td><td>30.881428390293756</td><td>0.37488653807365174</td><td>0.038031387241532696</td><td>0.03417060634166311</td><td>0.011957036724034725</td><td>0.005567651400187754</td><td>0.03987631584639717</td><td>0.09128119315132881</td><td>0.4709525458655112</td><td>12.655523383266358</td><td>43.0</td></tr>\n",
       "<tr><td>16</td><td>9046</td><td>12705</td><td>9046-12705</td><td>1-296298</td><td>v3_1_1</td><td>v3_1_1</td><td>v1_9_1</td><td>v5_5_36</td><td>v2_9</td><td>APOGEE-2&amp;MaNGA</td><td>MaNGA dither</td><td>245.1435</td><td>25.46231</td><td>43.3073918894</td><td>43.4405616942</td><td>245.1435</td><td>25.46231</td><td>0.0517509</td><td>15</td><td>13501.2</td><td>0</td><td>26.1782</td><td>58.0711</td><td>ma075</td><td>36</td><td>3</td><td>9639</td><td>244.67696</td><td>25.570791</td><td>1.00823</td><td>1.01543</td><td>1.09675</td><td>1.25472</td><td>1.45561</td><td>2.06977</td><td>0.450903</td><td>0.820174</td><td>0.886021</td><td>58226</td><td>58230</td><td>58231</td><td>2.59307</td><td>2.54595</td><td>2.52109</td><td>2.48851</td><td>2336</td><td>0</td><td>0</td><td>1</td><td>plateTargets-1.par</td><td>7561</td><td>J162034.40+252744.5</td><td>127</td><td>271</td><td>0</td><td>0.0435866</td><td>0.021046</td><td>0.0278441</td><td>0.0413221</td><td>0.0455528</td><td>0.0200848</td><td>0.0288923</td><td>0.719088</td><td>-999.0</td><td>0.607004</td><td>0.649587</td><td>0.985045</td><td>1.10231</td><td>-999.0</td><td>0.54359</td><td>0.577492</td><td>163</td><td>3992</td><td>2</td><td>v1_0_1</td><td>313470</td><td>-999</td><td>0.0435866</td><td>0.0438516</td><td>-17.2608 .. -19.9749</td><td>-17.0523 .. -20.006</td><td>7.11024 .. 194.142</td><td>5643000000.0</td><td>3799120000.0</td><td>0.649497</td><td>104.349</td><td>0.421235 .. 0.0751515</td><td>8.4709</td><td>7.24789</td><td>24.409 .. 476.516</td><td>0.0145141 .. 0.0010932</td><td>24.6828 .. 522.966</td><td>0.0139159 .. 0.00101397</td><td>0.561678</td><td>1.09246</td><td>104.45</td><td>9.43295</td><td>30.5264 .. 513.584</td><td>0.0515758 .. 0.00502659</td><td>0.00491824209415448</td><td>6.593667956966394</td><td>361.55666542112266</td><td>1.4689320619758846</td><td>-0.9660941726854797</td><td>4.794468310948176</td><td>0.5047882270828895</td><td>5.1150853964222005</td><td>36.93558169661282</td><td>34.737840384285285</td><td>-3.456444543909449</td><td>0.010702194315542765</td><td>18.464105179832824</td><td>30.881428390293756</td><td>0.37488653807365174</td><td>0.019071441349826593</td><td>0.05909916882852851</td><td>0.006693874932354745</td><td>0.002051980500848052</td><td>0.03399557892856768</td><td>0.06694789686016699</td><td>0.1340112888934415</td><td>21.308467107916513</td><td>9.0</td></tr>\n",
       "<tr><td>17</td><td>9890</td><td>12705</td><td>9890-12705</td><td>1-316607</td><td>v3_1_1</td><td>v3_1_1</td><td>v1_9_1</td><td>v5_5_36</td><td>v2_9</td><td>APOGEE-2&amp;MaNGA</td><td>MaNGA dither</td><td>233.520461477</td><td>29.9068817249</td><td>47.2253700676</td><td>54.3482527626</td><td>233.52046</td><td>29.906882</td><td>0.0315552</td><td>9</td><td>8100.69</td><td>64</td><td>22.303</td><td>48.5424</td><td>ma144</td><td>36</td><td>5</td><td>10439</td><td>232.71457</td><td>30.174385</td><td>1.04907</td><td>1.09897</td><td>1.17182</td><td>1.11657</td><td>1.1602</td><td>1.23588</td><td>0.73538</td><td>0.831738</td><td>0.848036</td><td>58231</td><td>58231</td><td>58232</td><td>2.22684</td><td>2.20896</td><td>2.20062</td><td>2.20072</td><td>2080</td><td>0</td><td>0</td><td>1</td><td>plateTargets-1.par</td><td>7520</td><td>J153404.89+295424.5</td><td>127</td><td>271</td><td>0</td><td>0.0365029</td><td>0.0172096</td><td>0.0250706</td><td>0.0356988</td><td>0.0399743</td><td>0.0172096</td><td>0.0250706</td><td>1.0</td><td>-999.0</td><td>0.656172</td><td>0.656172</td><td>1.02794</td><td>1.02794</td><td>-999.0</td><td>0.656446</td><td>0.656446</td><td>198</td><td>3919</td><td>1</td><td>v1_0_1</td><td>335092</td><td>-999</td><td>0.0365029</td><td>0.0367181</td><td>-16.2166 .. -19.0507</td><td>-16.4066 .. -19.0994</td><td>0.0 .. 213.285</td><td>1670930000.0</td><td>1438190000.0</td><td>0.490468</td><td>30.7104</td><td>0.248998 .. 0.0444231</td><td>7.85805</td><td>6.01679</td><td>0.0 .. 317.529</td><td>0.0 .. 0.00231815</td><td>0.0 .. 334.573</td><td>0.0 .. 0.00277965</td><td>0.337715</td><td>1.59155</td><td>30.2787</td><td>9.75445</td><td>0.0 .. 322.98</td><td>0.745887 .. 0.00259764</td><td>0.008253844673635108</td><td>9.999999999999998</td><td>264.351901167587</td><td>1.3656298663266981</td><td>-0.5588644445571782</td><td>7.7705599794146565</td><td>0.29183877051466767</td><td>0.4963235670398836</td><td>40.74095041089288</td><td>39.8976731519154</td><td>10.005775099755335</td><td>0.010702194315542765</td><td>18.464105179832824</td><td>30.881428390293756</td><td>0.37488653807365174</td><td>0.04841032579981378</td><td>0.17901646863120163</td><td>0.014238204810395987</td><td>0.00363069593541345</td><td>0.17624891285054325</td><td>0.15557844619479488</td><td>0.3953068761670583</td><td>8.076033577146234</td><td>12.0</td></tr>\n",
       "</table><style>table.dataTable {clear: both; width: auto !important; margin: 0 !important;}\n",
       ".dataTables_info, .dataTables_length, .dataTables_filter, .dataTables_paginate{\n",
       "display: inline-block; margin-right: 1em; }\n",
       ".paginate_button { margin-right: 5px; }\n",
       "</style>\n",
       "<script>\n",
       "\n",
       "var astropy_sort_num = function(a, b) {\n",
       "    var a_num = parseFloat(a);\n",
       "    var b_num = parseFloat(b);\n",
       "\n",
       "    if (isNaN(a_num) && isNaN(b_num))\n",
       "        return ((a < b) ? -1 : ((a > b) ? 1 : 0));\n",
       "    else if (!isNaN(a_num) && !isNaN(b_num))\n",
       "        return ((a_num < b_num) ? -1 : ((a_num > b_num) ? 1 : 0));\n",
       "    else\n",
       "        return isNaN(a_num) ? -1 : 1;\n",
       "}\n",
       "\n",
       "require.config({paths: {\n",
       "    datatables: 'https://cdn.datatables.net/1.10.12/js/jquery.dataTables.min'\n",
       "}});\n",
       "require([\"datatables\"], function(){\n",
       "    console.log(\"$('#table47910969570640-906814').dataTable()\");\n",
       "    \n",
       "jQuery.extend( jQuery.fn.dataTableExt.oSort, {\n",
       "    \"optionalnum-asc\": astropy_sort_num,\n",
       "    \"optionalnum-desc\": function (a,b) { return -astropy_sort_num(a, b); }\n",
       "});\n",
       "\n",
       "    $('#table47910969570640-906814').dataTable({\n",
       "        order: [],\n",
       "        pageLength: 50,\n",
       "        lengthMenu: [[10, 25, 50, 100, 500, 1000, -1], [10, 25, 50, 100, 500, 1000, 'All']],\n",
       "        pagingType: \"full_numbers\",\n",
       "        columnDefs: [{targets: [0, 1, 12, 13, 14, 15, 16, 17, 18, 19, 20, 21, 22, 23, 25, 27, 28, 29, 30, 31, 32, 33, 34, 35, 36, 37, 38, 39, 40, 41, 42, 43, 44, 45, 46, 47, 48, 49, 51, 53, 54, 55, 56, 57, 58, 59, 60, 61, 62, 63, 64, 65, 66, 67, 68, 69, 70, 71, 72, 73, 74, 76, 77, 78, 79, 80, 81, 82, 83, 84, 85, 86, 87, 88, 89, 90, 91, 92, 93, 94, 95, 96, 97, 98, 99, 100, 101, 102, 103, 104, 105, 106, 107, 108, 109, 110, 111, 112, 113, 114, 115, 116, 117, 118, 119, 120, 121, 122, 123], type: \"optionalnum\"}]\n",
       "    });\n",
       "});\n",
       "</script>\n"
      ],
      "text/plain": [
       "<IPython.core.display.HTML object>"
      ]
     },
     "execution_count": 7,
     "metadata": {},
     "output_type": "execute_result"
    }
   ],
   "source": [
    "new_table[new_table['fit flag'] >= 0].show_in_notebook()"
   ]
  },
  {
   "cell_type": "code",
   "execution_count": 15,
   "metadata": {},
   "outputs": [],
   "source": [
    "nfw = Table.read('/scratch/lstroud3/RotationCurves/Images/NFW/fulltable.fits')\n",
    "\n",
    "nfw_index = {}\n",
    "new_ind = {}\n",
    "\n",
    "for i in range(len(new_table)):\n",
    "    gal = new_table['plateifu'][i]\n",
    "    new_ind[gal] = i\n",
    "\n",
    "for i in range(len(nfw)):\n",
    "    gal = nfw['plateifu'][i]\n",
    "    nfw_index[gal] = i\n",
    "for gal_ID in new_table['plateifu']:\n",
    "    nfwi = nfw_index[gal_ID]\n",
    "    newi = new_ind[gal_ID]\n",
    "    nfw[nfwi] = new_table[newi]\n"
   ]
  },
  {
   "cell_type": "code",
   "execution_count": 16,
   "metadata": {},
   "outputs": [],
   "source": [
    "nfw.write('/scratch/lstroud3/RotationCurves/Images/NFW/fulltable.fits', overwrite=True)\n"
   ]
  },
  {
   "cell_type": "code",
   "execution_count": 60,
   "metadata": {},
   "outputs": [],
   "source": [
    "fail_in = {}\n",
    "for i in range(len(full_fail)):\n",
    "    gal = full_fail['plateifu'][i]\n",
    "    fail_in[gal] = i\n",
    "for gal_ID in new_table['plateifu']:\n",
    "    fail = fail_in[gal_ID]\n",
    "    newi = new_ind[gal_ID]\n",
    "    if new_table['fit flag'][newi] >= 0:\n",
    "        full_fail['Burkert chi2'][fail] = new_table['chi2'][newi]\n",
    "        if new_table['chi2'][newi] <=50:\n",
    "            full_fail['fitting code'][fail] -= 2\n",
    "        else:\n",
    "            full_fail['fitting code'][fail] -= 1\n",
    "        full_fail['visual code'][fail] = np.nan\n"
   ]
  },
  {
   "cell_type": "code",
   "execution_count": 62,
   "metadata": {},
   "outputs": [],
   "source": [
    "full_fail['plateifu','visual code','fitting code'].show_in_notebook()\n",
    "full_fail.write('/scratch/lstroud3/RotationCurves/failed_objects_table.fits', overwrite = True)"
   ]
  },
  {
   "cell_type": "code",
   "execution_count": 68,
   "metadata": {},
   "outputs": [],
   "source": []
  },
  {
   "cell_type": "code",
   "execution_count": 74,
   "metadata": {},
   "outputs": [
    {
     "name": "stdout",
     "output_type": "stream",
     "text": [
      " a   b \n",
      "--- ---\n",
      "  1 2.0\n",
      "  3 5.0\n",
      "  0 nan\n"
     ]
    }
   ],
   "source": [
    "test = Table([[1,0,3]],names=['a'])\n",
    "test['b'] = np.nan\n",
    "test['b'][0] = 2\n",
    "test['b'][2] = 5\n",
    "test.sort('b')\n",
    "print(test)"
   ]
  },
  {
   "cell_type": "code",
   "execution_count": 70,
   "metadata": {},
   "outputs": [],
   "source": []
  },
  {
   "cell_type": "code",
   "execution_count": 71,
   "metadata": {},
   "outputs": [],
   "source": []
  },
  {
   "cell_type": "code",
   "execution_count": 72,
   "metadata": {},
   "outputs": [
    {
     "name": "stdout",
     "output_type": "stream",
     "text": [
      " a   b \n",
      "--- ---\n",
      "  1 2.0\n",
      "  0 nan\n",
      "  3 nan\n"
     ]
    }
   ],
   "source": []
  },
  {
   "cell_type": "code",
   "execution_count": null,
   "metadata": {},
   "outputs": [],
   "source": []
  }
 ],
 "metadata": {
  "kernelspec": {
   "display_name": "Python 3 (anaconda3 2021.11)",
   "language": "python",
   "name": "anaconda3-2021.11"
  },
  "language_info": {
   "codemirror_mode": {
    "name": "ipython",
    "version": 3
   },
   "file_extension": ".py",
   "mimetype": "text/x-python",
   "name": "python",
   "nbconvert_exporter": "python",
   "pygments_lexer": "ipython3",
   "version": "3.9.7"
  }
 },
 "nbformat": 4,
 "nbformat_minor": 2
}
