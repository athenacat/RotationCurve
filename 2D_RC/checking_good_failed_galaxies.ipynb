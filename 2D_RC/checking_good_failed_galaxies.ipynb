{
 "cells": [
  {
   "cell_type": "code",
   "execution_count": 1,
   "metadata": {},
   "outputs": [],
   "source": [
    "from DRP_rotation_curve import extract_data, extract_Pipe3d_data\n",
    "from rotation_fitfunctions import find_phi, find_incl, find_axis_ratio\n",
    "from astropy.table import Table\n",
    "import numpy as np\n",
    "import numpy.ma as ma\n",
    "import matplotlib.pyplot as plt\n"
   ]
  },
  {
   "cell_type": "code",
   "execution_count": 17,
   "metadata": {},
   "outputs": [],
   "source": [
    "#where the data lives\n",
    "MANGA_FOLDER = '/scratch/kdougla7/data/SDSS/dr17/manga/spectro/'\n",
    "MASS_MAP_FOLDER = MANGA_FOLDER + 'pipe3d/'\n",
    "VEL_MAP_FOLDER = MANGA_FOLDER + 'analysis/v3_1_1/3.1.0/HYB10-MILESHC-MASTARSSP/'\n",
    "\n",
    "DRP_FILENAME = MANGA_FOLDER + 'redux/v3_1_1/' + 'drpall-v3_1_1.fits'"
   ]
  },
  {
   "cell_type": "code",
   "execution_count": 3,
   "metadata": {},
   "outputs": [],
   "source": [
    "#reading in DRP_all\n",
    "DRP_table = Table.read(DRP_FILENAME, 'MANGA')\n",
    "\n",
    "DRP_index = {}\n",
    "\n",
    "for i in range(len(DRP_table)):\n",
    "    galaxy_ID = DRP_table['plateifu'][i]\n",
    "\n",
    "    DRP_index[galaxy_ID] = i\n"
   ]
  },
  {
   "cell_type": "code",
   "execution_count": 4,
   "metadata": {},
   "outputs": [],
   "source": [
    "\n",
    "full_fail = Table.read('/scratch/lstroud3/RotationCurves/failed_objects_table.fits')\n",
    "t = full_fail[full_fail['fitting code']==222]\n",
    "\n",
    "\n",
    "\n",
    "\n",
    "#galaxy being checked\n",
    "gal_ID = t[t['visual code'] ==4]['plateifu'][0]"
   ]
  },
  {
   "cell_type": "code",
   "execution_count": 20,
   "metadata": {
    "scrolled": true
   },
   "outputs": [],
   "source": [
    "#reading in velocity map and getting center/phi\n",
    "maps = extract_data(VEL_MAP_FOLDER,gal_ID,['Ha_vel', 'r_band', 'Ha_flux', 'Ha_sigma'])\n",
    "sMass_density, sMass_density_err = extract_Pipe3d_data(MASS_MAP_FOLDER, gal_ID)\n",
    "sM_mask = maps['Ha_vel_mask']\n",
    "maps['sMass'] = ma.array(sMass_density, mask = sM_mask)\n",
    "SN_map = maps['Ha_flux'] * np.sqrt(maps['Ha_flux_ivar'])\n",
    "vmap_mask = maps['Ha_vel_mask'] + (SN_map < 5)\n",
    "maps['vmasked'] = ma.array(maps['Ha_vel'], mask=vmap_mask)\n",
    "maps['ivarmasked'] = ma.array(maps['Ha_vel_ivar'], mask=vmap_mask)\n",
    "maps['rbandmasked'] = ma.array(maps['r_band'], mask = vmap_mask)\n",
    "i_DRP = DRP_index[gal_ID]\n",
    "shape = maps['vmasked'].shape\n",
    "\n"
   ]
  },
  {
   "cell_type": "code",
   "execution_count": 21,
   "metadata": {},
   "outputs": [
    {
     "name": "stdout",
     "output_type": "stream",
     "text": [
      "0.8989353218981835\n",
      "0.8989353218981835 0.8989353218981835\n",
      "(72, 72)\n"
     ]
    }
   ],
   "source": [
    "if gal_ID in ['10220-12703','10516-12705','10520-12705','12066-12703',\\\n",
    "                          '11012-12703','8239-12703','8941-12703','8717-12705',\\\n",
    "                          '10841-12705','11018-12701','11743-12701','11751-12702',\\\n",
    "                          '11824-12702','11832-12702','11865-12705','12651-12701',\\\n",
    "                          '8088-12704','8438-12705','8711-12701','8950-12705','9037-9102'\\\n",
    "                         '9498-12703',]:\n",
    "    center = (37,37)\n",
    "                \n",
    "elif gal_ID in ['8466-12705','11021-12702']:\n",
    "    center = (37,42)\n",
    "                \n",
    "elif gal_ID in ['10222-6102','8133-6102','8252-6103']:\n",
    "    center = (27,27)\n",
    "\n",
    "elif gal_ID == '11830-3704':\n",
    "    center = (20,19)         \n",
    "            \n",
    "elif gal_ID in ['9879-6101','10845-6101','11758-6103','9872-6103']:\n",
    "    center = (30,27)      \n",
    "\n",
    "elif gal_ID in ['7443-3701','8335-3704','9514-3702','8318-3702','8657-3702','7815-3704','8341-3702']:\n",
    "    center = (22,22)  \n",
    "\n",
    "elif gal_ID in ['8728-6104','12488-6102','8551-6104','8570-6104']:\n",
    "    center = (25,25)\n",
    "elif gal_ID in ['10223-12704']:\n",
    "    center = (41,31)\n",
    "elif gal_ID == '11945-9101':\n",
    "    center = (31,31)\n",
    "            \n",
    "elif gal_ID == '12066-12703':\n",
    "    center = (37,30)\n",
    "                         \n",
    "elif gal_ID == '10495-12704':\n",
    "    center = (39,36)\n",
    "            \n",
    "elif gal_ID in ['10515-3703','8651-3702']:\n",
    "    center = (20,25)\n",
    "elif gal_ID in ['11021-12702','9891-12704']:\n",
    "    center = (35,40)\n",
    "elif gal_ID in ['11823-12702','11947-12703','9037-9102']:\n",
    "    center = (40,40)\n",
    "elif gal_ID == '8240-12705':\n",
    "    center = (45,45)\n",
    "elif gal_ID in ['8613-12701','9890-12705']:\n",
    "    center = (40,37)\n",
    "elif gal_ID == '8626-1902':\n",
    "    center = (17,17)\n",
    "elif gal_ID == '9046-12705':\n",
    "    center = (30,35)\n",
    "else:\n",
    "    center = np.unravel_index(ma.argmax(maps['rbandmasked']), shape)\n",
    "\n",
    "phi = DRP_table['nsa_elpetro_phi'][i_DRP] \n",
    "new_phi = find_phi(center, phi, maps['vmasked'])\n",
    "phi *= np.pi/180\n",
    "print(phi,new_phi)\n",
    "print(shape)            "
   ]
  },
  {
   "cell_type": "code",
   "execution_count": 22,
   "metadata": {},
   "outputs": [
    {
     "name": "stdout",
     "output_type": "stream",
     "text": [
      "(36, 36)\n"
     ]
    },
    {
     "data": {
      "image/png": "[encoded data removed]",
      "text/plain": [
       "<Figure size 432x288 with 2 Axes>"
      ]
     },
     "metadata": {
      "needs_background": "light"
     },
     "output_type": "display_data"
    }
   ],
   "source": [
    "print(center)\n",
    "plt.imshow(maps['vmasked'],origin='lower',cmap='RdBu_r')#,vmax=100, vmin = -100)\n",
    "cbar = plt.colorbar()\n",
    "plt.plot(center[0],center[1],marker='o',color='cyan')\n",
    "plt.quiver([center[0]],[center[1]],[-np.sin(new_phi)],[np.cos(new_phi)],scale=5,color='cyan')\n",
    "y= np.linspace(0,shape[0])\n",
    "plt.plot(-((np.tan(phi))*(y-center[1]))+center[0],y,color='green')\n",
    "plt.xlim(0,shape[0])\n",
    "plt.ylim(0,shape[1])\n",
    "plt.xlabel('spaxel')\n",
    "plt.ylabel('spaxel')\n",
    "plt.title(gal_ID+' Velocity Map')\n",
    "\n",
    "cbar.set_label('km/s')\n",
    "\n",
    "#agn/continous masks \"10497-9102\""
   ]
  },
  {
   "cell_type": "code",
   "execution_count": 24,
   "metadata": {},
   "outputs": [
    {
     "data": {
      "text/plain": [
       "<matplotlib.image.AxesImage at 0x2ac75a7c3ac0>"
      ]
     },
     "execution_count": 24,
     "metadata": {},
     "output_type": "execute_result"
    },
    {
     "data": {
      "image/png": "[encoded data removed]",
      "text/plain": [
       "<Figure size 432x288 with 1 Axes>"
      ]
     },
     "metadata": {
      "needs_background": "light"
     },
     "output_type": "display_data"
    }
   ],
   "source": [
    "plt.imshow(maps['sMass'],origin='lower')"
   ]
  },
  {
   "cell_type": "code",
   "execution_count": null,
   "metadata": {},
   "outputs": [],
   "source": []
  }
 ],
 "metadata": {
  "kernelspec": {
   "display_name": "Python 3 (anaconda3 2021.11)",
   "language": "python",
   "name": "anaconda3-2021.11"
  },
  "language_info": {
   "codemirror_mode": {
    "name": "ipython",
    "version": 3
   },
   "file_extension": ".py",
   "mimetype": "text/x-python",
   "name": "python",
   "nbconvert_exporter": "python",
   "pygments_lexer": "ipython3",
   "version": "3.9.7"
  }
 },
 "nbformat": 4,
 "nbformat_minor": 2
}
