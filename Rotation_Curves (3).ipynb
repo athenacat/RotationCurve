{
 "cells": [
  {
   "cell_type": "code",
   "execution_count": 49,
   "metadata": {},
   "outputs": [],
   "source": [
    "from scipy import integrate as inte\n",
    "import numpy as np\n",
    "import matplotlib.pyplot as plt\n",
    "from numpy import log as ln\n",
    "G = 6.67*(10**(-11)) # m^3 kg^-1 s^-2\n",
    "# R = np.linspace(10,30*10**3) \n",
    "# R_b = np.linspace(10, 20*10**3)\n",
    "# h = 10 * 10**3\n",
    "\n",
    "from astropy.table import QTable\n",
    "from scipy.optimize import curve_fit\n",
    "import astropy.units as u\n",
    "\n",
    "DTable = QTable.read('7443-12705_rot_curve_data.txt', format='ascii.ecsv')"
   ]
  },
  {
   "cell_type": "code",
   "execution_count": 50,
   "metadata": {},
   "outputs": [
    {
     "data": {
      "text/html": [
       "<i>QTable length=16</i>\n",
       "<table id=\"table90718785360\" class=\"table-striped table-bordered table-condensed\">\n",
       "<thead><tr><th>deprojected_distance</th><th>max_velocity</th><th>max_velocity_error</th><th>min_velocity</th><th>min_velocity_error</th><th>rot_vel_avg</th><th>rot_vel_avg_error</th><th>sMass_interior</th><th>sVel_rot</th><th>sVel_rot_error</th><th>dmMass_interior</th><th>dmMass_interior_error</th><th>dmVel_rot</th><th>dmVel_rot_error</th><th>mass_interior</th><th>mass_interior_error</th><th>rot_curve_diff</th><th>rot_curve_diff_error</th></tr></thead>\n",
       "<thead><tr><th>kpc</th><th>km / s</th><th>km / s</th><th>km / s</th><th>km / s</th><th>km / s</th><th>km / s</th><th>solMass</th><th>km / s</th><th>km / s</th><th>solMass</th><th>solMass</th><th>km / s</th><th>km / s</th><th>solMass</th><th>solMass</th><th>km / s</th><th>km / s</th></tr></thead>\n",
       "<thead><tr><th>float64</th><th>float64</th><th>float64</th><th>float64</th><th>float64</th><th>float64</th><th>float64</th><th>float64</th><th>float64</th><th>float64</th><th>float64</th><th>float64</th><th>float64</th><th>float64</th><th>float64</th><th>float64</th><th>float64</th><th>float64</th></tr></thead>\n",
       "<tr><td>0.9370806777150392</td><td>48.267180007005955</td><td>3.24647352813963</td><td>-37.02344508859601</td><td>3.34066769419623</td><td>42.645312547800984</td><td>4.658288420864227</td><td>1674184663.8341792</td><td>87.65843899875125</td><td>0.000985029579867004</td><td>-1277944497.2314038</td><td>86565246.18807508</td><td>nan</td><td>nan</td><td>396240166.6027754</td><td>86565246.18807508</td><td>11.243734918409942</td><td>4.658288420864227</td></tr>\n",
       "<tr><td>1.8741613554300784</td><td>101.99054088576928</td><td>3.01312353739855</td><td>-85.77535506085383</td><td>3.26780622527759</td><td>93.88294797331156</td><td>4.444937679831757</td><td>6308827511.3750105</td><td>120.32375643794009</td><td>0.0013520941121683934</td><td>-2468048441.9024982</td><td>363687431.1085552</td><td>nan</td><td>nan</td><td>3840779069.4725122</td><td>363687431.1085552</td><td>16.21518582491545</td><td>4.444937679831757</td></tr>\n",
       "<tr><td>2.811242033145118</td><td>126.12278052003502</td><td>2.89887024162693</td><td>-118.78754394497425</td><td>3.13925420058445</td><td>122.45516223250463</td><td>4.2729808815014945</td><td>11370181852.430185</td><td>131.89099084061473</td><td>0.0014820766691707153</td><td>-1568708920.143381</td><td>684030103.0735639</td><td>nan</td><td>nan</td><td>9801472932.286804</td><td>684030103.0735639</td><td>7.335236575060776</td><td>4.2729808815014945</td></tr>\n",
       "<tr><td>3.748322710860157</td><td>149.94768567069124</td><td>2.72861737923452</td><td>-155.62138252193418</td><td>2.82026089668365</td><td>152.7845340963127</td><td>3.924184543013176</td><td>18763189657.01965</td><td>146.72880868793513</td><td>0.001648811208905074</td><td>1580731959.1622543</td><td>1045044393.5735744</td><td>42.588385271652086</td><td>14.077893796996243</td><td>20343921616.181904</td><td>1045044393.5735744</td><td>5.673696851242937</td><td>3.924184543013176</td></tr>\n",
       "<tr><td>4.685403388575196</td><td>166.7740683046965</td><td>2.72739194371819</td><td>-165.43155678731515</td><td>2.78731593276421</td><td>166.10281254600582</td><td>3.8997175440921494</td><td>25799512532.0498</td><td>153.8908508686281</td><td>0.001729292032894402</td><td>4257088803.0495987</td><td>1411321905.6499104</td><td>62.51200168466225</td><td>10.362076248340294</td><td>30056601335.0994</td><td>1411321905.6499104</td><td>1.3425115173813538</td><td>3.8997175440921494</td></tr>\n",
       "<tr><td>5.622484066290236</td><td>178.4432552632792</td><td>2.6154007924699902</td><td>-178.50266605913802</td><td>2.70713877361327</td><td>178.47296066120862</td><td>3.764162807963148</td><td>31607211668.267155</td><td>155.49252648355252</td><td>0.0017472902755744331</td><td>10032911059.13277</td><td>1756459050.7795386</td><td>87.60520472517047</td><td>7.668509921791645</td><td>41640122727.399925</td><td>1756459050.7795386</td><td>0.059410795858809706</td><td>3.764162807963148</td></tr>\n",
       "<tr><td>6.559564744005274</td><td>187.99904717947894</td><td>2.63470402209845</td><td>-193.7849322989837</td><td>2.6958273124322503</td><td>190.89198973923132</td><td>3.7695026439196773</td><td>38329870264.23938</td><td>158.53009050233354</td><td>0.0017814237879140908</td><td>17246393083.283997</td><td>2194905148.553464</td><td>106.33890234493083</td><td>6.766742667888817</td><td>55576263347.52338</td><td>2194905148.553464</td><td>5.785885119504769</td><td>3.7695026439196773</td></tr>\n",
       "<tr><td>7.496645421720314</td><td>196.79311857997328</td><td>2.60834930723253</td><td>-202.04328216230297</td><td>2.74426095222775</td><td>199.41820037113814</td><td>3.786086935407371</td><td>42897538689.209816</td><td>156.8784344609789</td><td>0.0017628639085107678</td><td>26418776293.036476</td><td>2632032984.39592</td><td>123.11285651927562</td><td>6.132704706162263</td><td>69316314982.24629</td><td>2632032984.39592</td><td>5.250163582329691</td><td>3.786086935407371</td></tr>\n",
       "<tr><td>8.433726099435352</td><td>206.96168672206366</td><td>2.67120908948174</td><td>-206.79617029127374</td><td>2.84743841775366</td><td>206.8789285066687</td><td>3.904262227697998</td><td>47232866311.43802</td><td>155.2004402602983</td><td>0.0017440080636954248</td><td>36692050606.18208</td><td>3167697585.5837</td><td>136.79076870562903</td><td>5.904709539024626</td><td>83924916917.6201</td><td>3167697585.5837</td><td>0.1655164307899213</td><td>3.904262227697998</td></tr>\n",
       "<tr><td>9.370806777150392</td><td>211.08291353766398</td><td>2.6342413191691</td><td>-213.132747810556</td><td>3.2516203667704</td><td>212.10783067411</td><td>4.1847655056423205</td><td>51461315690.0055</td><td>153.68535889213888</td><td>0.0017269828921250793</td><td>46561979689.16621</td><td>3867887107.0797596</td><td>146.186669349402</td><td>6.071837560084834</td><td>98023295379.1717</td><td>3867887107.0797596</td><td>2.0498342728920136</td><td>4.1847655056423205</td></tr>\n",
       "<tr><td>10.307887454865432</td><td>213.72152192785413</td><td>2.61810155503471</td><td>-220.7627279383254</td><td>3.08881822780911</td><td>217.24212493308977</td><td>4.049105308203403</td><td>54696893337.70013</td><td>151.06958646162417</td><td>0.0016975891081644236</td><td>58411976658.30224</td><td>4216399644.239377</td><td>156.11572916192029</td><td>5.634515166756246</td><td>113108869996.00237</td><td>4216399644.239377</td><td>7.041206010471285</td><td>4.049105308203403</td></tr>\n",
       "<tr><td>11.244968132580471</td><td>213.95610833918695</td><td>2.6767661022363702</td><td>-229.07136972955755</td><td>2.83987645292705</td><td>221.51373903437224</td><td>3.9025600615456533</td><td>57783146517.95148</td><td>148.66270250699546</td><td>0.0016705426318901846</td><td>70508528611.84355</td><td>4520406468.83448</td><td>164.21856613764638</td><td>5.2641483867073555</td><td>128291675129.79503</td><td>4520406468.83448</td><td>15.115261390370591</td><td>3.9025600615456533</td></tr>\n",
       "<tr><td>12.18204881029551</td><td>217.25308343266786</td><td>2.82944651260572</td><td>-230.77710115993634</td><td>3.79471035968271</td><td>224.0150922963021</td><td>4.733454793444208</td><td>60444401095.106705</td><td>146.08257519699026</td><td>0.0016415493969066824</td><td>81694778194.58269</td><td>6006822734.932954</td><td>169.83121856813142</td><td>6.243643076066257</td><td>142139179289.6894</td><td>6006822734.932954</td><td>13.524017727268472</td><td>4.733454793444208</td></tr>\n",
       "<tr><td>13.119129488010548</td><td>219.90851777001447</td><td>3.63185784227912</td><td>-235.03176809982267</td><td>6.47098321679403</td><td>227.47014293491856</td><td>7.420513134450633</td><td>62583232075.94183</td><td>143.2375978847178</td><td>0.0016095800070949514</td><td>95247921541.65369</td><td>10297511601.463829</td><td>176.70782800727352</td><td>9.552181920815844</td><td>157831153617.59552</td><td>10297511601.463829</td><td>15.1232503298082</td><td>7.420513134450633</td></tr>\n",
       "<tr><td>14.056210165725588</td><td>222.23091635730805</td><td>3.07957848563632</td><td>-265.2945595661764</td><td>6.11363508627618</td><td>243.76273796174223</td><td>6.845461096035916</td><td>64475636284.393745</td><td>140.45727606507802</td><td>0.0015783371596842892</td><td>129721039627.7171</td><td>10907047627.371311</td><td>199.22857731506164</td><td>8.375648489138191</td><td>194196675912.11084</td><td>10907047627.371311</td><td>43.06364320886837</td><td>6.845461096035916</td></tr>\n",
       "<tr><td>14.993290843440628</td><td>230.5831630531554</td><td>7.79436564540668</td><td>-342.71302155163966</td><td>13.6217240676051</td><td>286.6480923023975</td><td>15.694059461728438</td><td>66095804708.3927</td><td>137.69526582650695</td><td>0.0015473000819543655</td><td>220344408580.7417</td><td>31365356721.311996</td><td>251.41030724608606</td><td>17.89374670149958</td><td>286440213289.1344</td><td>31365356721.311996</td><td>112.12985849848425</td><td>15.694059461728438</td></tr>\n",
       "</table>"
      ],
      "text/plain": [
       "<QTable length=16>\n",
       "deprojected_distance    max_velocity    ... rot_curve_diff_error\n",
       "        kpc                km / s       ...        km / s       \n",
       "      float64             float64       ...       float64       \n",
       "-------------------- ------------------ ... --------------------\n",
       "  0.9370806777150392 48.267180007005955 ...    4.658288420864227\n",
       "  1.8741613554300784 101.99054088576928 ...    4.444937679831757\n",
       "   2.811242033145118 126.12278052003502 ...   4.2729808815014945\n",
       "   3.748322710860157 149.94768567069124 ...    3.924184543013176\n",
       "   4.685403388575196  166.7740683046965 ...   3.8997175440921494\n",
       "   5.622484066290236  178.4432552632792 ...    3.764162807963148\n",
       "   6.559564744005274 187.99904717947894 ...   3.7695026439196773\n",
       "   7.496645421720314 196.79311857997328 ...    3.786086935407371\n",
       "   8.433726099435352 206.96168672206366 ...    3.904262227697998\n",
       "   9.370806777150392 211.08291353766398 ...   4.1847655056423205\n",
       "  10.307887454865432 213.72152192785413 ...    4.049105308203403\n",
       "  11.244968132580471 213.95610833918695 ...   3.9025600615456533\n",
       "   12.18204881029551 217.25308343266786 ...    4.733454793444208\n",
       "  13.119129488010548 219.90851777001447 ...    7.420513134450633\n",
       "  14.056210165725588 222.23091635730805 ...    6.845461096035916\n",
       "  14.993290843440628  230.5831630531554 ...   15.694059461728438"
      ]
     },
     "execution_count": 50,
     "metadata": {},
     "output_type": "execute_result"
    }
   ],
   "source": [
    "DTable"
   ]
  },
  {
   "cell_type": "code",
   "execution_count": 51,
   "metadata": {},
   "outputs": [],
   "source": [
    "r_dep = DTable['deprojected_distance'].data # kpc\n",
    "max_vel = DTable['max_velocity'].data # km/s\n",
    "min_vel = DTable['min_velocity'].data #km/s\n",
    "ave_vel = DTable['rot_vel_avg'].data #km/s"
   ]
  },
  {
   "cell_type": "code",
   "execution_count": 52,
   "metadata": {},
   "outputs": [
    {
     "data": {
      "text/plain": [
       "<function matplotlib.pyplot.show(*args, **kw)>"
      ]
     },
     "execution_count": 52,
     "metadata": {},
     "output_type": "execute_result"
    },
    {
     "data": {
      "image/png": "[encoded data removed]",
      "text/plain": [
       "<Figure size 432x288 with 1 Axes>"
      ]
     },
     "metadata": {
      "needs_background": "light"
     },
     "output_type": "display_data"
    }
   ],
   "source": [
    "plt.plot(r_dep,max_vel,'*',label = 'Positive')\n",
    "plt.plot(r_dep,ave_vel,'*',label = 'Average')\n",
    "plt.plot(r_dep,np.abs(min_vel),'*',label = 'Negative')\n",
    "plt.ylabel('v_rot [km/s]')\n",
    "plt.xlabel('r_depro [kpc]')\n",
    "plt.legend()\n",
    "plt.show"
   ]
  },
  {
   "cell_type": "code",
   "execution_count": 53,
   "metadata": {},
   "outputs": [],
   "source": [
    "# bulge \n",
    "gamma = 3.3308 # unitless\n",
    "kappa = gamma*ln(10) # unitless\n",
    "\n",
    "def sigma_b(x,a,b):\n",
    "    '''\n",
    "    parameters:\n",
    "    x (projected radius): The projected rdius  (pc)\n",
    "    a (central density): The central density of the bulge (M_sol/pc^2)\n",
    "    b (central radius): The central radius of the bulge (kpc)\n",
    "    \n",
    "    return: surface density of the bulge (g/pc^2)\n",
    "    '''\n",
    "    return a*np.exp(-1*kappa*((x/(b*1000))**0.25-1)) #M_sol/pc^2\n",
    "                           \n",
    "# derivative of sigma with respect to r\n",
    "def dsdx(x,a,b):\n",
    "    '''\n",
    "    parameters:\n",
    "    x (projected radius): The projected rdius  (pc)\n",
    "    a (central density): The central density of the bulge (M/pc^2)\n",
    "    b (central radius): The central radius of the bulge (kpc)\n",
    "    \n",
    "    return: derivative of sigma (g/pc^3)\n",
    "    '''\n",
    "    return sigma_b(x,a,b)*(-0.25*kappa)*((b*1000)**-0.25)*(x**-0.75) # M_sol/pc^2 \\\\\n",
    "\n",
    "# integrand for getting denisty\n",
    "def density_integrand(x,r,a,b):\n",
    "    '''\n",
    "    parameters:\n",
    "    x (projected radius): The projected rdius  (pc)   \n",
    "    r (radius): The a distance from the centre (pc)\n",
    "    a (central density): The central density of the bulge (M/pc^2)\n",
    "    b (central radius): The central radius of the bulge (kpc)\n",
    "    \n",
    "    return: integrand for volume density of the bulge (g/pc^3)\n",
    "    '''\n",
    "    return -(1/np.pi)*dsdx(x,a,b)/np.sqrt(x**2-r**2)\n",
    "\n",
    "def mass_integrand(r,a,b):\n",
    "    '''\n",
    "    parameters:\n",
    "    x (projected radius): The projected rdius  (pc)   \n",
    "    r (radius): The a distance from the centre (pc)\n",
    "    a (central density): The central density of the bulge (M/pc^2)\n",
    "    b (central radius): The central radius of the bulge (kpc)\n",
    "    \n",
    "    return: volume density of the bulge\n",
    "    '''\n",
    "    vol_den, vol_den_err = inte.quad(density_integrand, r, np.inf, args=(r,a,b))\n",
    "    return 4*np.pi*vol_den*r**2\n",
    "    \n",
    "# getting a velocity\n",
    "def vel_b(r,a,b):\n",
    "    '''\n",
    "    parameters:\n",
    "    r (radius): The a distance from the centre (pc)\n",
    "    a (central density): The central density of the bulge (M/pc^2)\n",
    "    b (central radius): The central radius of the bulge (kpc)\n",
    "    \n",
    "    return: rotational velocity of the bulge (pc/s)\n",
    "    '''\n",
    "    r_n = []\n",
    "    for i in range(len(r)):\n",
    "        r_n.append(r[i]*1000)\n",
    "    bulge_mass = np.zeros(len(r_n))\n",
    "    vel = np.zeros(len(r_n))\n",
    "    for i in range(len(r_n)):\n",
    "        bulge_mass[i],err = inte.quad(mass_integrand, 0, r_n[i], args=(a,b)) # kg\n",
    "        vel[i] = np.sqrt((1.988E30)*bulge_mass[i]*(G/(3.08E16)**3)/r_n[i])*3.08E13 #km/s\n",
    "    return vel"
   ]
  },
  {
   "cell_type": "code",
   "execution_count": 54,
   "metadata": {},
   "outputs": [],
   "source": [
    "# disk\n",
    "# c = sigma_dc\n",
    "# d = r_d\n",
    "\n",
    "def integrand_d(r,c,d):\n",
    "    '''\n",
    "    parameters:  \n",
    "    r (radius): The a distance from the centre (pc)\n",
    "    c (central surface density): The central surface density of the disk (M/pc^2)\n",
    "    d (radius radius): The central radius of the disk (kpc)\n",
    "    \n",
    "    return: integrand for volume density of the disk\n",
    "    '''\n",
    "    return 2*np.pi*c*np.exp(-1*(r/(d*1000)))*r \n",
    "\n",
    "def mass_d(r,c,d):\n",
    "    '''\n",
    "    parameters:  \n",
    "    r (radius): The a distance from the centre (pc)\n",
    "    c (central surface density): The central surface density of the disk (M/pc^2)\n",
    "    d (radius radius): The central radius of the disk (kpc)\n",
    "    \n",
    "    return: mass of the disk (g)\n",
    "    '''\n",
    "    res = np.zeros_like(r)\n",
    "    for i, val in enumerate(r):\n",
    "        y, err = inte.quad(integrand_d, 0, val, args=(c,d))\n",
    "        res[i] = y\n",
    "    return res\n",
    "\n",
    "def vel_d(r,c,d):\n",
    "    '''\n",
    "    parameters:  \n",
    "    r (radius): The a distance from the centre (pc)\n",
    "    c (central surface density): The central surface density of the disk (M/pc^2)\n",
    "    d (radius radius): The central radius of the disk (kpc)\n",
    "    \n",
    "    return: rotational velocity of the disk (pc/s)\n",
    "    '''\n",
    "    r_n = []\n",
    "    for i in range(len(r)):\n",
    "        r_n.append(r[i]*1000)\n",
    "    return np.sqrt((1.988E30)*mass_d(r_n,c,d)*(G/(3.08E16)**3)/r_n)*3.08E13 #km/s"
   ]
  },
  {
   "cell_type": "code",
   "execution_count": 55,
   "metadata": {},
   "outputs": [],
   "source": [
    "# halo (isothermal)\n",
    "# e = rho_0_iso\n",
    "# f = h\n",
    "\n",
    "def rho_iso(r,e,f):\n",
    "    '''\n",
    "    parameters:\n",
    "    r (radius): The a distance from the centre (pc)\n",
    "    e (central density): The central density of the isothermal halo (M/pc^2)\n",
    "    f (scale radius): The scale radius of the dark matter halo (kpc)\n",
    "    \n",
    "    return: volume density of the isothermal halo (g/pc^3)\n",
    "    '''\n",
    "    return e/(1 + (r/(f*10**3))**2)\n",
    "\n",
    "def integrand_h(r,e,f):\n",
    "    '''\n",
    "    parameters:\n",
    "    r (radius): The a distance from the centre (pc)\n",
    "    e (central density): The central density of the isothermal halo (M/pc^2)\n",
    "    f (scale radius): The scale radius of the dark matter halo (kpc)\n",
    "    \n",
    "    return: integrand for getting the mass of the isothermal halo \n",
    "    '''\n",
    "    return 4*np.pi*(rho_iso(r,e,f))*r**2\n",
    "\n",
    "def mass_h(r,e,f):\n",
    "    '''\n",
    "    parameters:\n",
    "    r (radius): The a distance from the centre (pc)\n",
    "    e (central density): The central density of the isothermal halo (M/pc^2)\n",
    "    f (scale radius): The scale radius of the dark matter halo (kpc)\n",
    "    \n",
    "    return: mass of the isothermal halo (g)\n",
    "    '''\n",
    "    res = np.zeros_like(r)\n",
    "    for i, val in enumerate(r):\n",
    "        y, err = inte.quad(integrand_h, 0, val, args=(e,f))\n",
    "        res[i] = y\n",
    "    return res\n",
    "\n",
    "def vel_h(r,e,f):\n",
    "    '''\n",
    "    parameters:\n",
    "    r (radius): The a distance from the centre (pc)\n",
    "    e (central density): The central density of the isothermal halo (M/pc^2)\n",
    "    f (scale radius): The scale radius of the dark matter halo (kpc)\n",
    "    \n",
    "    return: rotational velocity of the isothermal halo (pc/s)\n",
    "    '''\n",
    "    r_n = []\n",
    "    for i in range(len(r)):\n",
    "        r_n.append(r[i]*1000)\n",
    "    return np.sqrt((1.988E30)*mass_h(r_n,e,f)*(G/(3.08E16)**3)/r_n)*3.08E13 #km/s"
   ]
  },
  {
   "cell_type": "code",
   "execution_count": 56,
   "metadata": {},
   "outputs": [],
   "source": [
    "def v_co(r,a,b,c,d,e,f):\n",
    "    '''\n",
    "    r (radius): The a distance from the centre (pc)\n",
    "    a (central density): The central density of the bulge (M/pc^2)\n",
    "    b (central radius): The central radius of the bulge (kpc)\n",
    "    c (central surface density): The central surface density of the disk (M/pc^2)\n",
    "    d (radius radius): The central radius of the disk (kpc)\n",
    "    e (central density): The central density of the isothermal halo (M/pc^2)\n",
    "    f (scale radius): The scale radius of the dark matter halo (kpc)\n",
    "    '''\n",
    "    return np.sqrt((vel_b(r,a,b)**2) + (vel_d(r,c,d)**2) + (vel_h(r,e,f)**2)) #km/s"
   ]
  },
  {
   "cell_type": "code",
   "execution_count": 57,
   "metadata": {},
   "outputs": [
    {
     "data": {
      "text/plain": [
       "[0.9370806777150392,\n",
       " 1.8741613554300784,\n",
       " 2.811242033145118,\n",
       " 3.748322710860157,\n",
       " 4.685403388575196,\n",
       " 5.622484066290236,\n",
       " 6.559564744005274,\n",
       " 7.496645421720314,\n",
       " 8.433726099435352,\n",
       " 9.370806777150392,\n",
       " 10.307887454865432,\n",
       " 11.244968132580471,\n",
       " 12.18204881029551,\n",
       " 13.119129488010548,\n",
       " 14.056210165725588,\n",
       " 14.993290843440628]"
      ]
     },
     "execution_count": 57,
     "metadata": {},
     "output_type": "execute_result"
    }
   ],
   "source": [
    "r_dep_list = []\n",
    "for i in range(len(r_dep)):\n",
    "    r_dep_list.append(r_dep[i])\n",
    "r_dep_list"
   ]
  },
  {
   "cell_type": "code",
   "execution_count": 58,
   "metadata": {},
   "outputs": [
    {
     "data": {
      "text/plain": [
       "[42.645312547800984,\n",
       " 93.88294797331156,\n",
       " 122.45516223250463,\n",
       " 152.7845340963127,\n",
       " 166.10281254600582,\n",
       " 178.47296066120862,\n",
       " 190.89198973923132,\n",
       " 199.41820037113814,\n",
       " 206.8789285066687,\n",
       " 212.10783067411,\n",
       " 217.24212493308977,\n",
       " 221.51373903437224,\n",
       " 224.0150922963021,\n",
       " 227.47014293491856,\n",
       " 243.76273796174223,\n",
       " 286.6480923023975]"
      ]
     },
     "execution_count": 58,
     "metadata": {},
     "output_type": "execute_result"
    }
   ],
   "source": [
    "ave_vel_list = []\n",
    "for i in range(len(ave_vel)):\n",
    "    ave_vel_list.append(ave_vel[i])\n",
    "ave_vel_list"
   ]
  },
  {
   "cell_type": "code",
   "execution_count": null,
   "metadata": {},
   "outputs": [
    {
     "name": "stderr",
     "output_type": "stream",
     "text": [
      "/Users/richardzhang/anaconda3/lib/python3.7/site-packages/ipykernel_launcher.py:70: IntegrationWarning: The occurrence of roundoff error is detected, which prevents \n",
      "  the requested tolerance from being achieved.  The error may be \n",
      "  underestimated.\n",
      "/Users/richardzhang/anaconda3/lib/python3.7/site-packages/ipykernel_launcher.py:70: IntegrationWarning: The maximum number of subdivisions (50) has been achieved.\n",
      "  If increasing the limit yields no improvement it is advised to analyze \n",
      "  the integrand in order to determine the difficulties.  If the position of a \n",
      "  local difficulty can be determined (singularity, discontinuity) one will \n",
      "  probably gain from splitting up the interval and calling the integrator \n",
      "  on the subranges.  Perhaps a special-purpose integrator should be used.\n"
     ]
    }
   ],
   "source": [
    "popt, pcov = curve_fit(v_co, r_dep_list, ave_vel_list, bounds=(0,np.inf))\n",
    "plt.plot(r_dep_list, ave_vel_list,label='data')\n",
    "plt.plot(r_dep_list, v_co(r_dep_list, *popt), label='fit: a=%.2f, b=%.2f, c=%.2f, d=%.2f, e=%.2f, f=%.2f' % tuple(popt))\n",
    "plt.legend()\n",
    "plt.show()"
   ]
  },
  {
   "cell_type": "code",
   "execution_count": null,
   "metadata": {},
   "outputs": [],
   "source": []
  },
  {
   "cell_type": "code",
   "execution_count": null,
   "metadata": {},
   "outputs": [],
   "source": []
  },
  {
   "cell_type": "code",
   "execution_count": null,
   "metadata": {},
   "outputs": [],
   "source": []
  }
 ],
 "metadata": {
  "kernelspec": {
   "display_name": "Python 3",
   "language": "python",
   "name": "python3"
  }
 },
 "nbformat": 4,
 "nbformat_minor": 2
}
